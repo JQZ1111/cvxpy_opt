{
 "cells": [
  {
   "cell_type": "code",
   "execution_count": 1,
   "metadata": {},
   "outputs": [],
   "source": [
    "import cvxpy as cp\n",
    "import numpy as np\n",
    "import scipy\n",
    "import scipy.sparse as sparse\n",
    "import matplotlib.pyplot as plt\n",
    "\n",
    "np.random.seed(0)"
   ]
  },
  {
   "cell_type": "markdown",
   "metadata": {},
   "source": [
    "# Example from the documentation"
   ]
  },
  {
   "cell_type": "code",
   "execution_count": 2,
   "metadata": {},
   "outputs": [
    {
     "name": "stdout",
     "output_type": "stream",
     "text": [
      "The optimal value is 2.7064903389012436\n",
      "A solution X is\n",
      "[[ 1.40057161 -0.47647128 -0.61079777]\n",
      " [-0.47647128  0.19268429  0.04784566]\n",
      " [-0.61079777  0.04784566  1.10226263]]\n"
     ]
    }
   ],
   "source": [
    "# Generate a random SDP.\n",
    "n = 3\n",
    "p = 3\n",
    "np.random.seed(1)\n",
    "C = np.random.randn(n, n)\n",
    "A = []\n",
    "b = []\n",
    "for i in range(p):\n",
    "    A.append(np.random.randn(n, n))\n",
    "    b.append(np.random.randn())\n",
    "sing_eigval = np.array([0., 0., 2.])\n",
    "_, sing_eigvec = np.linalg.eig(np.random.random((n, n)))\n",
    "A.append(np.random.random((n,n)))\n",
    "# If the whole quad matrix is singular dont work\n",
    "#A.append(sing_eigvec@np.diag(sing_eigval)@sing_eigvec.conj().T)\n",
    "b.append(np.random.randn())\n",
    "# Define and solve the CVXPY problem.\n",
    "# Create a symmetric matrix variable.\n",
    "X = cp.Variable((n,n), symmetric=True)\n",
    "# The operator >> denotes matrix inequality.\n",
    "constraints = [X >> 0]\n",
    "constraints += [\n",
    "    cp.trace(A[i] @ X) == b[i] for i in range(p + 1)\n",
    "]\n",
    "prob = cp.Problem(cp.Minimize(cp.trace(C @ X)), constraints)\n",
    "prob.solve()\n",
    "\n",
    "# Print result.\n",
    "print(\"The optimal value is\", prob.value)\n",
    "print(\"A solution X is\")\n",
    "print(X.value)\n"
   ]
  },
  {
   "cell_type": "markdown",
   "metadata": {},
   "source": [
    "# Small dimension SDR"
   ]
  },
  {
   "cell_type": "code",
   "execution_count": 3,
   "metadata": {},
   "outputs": [],
   "source": [
    "N_omega = 5\n",
    "n = 2\n",
    "obj_mat = np.zeros((4*N_omega, 4*N_omega))\n",
    "obj_mat[:N_omega, :N_omega] = -np.eye(N_omega)\n",
    "obj_mat[3*N_omega:, 3*N_omega:] = (n**2/N_omega)*np.eye(N_omega)\n",
    "constr_quad_mat = np.zeros((4*N_omega, 4*N_omega))\n",
    "constr_quad_mat[:N_omega, :N_omega] = np.eye(N_omega)\n",
    "constr_quad_mat[3*N_omega:, 3*N_omega:] = -(n**2/N_omega)*np.eye(N_omega)\n",
    "P_J = np.eye(N_omega)\n",
    "P_J.resize((3*N_omega, N_omega))\n",
    "constr_lin_mat = np.block([[np.zeros((3*N_omega, 3*N_omega)), 0.5*P_J],[0.5*P_J.conj().T, (-n/N_omega)*np.eye(N_omega)]])\n",
    "def_J_mat = np.zeros((3*N_omega, 3*N_omega))\n",
    "def_J_mat[N_omega:, N_omega:] = np.eye(2*N_omega)\n",
    "def_J_mat = np.block([[def_J_mat, -2*P_J],[-2*P_J.conj().T, -2*np.eye(N_omega)]])\n",
    "N_matrices = []\n",
    "kron_delta = []\n",
    "for i in range(N_omega):\n",
    "    for j in range(i + 1):\n",
    "        mat = np.zeros((N_omega, N_omega))\n",
    "        mat[i, j] = 1\n",
    "        N_matrices.append(np.block([[np.zeros((3*N_omega, 3*N_omega)), np.zeros((3*N_omega, N_omega))],[np.zeros((N_omega, 3*N_omega)), mat + mat.T]]))\n",
    "        if i == j:\n",
    "            kron_delta.append(2)\n",
    "        else:\n",
    "            kron_delta.append(0)"
   ]
  },
  {
   "cell_type": "code",
   "execution_count": 4,
   "metadata": {},
   "outputs": [
    {
     "name": "stdout",
     "output_type": "stream",
     "text": [
      "===============================================================================\n",
      "                                     CVXPY                                     \n",
      "                                     v1.4.2                                    \n",
      "===============================================================================\n",
      "(CVXPY) Feb 02 10:20:20 AM: Your problem has 400 variables, 19 constraints, and 0 parameters.\n",
      "(CVXPY) Feb 02 10:20:20 AM: It is compliant with the following grammars: DCP, DQCP\n",
      "(CVXPY) Feb 02 10:20:20 AM: (If you need to solve this problem multiple times, but with different data, consider using parameters.)\n",
      "(CVXPY) Feb 02 10:20:20 AM: CVXPY will first compile your problem; then, it will invoke a numerical solver to obtain a solution.\n",
      "(CVXPY) Feb 02 10:20:20 AM: Your problem is compiled with the CPP canonicalization backend.\n",
      "-------------------------------------------------------------------------------\n",
      "                                  Compilation                                  \n",
      "-------------------------------------------------------------------------------\n",
      "(CVXPY) Feb 02 10:20:20 AM: Compiling problem (target solver=SCS).\n",
      "(CVXPY) Feb 02 10:20:20 AM: Reduction chain: Dcp2Cone -> CvxAttr2Constr -> Dcp2Cone -> CvxAttr2Constr -> ConeMatrixStuffing -> SCS\n",
      "(CVXPY) Feb 02 10:20:20 AM: Applying reduction Dcp2Cone\n",
      "(CVXPY) Feb 02 10:20:20 AM: Applying reduction CvxAttr2Constr\n",
      "(CVXPY) Feb 02 10:20:20 AM: Applying reduction Dcp2Cone\n",
      "(CVXPY) Feb 02 10:20:20 AM: Applying reduction CvxAttr2Constr\n",
      "(CVXPY) Feb 02 10:20:20 AM: Applying reduction ConeMatrixStuffing\n",
      "(CVXPY) Feb 02 10:20:20 AM: Applying reduction SCS\n",
      "(CVXPY) Feb 02 10:20:20 AM: Finished problem compilation (took 9.339e-03 seconds).\n",
      "-------------------------------------------------------------------------------\n",
      "                                Numerical solver                               \n",
      "-------------------------------------------------------------------------------\n",
      "(CVXPY) Feb 02 10:20:20 AM: Invoking solver SCS  to obtain a solution.\n",
      "------------------------------------------------------------------\n",
      "\t       SCS v3.2.4 - Splitting Conic Solver\n",
      "\t(c) Brendan O'Donoghue, Stanford University, 2012\n",
      "------------------------------------------------------------------\n",
      "problem:  variables n: 210, constraints m: 228\n",
      "cones: \t  z: primal zero / dual free vars: 18\n",
      "\t  s: psd vars: 210, ssize: 1\n",
      "settings: eps_abs: 1.0e-05, eps_rel: 1.0e-05, eps_infeas: 1.0e-07\n",
      "\t  alpha: 1.50, scale: 1.00e-01, adaptive_scale: 1\n",
      "\t  max_iters: 100000, normalize: 1, rho_x: 1.00e-06\n",
      "\t  acceleration_lookback: 10, acceleration_interval: 10\n",
      "lin-sys:  sparse-direct-amd-qdldl\n",
      "\t  nnz(A): 265, nnz(P): 0\n",
      "------------------------------------------------------------------\n",
      " iter | pri res | dua res |   gap   |   obj   |  scale  | time (s)\n",
      "------------------------------------------------------------------\n",
      "     0| 1.99e+00  9.45e-01  6.18e+00  3.04e+00  1.00e-01  4.24e-04 \n",
      "    25| 1.59e-08  7.30e-08  1.14e-06  5.80e-07  1.00e-01  9.43e-04 \n",
      "------------------------------------------------------------------\n",
      "status:  solved\n",
      "timings: total: 9.45e-04s = setup: 3.17e-04s + solve: 6.28e-04s\n",
      "\t lin-sys: 4.39e-05s, cones: 4.85e-04s, accel: 1.36e-06s\n",
      "------------------------------------------------------------------\n",
      "objective = 0.000001\n",
      "------------------------------------------------------------------\n",
      "-------------------------------------------------------------------------------\n",
      "                                    Summary                                    \n",
      "-------------------------------------------------------------------------------\n",
      "(CVXPY) Feb 02 10:20:20 AM: Problem status: optimal\n",
      "(CVXPY) Feb 02 10:20:20 AM: Optimal value: 8.216e-09\n",
      "(CVXPY) Feb 02 10:20:20 AM: Compilation took 9.339e-03 seconds\n",
      "(CVXPY) Feb 02 10:20:20 AM: Solver (including time spent in interface) took 1.076e-03 seconds\n"
     ]
    },
    {
     "data": {
      "text/plain": [
       "8.215855329396504e-09"
      ]
     },
     "execution_count": 4,
     "metadata": {},
     "output_type": "execute_result"
    }
   ],
   "source": [
    "X = cp.Variable((4*N_omega, 4*N_omega), symmetric = True)\n",
    "constraints = [X >> 0]\n",
    "constraints += [cp.trace(constr_quad_mat@X) == 0, cp.trace(constr_lin_mat@X) == 0, cp.trace(def_J_mat@X) == 0]\n",
    "constraints += [cp.trace(N_matrices[i]@X) == kron_delta[i] for i in range(len(N_matrices))]\n",
    "problem = cp.Problem(cp.Minimize(cp.trace(obj_mat @ X)), constraints)\n",
    "problem.solve(verbose = True)"
   ]
  },
  {
   "cell_type": "code",
   "execution_count": 76,
   "metadata": {},
   "outputs": [
    {
     "data": {
      "text/plain": [
       "-1.1509095456723938e-07"
      ]
     },
     "execution_count": 76,
     "metadata": {},
     "output_type": "execute_result"
    }
   ],
   "source": [
    "constraints[4].dual_value"
   ]
  },
  {
   "cell_type": "code",
   "execution_count": 51,
   "metadata": {},
   "outputs": [],
   "source": [
    "A = np.random.random((N_omega, N_omega))\n",
    "A = A@A.conj().T\n",
    "eig_val, sing_eigvec = np.linalg.eig(A)\n",
    "Z = sing_eigvec@sing_eigvec.conj().T\n",
    "beta = 0.1*scipy.linalg.hankel(np.random.random(N_omega), np.random.random(N_omega))\n",
    "W_plus = scipy.linalg.expm(beta)\n",
    "W_minus = scipy.linalg.expm(beta)\n",
    "J = 0.25*(W_plus@W_plus.conj().T + W_minus@W_minus.conj().T - 2*np.eye(N_omega))\n",
    "Y = np.concatenate([J, W_plus, W_minus, Z])\n",
    "X = Y@Y.conj().T"
   ]
  },
  {
   "cell_type": "code",
   "execution_count": 42,
   "metadata": {},
   "outputs": [],
   "source": [
    "Q = def_J_mat[:3*N_omega, :3*N_omega]\n",
    "P = def_J_mat[:3*N_omega, 3*N_omega:]"
   ]
  },
  {
   "cell_type": "code",
   "execution_count": 44,
   "metadata": {},
   "outputs": [
    {
     "data": {
      "text/plain": [
       "(-2.220446049250313e-16, -2.6645352591003757e-15)"
      ]
     },
     "execution_count": 44,
     "metadata": {},
     "output_type": "execute_result"
    }
   ],
   "source": [
    "primal = np.concatenate([J, W_plus, W_minus])\n",
    "np.trace(primal.conj().T@Q@primal + Z.conj().T@P.conj().T@primal + primal.conj().T@P@Z + Z.conj().T@def_J_mat[3*N_omega:, 3*N_omega:]@Z), np.trace(def_J_mat@X)"
   ]
  },
  {
   "cell_type": "code",
   "execution_count": 55,
   "metadata": {},
   "outputs": [
    {
     "data": {
      "text/plain": [
       "array([-1.77635684e-15,  1.71824360e-15, -2.22044605e-15, -7.29884903e-16,\n",
       "        1.55431223e-15,  3.55271368e-15, -1.01633112e-15, -2.77555756e-15,\n",
       "        2.22044605e-16,  8.88178420e-16,  8.95550994e-17,  4.44089210e-16,\n",
       "       -8.88178420e-16,  7.77156117e-16, -8.88178420e-16])"
      ]
     },
     "execution_count": 55,
     "metadata": {},
     "output_type": "execute_result"
    }
   ],
   "source": [
    "np.array([np.trace(N_matrices[i]@X) for i in range(len(N_matrices))]) + kron_delta"
   ]
  },
  {
   "cell_type": "code",
   "execution_count": 130,
   "metadata": {},
   "outputs": [
    {
     "data": {
      "text/plain": [
       "-3.673320429906303"
      ]
     },
     "execution_count": 130,
     "metadata": {},
     "output_type": "execute_result"
    }
   ],
   "source": [
    "np.trace(primal.conj().T@Q@primal + Z.conj().T@P.conj().T@primal + primal.conj().T@P@Z) + n**2"
   ]
  }
 ],
 "metadata": {
  "kernelspec": {
   "display_name": "cvxpy_opt",
   "language": "python",
   "name": "python3"
  },
  "language_info": {
   "codemirror_mode": {
    "name": "ipython",
    "version": 3
   },
   "file_extension": ".py",
   "mimetype": "text/x-python",
   "name": "python",
   "nbconvert_exporter": "python",
   "pygments_lexer": "ipython3",
   "version": "3.11.4"
  }
 },
 "nbformat": 4,
 "nbformat_minor": 2
}
