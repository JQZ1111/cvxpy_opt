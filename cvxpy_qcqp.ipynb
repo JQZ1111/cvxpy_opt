{
 "cells": [
  {
   "cell_type": "code",
   "execution_count": 1,
   "metadata": {},
   "outputs": [
    {
     "ename": "ModuleNotFoundError",
     "evalue": "No module named 'qcqp'",
     "output_type": "error",
     "traceback": [
      "\u001b[0;31m---------------------------------------------------------------------------\u001b[0m",
      "\u001b[0;31mModuleNotFoundError\u001b[0m                       Traceback (most recent call last)",
      "Cell \u001b[0;32mIn[1], line 3\u001b[0m\n\u001b[1;32m      1\u001b[0m \u001b[38;5;28;01mfrom\u001b[39;00m \u001b[38;5;21;01mnumpy\u001b[39;00m\u001b[38;5;21;01m.\u001b[39;00m\u001b[38;5;21;01mrandom\u001b[39;00m \u001b[38;5;28;01mimport\u001b[39;00m randn\n\u001b[1;32m      2\u001b[0m \u001b[38;5;28;01mimport\u001b[39;00m \u001b[38;5;21;01mcvxpy\u001b[39;00m \u001b[38;5;28;01mas\u001b[39;00m \u001b[38;5;21;01mcvx\u001b[39;00m\n\u001b[0;32m----> 3\u001b[0m \u001b[38;5;28;01mfrom\u001b[39;00m \u001b[38;5;21;01mqcqp\u001b[39;00m \u001b[38;5;28;01mimport\u001b[39;00m \u001b[38;5;241m*\u001b[39m\n\u001b[1;32m      5\u001b[0m n, m \u001b[38;5;241m=\u001b[39m \u001b[38;5;241m10\u001b[39m, \u001b[38;5;241m15\u001b[39m\n\u001b[1;32m      6\u001b[0m A \u001b[38;5;241m=\u001b[39m randn(m, n)\n",
      "\u001b[0;31mModuleNotFoundError\u001b[0m: No module named 'qcqp'"
     ]
    }
   ],
   "source": [
    "from numpy.random import randn\n",
    "import cvxpy as cvx\n",
    "from qcqp import *\n",
    "\n",
    "n, m = 10, 15\n",
    "A = randn(m, n)\n",
    "b = randn(m, 1)\n",
    "\n",
    "# Form a nonconvex problem.\n",
    "x = cvx.Variable(n)\n",
    "obj = cvx.sum_squares(A*x - b)\n",
    "cons = [cvx.square(x) == 1]\n",
    "prob = cvx.Problem(cvx.Minimize(obj), cons)\n",
    "\n",
    "# Create a QCQP handler.\n",
    "qcqp = QCQP(prob)\n",
    "\n",
    "# Solve the SDP relaxation and get a starting point to a local method\n",
    "qcqp.suggest(SDR)\n",
    "print(\"SDR lower bound: %.3f\" % qcqp.sdr_bound)\n",
    "\n",
    "# Attempt to improve the starting point given by the suggest method\n",
    "f_cd, v_cd = qcqp.improve(COORD_DESCENT)\n",
    "print(\"Coordinate descent: objective %.3f, violation %.3f\" % (f_cd, v_cd))\n",
    "print(x.value)"
   ]
  }
 ],
 "metadata": {
  "kernelspec": {
   "display_name": "qcqp_cvxpy",
   "language": "python",
   "name": "python3"
  },
  "language_info": {
   "codemirror_mode": {
    "name": "ipython",
    "version": 3
   },
   "file_extension": ".py",
   "mimetype": "text/x-python",
   "name": "python",
   "nbconvert_exporter": "python",
   "pygments_lexer": "ipython3",
   "version": "3.11.4"
  }
 },
 "nbformat": 4,
 "nbformat_minor": 2
}
