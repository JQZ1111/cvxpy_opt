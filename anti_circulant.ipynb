{
 "cells": [
  {
   "cell_type": "code",
   "execution_count": 1,
   "metadata": {},
   "outputs": [],
   "source": [
    "import numpy as np\n",
    "import scipy\n",
    "import matplotlib.pyplot as plt\n",
    "\n",
    "np.random.seed(0)"
   ]
  },
  {
   "cell_type": "code",
   "execution_count": 2,
   "metadata": {},
   "outputs": [],
   "source": [
    "N = 20\n",
    "random_dof = np.random.random(2*N - 1)\n",
    "circulant = scipy.linalg.circulant(random_dof[:N])\n",
    "anti_circ = scipy.linalg.circulant(random_dof[N - 1:])\n",
    "for i in range(N):\n",
    "    for j in range(i):\n",
    "        anti_circ[i,j] = -anti_circ[i,j]\n",
    "one_hot = np.zeros(N)\n",
    "one_hot[-1] = 1\n",
    "pivot = scipy.linalg.hankel(one_hot, np.zeros(N))\n",
    "hankel = pivot@(anti_circ + circulant)\n",
    "bag = {}\n",
    "for i in range(2*N - 1):\n",
    "    bag[str(i)] = []\n",
    "for i in range(N):\n",
    "    for j in range(N):\n",
    "        bag[str(i + j)].append(hankel[i,j])"
   ]
  },
  {
   "cell_type": "code",
   "execution_count": 28,
   "metadata": {},
   "outputs": [],
   "source": [
    "eig_val, eig_vec = scipy.linalg.eig(circulant)"
   ]
  },
  {
   "cell_type": "code",
   "execution_count": 7,
   "metadata": {},
   "outputs": [],
   "source": [
    "anti_eig_val, anti_eig_vec = scipy.linalg.eig(anti_circ)"
   ]
  },
  {
   "cell_type": "code",
   "execution_count": 39,
   "metadata": {},
   "outputs": [
    {
     "data": {
      "text/plain": [
       "array([ 2.00000000e-01,  5.00000000e-01,  8.00000000e-01, -9.00000000e-01,\n",
       "       -6.00000000e-01, -3.00000000e-01,  5.53150615e-16,  3.00000000e-01,\n",
       "        6.00000000e-01,  9.00000000e-01, -8.00000000e-01, -5.00000000e-01,\n",
       "       -2.00000000e-01,  1.00000000e-01,  4.00000000e-01,  7.00000000e-01,\n",
       "        1.00000000e+00, -7.00000000e-01, -4.00000000e-01, -1.00000000e-01])"
      ]
     },
     "execution_count": 39,
     "metadata": {},
     "output_type": "execute_result"
    }
   ],
   "source": [
    "(np.angle(eig_vec).T/np.pi)[5]"
   ]
  },
  {
   "cell_type": "code",
   "execution_count": 31,
   "metadata": {},
   "outputs": [
    {
     "data": {
      "text/plain": [
       "array([ 5.00000000e-01,  7.50000000e-01,  1.00000000e+00, -7.50000000e-01,\n",
       "       -5.00000000e-01, -2.50000000e-01,  0.00000000e+00,  2.50000000e-01,\n",
       "        5.00000000e-01,  7.50000000e-01,  1.00000000e+00, -7.50000000e-01,\n",
       "       -5.00000000e-01, -2.50000000e-01, -1.61994109e-15,  2.50000000e-01,\n",
       "        5.00000000e-01,  7.50000000e-01,  1.00000000e+00, -7.50000000e-01])"
      ]
     },
     "execution_count": 31,
     "metadata": {},
     "output_type": "execute_result"
    }
   ],
   "source": [
    "(np.angle(anti_eig_vec).T/np.pi)[2]"
   ]
  },
  {
   "cell_type": "code",
   "execution_count": 67,
   "metadata": {},
   "outputs": [],
   "source": [
    "F = scipy.fft.fft(np.eye(N))\n",
    "((F.conj().T@circulant@F))"
   ]
  },
  {
   "cell_type": "code",
   "execution_count": 34,
   "metadata": {},
   "outputs": [
    {
     "data": {
      "text/plain": [
       "((-0.7071067811865475-0.7071067811865476j),\n",
       " (-0.7071067811865477-0.7071067811865475j))"
      ]
     },
     "execution_count": 34,
     "metadata": {},
     "output_type": "execute_result"
    }
   ],
   "source": [
    "np.exp(-0.75*1.j*np.pi), np.exp(1.25*1.j*np.pi)"
   ]
  }
 ],
 "metadata": {
  "kernelspec": {
   "display_name": "cvxpy_opt",
   "language": "python",
   "name": "python3"
  },
  "language_info": {
   "codemirror_mode": {
    "name": "ipython",
    "version": 3
   },
   "file_extension": ".py",
   "mimetype": "text/x-python",
   "name": "python",
   "nbconvert_exporter": "python",
   "pygments_lexer": "ipython3",
   "version": "3.11.4"
  }
 },
 "nbformat": 4,
 "nbformat_minor": 2
}
