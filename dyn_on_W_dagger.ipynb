{
 "cells": [
  {
   "cell_type": "code",
   "execution_count": 1,
   "metadata": {},
   "outputs": [],
   "source": [
    "import numpy as np\n",
    "import scipy.sparse as sparse\n",
    "import scipy\n",
    "import cvxpy as cp\n",
    "import matplotlib.pyplot as plt\n",
    "import dyn_on_U_dagger as api\n",
    "\n",
    "np.random.seed(0)"
   ]
  },
  {
   "cell_type": "code",
   "execution_count": 2,
   "metadata": {},
   "outputs": [],
   "source": [
    "# Initialize parameters and SDR constraint\n",
    "N_omega = 11\n",
    "omega = np.linspace(-2, 2, N_omega)\n",
    "N_z = 2\n",
    "z = np.linspace(0, 4*10**-3, N_z)\n",
    "delta_z = np.abs(z[1] - z[0])\n",
    "green_fs = api.get_green_f(omega,z)\n",
    "projection = np.zeros((N_omega, N_omega))\n",
    "projections = []\n",
    "sdr_def_constr = []\n",
    "sdr_cst = []\n",
    "for i in range(N_omega):\n",
    "    for j in range(N_omega):\n",
    "        proj_copy = projection.copy()\n",
    "        proj_copy[i, j] = 1\n",
    "        projections.append(sparse.csc_matrix(proj_copy))\n",
    "        sdr_def_constr.append(api.sdr_def_constr(N_omega, N_z, sparse.csc_matrix(proj_copy)))\n",
    "        if i == j:\n",
    "            sdr_cst.append(2.)\n",
    "        else:\n",
    "            sdr_cst.append(0.)"
   ]
  },
  {
   "cell_type": "code",
   "execution_count": 3,
   "metadata": {},
   "outputs": [],
   "source": [
    "beta_vec = np.exp(-(np.linspace(omega[0], omega[-1], 2*N_omega - 1)**2)/0.2)#np.random.random(2*N_omega - 1)#\n",
    "beta = scipy.linalg.hankel(beta_vec[:N_omega], beta_vec[N_omega - 1:])\n",
    "beta_weight = np.sqrt(np.trace(beta.conj().T@beta))\n",
    "new_beta = beta/beta_weight\n",
    "delta_k = 1.j*np.diag(omega)\n",
    "Q_plus = delta_k + beta\n",
    "Q_minus = delta_k - beta\n",
    "W_plus = [scipy.linalg.expm(Q_plus*z[i]) for i in range(N_z)]\n",
    "W_minus = [scipy.linalg.expm(Q_minus*z[i]) for i in range(N_z)]\n",
    "J = 0.25*(W_plus[-1]@W_plus[-1].conj().T + W_minus[-1]@W_minus[-1].conj().T - 2*np.eye(N_omega))\n",
    "n = 0.25*np.trace((W_plus[-1] - W_minus[-1]).conj().T@(W_plus[-1] - W_minus[-1]))\n",
    "W, _, V = scipy.linalg.svd((0.5/np.sqrt(n))*(scipy.linalg.expm((delta_k + beta)*z[-1]) - scipy.linalg.expm((delta_k - beta)*z[-1])))\n",
    "rand_unitary = W@V\n",
    "W_plus = [(1/np.sqrt(n))*rand_unitary.conj().T@scipy.linalg.expm(Q_plus*z[i]) for i in range(N_z)]\n",
    "W_minus = [(1/np.sqrt(n))*rand_unitary.conj().T@scipy.linalg.expm(Q_minus*z[i]) for i in range(N_z)]\n",
    "X = np.vstack([rand_unitary] + W_plus + W_minus + [beta])\n",
    "Y = np.vstack([rand_unitary] + W_plus + W_minus + [beta, np.eye(N_omega)])"
   ]
  },
  {
   "cell_type": "code",
   "execution_count": 4,
   "metadata": {},
   "outputs": [],
   "source": [
    "# Get dynamics constraints\n",
    "dynamics_mat = []\n",
    "sympl_mat = []\n",
    "unit_mat = []\n",
    "pump_mat = []\n",
    "prev_photon_nbr = api.photon_nbr_prev_points(N_omega, N_z)\n",
    "photon_nbr_end = api.photon_nbr_constr(N_omega, N_z, n)\n",
    "B_U_and_U_ineq = api.ineq_U_and_B_U(N_omega, N_z)\n",
    "Q_list = api.gen_Q_mat(N_omega, 2000)\n",
    "unitary_ineq = api.real_ineq_Q(N_omega, N_z, Q_list)\n",
    "for i in range(len(projections)):\n",
    "    real_plus, imag_plus, real_minus, imag_minus = api.get_dynamics_sdr(omega, z, n, projections[i])\n",
    "    unitary_real, unitary_imag = api.unitary_constr(N_omega, N_z, projections[i])\n",
    "    sympl_real, sympl_imag = api.sympl_constr_sdr(N_omega, N_z, projections[i], n)\n",
    "    fix_beta_real, fix_beta_imag = api.sdr_fixed_pump(N_omega, N_z, beta, projections[i])\n",
    "    dynamics_mat += real_plus + imag_plus + real_minus + imag_minus\n",
    "    sympl_mat += sympl_real + sympl_imag\n",
    "    unit_mat += [unitary_real] + [unitary_imag]\n",
    "    pump_mat += [fix_beta_real, fix_beta_imag]\n",
    "constraints_list = dynamics_mat + sympl_mat  + [photon_nbr_end] + unit_mat + pump_mat"
   ]
  },
  {
   "cell_type": "code",
   "execution_count": 5,
   "metadata": {},
   "outputs": [],
   "source": [
    "Q_list = api.gen_Q_mat(N_omega, 200) + api.gen_standard_Q_mat(N_omega)\n",
    "unitary_ineq = api.real_ineq_Q(N_omega, N_z, Q_list)\n",
    "imag_equal = api.imag_constr_tr_B_U(N_omega, N_z)"
   ]
  },
  {
   "cell_type": "code",
   "execution_count": 28,
   "metadata": {},
   "outputs": [
    {
     "data": {
      "text/plain": [
       "(0.7423995948424104+3.2243406007807756e-16j)"
      ]
     },
     "execution_count": 28,
     "metadata": {},
     "output_type": "execute_result"
    }
   ],
   "source": [
    "np.trace(rand_unitary.conj().T@(W_plus[1] - W_minus[1]))"
   ]
  },
  {
   "cell_type": "code",
   "execution_count": 21,
   "metadata": {},
   "outputs": [
    {
     "data": {
      "text/plain": [
       "[1.7915426508229135,\n",
       " 0.0,\n",
       " 1.6892216976849825,\n",
       " 1.2313697574981566,\n",
       " 2.270870985603801,\n",
       " 1.9500227092272022,\n",
       " 2.1098212120941513,\n",
       " 2.0847758550367907,\n",
       " 1.9223764213278716,\n",
       " 1.5564942839746885,\n",
       " 1.7919993282778843,\n",
       " 2.916403894252908,\n",
       " 2.5508080191587847,\n",
       " 2.657119729967733,\n",
       " 2.605055228462306,\n",
       " 1.841854548501986,\n",
       " 1.8301960761686062,\n",
       " 2.4530011055423184,\n",
       " 1.9586011454764283,\n",
       " 1.9802496449056624,\n",
       " 2.2592546783427667,\n",
       " 2.1778887307755066,\n",
       " 2.353745900488408,\n",
       " 2.071070244003444,\n",
       " 1.789163328079919]"
      ]
     },
     "execution_count": 21,
     "metadata": {},
     "output_type": "execute_result"
    }
   ],
   "source": [
    "[0.5*np.real(np.trace(W_plus[1] - W_minus[1]) - np.trace(Q_list[i].conj().T@(W_plus[1] - W_minus[1]))) for i in range(199,len(Q_list))]"
   ]
  },
  {
   "cell_type": "code",
   "execution_count": 19,
   "metadata": {},
   "outputs": [
    {
     "data": {
      "text/plain": [
       "[(1.7915426508229175-2.14595797186877e-18j),\n",
       " 0j,\n",
       " (1.689221697684988+0j),\n",
       " (1.2313697574981561+1.1917020140109202e-18j),\n",
       " (2.270870985603802-1.796186878369714e-18j),\n",
       " (1.9500227092272038+6.597577104046002e-19j),\n",
       " (2.1098212120941513+8.53568952514398e-19j),\n",
       " (2.0847758550367907+1.1657724878435663e-18j),\n",
       " (1.9223764213278727+1.264621391256661e-18j),\n",
       " (1.5564942839746878+1.0609129054544856e-18j),\n",
       " (1.7919993282778826+6.338927224379806e-19j),\n",
       " (2.9164038942529116+1.3558177604547046e-18j),\n",
       " (2.550808019158782+1.6328100618737882e-18j),\n",
       " (2.6571197299677336+1.8715571208075637e-19j),\n",
       " (2.6050552284623048+1.3224456587062942e-18j),\n",
       " (1.8418545485019848-2.2824115603325004e-18j),\n",
       " (1.8301960761686074+1.0266342697326786e-18j),\n",
       " (2.4530011055423198+9.274646144388747e-19j),\n",
       " (1.9586011454764285+7.185887281535795e-19j),\n",
       " (1.9802496449056621+1.62657537212858e-18j),\n",
       " (2.2592546783427667+1.764070767076968e-18j),\n",
       " (2.1778887307755066+1.349342309596866e-18j),\n",
       " (2.353745900488407+1.8268556000678502e-18j),\n",
       " (2.0710702440034434+1.6433893519174681e-18j),\n",
       " (1.7891633280799182+1.3707341128124654e-18j)]"
      ]
     },
     "execution_count": 19,
     "metadata": {},
     "output_type": "execute_result"
    }
   ],
   "source": [
    "[np.trace(Y.conj().T@unitary_ineq[i]@Y) for i in range(199,len(Q_list))]"
   ]
  },
  {
   "cell_type": "code",
   "execution_count": 6,
   "metadata": {},
   "outputs": [
    {
     "data": {
      "text/plain": [
       "[]"
      ]
     },
     "execution_count": 6,
     "metadata": {},
     "output_type": "execute_result"
    }
   ],
   "source": [
    "[np.trace(Y.conj().T@constraints_list[i]@Y) for i in range(len(constraints_list)) if np.abs(np.trace(Y.conj().T@constraints_list[i]@Y)) > 5*10**-6]"
   ]
  },
  {
   "cell_type": "code",
   "execution_count": 60,
   "metadata": {},
   "outputs": [
    {
     "data": {
      "text/plain": [
       "[]"
      ]
     },
     "execution_count": 60,
     "metadata": {},
     "output_type": "execute_result"
    }
   ],
   "source": [
    "[np.trace(Y.conj().T@sdr_def_constr[i]@Y) - sdr_cst[i] for i in range(len(sdr_def_constr)) if np.abs(np.trace(Y.conj().T@sdr_def_constr[i]@Y) - sdr_cst[i]) > 10**-6]"
   ]
  },
  {
   "cell_type": "code",
   "execution_count": 61,
   "metadata": {},
   "outputs": [
    {
     "data": {
      "text/plain": [
       "(-9.035612535956972e-12+0j)"
      ]
     },
     "execution_count": 61,
     "metadata": {},
     "output_type": "execute_result"
    }
   ],
   "source": [
    "np.trace(Y.conj().T@photon_nbr_end@Y)"
   ]
  },
  {
   "cell_type": "code",
   "execution_count": 62,
   "metadata": {},
   "outputs": [
    {
     "data": {
      "text/plain": [
       "[(0.9999999999995811+0j)]"
      ]
     },
     "execution_count": 62,
     "metadata": {},
     "output_type": "execute_result"
    }
   ],
   "source": [
    "[np.trace(Y.conj().T@prev_photon_nbr[i]@Y) for i in range(len(prev_photon_nbr))]"
   ]
  },
  {
   "cell_type": "code",
   "execution_count": 63,
   "metadata": {},
   "outputs": [
    {
     "data": {
      "text/plain": [
       "[]"
      ]
     },
     "execution_count": 63,
     "metadata": {},
     "output_type": "execute_result"
    }
   ],
   "source": [
    "[np.trace(Y.conj().T@unitary_ineq[i]@Y) for i in range(len(unitary_ineq)) if np.trace(Y.conj().T@unitary_ineq[i]@Y) < 0]"
   ]
  },
  {
   "cell_type": "code",
   "execution_count": 64,
   "metadata": {},
   "outputs": [
    {
     "data": {
      "text/plain": [
       "(2.4070838087248826e-18+0j)"
      ]
     },
     "execution_count": 64,
     "metadata": {},
     "output_type": "execute_result"
    }
   ],
   "source": [
    "np.trace(Y.conj().T@imag_equal@Y)"
   ]
  },
  {
   "cell_type": "code",
   "execution_count": 65,
   "metadata": {},
   "outputs": [],
   "source": [
    "# Objective function\n",
    "obj_f_mat = api.obj_f(N_omega, N_z)"
   ]
  },
  {
   "cell_type": "code",
   "execution_count": 76,
   "metadata": {},
   "outputs": [],
   "source": [
    "# Build cvxpy model\n",
    "variable = cp.Variable(shape=((2*N_z + 3)*N_omega,(2*N_z + 3)*N_omega), hermitian = True)\n",
    "constraints = [variable >> 0]\n",
    "constraints += [cp.real(cp.trace(constraints_list[i]@variable)) == 0 for i in range(len(constraints_list))]\n",
    "constraints += [cp.real(cp.trace(prev_photon_nbr[i]@variable)) >= 0 for i in range(len(prev_photon_nbr))]\n",
    "constraints += [cp.real(cp.trace(sdr_def_constr[i]@variable)) == sdr_cst[i] for i in range(len(sdr_def_constr))]\n",
    "constraints += [cp.real(cp.trace(unitary_ineq[i]@variable)) >= 0 for i in range(len(unitary_ineq))]\n",
    "constraints.append(cp.real(cp.trace(photon_nbr_end@variable)) == 0)\n",
    "# This constraint make the bound better :D\n",
    "constraints.append(cp.real(cp.trace(B_U_and_U_ineq@variable)) >= 0)\n",
    "# Constraint making imaginary part of trace of U_+ - U_- nothing\n",
    "constraints.append(cp.real(cp.trace(imag_equal@variable)) == 0)\n",
    "# Maximizing and minimizing dont give the same abs value?\n",
    "problem = cp.Problem(cp.Minimize(cp.real(cp.trace(obj_f_mat@variable))), constraints)"
   ]
  },
  {
   "cell_type": "code",
   "execution_count": 77,
   "metadata": {},
   "outputs": [
    {
     "name": "stdout",
     "output_type": "stream",
     "text": [
      "===============================================================================\n",
      "                                     CVXPY                                     \n",
      "                                     v1.4.2                                    \n",
      "===============================================================================\n",
      "(CVXPY) Mar 12 03:48:35 PM: Your problem has 5929 variables, 2263 constraints, and 0 parameters.\n",
      "(CVXPY) Mar 12 03:48:35 PM: It is compliant with the following grammars: DCP, DQCP\n",
      "(CVXPY) Mar 12 03:48:35 PM: (If you need to solve this problem multiple times, but with different data, consider using parameters.)\n",
      "(CVXPY) Mar 12 03:48:35 PM: CVXPY will first compile your problem; then, it will invoke a numerical solver to obtain a solution.\n",
      "(CVXPY) Mar 12 03:48:35 PM: Your problem is compiled with the CPP canonicalization backend.\n",
      "-------------------------------------------------------------------------------\n",
      "                                  Compilation                                  \n",
      "-------------------------------------------------------------------------------\n",
      "(CVXPY) Mar 12 03:48:35 PM: Compiling problem (target solver=SCS).\n",
      "(CVXPY) Mar 12 03:48:35 PM: Reduction chain: Complex2Real -> Dcp2Cone -> CvxAttr2Constr -> Dcp2Cone -> CvxAttr2Constr -> ConeMatrixStuffing -> SCS\n",
      "(CVXPY) Mar 12 03:48:35 PM: Applying reduction Complex2Real\n",
      "(CVXPY) Mar 12 03:48:36 PM: Applying reduction Dcp2Cone\n",
      "(CVXPY) Mar 12 03:48:36 PM: Applying reduction CvxAttr2Constr\n",
      "(CVXPY) Mar 12 03:48:36 PM: Applying reduction Dcp2Cone\n",
      "(CVXPY) Mar 12 03:48:36 PM: Applying reduction CvxAttr2Constr\n",
      "(CVXPY) Mar 12 03:48:36 PM: Applying reduction ConeMatrixStuffing\n",
      "(CVXPY) Mar 12 03:48:38 PM: Applying reduction SCS\n",
      "(CVXPY) Mar 12 03:48:39 PM: Finished problem compilation (took 3.657e+00 seconds).\n",
      "-------------------------------------------------------------------------------\n",
      "                                Numerical solver                               \n",
      "-------------------------------------------------------------------------------\n",
      "(CVXPY) Mar 12 03:48:39 PM: Invoking solver SCS  to obtain a solution.\n",
      "------------------------------------------------------------------\n",
      "\t       SCS v3.2.4 - Splitting Conic Solver\n",
      "\t(c) Brendan O'Donoghue, Stanford University, 2012\n",
      "------------------------------------------------------------------\n",
      "problem:  variables n: 5929, constraints m: 14197\n",
      "cones: \t  z: primal zero / dual free vars: 2060\n",
      "\t  l: linear vars: 202\n",
      "\t  s: psd vars: 11935, ssize: 1\n",
      "settings: eps_abs: 1.0e-05, eps_rel: 1.0e-05, eps_infeas: 1.0e-07\n",
      "\t  alpha: 1.50, scale: 1.00e-01, adaptive_scale: 1\n",
      "\t  max_iters: 500000, normalize: 1, rho_x: 1.00e-06\n",
      "\t  acceleration_lookback: 10, acceleration_interval: 10\n",
      "lin-sys:  sparse-direct-amd-qdldl\n",
      "\t  nnz(A): 66990, nnz(P): 0\n",
      "------------------------------------------------------------------\n",
      " iter | pri res | dua res |   gap   |   obj   |  scale  | time (s)\n",
      "------------------------------------------------------------------\n",
      "     0| 7.28e+02  2.52e+01  2.32e+06  1.16e+06  1.00e-01  1.98e-02 \n",
      "   250| 5.98e-01  5.02e-03  1.41e-02 -4.94e-03  1.00e-01  7.41e-01 \n",
      "   500| 5.98e-01  1.13e-03  1.20e-02 -4.32e-02  1.00e-01  1.47e+00 \n",
      "   750| 3.97e-01  8.46e-04  1.00e-02 -5.29e-02  1.00e-01  2.19e+00 \n",
      "  1000| 3.97e-01  5.08e-04  8.59e-03 -7.91e-02  1.00e-01  2.90e+00 \n",
      "  1250| 3.97e-01  5.72e-04  7.17e-03 -9.17e-02  1.00e-01  3.61e+00 \n",
      "  1500| 3.97e-01  1.41e-03  5.73e-03 -1.15e-01  1.00e-01  4.33e+00 \n",
      "  1750| 3.97e-01  1.33e-03  4.31e-03 -1.31e-01  1.00e-01  5.06e+00 \n",
      "  2000| 3.97e-01  1.60e-03  2.89e-03 -1.46e-01  1.00e-01  5.78e+00 \n",
      "  2250| 3.97e-01  1.02e-03  1.46e-03 -1.69e-01  1.00e-01  6.51e+00 \n",
      "  2500| 3.97e-01  8.88e-04  3.81e-05 -1.79e-01  1.00e-01  7.24e+00 \n",
      "  2750| 3.31e+00  3.40e+00  3.66e-05 -3.99e-01  1.00e-01  7.81e+00 \n",
      "  3000| 6.19e-02  2.32e-04  7.36e-02 -1.51e+00  3.50e-04  8.40e+00 \n",
      "  3250| 1.47e+00  3.01e-04  2.63e-01 -6.15e+00  3.50e-04  9.04e+00 \n",
      "  3500| 4.44e+00  1.45e-03  5.83e-01 -1.61e+01  3.50e-04  9.67e+00 \n",
      "  3750| 4.07e+00  8.78e-04  2.92e-01 -1.23e+01  3.50e-04  1.03e+01 \n",
      "  4000| 7.90e+00  2.38e-03  1.66e+00  2.89e+01  3.50e-04  1.10e+01 \n",
      "  4250| 5.46e+00  8.81e-04  6.22e-01 -1.65e+01  3.50e-04  1.16e+01 \n",
      "  4500| 4.43e+00  5.31e-04  4.78e-01 -1.42e+01  3.50e-04  1.22e+01 \n",
      "  4750| 2.87e+00  3.60e-04  2.38e-01 -9.80e+00  3.50e-04  1.29e+01 \n",
      "  5000| 9.21e-01  8.27e-04  7.07e-02 -3.58e+00  3.50e-04  1.35e+01 \n",
      "  5250| 1.79e+00  4.05e-04  3.32e-01  2.22e+00  3.50e-04  1.41e+01 \n",
      "  5500| 2.07e+00  7.81e-04  4.19e-01  4.81e+00  3.50e-04  1.47e+01 \n",
      "  5750| 7.40e-01  1.49e-03  6.90e-02 -2.18e+00  3.50e-04  1.53e+01 \n",
      "  6000| 1.73e+03  9.14e-01  3.05e+01  1.06e+00  3.50e-04  1.59e+01 \n",
      "  6250| 1.49e+00  2.29e-04  8.74e-02 -7.05e+00  3.50e-04  1.67e+01 \n",
      "  6500| 1.75e+00  1.77e-04  8.18e-02 -5.55e+00  3.50e-04  1.73e+01 \n",
      "  6750| 6.16e-01  6.62e-04  9.38e-02 -1.74e+00  3.50e-04  1.79e+01 \n",
      "  7000| 8.13e-01  7.69e-04  1.90e-01  4.80e-01  3.50e-04  1.85e+01 \n",
      "  7250| 4.45e-01  1.12e-03  2.68e-01  2.10e+00  3.50e-04  1.91e+01 \n",
      "  7500| 1.73e+01  1.07e-02  4.13e-01  5.25e+00  3.50e-04  1.97e+01 \n",
      "  7750| 4.52e-01  2.45e-04  2.94e-01  2.85e+00  3.50e-04  2.03e+01 \n",
      "  8000| 5.87e-01  4.06e-04  5.86e-02 -1.79e+00  3.50e-04  2.09e+01 \n",
      "  8250| 1.40e+00  2.14e-04  9.18e-02 -4.66e+00  3.50e-04  2.14e+01 \n",
      "  8500| 1.01e+00  2.17e-04  7.77e-02 -4.40e+00  3.50e-04  2.20e+01 \n",
      "  8750| 4.77e-01  3.17e-04  1.52e-02 -2.64e+00  3.50e-04  2.26e+01 \n",
      "  9000| 5.75e-01  1.33e-04  1.04e-01 -7.17e-01  3.50e-04  2.32e+01 \n",
      "  9250| 5.81e-01  1.50e-04  1.50e-01  4.91e-01  3.50e-04  2.38e+01 \n",
      "  9500| 4.49e-01  1.88e-04  1.35e-01  6.33e-01  3.50e-04  2.44e+01 \n",
      "  9750| 4.50e-01  1.62e-04  6.86e-02 -5.06e-01  3.50e-04  2.49e+01 \n",
      " 10000| 3.45e-01  2.56e-04  5.19e-03 -1.58e+00  3.50e-04  2.55e+01 \n",
      " 10250| 2.27e-01  2.06e-04  2.72e-02 -2.22e+00  3.50e-04  2.61e+01 \n",
      " 10500| 7.23e+02  2.76e-01  8.77e-02 -4.53e+00  3.50e-04  2.67e+01 \n",
      " 10750| 3.50e-01  1.40e-04  6.95e-02 -3.27e+00  3.50e-04  2.73e+01 \n",
      " 11000| 3.67e-01  2.21e-04  6.63e-02 -3.35e+00  3.50e-04  2.79e+01 \n",
      " 11250| 3.26e-01  2.81e-04  4.03e-02 -2.82e+00  3.50e-04  2.85e+01 \n",
      " 11500| 2.77e-01  2.33e-04  2.59e-02 -2.69e+00  3.50e-04  2.91e+01 \n",
      " 11750| 1.42e-01  1.75e-04  1.27e-02 -2.40e+00  3.50e-04  2.97e+01 \n",
      " 12000| 2.87e-01  3.00e-05  2.36e-02 -1.69e+00  3.50e-04  3.02e+01 \n",
      " 12250| 2.65e-01  1.25e-04  5.59e-02 -1.57e+00  3.50e-04  3.08e+01 \n",
      " 12500| 1.71e-01  1.76e-04  3.45e-02 -1.34e+00  3.50e-04  3.14e+01 \n",
      " 12750| 2.12e-01  1.02e-04  4.28e-02 -1.09e+00  3.50e-04  3.20e+01 \n",
      " 13000| 3.95e+01  9.53e-03  2.64e+00  4.07e-01  3.50e-04  3.25e+01 \n",
      " 13250| 6.01e-02  3.24e-05  1.06e-02 -1.60e+00  3.50e-04  3.31e+01 \n",
      " 13500| 2.68e-02  2.22e-05  7.68e-03 -1.95e+00  3.50e-04  3.37e+01 \n",
      " 13750| 9.89e-02  3.18e-05  2.44e-02 -2.31e+00  3.50e-04  3.42e+01 \n",
      " 14000| 1.48e-01  1.62e-05  3.55e-02 -2.59e+00  3.50e-04  3.48e+01 \n",
      " 14250| 1.94e-01  1.34e-05  3.74e-02 -2.71e+00  3.50e-04  3.54e+01 \n",
      " 14500| 1.91e-01  1.36e-05  3.31e-02 -2.67e+00  3.50e-04  3.60e+01 \n",
      " 14750| 1.90e-01  3.18e-05  3.24e-02 -2.66e+00  3.50e-04  3.65e+01 \n",
      " 15000| 1.87e-01  7.99e-05  3.30e-02 -2.66e+00  3.50e-04  3.71e+01 \n",
      " 15250| 1.35e-01  1.76e-04  2.97e-02 -2.62e+00  3.50e-04  3.77e+01 \n",
      " 15500| 1.88e-01  3.75e-05  1.87e-02 -2.44e+00  3.50e-04  3.83e+01 \n",
      " 15750| 5.26e-02  6.98e-05  3.25e-03 -2.11e+00  3.50e-04  3.89e+01 \n",
      " 16000| 1.04e-01  5.80e-05  8.66e-03 -1.86e+00  3.50e-04  3.95e+01 \n",
      " 16250| 1.18e-01  6.90e-05  1.82e-02 -1.64e+00  3.50e-04  4.00e+01 \n",
      " 16500| 2.90e+01  9.81e-03  5.45e-02 -1.53e+00  3.50e-04  4.06e+01 \n",
      " 16750| 9.42e-02  3.39e-05  1.77e-02 -1.53e+00  3.50e-04  4.12e+01 \n",
      " 17000| 3.30e-02  6.75e-05  7.04e-03 -1.73e+00  3.50e-04  4.18e+01 \n",
      " 17250| 2.15e-02  6.66e-05  2.20e-03 -1.89e+00  3.50e-04  4.23e+01 \n",
      " 17500| 6.06e-02  8.29e-05  1.26e-02 -2.12e+00  3.50e-04  4.29e+01 \n",
      " 17750| 9.27e-02  6.18e-05  2.03e-02 -2.31e+00  3.50e-04  4.35e+01 \n",
      " 18000| 2.69e-01  4.56e-05  2.13e-02 -2.39e+00  3.50e-04  4.41e+01 \n",
      " 18250| 2.09e-01  6.56e-05  1.33e-02 -2.27e+00  3.50e-04  4.46e+01 \n",
      " 18500| 1.16e-01  3.45e-05  5.36e-03 -2.12e+00  3.50e-04  4.52e+01 \n",
      " 18750| 1.01e-01  4.37e-05  3.96e-03 -1.94e+00  3.50e-04  4.58e+01 \n",
      " 19000| 1.32e-01  2.42e-05  1.20e-02 -1.75e+00  3.50e-04  4.64e+01 \n",
      " 19250| 8.57e-02  2.73e-05  1.38e-02 -1.68e+00  3.50e-04  4.70e+01 \n",
      " 19500| 7.64e-02  2.59e-05  1.39e-02 -1.63e+00  3.50e-04  4.76e+01 \n",
      " 19750| 6.31e-02  4.49e-05  9.00e-03 -1.72e+00  3.50e-04  4.81e+01 \n",
      " 20000| 6.23e-02  3.50e-05  2.23e-03 -1.83e+00  3.50e-04  4.87e+01 \n",
      " 20250| 6.04e-02  4.72e-05  4.25e-03 -1.97e+00  3.50e-04  4.93e+01 \n",
      " 20500| 4.42e-02  6.50e-05  8.80e-03 -2.08e+00  3.50e-04  4.98e+01 \n",
      " 20750| 8.33e-02  3.36e-05  1.03e-02 -2.15e+00  3.50e-04  5.04e+01 \n",
      " 21000| 5.35e-02  2.42e-05  1.30e-02 -2.20e+00  3.50e-04  5.10e+01 \n",
      " 21250| 6.48e-02  2.07e-05  8.72e-03 -2.15e+00  3.50e-04  5.16e+01 \n",
      " 21500| 1.72e-02  2.53e-05  4.37e-03 -2.06e+00  3.50e-04  5.22e+01 \n",
      " 21750| 3.41e-02  1.53e-05  5.17e-04 -1.97e+00  3.50e-04  5.27e+01 \n",
      " 22000| 3.26e-02  1.50e-05  4.63e-03 -1.88e+00  3.50e-04  5.33e+01 \n",
      " 22250| 4.69e-02  3.46e-06  8.00e-03 -1.79e+00  3.50e-04  5.39e+01 \n",
      " 22500| 3.00e-02  1.22e-05  6.68e-03 -1.78e+00  3.50e-04  5.45e+01 \n",
      " 22750| 1.97e-02  9.11e-06  3.64e-03 -1.84e+00  3.50e-04  5.51e+01 \n",
      " 23000| 1.91e-02  1.23e-05  1.21e-04 -1.90e+00  3.50e-04  5.56e+01 \n",
      " 23250| 2.48e-02  5.00e-06  5.12e-03 -2.01e+00  3.50e-04  5.62e+01 \n",
      " 23500| 3.06e-02  3.32e-06  7.02e-03 -2.06e+00  3.50e-04  5.68e+01 \n",
      " 23750| 3.63e-02  5.20e-06  8.70e-03 -2.11e+00  3.50e-04  5.73e+01 \n",
      " 24000| 3.06e-02  5.40e-06  6.69e-03 -2.09e+00  3.50e-04  5.79e+01 \n",
      " 24250| 2.96e-02  6.84e-06  4.23e-03 -2.05e+00  3.50e-04  5.85e+01 \n",
      " 24500| 1.24e-02  3.42e-06  3.40e-04 -1.97e+00  3.50e-04  5.91e+01 \n",
      " 24750| 2.27e-02  3.00e-06  2.43e-03 -1.91e+00  3.50e-04  5.96e+01 \n",
      " 25000| 3.20e-02  4.81e-06  5.14e-03 -1.85e+00  3.50e-04  6.02e+01 \n",
      " 25250| 2.75e-02  2.17e-06  4.70e-03 -1.83e+00  3.50e-04  6.08e+01 \n",
      " 25500| 2.41e-02  2.01e-06  4.45e-03 -1.83e+00  3.50e-04  6.14e+01 \n",
      " 25750| 1.15e-02  5.76e-06  1.28e-03 -1.89e+00  3.50e-04  6.19e+01 \n",
      " 26000| 7.39e-03  4.25e-06  1.07e-03 -1.94e+00  3.50e-04  6.25e+01 \n",
      " 26250| 1.92e-02  8.78e-06  3.68e-03 -1.99e+00  3.50e-04  6.31e+01 \n",
      " 26500| 2.13e-02  6.16e-06  5.24e-03 -2.03e+00  3.50e-04  6.36e+01 \n",
      " 26750| 1.79e-02  2.72e-06  4.74e-03 -2.04e+00  3.50e-04  6.42e+01 \n",
      " 27000| 2.12e-02  2.42e-06  2.91e-03 -2.01e+00  3.50e-04  6.48e+01 \n",
      " 27250| 1.23e+02  5.06e-02  1.56e-01  1.43e+00  3.50e-04  6.54e+01 \n",
      " 27500| 1.78e-02  2.54e-06  2.21e-03 -1.91e+00  3.50e-04  6.60e+01 \n",
      " 27750| 2.35e-02  1.95e-06  3.71e-03 -1.87e+00  3.50e-04  6.65e+01 \n",
      " 28000| 2.18e-02  9.16e-07  4.40e-03 -1.85e+00  3.50e-04  6.71e+01 \n",
      " 28250| 1.68e-02  1.87e-06  3.57e-03 -1.86e+00  3.50e-04  6.77e+01 \n",
      " 28500| 1.17e-02  1.81e-06  2.02e-03 -1.88e+00  3.50e-04  6.83e+01 \n",
      " 28750| 6.44e-03  3.37e-06  5.54e-05 -1.92e+00  3.50e-04  6.88e+01 \n",
      " 29000| 1.12e-02  2.10e-06  2.10e-03 -1.96e+00  3.50e-04  6.94e+01 \n",
      " 29250| 1.55e-02  2.32e-06  3.43e-03 -2.00e+00  3.50e-04  7.00e+01 \n",
      " 29500| 1.60e-02  8.53e-07  4.00e-03 -2.02e+00  3.50e-04  7.05e+01 \n",
      " 29750| 1.59e-02  8.84e-07  3.44e-03 -2.01e+00  3.50e-04  7.11e+01 \n",
      " 30000| 3.99e-01  2.61e-04  6.51e-03 -2.07e+00  3.50e-04  7.17e+01 \n",
      " 30250| 7.16e-03  2.49e-06  4.95e-04 -1.96e+00  3.50e-04  7.22e+01 \n",
      " 30500| 1.10e-02  1.82e-06  1.14e-03 -1.93e+00  3.50e-04  7.28e+01 \n",
      " 30750| 1.51e-02  2.37e-06  2.38e-03 -1.90e+00  3.50e-04  7.34e+01 \n",
      " 31000| 2.61e-01  7.15e-05  1.13e-02 -1.90e+00  3.50e-04  7.40e+01 \n",
      " 31250| 7.47e-03  1.95e-06  1.60e-03 -1.89e+00  3.50e-04  7.45e+01 \n",
      " 31500| 9.31e-03  3.83e-06  7.63e-05 -1.93e+00  3.50e-04  7.51e+01 \n",
      " 31750| 8.44e-03  1.95e-06  1.88e-03 -1.96e+00  3.50e-04  7.57e+01 \n",
      " 32000| 1.31e-02  3.41e-06  2.79e-03 -1.99e+00  3.50e-04  7.62e+01 \n",
      " 32250| 1.57e-02  5.25e-06  2.72e-03 -2.00e+00  3.50e-04  7.68e+01 \n",
      " 32500| 1.24e-02  4.69e-06  2.49e-03 -1.99e+00  3.50e-04  7.74e+01 \n",
      " 32750| 1.99e-02  1.86e-06  1.52e-03 -1.98e+00  3.50e-04  7.79e+01 \n",
      " 33000| 1.09e+00  5.37e-04  5.68e-03 -2.07e+00  3.50e-04  7.85e+01 \n",
      " 33075| 6.86e-03  5.06e-06  1.57e-05 -1.94e+00  3.50e-04  7.87e+01 \n",
      "------------------------------------------------------------------\n",
      "status:  solved\n",
      "timings: total: 7.87e+01s = setup: 1.62e-02s + solve: 7.87e+01s\n",
      "\t lin-sys: 4.64e+00s, cones: 7.26e+01s, accel: 2.50e-01s\n",
      "------------------------------------------------------------------\n",
      "objective = -1.944280\n",
      "------------------------------------------------------------------\n",
      "-------------------------------------------------------------------------------\n",
      "                                    Summary                                    \n",
      "-------------------------------------------------------------------------------\n",
      "(CVXPY) Mar 12 03:49:57 PM: Problem status: optimal\n",
      "(CVXPY) Mar 12 03:49:57 PM: Optimal value: -1.944e+00\n",
      "(CVXPY) Mar 12 03:49:57 PM: Compilation took 3.657e+00 seconds\n",
      "(CVXPY) Mar 12 03:49:57 PM: Solver (including time spent in interface) took 7.868e+01 seconds\n"
     ]
    },
    {
     "data": {
      "text/plain": [
       "-1.9442725118755169"
      ]
     },
     "execution_count": 77,
     "metadata": {},
     "output_type": "execute_result"
    }
   ],
   "source": [
    "problem.solve(verbose = True, max_iters = 5*10**5)"
   ]
  },
  {
   "cell_type": "code",
   "execution_count": null,
   "metadata": {},
   "outputs": [],
   "source": [
    "# When putting constraint of 1000 random unitary matrices\n",
    "print(-1.8849041442466934)\n",
    "# When putting constraints of 200 random unitary matrices\n",
    "print(-1.9473086774233224)"
   ]
  },
  {
   "cell_type": "code",
   "execution_count": 78,
   "metadata": {},
   "outputs": [
    {
     "data": {
      "text/plain": [
       "array([[0., 0., 0., 0., 0., 0., 0., 0., 0., 0., 1.],\n",
       "       [0., 0., 0., 0., 0., 0., 0., 0., 0., 1., 0.],\n",
       "       [0., 0., 0., 0., 0., 0., 0., 0., 1., 0., 0.],\n",
       "       [0., 0., 0., 0., 0., 0., 0., 1., 0., 0., 0.],\n",
       "       [0., 0., 0., 0., 0., 0., 1., 0., 0., 0., 0.],\n",
       "       [0., 0., 0., 0., 0., 1., 0., 0., 0., 0., 0.],\n",
       "       [0., 0., 0., 0., 1., 0., 0., 0., 0., 0., 0.],\n",
       "       [0., 0., 0., 1., 0., 0., 0., 0., 0., 0., 0.],\n",
       "       [0., 0., 1., 0., 0., 0., 0., 0., 0., 0., 0.],\n",
       "       [0., 1., 0., 0., 0., 0., 0., 0., 0., 0., 0.],\n",
       "       [1., 0., 0., 0., 0., 0., 0., 0., 0., 0., 0.]])"
      ]
     },
     "execution_count": 78,
     "metadata": {},
     "output_type": "execute_result"
    }
   ],
   "source": [
    "a = np.zeros(N_omega)\n",
    "b = np.zeros(N_omega)\n",
    "a[-1] = 1\n",
    "scipy.linalg.hankel(a, b)"
   ]
  },
  {
   "cell_type": "code",
   "execution_count": 17,
   "metadata": {},
   "outputs": [],
   "source": [
    "np.save(\"fixed_pump_phased_propagators_with_unit_mat_N_omega_21.npy\", end_product)"
   ]
  },
  {
   "cell_type": "code",
   "execution_count": 68,
   "metadata": {},
   "outputs": [],
   "source": [
    "end_product = variable.value"
   ]
  },
  {
   "cell_type": "code",
   "execution_count": 21,
   "metadata": {},
   "outputs": [
    {
     "data": {
      "text/plain": [
       "[]"
      ]
     },
     "execution_count": 21,
     "metadata": {},
     "output_type": "execute_result"
    }
   ],
   "source": [
    "[np.trace(constraints_list[i]@end_product) for i in range(len(constraints_list)) if np.abs(np.trace(Y.conj().T@constraints_list[i]@Y)) > 5*10**-6]"
   ]
  },
  {
   "cell_type": "code",
   "execution_count": 69,
   "metadata": {},
   "outputs": [],
   "source": [
    "# Get elements of the optimized_result\n",
    "opt_unit = end_product[:N_omega, (2*N_z + 2)*N_omega:]\n",
    "opt_B_U_plus_dagger = end_product[:N_omega, (N_z)*N_omega:(N_z + 1)*N_omega]\n",
    "opt_U_plus_dagger_1 = end_product[N_z*N_omega:(N_z + 1)*N_omega, (2*N_z + 2)*N_omega:(2*N_z + 3)*N_omega]\n",
    "opt_U_plus_dagger_0 = end_product[(N_z - 1)*N_omega:(N_z)*N_omega, (2*N_z + 2)*N_omega:(2*N_z + 3)*N_omega]\n",
    "opt_U_minus_dagger_1 = end_product[2*N_z*N_omega:(2*N_z + 1)*N_omega, (2*N_z + 2)*N_omega:(2*N_z + 3)*N_omega]\n",
    "opt_U_minus_dagger_0 = end_product[(2*N_z - 1)*N_omega:(2*N_z)*N_omega, (2*N_z + 2)*N_omega:(2*N_z + 3)*N_omega]\n",
    "opt_beta = end_product[(2*N_z + 1)*N_omega:(2*N_z + 2)*N_omega, (2*N_z + 2)*N_omega:(2*N_z + 3)*N_omega]"
   ]
  },
  {
   "cell_type": "code",
   "execution_count": 71,
   "metadata": {},
   "outputs": [
    {
     "data": {
      "text/plain": [
       "<matplotlib.image.AxesImage at 0x7f84aae9fc50>"
      ]
     },
     "execution_count": 71,
     "metadata": {},
     "output_type": "execute_result"
    },
    {
     "data": {
      "image/png": "[encoded data removed]",
      "text/plain": [
       "<Figure size 480x480 with 1 Axes>"
      ]
     },
     "metadata": {},
     "output_type": "display_data"
    }
   ],
   "source": [
    "plt.matshow(np.real((n)*end_product[N_omega:2*N_omega, N_omega:2*N_omega] - np.eye(N_omega)))"
   ]
  },
  {
   "cell_type": "code",
   "execution_count": 23,
   "metadata": {},
   "outputs": [
    {
     "data": {
      "text/plain": [
       "array([[10739.11367631,  -625.22640062,  -533.08877664,  -538.61352474,\n",
       "         -584.89352577,  -568.23748115,  -621.54046267,  -636.00241342,\n",
       "         -607.94715146,  -661.50873298,  -681.12842448],\n",
       "       [ -625.22640062, 10677.34017173,  -548.87914215,  -656.9469783 ,\n",
       "         -547.14317552,  -491.79763669,  -688.81224541,  -657.92226611,\n",
       "         -661.74856632,  -573.32999039,  -699.92256607],\n",
       "       [ -533.08877664,  -548.87914215, 10813.22374266,  -641.03793489,\n",
       "         -701.44514995,  -600.28631166,  -581.57786509,  -557.75956546,\n",
       "         -618.50342262,  -609.96448558,  -646.61133747],\n",
       "       [ -538.61352474,  -656.9469783 ,  -641.03793489, 10795.16846176,\n",
       "         -686.41736512,  -614.97418376,  -558.55717916,  -519.20849979,\n",
       "         -635.25651208,  -591.2763408 ,  -610.31235862],\n",
       "       [ -584.89352577,  -547.14317552,  -701.44514995,  -686.41736512,\n",
       "        10782.11811541,  -560.50959718,  -590.70341969,  -610.77949141,\n",
       "         -671.37416457,  -581.43321152,  -471.1608713 ],\n",
       "       [ -568.23748115,  -491.79763669,  -600.28631166,  -614.97418376,\n",
       "         -560.50959718, 10766.20436706,  -672.64116955,  -496.12313691,\n",
       "         -658.38997424,  -522.49233707,  -605.33760196],\n",
       "       [ -621.54046267,  -688.81224541,  -581.57786509,  -558.55717916,\n",
       "         -590.70341969,  -672.64116955, 10794.64498387,  -552.65313831,\n",
       "         -583.19813913,  -695.69102119,  -625.86964903],\n",
       "       [ -636.00241342,  -657.92226611,  -557.75956546,  -519.20849979,\n",
       "         -610.77949141,  -496.12313691,  -552.65313831, 10948.24508897,\n",
       "         -608.34336926,  -673.06758129,  -575.5366055 ],\n",
       "       [ -607.94715146,  -661.74856632,  -618.50342262,  -635.25651208,\n",
       "         -671.37416457,  -658.38997424,  -583.19813913,  -608.34336926,\n",
       "        10629.45400284,  -662.30641273,  -602.42714695],\n",
       "       [ -661.50873298,  -573.32999039,  -609.96448558,  -591.2763408 ,\n",
       "         -581.43321152,  -522.49233707,  -695.69102119,  -673.06758129,\n",
       "         -662.30641273, 10759.44764292,  -602.59474093],\n",
       "       [ -681.12842448,  -699.92256607,  -646.61133747,  -610.31235862,\n",
       "         -471.1608713 ,  -605.33760196,  -625.86964903,  -575.5366055 ,\n",
       "         -602.42714695,  -602.59474093, 10873.72899743]])"
      ]
     },
     "execution_count": 23,
     "metadata": {},
     "output_type": "execute_result"
    }
   ],
   "source": [
    "# The block beta dagger beta is not the same as (Zbeta dagger)dagger (Zbeta)...\n",
    "(np.real(end_product[(2*N_z + 1)*N_omega:(2*N_z + 2)*N_omega, (2*N_z + 1)*N_omega:(2*N_z + 2)*N_omega]))"
   ]
  },
  {
   "cell_type": "code",
   "execution_count": 24,
   "metadata": {},
   "outputs": [
    {
     "data": {
      "text/plain": [
       "array([[1.90124806e+00, 2.08663248e+00, 1.72377371e+00, 1.10288331e+00,\n",
       "        5.59952853e-01, 2.29406225e-01, 7.65279398e-02, 2.08666918e-02,\n",
       "        4.65640824e-03, 8.50645239e-04, 1.27213296e-04],\n",
       "       [2.08663248e+00, 2.57156820e+00, 2.45451197e+00, 1.85910901e+00,\n",
       "        1.13625658e+00, 5.65469417e-01, 2.30017477e-01, 7.65733414e-02,\n",
       "        2.08689541e-02, 4.65648529e-03, 8.50643937e-04],\n",
       "       [1.72377371e+00, 2.45451197e+00, 2.77346474e+00, 2.52878555e+00,\n",
       "        1.87742464e+00, 1.13928413e+00, 5.65804872e-01, 2.30042386e-01,\n",
       "        7.65745640e-02, 2.08689520e-02, 4.65640518e-03],\n",
       "       [1.10288331e+00, 1.85910901e+00, 2.52878555e+00, 2.80078846e+00,\n",
       "        2.53552350e+00, 1.87853841e+00, 1.13940752e+00, 5.65813927e-01,\n",
       "        2.30042387e-01, 7.65733406e-02, 2.08666897e-02],\n",
       "       [5.59952853e-01, 1.13625658e+00, 1.87742464e+00, 2.53552350e+00,\n",
       "        2.80245002e+00, 2.53579811e+00, 1.87856847e+00, 1.13940752e+00,\n",
       "        5.65804877e-01, 2.30017479e-01, 7.65279397e-02],\n",
       "       [2.29406225e-01, 5.65469417e-01, 1.13928413e+00, 1.87853841e+00,\n",
       "        2.53579811e+00, 2.80249486e+00, 2.53579811e+00, 1.87853841e+00,\n",
       "        1.13928413e+00, 5.65469418e-01, 2.29406224e-01],\n",
       "       [7.65279398e-02, 2.30017477e-01, 5.65804872e-01, 1.13940752e+00,\n",
       "        1.87856847e+00, 2.53579811e+00, 2.80245001e+00, 2.53552350e+00,\n",
       "        1.87742464e+00, 1.13625658e+00, 5.59952852e-01],\n",
       "       [2.08666918e-02, 7.65733414e-02, 2.30042386e-01, 5.65813927e-01,\n",
       "        1.13940752e+00, 1.87853841e+00, 2.53552350e+00, 2.80078847e+00,\n",
       "        2.52878556e+00, 1.85910901e+00, 1.10288331e+00],\n",
       "       [4.65640824e-03, 2.08689541e-02, 7.65745640e-02, 2.30042387e-01,\n",
       "        5.65804877e-01, 1.13928413e+00, 1.87742464e+00, 2.52878556e+00,\n",
       "        2.77346475e+00, 2.45451197e+00, 1.72377371e+00],\n",
       "       [8.50645239e-04, 4.65648529e-03, 2.08689520e-02, 7.65733406e-02,\n",
       "        2.30017479e-01, 5.65469418e-01, 1.13625658e+00, 1.85910901e+00,\n",
       "        2.45451197e+00, 2.57156821e+00, 2.08663248e+00],\n",
       "       [1.27213296e-04, 8.50643937e-04, 4.65640518e-03, 2.08666897e-02,\n",
       "        7.65279397e-02, 2.29406224e-01, 5.59952852e-01, 1.10288331e+00,\n",
       "        1.72377371e+00, 2.08663248e+00, 1.90124806e+00]])"
      ]
     },
     "execution_count": 24,
     "metadata": {},
     "output_type": "execute_result"
    }
   ],
   "source": [
    "(np.real(opt_beta.conj().T@opt_beta))"
   ]
  },
  {
   "cell_type": "code",
   "execution_count": 73,
   "metadata": {},
   "outputs": [
    {
     "data": {
      "text/plain": [
       "<matplotlib.image.AxesImage at 0x7fe51cea3710>"
      ]
     },
     "execution_count": 73,
     "metadata": {},
     "output_type": "execute_result"
    },
    {
     "data": {
      "image/png": "[encoded data removed]",
      "text/plain": [
       "<Figure size 480x480 with 1 Axes>"
      ]
     },
     "metadata": {},
     "output_type": "display_data"
    }
   ],
   "source": [
    "# For free pump, constraints on Hankel form not implemented yet\n",
    "plt.matshow(np.real(opt_beta))"
   ]
  },
  {
   "cell_type": "code",
   "execution_count": 90,
   "metadata": {},
   "outputs": [
    {
     "data": {
      "text/plain": [
       "<matplotlib.image.AxesImage at 0x7fe51ca6ab90>"
      ]
     },
     "execution_count": 90,
     "metadata": {},
     "output_type": "execute_result"
    },
    {
     "data": {
      "image/png": "[encoded data removed]",
      "text/plain": [
       "<Figure size 480x480 with 1 Axes>"
      ]
     },
     "metadata": {},
     "output_type": "display_data"
    }
   ],
   "source": [
    "# It reads the exponential relation? When the pump is a diagonal matrix, it does\n",
    "# Diagonal elements of theoretical U_plus \n",
    "# Maximizes the negative of sum of Schimdt number?\n",
    "plt.matshow((np.real((1/np.sqrt(n))*scipy.linalg.expm((delta_k + opt_beta)*z[-1]))) - np.real((1/np.sqrt(n))*np.eye(N_omega)))"
   ]
  },
  {
   "cell_type": "code",
   "execution_count": 106,
   "metadata": {},
   "outputs": [
    {
     "data": {
      "text/plain": [
       "<matplotlib.image.AxesImage at 0x7fe51b826490>"
      ]
     },
     "execution_count": 106,
     "metadata": {},
     "output_type": "execute_result"
    },
    {
     "data": {
      "image/png": "[encoded data removed]",
      "text/plain": [
       "<Figure size 480x480 with 1 Axes>"
      ]
     },
     "metadata": {},
     "output_type": "display_data"
    }
   ],
   "source": [
    "plt.matshow(np.real(opt_U_plus_dagger_1) - np.real((0.0048/np.sqrt(n))*np.eye(N_omega)))"
   ]
  },
  {
   "cell_type": "code",
   "execution_count": 78,
   "metadata": {},
   "outputs": [
    {
     "data": {
      "text/plain": [
       "<matplotlib.image.AxesImage at 0x7fe51cfd5cd0>"
      ]
     },
     "execution_count": 78,
     "metadata": {},
     "output_type": "execute_result"
    },
    {
     "data": {
      "image/png": "[encoded data removed]",
      "text/plain": [
       "<Figure size 480x480 with 1 Axes>"
      ]
     },
     "metadata": {},
     "output_type": "display_data"
    }
   ],
   "source": [
    "# The B@B_dagger@U_plus from optimization\n",
    "plt.matshow(np.real(opt_unit@opt_U_plus_dagger_1))"
   ]
  },
  {
   "cell_type": "code",
   "execution_count": 4,
   "metadata": {},
   "outputs": [],
   "source": [
    "# Theoretical verification of Lippman-Schwinger\n",
    "proj = (projections[3*N_omega + 3])\n",
    "test_lin = 0.5*np.trace(proj.conj().T@W_plus[-1].conj().T + proj@W_plus[-1])\n",
    "green_f_list = api.get_green_f(omega, z)\n",
    "green_f_list.reverse()\n",
    "green_f_list[0] = 0.5*green_f_list[0]\n",
    "green_f_list[-1] = 0.5*green_f_list[-1]\n",
    "test_quad_normal = 0.5*delta_z*np.trace(sum([W_plus[i].conj().T@proj.conj().T@green_f_list[i].conj().T@beta for i in range(len(W_plus))]))\n",
    "test_quad_dagger = 0.5*delta_z*np.trace(sum([beta.conj().T@green_f_list[i]@proj@W_plus[i] for i in range(len(W_plus))]))\n",
    "test_quad = test_quad_normal + test_quad_dagger\n",
    "test_cst = (1/np.sqrt(n))*np.trace(proj.conj().T@green_f_list[0].conj().T@rand_unitary + green_f_list[0]@proj@rand_unitary.conj().T)"
   ]
  },
  {
   "cell_type": "code",
   "execution_count": 5,
   "metadata": {},
   "outputs": [
    {
     "data": {
      "text/plain": [
       "((-9.892482906639868+0j),\n",
       " (0.03195014668389923+0j),\n",
       " (-9.924432961011833+0j),\n",
       " (9.231193409675598e-08+0j))"
      ]
     },
     "execution_count": 5,
     "metadata": {},
     "output_type": "execute_result"
    }
   ],
   "source": [
    "test_lin, test_quad, test_cst, - test_lin + test_quad + test_cst"
   ]
  }
 ],
 "metadata": {
  "kernelspec": {
   "display_name": "cvxpy_opt",
   "language": "python",
   "name": "python3"
  },
  "language_info": {
   "codemirror_mode": {
    "name": "ipython",
    "version": 3
   },
   "file_extension": ".py",
   "mimetype": "text/x-python",
   "name": "python",
   "nbconvert_exporter": "python",
   "pygments_lexer": "ipython3",
   "version": "3.11.4"
  }
 },
 "nbformat": 4,
 "nbformat_minor": 2
}
