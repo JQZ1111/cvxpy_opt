{
 "cells": [
  {
   "cell_type": "code",
   "execution_count": 1,
   "metadata": {},
   "outputs": [],
   "source": [
    "import numpy as np\n",
    "import scipy.sparse as sparse\n",
    "import scipy\n",
    "import cvxpy as cp\n",
    "import matplotlib.pyplot as plt\n",
    "import dyn_on_U_dagger as api\n",
    "\n",
    "np.random.seed(0)"
   ]
  },
  {
   "cell_type": "code",
   "execution_count": 152,
   "metadata": {},
   "outputs": [],
   "source": [
    "# Initialize parameters and SDR constraint\n",
    "N_omega = 11\n",
    "omega = np.linspace(-2, 2, N_omega)\n",
    "N_z = 2\n",
    "z = np.linspace(0, 2*10**-3, N_z)\n",
    "delta_z = np.abs(z[1] - z[0])\n",
    "green_fs = api.get_green_f(omega,z)\n",
    "projection = np.zeros((N_omega, N_omega))\n",
    "projections = []\n",
    "sdr_def_constr = []\n",
    "sdr_cst = []\n",
    "for i in range(N_omega):\n",
    "    for j in range(N_omega):\n",
    "        proj_copy = projection.copy()\n",
    "        proj_copy[i, j] = 1\n",
    "        projections.append(sparse.csc_matrix(proj_copy))\n",
    "        sdr_def_constr.append(api.sdr_def_constr(N_omega, N_z, sparse.csc_matrix(proj_copy)))\n",
    "        if i == j:\n",
    "            sdr_cst.append(2.)\n",
    "        else:\n",
    "            sdr_cst.append(0.)"
   ]
  },
  {
   "cell_type": "code",
   "execution_count": 153,
   "metadata": {},
   "outputs": [],
   "source": [
    "beta_vec = np.random.random(2*N_omega - 1)#np.exp(-(np.linspace(omega[0], omega[-1], 2*N_omega - 1)**2)/0.2)#\n",
    "beta = scipy.linalg.hankel(beta_vec[:N_omega], beta_vec[N_omega - 1:])\n",
    "new_beta = beta/np.sqrt(np.trace(beta.conj().T@beta))\n",
    "beta_weight = 20\n",
    "delta_k = 1.j*np.diag(omega)\n",
    "Q_plus = delta_k + beta_weight*new_beta\n",
    "Q_minus = delta_k - beta_weight*new_beta\n",
    "W_plus = [scipy.linalg.expm(Q_plus*z[i]) for i in range(N_z)]\n",
    "W_minus = [scipy.linalg.expm(Q_minus*z[i]) for i in range(N_z)]\n",
    "J = 0.25*(W_plus[-1]@W_plus[-1].conj().T + W_minus[-1]@W_minus[-1].conj().T - 2*np.eye(N_omega))\n",
    "n = 0.25*np.trace((W_plus[-1] - W_minus[-1]).conj().T@(W_plus[-1] - W_minus[-1]))\n",
    "W, _, V = scipy.linalg.svd((0.5/np.sqrt(n))*(scipy.linalg.expm((delta_k + beta)*z[-1]) - scipy.linalg.expm((delta_k - beta)*z[-1])))\n",
    "rand_unitary = W@V\n",
    "W_plus = [(1/np.sqrt(n))*rand_unitary.conj().T@scipy.linalg.expm(Q_plus*z[i]) for i in range(N_z)]\n",
    "W_minus = [(1/np.sqrt(n))*rand_unitary.conj().T@scipy.linalg.expm(Q_minus*z[i]) for i in range(N_z)]\n",
    "X = np.vstack([rand_unitary] + W_plus + W_minus + [new_beta])\n",
    "Y = np.vstack([rand_unitary] + W_plus + W_minus + [new_beta, np.eye(N_omega)])\n",
    "full_rank = Y@Y.conj().T"
   ]
  },
  {
   "cell_type": "code",
   "execution_count": 154,
   "metadata": {},
   "outputs": [],
   "source": [
    "# Get dynamics constraints\n",
    "real_hermitian_obj_f_mat = []\n",
    "imag_hermitian_obj_f_mat = []\n",
    "dynamics_mat = []\n",
    "sympl_mat = []\n",
    "unit_mat = []\n",
    "pump_mat = []\n",
    "nbr_elements_rank_one = 200\n",
    "prev_photon_nbr = api.photon_nbr_prev_points(N_omega, N_z)\n",
    "photon_nbr_end = api.photon_nbr_constr(N_omega, N_z, n)\n",
    "B_U_and_U_ineq = api.ineq_U_and_B_U(N_omega, N_z)\n",
    "Q_list = api.gen_Q_mat(N_omega, 200) + api.gen_standard_Q_mat(N_omega)\n",
    "unitary_ineq = api.real_ineq_Q(N_omega, N_z, Q_list)\n",
    "imag_equal = api.imag_constr_tr_B_U(N_omega, N_z)\n",
    "hankel_constr = api.constr_hankel_sdr(N_omega, N_z)\n",
    "_, rank_one_mat = api.random_rank_one_mat(N_omega, nbr_elements_rank_one)\n",
    "real_semidef_obj_f, imag_semidef_obj_f = api.constr_semidefinite_obj_f(N_omega, N_z, rank_one_mat)\n",
    "for i in range(len(projections)):\n",
    "    real_hermitian_obj_f, imag_hermitian_obj_f = api.constr_obj_f_hermitian(N_omega, N_z, projections[i])\n",
    "    real_plus, imag_plus, real_minus, imag_minus = api.get_dynamics_sdr(omega, z, n, projections[i], beta_weight)\n",
    "    unitary_real, unitary_imag = api.unitary_constr(N_omega, N_z, projections[i])\n",
    "    sympl_real, sympl_imag = api.sympl_constr_sdr(N_omega, N_z, projections[i], n)\n",
    "    fix_beta_real, fix_beta_imag = api.sdr_fixed_pump(N_omega, N_z, new_beta, projections[i])\n",
    "    dynamics_mat += real_plus + imag_plus + real_minus + imag_minus\n",
    "    sympl_mat += sympl_real + sympl_imag\n",
    "    unit_mat += [unitary_real] + [unitary_imag]\n",
    "    pump_mat += [fix_beta_imag, fix_beta_real]\n",
    "    real_hermitian_obj_f_mat.append(real_hermitian_obj_f)\n",
    "    imag_hermitian_obj_f_mat.append(imag_hermitian_obj_f)\n",
    "constraints_list = dynamics_mat + sympl_mat  + [photon_nbr_end] + unit_mat + pump_mat + hankel_constr + real_hermitian_obj_f_mat + imag_hermitian_obj_f_mat# + imag_semidef_obj_f\n",
    "left_sdp, right_sdp, quad_sdp_plus, quad_sdp_minus = api.obj_f_sdr(N_omega, N_z)\n",
    "sdp_cst_term = (0.5/n)*np.eye(N_omega)\n",
    "constr_pump_power = api.limit_pump_power(N_omega, N_z)"
   ]
  },
  {
   "cell_type": "code",
   "execution_count": 156,
   "metadata": {},
   "outputs": [
    {
     "data": {
      "text/plain": [
       "[]"
      ]
     },
     "execution_count": 156,
     "metadata": {},
     "output_type": "execute_result"
    }
   ],
   "source": [
    "[(np.trace(Y.conj().T@constraints_list[i]@Y), i) for i in range(len(constraints_list)) if np.abs(np.trace(Y.conj().T@constraints_list[i]@Y)) > 10*10**-5]"
   ]
  },
  {
   "cell_type": "code",
   "execution_count": 157,
   "metadata": {},
   "outputs": [
    {
     "data": {
      "text/plain": [
       "[]"
      ]
     },
     "execution_count": 157,
     "metadata": {},
     "output_type": "execute_result"
    }
   ],
   "source": [
    "[np.trace(Y.conj().T@sdr_def_constr[i]@Y) - sdr_cst[i] for i in range(len(sdr_def_constr)) if np.abs(np.trace(Y.conj().T@sdr_def_constr[i]@Y) - sdr_cst[i]) > 10**-6]"
   ]
  },
  {
   "cell_type": "code",
   "execution_count": 158,
   "metadata": {},
   "outputs": [
    {
     "data": {
      "text/plain": [
       "(2.881210894867259e-13+0j)"
      ]
     },
     "execution_count": 158,
     "metadata": {},
     "output_type": "execute_result"
    }
   ],
   "source": [
    "np.trace(Y.conj().T@photon_nbr_end@Y)"
   ]
  },
  {
   "cell_type": "code",
   "execution_count": 159,
   "metadata": {},
   "outputs": [
    {
     "data": {
      "text/plain": [
       "[(1.0000000000001454+0j)]"
      ]
     },
     "execution_count": 159,
     "metadata": {},
     "output_type": "execute_result"
    }
   ],
   "source": [
    "[np.trace(Y.conj().T@prev_photon_nbr[i]@Y) for i in range(len(prev_photon_nbr))]"
   ]
  },
  {
   "cell_type": "code",
   "execution_count": 160,
   "metadata": {},
   "outputs": [
    {
     "data": {
      "text/plain": [
       "[]"
      ]
     },
     "execution_count": 160,
     "metadata": {},
     "output_type": "execute_result"
    }
   ],
   "source": [
    "[np.trace(Y.conj().T@unitary_ineq[i]@Y) for i in range(len(unitary_ineq)) if np.trace(Y.conj().T@unitary_ineq[i]@Y) < 0]"
   ]
  },
  {
   "cell_type": "code",
   "execution_count": 161,
   "metadata": {},
   "outputs": [
    {
     "data": {
      "text/plain": [
       "(-4.41450532812776e-15+0j)"
      ]
     },
     "execution_count": 161,
     "metadata": {},
     "output_type": "execute_result"
    }
   ],
   "source": [
    "np.trace(Y.conj().T@imag_equal@Y)"
   ]
  },
  {
   "cell_type": "code",
   "execution_count": 162,
   "metadata": {},
   "outputs": [],
   "source": [
    "# Objective function\n",
    "obj_f_mat = api.obj_f(N_omega, N_z)"
   ]
  },
  {
   "cell_type": "code",
   "execution_count": 184,
   "metadata": {},
   "outputs": [],
   "source": [
    "# Build cvxpy model\n",
    "variable = cp.Variable(shape=((2*N_z + 3)*N_omega,(2*N_z + 3)*N_omega), hermitian = True)\n",
    "constraints = [variable >> 0]\n",
    "# Constraint telling objective function block is PSD\n",
    "constraints += [0.5*left_sdp.conj().T@variable@right_sdp>>0] #- (quad_sdp_plus.conj().T@variable@quad_sdp_plus + quad_sdp_minus.conj().T@variable@quad_sdp_minus - sdp_cst_term) >> 0]\n",
    "constraints += [cp.real(cp.trace(constraints_list[i]@variable)) == 0 for i in range(len(constraints_list))]\n",
    "constraints += [cp.real(cp.trace(prev_photon_nbr[i]@variable)) >= 0 for i in range(len(prev_photon_nbr))]\n",
    "constraints += [cp.real(cp.trace(sdr_def_constr[i]@variable)) == sdr_cst[i] for i in range(len(sdr_def_constr))]\n",
    "constraints += [cp.real(cp.trace(unitary_ineq[i]@variable)) >= 0 for i in range(len(unitary_ineq))]\n",
    "\n",
    "\n",
    "# Constraint to make the matrix of objective function positive semidefinite\n",
    "#constraints += [cp.real(cp.trace(real_semidef_obj_f[i]@variable)) >= 0 for i in range(len(real_semidef_obj_f))]\n",
    "\n",
    "\n",
    "constraints.append(cp.real(cp.trace(photon_nbr_end@variable)) == 0)\n",
    "# This constraint make the bound better :D\n",
    "#constraints.append(cp.real(cp.trace(B_U_and_U_ineq@variable)) >= 0)\n",
    "# Constraint making imaginary part of trace of U_+ - U_- nothing\n",
    "#constraints.append(cp.real(cp.trace(imag_equal@variable)) == 0)\n",
    "# Constraint to limit the power of pump\n",
    "constraints.append(cp.real(cp.trace(constr_pump_power@variable)) == 0)\n",
    "problem = cp.Problem(cp.Minimize(cp.real(cp.trace(obj_f_mat@variable))), constraints)"
   ]
  },
  {
   "cell_type": "code",
   "execution_count": 185,
   "metadata": {},
   "outputs": [
    {
     "name": "stdout",
     "output_type": "stream",
     "text": [
      "===============================================================================\n",
      "                                     CVXPY                                     \n",
      "                                     v1.4.2                                    \n",
      "===============================================================================\n",
      "(CVXPY) Mar 27 05:44:33 PM: Your problem has 5929 variables, 2629 constraints, and 0 parameters.\n",
      "(CVXPY) Mar 27 05:44:33 PM: It is compliant with the following grammars: DCP, DQCP\n",
      "(CVXPY) Mar 27 05:44:33 PM: (If you need to solve this problem multiple times, but with different data, consider using parameters.)\n",
      "(CVXPY) Mar 27 05:44:33 PM: CVXPY will first compile your problem; then, it will invoke a numerical solver to obtain a solution.\n",
      "(CVXPY) Mar 27 05:44:33 PM: Your problem is compiled with the CPP canonicalization backend.\n",
      "-------------------------------------------------------------------------------\n",
      "                                  Compilation                                  \n",
      "-------------------------------------------------------------------------------\n",
      "(CVXPY) Mar 27 05:44:33 PM: Compiling problem (target solver=SCS).\n",
      "(CVXPY) Mar 27 05:44:33 PM: Reduction chain: Complex2Real -> Dcp2Cone -> CvxAttr2Constr -> ConeMatrixStuffing -> SCS\n",
      "(CVXPY) Mar 27 05:44:33 PM: Applying reduction Complex2Real\n",
      "(CVXPY) Mar 27 05:44:34 PM: Applying reduction Dcp2Cone\n",
      "(CVXPY) Mar 27 05:44:34 PM: Applying reduction CvxAttr2Constr\n",
      "(CVXPY) Mar 27 05:44:34 PM: Applying reduction ConeMatrixStuffing\n",
      "(CVXPY) Mar 27 05:44:39 PM: Applying reduction SCS\n",
      "(CVXPY) Mar 27 05:44:39 PM: Finished problem compilation (took 5.932e+00 seconds).\n",
      "-------------------------------------------------------------------------------\n",
      "                                Numerical solver                               \n",
      "-------------------------------------------------------------------------------\n",
      "(CVXPY) Mar 27 05:44:39 PM: Invoking solver SCS  to obtain a solution.\n",
      "------------------------------------------------------------------\n",
      "\t       SCS v3.2.4 - Splitting Conic Solver\n",
      "\t(c) Brendan O'Donoghue, Stanford University, 2012\n",
      "------------------------------------------------------------------\n",
      "problem:  variables n: 5929, constraints m: 14815\n",
      "cones: \t  z: primal zero / dual free vars: 2402\n",
      "\t  l: linear vars: 225\n",
      "\t  s: psd vars: 12188, ssize: 2\n",
      "settings: eps_abs: 1.0e-08, eps_rel: 1.0e-08, eps_infeas: 1.0e-10\n",
      "\t  alpha: 1.50, scale: 1.00e-01, adaptive_scale: 1\n",
      "\t  max_iters: 50000, normalize: 1, rho_x: 1.00e-06\n",
      "\t  acceleration_lookback: 10, acceleration_interval: 10\n",
      "lin-sys:  sparse-direct-amd-qdldl\n",
      "\t  nnz(A): 69980, nnz(P): 0\n",
      "------------------------------------------------------------------\n",
      " iter | pri res | dua res |   gap   |   obj   |  scale  | time (s)\n",
      "------------------------------------------------------------------\n",
      "     0| 3.00e+02  2.44e+01  6.24e+05  3.12e+05  1.00e-01  1.84e-02 \n",
      "   250| 3.21e-01  2.09e-03  4.31e-01 -2.08e-01  8.18e-03  1.17e+00 \n",
      "   500| 3.20e-01  1.49e-03  3.40e+00 -1.76e+00  7.38e-04  2.34e+00 \n",
      "   750| 3.09e-01  1.22e-04  7.59e-02 -4.72e-02  7.38e-04  4.15e+00 \n",
      "  1000| 6.29e-04  9.85e-07  4.15e-04 -2.06e-04  7.38e-04  5.33e+00 \n",
      "  1250| 6.60e-05  8.03e-08  2.70e-06 -3.25e-05  7.38e-04  6.47e+00 \n",
      "  1500| 1.53e-05  5.31e-08  1.59e-07  1.68e-06  7.38e-04  7.54e+00 \n",
      "  1750| 3.60e-04  5.23e-07  2.52e-06  5.68e-05  7.38e-04  8.20e+00 \n",
      "  2000| 1.17e-06  4.68e-08  2.77e-10 -8.06e-08  7.38e-04  8.89e+00 \n",
      "  2250| 1.41e-05  2.97e-08  4.92e-07 -5.82e-06  7.38e-04  9.53e+00 \n",
      "  2500| 5.21e-06  6.54e-09  1.03e-07 -1.22e-06  7.38e-04  1.02e+01 \n",
      "  2675| 1.79e-06  6.24e-09  1.48e-09 -2.03e-08  7.38e-04  1.07e+01 \n",
      "------------------------------------------------------------------\n",
      "status:  solved\n",
      "timings: total: 1.07e+01s = setup: 1.51e-02s + solve: 1.07e+01s\n",
      "\t lin-sys: 1.73e+00s, cones: 8.39e+00s, accel: 1.41e-01s\n",
      "------------------------------------------------------------------\n",
      "objective = -0.000000\n",
      "------------------------------------------------------------------\n",
      "-------------------------------------------------------------------------------\n",
      "                                    Summary                                    \n",
      "-------------------------------------------------------------------------------\n",
      "(CVXPY) Mar 27 05:44:50 PM: Problem status: optimal\n",
      "(CVXPY) Mar 27 05:44:50 PM: Optimal value: -2.099e-08\n",
      "(CVXPY) Mar 27 05:44:50 PM: Compilation took 5.932e+00 seconds\n",
      "(CVXPY) Mar 27 05:44:50 PM: Solver (including time spent in interface) took 1.068e+01 seconds\n"
     ]
    },
    {
     "data": {
      "text/plain": [
       "-2.0990001559778593e-08"
      ]
     },
     "execution_count": 185,
     "metadata": {},
     "output_type": "execute_result"
    }
   ],
   "source": [
    "problem.solve(solver = cp.SCS, verbose = True, max_iters = 5*10**4, eps_abs = 1.0e-08, eps_rel = 1.0e-08, eps_infeas = 1.0e-10)"
   ]
  },
  {
   "cell_type": "code",
   "execution_count": 186,
   "metadata": {},
   "outputs": [],
   "source": [
    "end_product = variable.value"
   ]
  },
  {
   "cell_type": "code",
   "execution_count": 188,
   "metadata": {},
   "outputs": [
    {
     "data": {
      "text/plain": [
       "[]"
      ]
     },
     "execution_count": 188,
     "metadata": {},
     "output_type": "execute_result"
    }
   ],
   "source": [
    "[np.trace(constraints_list[i]@end_product) for i in range(len(constraints_list)) if np.abs(np.trace(constraints_list[i]@end_product)) > 2*10**-6]"
   ]
  },
  {
   "cell_type": "code",
   "execution_count": 189,
   "metadata": {},
   "outputs": [],
   "source": [
    "# Get elements of the optimized_result\n",
    "opt_unit = end_product[:N_omega, (2*N_z + 2)*N_omega:]\n",
    "opt_U_plus_Z_dagger = end_product[N_z*N_omega:(N_z + 1)*N_omega,(2*N_z + 2)*N_omega:(2*N_z + 3)*N_omega]\n",
    "opt_U_minus_Z_dagger = end_product[2*N_z*N_omega:(2*N_z + 1)*N_omega,(2*N_z + 2)*N_omega:(2*N_z + 3)*N_omega]\n",
    "opt_beta_Z_dagger = end_product[(2*N_z + 1)*N_omega:(2*N_z + 2)*N_omega,(2*N_z + 2)*N_omega:(2*N_z + 3)*N_omega]\n",
    "opt_U_plus_U_plus_dagger = end_product[N_z*N_omega:(N_z + 1)*N_omega,N_z*N_omega:(N_z + 1)*N_omega]\n",
    "opt_U_minus_U_minus_dagger = end_product[2*N_z*N_omega:(2*N_z + 1)*N_omega,2*N_z*N_omega:(2*N_z + 1)*N_omega]"
   ]
  },
  {
   "cell_type": "code",
   "execution_count": 190,
   "metadata": {},
   "outputs": [
    {
     "data": {
      "text/plain": [
       "<matplotlib.image.AxesImage at 0x7fb329c33010>"
      ]
     },
     "execution_count": 190,
     "metadata": {},
     "output_type": "execute_result"
    },
    {
     "data": {
      "image/png": "[encoded data removed]",
      "text/plain": [
       "<Figure size 480x480 with 1 Axes>"
      ]
     },
     "metadata": {},
     "output_type": "display_data"
    },
    {
     "data": {
      "image/png": "[encoded data removed]",
      "text/plain": [
       "<Figure size 480x480 with 1 Axes>"
      ]
     },
     "metadata": {},
     "output_type": "display_data"
    }
   ],
   "source": [
    "plt.matshow(np.real(opt_U_plus_Z_dagger@opt_U_plus_Z_dagger.conj().T - np.diag(np.diag(opt_U_plus_Z_dagger@opt_U_plus_Z_dagger.conj().T))))\n",
    "plt.matshow(np.real(opt_U_plus_U_plus_dagger - np.diag(np.diag(opt_U_plus_U_plus_dagger))))"
   ]
  },
  {
   "cell_type": "code",
   "execution_count": 55,
   "metadata": {},
   "outputs": [
    {
     "data": {
      "text/plain": [
       "<matplotlib.image.AxesImage at 0x7f79b6b0b3d0>"
      ]
     },
     "execution_count": 55,
     "metadata": {},
     "output_type": "execute_result"
    },
    {
     "data": {
      "image/png": "[encoded data removed]",
      "text/plain": [
       "<Figure size 1200x800 with 2 Axes>"
      ]
     },
     "metadata": {},
     "output_type": "display_data"
    }
   ],
   "source": [
    "# Dont think it sees the lin vs quad very well\n",
    "fig, (ax1, ax2) = plt.subplots(ncols=2, figsize = (12, 8))\n",
    "ax1.set_title(r\"Multiplication of blocks representing $\\mathbf{U}_{+1}\\mathbf{Z}^\\dagger\\mathbf{Z}\\mathbf{U}_{+1}^\\dagger$ without diagonal\")\n",
    "ax1.set_xlabel('Frequency index')\n",
    "ax1.set_ylabel('Frequency index')\n",
    "ax1.matshow(np.real(opt_U_plus_dagger_1.conj().T@opt_U_plus_dagger_1 - np.diag(np.diag(opt_U_plus_dagger_1.conj().T@opt_U_plus_dagger_1))))\n",
    "ax2.set_title(r\"Block representing $\\mathbf{U}_{+1}\\mathbf{U}_{+1}^\\dagger$ without diagonal\")\n",
    "ax2.set_xlabel('Frequency index')\n",
    "ax2.set_ylabel('Frequency index')\n",
    "ax2.matshow(np.real(end_product[2*N_z*N_omega:(2*N_z + 1)*N_omega, 2*N_z*N_omega:(2*N_z + 1)*N_omega] - np.diag(np.diag(end_product[2*N_z*N_omega:(2*N_z + 1)*N_omega, 2*N_z*N_omega:(2*N_z + 1)*N_omega]))))"
   ]
  },
  {
   "cell_type": "code",
   "execution_count": 48,
   "metadata": {},
   "outputs": [],
   "source": [
    "U_plus = [scipy.linalg.expm((delta_k + beta)*i) for i in np.linspace(0, 2*10**-2, 10)]\n",
    "U_minus = [scipy.linalg.expm((delta_k - beta)*i) for i in np.linspace(0, 2*10**-2, 10)]\n",
    "green = api.get_green_f(omega, np.linspace(0, 2*(10**-2), 10))\n",
    "green.reverse()\n",
    "green[0] = 0.5*green[0]\n",
    "green[-1] = 0.5*green[-1]\n",
    "delta_z = np.abs(np.linspace(0, 2*10**-2, 10)[1] - np.linspace(0, 2*10**-2, 10)[0])\n",
    "test_norml = 2*green[0] - delta_z*sum([green[i]@beta@U_minus[i] for i in range(len(U_plus))]) - U_minus[-1]\n",
    "test_swapped = 2*green[0] - delta_z*sum([U_minus[i]@beta@green[i] for i in range(len(U_plus))]) - U_minus[-1]\n",
    "test_dagger = 2*green[0].conj().T - delta_z*sum([green[i].conj().T@beta@U_minus[i].conj().T for i in range(len(U_plus))]) - U_minus[-1].conj().T\n",
    "test_dagger_as_it_is = 2*green[0].conj().T - delta_z*sum([U_minus[i].conj().T@beta@green[i].conj().T for i in range(len(U_plus))]) - U_minus[-1].conj().T"
   ]
  },
  {
   "cell_type": "code",
   "execution_count": 34,
   "metadata": {},
   "outputs": [
    {
     "data": {
      "text/plain": [
       "(2.55767970136489e-07, 2.3508320190023596e-07)"
      ]
     },
     "execution_count": 34,
     "metadata": {},
     "output_type": "execute_result"
    }
   ],
   "source": [
    "np.max(np.abs(np.real(test_dagger))), np.max(np.abs(np.imag(test_dagger)))"
   ]
  },
  {
   "cell_type": "code",
   "execution_count": 22,
   "metadata": {},
   "outputs": [
    {
     "data": {
      "text/plain": [
       "array([0.        , 0.00222222, 0.00444444, 0.00666667, 0.00888889,\n",
       "       0.01111111, 0.01333333, 0.01555556, 0.01777778, 0.02      ])"
      ]
     },
     "execution_count": 22,
     "metadata": {},
     "output_type": "execute_result"
    }
   ],
   "source": [
    "np.linspace(0, 2*10**-2, 10)"
   ]
  },
  {
   "cell_type": "code",
   "execution_count": 21,
   "metadata": {},
   "outputs": [
    {
     "data": {
      "text/plain": [
       "<matplotlib.image.AxesImage at 0x7f4f07959290>"
      ]
     },
     "execution_count": 21,
     "metadata": {},
     "output_type": "execute_result"
    },
    {
     "data": {
      "image/png": "[encoded data removed]",
      "text/plain": [
       "<Figure size 480x480 with 1 Axes>"
      ]
     },
     "metadata": {},
     "output_type": "display_data"
    },
    {
     "data": {
      "image/png": "[encoded data removed]",
      "text/plain": [
       "<Figure size 480x480 with 1 Axes>"
      ]
     },
     "metadata": {},
     "output_type": "display_data"
    }
   ],
   "source": [
    "# When the positive semidefinite constraint not enforced. The linear and quadratic form dont follow each other...\n",
    "plt.matshow(np.real(opt_U_plus_dagger_1@opt_U_plus_dagger_1.conj().T - np.diag(np.diag(opt_U_plus_dagger_1@opt_U_plus_dagger_1.conj().T))))\n",
    "plt.matshow(np.real(end_product[2*N_omega:3*N_omega, 2*N_omega:3*N_omega] - np.diag(np.diag(end_product[2*N_omega:3*N_omega, 2*N_omega:3*N_omega]))))"
   ]
  },
  {
   "cell_type": "code",
   "execution_count": 30,
   "metadata": {},
   "outputs": [
    {
     "data": {
      "text/plain": [
       "<matplotlib.image.AxesImage at 0x7f8aff928c90>"
      ]
     },
     "execution_count": 30,
     "metadata": {},
     "output_type": "execute_result"
    },
    {
     "data": {
      "image/png": "[encoded data removed]",
      "text/plain": [
       "<Figure size 480x480 with 1 Axes>"
      ]
     },
     "metadata": {},
     "output_type": "display_data"
    }
   ],
   "source": [
    "plt.matshow(np.real(opt_B_U_plus_dagger.conj().T@opt_B_U_plus_dagger))"
   ]
  },
  {
   "cell_type": "code",
   "execution_count": 28,
   "metadata": {},
   "outputs": [
    {
     "data": {
      "text/plain": [
       "<matplotlib.image.AxesImage at 0x7f8aff4a8910>"
      ]
     },
     "execution_count": 28,
     "metadata": {},
     "output_type": "execute_result"
    },
    {
     "data": {
      "image/png": "[encoded data removed]",
      "text/plain": [
       "<Figure size 480x480 with 1 Axes>"
      ]
     },
     "metadata": {},
     "output_type": "display_data"
    },
    {
     "data": {
      "image/png": "[encoded data removed]",
      "text/plain": [
       "<Figure size 480x480 with 1 Axes>"
      ]
     },
     "metadata": {},
     "output_type": "display_data"
    }
   ],
   "source": [
    "# Check for if opt_U_plus_dagger_1 - opt_U_minus_dagger_1 is diagonalizable and B is unitary or not\n",
    "plt.matshow(np.real(opt_U_plus_dagger_1.conj().T@opt_U_plus_dagger_1 - np.diag(np.diag(opt_U_plus_dagger_1.conj().T@opt_U_plus_dagger_1))))\n",
    "plt.matshow(np.real(end_product[2*N_omega:3*N_omega, 2*N_omega:3*N_omega] - np.diag(np.diag(end_product[2*N_omega:3*N_omega, 2*N_omega:3*N_omega]))))"
   ]
  },
  {
   "cell_type": "code",
   "execution_count": 23,
   "metadata": {},
   "outputs": [
    {
     "data": {
      "text/plain": [
       "<matplotlib.image.AxesImage at 0x7f8affa50a50>"
      ]
     },
     "execution_count": 23,
     "metadata": {},
     "output_type": "execute_result"
    },
    {
     "data": {
      "image/png": "[encoded data removed]",
      "text/plain": [
       "<Figure size 480x480 with 1 Axes>"
      ]
     },
     "metadata": {},
     "output_type": "display_data"
    },
    {
     "data": {
      "image/png": "[encoded data removed]",
      "text/plain": [
       "<Figure size 480x480 with 1 Axes>"
      ]
     },
     "metadata": {},
     "output_type": "display_data"
    }
   ],
   "source": [
    "plt.matshow(np.real(0.25*(end_product[2*N_omega:3*N_omega, 2*N_omega:3*N_omega] + end_product[2*N_z*N_omega:(2*N_z + 1)*N_omega, 2*N_z*N_omega:(2*N_z + 1)*N_omega] - (2/n)*np.eye(N_omega))))\n",
    "plt.matshow(np.real(opt_U_plus_dagger_1 - opt_U_minus_dagger_1))"
   ]
  },
  {
   "cell_type": "code",
   "execution_count": 47,
   "metadata": {},
   "outputs": [
    {
     "data": {
      "text/plain": [
       "<matplotlib.image.AxesImage at 0x7fa5d27c3910>"
      ]
     },
     "execution_count": 47,
     "metadata": {},
     "output_type": "execute_result"
    },
    {
     "data": {
      "image/png": "[encoded data removed]",
      "text/plain": [
       "<Figure size 480x480 with 1 Axes>"
      ]
     },
     "metadata": {},
     "output_type": "display_data"
    },
    {
     "data": {
      "image/png": "[encoded data removed]",
      "text/plain": [
       "<Figure size 480x480 with 1 Axes>"
      ]
     },
     "metadata": {},
     "output_type": "display_data"
    }
   ],
   "source": [
    "plt.matshow(np.real(0.5*rand_unitary.conj().T@(W_plus[1] - W_minus[1])))\n",
    "plt.matshow(np.real(0.25*(W_plus[1] - W_minus[1])@(W_plus[1] - W_minus[1]).conj().T))"
   ]
  },
  {
   "cell_type": "code",
   "execution_count": 18,
   "metadata": {},
   "outputs": [
    {
     "data": {
      "text/plain": [
       "<matplotlib.image.AxesImage at 0x7fa5d4893650>"
      ]
     },
     "execution_count": 18,
     "metadata": {},
     "output_type": "execute_result"
    },
    {
     "data": {
      "image/png": "[encoded data removed]",
      "text/plain": [
       "<Figure size 480x480 with 1 Axes>"
      ]
     },
     "metadata": {},
     "output_type": "display_data"
    },
    {
     "data": {
      "image/png": "[encoded data removed]",
      "text/plain": [
       "<Figure size 480x480 with 1 Axes>"
      ]
     },
     "metadata": {},
     "output_type": "display_data"
    }
   ],
   "source": [
    "# Interesing. If obj f is 0, the tilde U_plus goes to 0...\n",
    "plt.matshow(np.real(end_product[N_z*N_omega:(N_z + 1)*N_omega, N_z*N_omega:(N_z + 1)*N_omega]))\n",
    "plt.matshow(np.real(opt_U_plus_dagger_1.conj().T@opt_U_plus_dagger_1))"
   ]
  },
  {
   "cell_type": "code",
   "execution_count": 19,
   "metadata": {},
   "outputs": [
    {
     "data": {
      "text/plain": [
       "array([[ 1.59696083e+01, -4.57064281e-02, -3.12719514e+00,\n",
       "        -2.67187641e+00,  1.50892676e+00,  1.02675400e+00,\n",
       "        -1.83075023e+00,  9.56244784e-02,  4.66848608e-01,\n",
       "        -2.95564803e+00, -1.23952867e+00],\n",
       "       [-2.98169190e-01,  1.26084640e+01, -3.56914599e+00,\n",
       "        -2.77133123e-01, -5.41449238e-01, -1.41344505e-01,\n",
       "        -1.68994016e+00,  2.17343085e-01, -3.91408601e-01,\n",
       "         1.63745424e+00, -1.52098177e-01],\n",
       "       [-3.22148225e+00, -3.67406859e+00,  1.41872836e+01,\n",
       "         1.02878572e-01, -1.51499278e+00, -7.60063432e-01,\n",
       "         1.18581311e+00, -1.16045559e+00, -1.20922893e+00,\n",
       "         4.36551193e-01,  2.88453122e+00],\n",
       "       [-2.67267656e+00, -3.02043710e-01,  5.27779702e-02,\n",
       "         1.02306694e+01, -1.20727545e+00,  3.09450393e-01,\n",
       "         1.02257760e+00, -4.28202548e-01,  9.19435720e-01,\n",
       "        -7.79153533e-01,  5.33718436e-02],\n",
       "       [ 1.52597232e+00, -4.65483010e-01, -1.53468556e+00,\n",
       "        -1.17750924e+00,  1.34520150e+01, -2.14875941e+00,\n",
       "        -1.51518371e+00, -1.54627710e+00, -5.43053690e-01,\n",
       "         2.51345856e+00, -1.00818435e+00],\n",
       "       [ 9.66895541e-01,  4.42429976e-02, -8.98346721e-01,\n",
       "         2.13293442e-01, -2.08415779e+00,  1.30427916e+01,\n",
       "        -4.29834942e+00, -1.63678726e+00, -3.88752294e-01,\n",
       "         9.67211871e-01,  1.20811460e+00],\n",
       "       [-1.89676054e+00, -1.72542636e+00,  1.05683954e+00,\n",
       "         1.07553846e+00, -1.41296548e+00, -4.31107901e+00,\n",
       "         8.74774898e+00, -2.38022507e+00,  1.14995089e+00,\n",
       "         2.69454160e+00,  4.70509200e+00],\n",
       "       [ 2.56502471e-01,  1.68502039e-01, -1.08986117e+00,\n",
       "        -5.35902830e-01, -1.53114360e+00, -1.61213779e+00,\n",
       "        -2.35041278e+00,  1.21956335e+01,  1.21331881e+00,\n",
       "         4.50259915e-01,  2.99946910e-01],\n",
       "       [ 4.93978707e-01, -5.20140567e-01, -1.02533516e+00,\n",
       "         9.46921378e-01, -7.47267096e-01, -5.34688236e-01,\n",
       "         1.00457860e+00,  1.37086159e+00,  1.32929202e+01,\n",
       "        -2.29457739e+00, -4.24683669e+00],\n",
       "       [-3.09411477e+00,  1.54760456e+00,  5.50679332e-01,\n",
       "        -7.90923112e-01,  2.38521326e+00,  9.71992331e-01,\n",
       "         2.75438670e+00,  4.24661334e-01, -2.48976525e+00,\n",
       "         9.09167260e+00, -3.66597926e+00],\n",
       "       [-1.30308398e+00, -2.46093751e-01,  2.88883685e+00,\n",
       "         9.75219017e-02, -1.06504162e+00,  1.39049537e+00,\n",
       "         4.83006291e+00,  4.97743884e-01, -4.41184280e+00,\n",
       "        -3.90726044e+00,  8.13354068e+00],\n",
       "       [ 6.24179390e+02, -1.39088782e-01,  2.37097784e-02,\n",
       "        -7.28457640e-02, -2.37060372e-01, -1.45527106e-01,\n",
       "         4.00825506e-03, -1.25111399e-01, -2.27103086e-01,\n",
       "        -8.37937771e-02, -1.51514253e-01],\n",
       "       [-1.39088782e-01,  6.24403810e+02, -6.81367405e-02,\n",
       "        -1.47485683e-01, -1.33357629e-01, -1.83478144e-01,\n",
       "        -1.28217278e-01, -1.42269003e-01, -1.04883658e-01,\n",
       "        -1.14396330e-01, -4.12467409e-02],\n",
       "       [ 2.37097784e-02, -6.81367405e-02,  6.24332425e+02,\n",
       "        -1.56758060e-01, -1.03111082e-01, -1.28995863e-01,\n",
       "        -2.28864431e-01, -1.39135685e-01, -5.89965554e-02,\n",
       "        -8.12453290e-02, -1.66509503e-01],\n",
       "       [-7.28457640e-02, -1.47485683e-01, -1.56758060e-01,\n",
       "         6.24430474e+02, -7.22140107e-02, -1.13542060e-01,\n",
       "        -1.11634915e-01, -1.01843466e-01, -1.68498267e-01,\n",
       "        -1.55628031e-01, -1.95380841e-01],\n",
       "       [-2.37060372e-01, -1.33357629e-01, -1.03111082e-01,\n",
       "        -7.22140107e-02,  6.24382694e+02, -1.32716049e-01,\n",
       "        -1.70525250e-01, -1.39607799e-01, -1.06572942e-01,\n",
       "        -8.91762646e-02, -3.05798241e-02],\n",
       "       [-1.45527106e-01, -1.83478144e-01, -1.28995863e-01,\n",
       "        -1.13542060e-01, -1.32716049e-01,  6.24347430e+02,\n",
       "        -1.85537155e-01, -1.50709674e-01, -4.47771980e-02,\n",
       "        -3.02662014e-02, -9.64493509e-03],\n",
       "       [ 4.00825506e-03, -1.28217278e-01, -2.28864431e-01,\n",
       "        -1.11634915e-01, -1.70525250e-01, -1.85537155e-01,\n",
       "         6.24196602e+02, -1.73885987e-01,  2.16601950e-02,\n",
       "         9.52151815e-02,  8.73693183e-02],\n",
       "       [-1.25111399e-01, -1.42269003e-01, -1.39135685e-01,\n",
       "        -1.01843466e-01, -1.39607799e-01, -1.50709674e-01,\n",
       "        -1.73885987e-01,  6.24353963e+02, -1.56529486e-01,\n",
       "        -4.48691834e-02,  1.06300846e-02],\n",
       "       [-2.27103086e-01, -1.04883658e-01, -5.89965554e-02,\n",
       "        -1.68498267e-01, -1.06572942e-01, -4.47771980e-02,\n",
       "         2.16601950e-02, -1.56529486e-01,  6.24339163e+02,\n",
       "        -1.89801687e-01, -1.67714585e-01],\n",
       "       [-8.37937771e-02, -1.14396330e-01, -8.12453290e-02,\n",
       "        -1.55628031e-01, -8.91762646e-02, -3.02662014e-02,\n",
       "         9.52151815e-02, -4.48691834e-02, -1.89801687e-01,\n",
       "         6.24300466e+02, -3.43200542e-01],\n",
       "       [-1.51514253e-01, -4.12467409e-02, -1.66509503e-01,\n",
       "        -1.95380841e-01, -3.05798241e-02, -9.64493509e-03,\n",
       "         8.73693183e-02,  1.06300846e-02, -1.67714585e-01,\n",
       "        -3.43200542e-01,  6.24125540e+02],\n",
       "       [ 6.22084371e+02,  9.65829600e-01,  1.18908864e+00,\n",
       "         7.41916467e-01,  4.59763326e-01,  8.52377485e-01,\n",
       "         8.86217355e-01,  1.09246271e+00,  1.19673501e+00,\n",
       "         7.32668961e-01,  1.18921412e+00],\n",
       "       [ 9.73806404e-01,  6.22596731e+02,  9.26020184e-01,\n",
       "         5.30801496e-01,  7.95887215e-01,  8.11619505e-01,\n",
       "         1.30323541e+00,  1.19932489e+00,  7.04719989e-01,\n",
       "         1.04402175e+00,  6.27322479e-01],\n",
       "       [ 1.19459563e+00,  9.20255601e-01,  6.22044439e+02,\n",
       "         4.48257611e-01,  6.49827643e-01,  1.22776918e+00,\n",
       "         1.29904268e+00,  8.03529344e-01,  1.32049701e+00,\n",
       "         7.67906567e-01,  6.29133231e-01],\n",
       "       [ 7.32543159e-01,  5.09048388e-01,  4.40009617e-01,\n",
       "         6.22240358e+02,  1.33272299e+00,  1.41401433e+00,\n",
       "         9.33932292e-01,  1.39422603e+00,  9.80487640e-01,\n",
       "         6.28195619e-01,  9.53098865e-01],\n",
       "       [ 4.77664875e-01,  8.00455878e-01,  6.45946256e-01,\n",
       "         1.37944733e+00,  6.22895098e+02,  6.57066248e-01,\n",
       "         1.15837471e+00,  9.21997843e-01,  7.43195916e-01,\n",
       "         1.06976131e+00,  3.10625269e-01],\n",
       "       [ 8.80595823e-01,  8.20151540e-01,  1.24568036e+00,\n",
       "         1.42737545e+00,  6.83215948e-01,  6.22477355e+02,\n",
       "         6.51464047e-01,  6.94711775e-01,  9.60495691e-01,\n",
       "         2.70712464e-01,  4.78579792e-01],\n",
       "       [ 9.18577440e-01,  1.32345069e+00,  1.33938706e+00,\n",
       "         9.92856794e-01,  1.17875109e+00,  6.58981350e-01,\n",
       "         6.21942419e+02,  7.93065074e-01, -1.96487972e-01,\n",
       "         3.47719050e-01,  4.35178012e-01],\n",
       "       [ 1.13456362e+00,  1.21845563e+00,  8.39348219e-01,\n",
       "         1.42439202e+00,  9.41091284e-01,  7.38627840e-01,\n",
       "         8.17233198e-01,  6.21574243e+02, -1.07079320e-01,\n",
       "         2.58822086e-01,  1.40043964e+00],\n",
       "       [ 1.20047512e+00,  7.02084026e-01,  1.33091214e+00,\n",
       "         9.95559165e-01,  7.26623359e-01,  1.01814819e+00,\n",
       "        -1.75191623e-01, -9.94920812e-02,  6.21572959e+02,\n",
       "         1.18896381e+00,  1.40103344e+00],\n",
       "       [ 7.26298747e-01,  1.00230103e+00,  7.43387927e-01,\n",
       "         6.34823214e-01,  1.01904108e+00,  2.57998861e-01,\n",
       "         3.19577774e-01,  2.72282388e-01,  1.25979117e+00,\n",
       "         6.22590873e+02,  9.85004584e-01],\n",
       "       [ 1.15119383e+00,  5.71643021e-01,  5.78567882e-01,\n",
       "         9.28428080e-01,  2.58143285e-01,  4.63044622e-01,\n",
       "         3.75563938e-01,  1.41278141e+00,  1.43544178e+00,\n",
       "         9.37572705e-01,  6.22402205e+02],\n",
       "       [ 6.24774978e+02, -2.88072196e-13, -2.60974495e-13,\n",
       "        -2.78979995e-13, -2.84841701e-13, -2.41423596e-13,\n",
       "        -2.30493077e-13, -2.43463103e-13, -2.58601286e-13,\n",
       "        -2.34762886e-13, -2.72082370e-13],\n",
       "       [-2.81322925e-13,  6.24774978e+02, -2.50319659e-13,\n",
       "        -2.54624487e-13, -2.53522967e-13, -2.38427956e-13,\n",
       "        -2.28968901e-13, -2.30114482e-13, -2.33248227e-13,\n",
       "        -2.10160801e-13, -2.78058139e-13],\n",
       "       [-2.49437810e-13, -2.39736236e-13,  6.24774978e+02,\n",
       "        -3.04532997e-13, -2.36913417e-13, -2.61582008e-13,\n",
       "        -2.30787482e-13, -2.50406100e-13, -2.35378095e-13,\n",
       "        -2.45020060e-13, -2.29692338e-13],\n",
       "       [-2.75000006e-13, -2.61533392e-13, -2.98978076e-13,\n",
       "         6.24774978e+02, -2.67445629e-13, -2.61145401e-13,\n",
       "        -2.29190464e-13, -2.64026545e-13, -2.40372696e-13,\n",
       "        -2.46007521e-13, -2.67942102e-13],\n",
       "       [-2.86502190e-13, -2.52573233e-13, -2.36511688e-13,\n",
       "        -2.82160715e-13,  6.24774978e+02, -2.33001371e-13,\n",
       "        -2.09109302e-13, -2.14875435e-13, -2.24138476e-13,\n",
       "        -2.12020782e-13, -2.51494183e-13],\n",
       "       [-2.42641571e-13, -2.43040403e-13, -2.58748724e-13,\n",
       "        -2.42641575e-13, -2.32178103e-13,  6.24774978e+02,\n",
       "        -1.87612558e-13, -2.12893503e-13, -2.11558590e-13,\n",
       "        -2.17497369e-13, -2.35225113e-13],\n",
       "       [-2.40248912e-13, -2.26619024e-13, -2.42744371e-13,\n",
       "        -2.32128056e-13, -1.96080180e-13, -1.81399353e-13,\n",
       "         6.24774978e+02, -1.82059493e-13, -1.90480001e-13,\n",
       "        -2.07475956e-13, -2.10971121e-13],\n",
       "       [-2.29421974e-13, -2.28623898e-13, -2.53075249e-13,\n",
       "        -2.55738648e-13, -2.31149848e-13, -2.03933163e-13,\n",
       "        -1.83781645e-13,  6.24774978e+02, -1.85846228e-13,\n",
       "        -2.03328711e-13, -2.32721504e-13],\n",
       "       [-2.61455779e-13, -2.35724973e-13, -2.39174496e-13,\n",
       "        -2.40050673e-13, -2.18495790e-13, -2.01496568e-13,\n",
       "        -1.90609187e-13, -1.97124005e-13,  6.24774978e+02,\n",
       "        -1.95831699e-13, -2.46657152e-13],\n",
       "       [-2.36240079e-13, -2.19638214e-13, -2.39878770e-13,\n",
       "        -2.33755161e-13, -2.11395146e-13, -1.95209077e-13,\n",
       "        -1.97804106e-13, -1.94390441e-13, -1.90832338e-13,\n",
       "         6.24774978e+02, -2.27182993e-13],\n",
       "       [-2.65685245e-13, -2.62967628e-13, -2.53176977e-13,\n",
       "        -2.62499345e-13, -2.46615604e-13, -2.39020434e-13,\n",
       "        -2.11046590e-13, -2.46701036e-13, -2.58487197e-13,\n",
       "        -2.29395625e-13,  6.24774978e+02],\n",
       "       [ 6.20861797e+02, -7.44031500e-01, -5.74963276e-02,\n",
       "        -4.32741251e-01, -2.85024931e-01, -5.91758981e-01,\n",
       "        -6.37102865e-02, -7.63085476e-01, -9.13074966e-01,\n",
       "        -1.01814583e-01, -3.36070548e-01],\n",
       "       [-7.42090780e-01,  6.21379391e+02, -3.90069403e-01,\n",
       "        -2.45306837e-01, -6.30617987e-01,  8.48430745e-02,\n",
       "        -4.99463841e-01, -5.95324343e-01, -3.12019344e-01,\n",
       "        -7.03317218e-01, -6.42756603e-01],\n",
       "       [-6.31776861e-02, -4.00222683e-01,  6.20972717e+02,\n",
       "        -8.57039832e-01, -8.62070847e-02, -5.72016702e-01,\n",
       "        -5.65662757e-01, -5.69031402e-03, -4.85172035e-01,\n",
       "        -5.10214647e-01, -6.08812275e-01],\n",
       "       [-4.46322990e-01, -2.84320740e-01, -8.83400405e-01,\n",
       "         6.20983806e+02, -7.44253174e-01, -6.65969265e-01,\n",
       "         8.71234954e-02, -3.55368380e-01,  1.50619843e-01,\n",
       "        -3.54394192e-01, -1.04504498e+00],\n",
       "       [-2.89342909e-01, -6.26182779e-01, -7.17771960e-02,\n",
       "        -7.25896524e-01,  6.20784952e+02, -4.07467826e-02,\n",
       "        -2.83265273e-01, -2.48115020e-01, -5.77267351e-01,\n",
       "        -1.02461858e+00, -4.76684515e-02],\n",
       "       [-6.04869233e-01,  9.06471000e-02, -5.48651501e-01,\n",
       "        -6.16849003e-01, -5.32914190e-02,  6.21027854e+02,\n",
       "        -3.21224957e-01, -4.88601078e-01, -1.23376545e+00,\n",
       "        -2.98742829e-02, -7.80449412e-02],\n",
       "       [-6.86517100e-02, -4.89774894e-01, -5.30619587e-01,\n",
       "         1.55576201e-01, -2.80124541e-01, -3.32566117e-01,\n",
       "         6.21199784e+02, -8.12458854e-01, -5.69268871e-01,\n",
       "        -4.30930502e-01, -2.12631016e-01],\n",
       "       [-7.27209942e-01, -5.70015584e-01,  2.18750371e-02,\n",
       "        -2.98476886e-01, -2.38690293e-01, -4.98910951e-01,\n",
       "        -8.37628447e-01,  6.21218679e+02, -3.32839031e-01,\n",
       "         1.89293266e-02, -4.99582135e-01],\n",
       "       [-8.87307998e-01, -3.31528223e-01, -5.12500610e-01,\n",
       "         1.46499240e-01, -5.62123433e-01, -1.27564997e+00,\n",
       "        -6.20292009e-01, -3.68658998e-01,  6.21862171e+02,\n",
       "        -3.41749639e-01,  2.62084701e-02],\n",
       "       [-1.08644591e-01, -7.18265011e-01, -5.27353014e-01,\n",
       "        -3.95422811e-01, -1.01684638e+00,  1.51905813e-02,\n",
       "        -4.50926469e-01, -2.19718037e-02, -3.95337404e-01,\n",
       "         6.21142293e+02, -3.36655981e-01],\n",
       "       [-3.49181973e-01, -6.81591754e-01, -6.49806796e-01,\n",
       "        -1.10633460e+00, -7.08789801e-02, -5.24891076e-02,\n",
       "        -2.44005381e-01, -5.19834942e-01, -6.37059239e-02,\n",
       "        -3.87362248e-01,  6.20796635e+02],\n",
       "       [ 1.84535544e+00,  8.78604303e-01,  1.11799081e+00,\n",
       "         1.14192920e+00,  4.56850718e-01,  1.02536572e+00,\n",
       "         8.24113847e-01,  6.18347418e-01,  3.38799049e-01,\n",
       "         7.20192360e-01,  1.16882968e+00],\n",
       "       [ 8.78947095e-01,  2.07141253e+00,  9.28036779e-01,\n",
       "         9.90895888e-01,  1.05789380e+00,  3.21592444e-01,\n",
       "         8.81679496e-01,  6.71678242e-01,  6.37849939e-01,\n",
       "         5.79260665e-01,  1.01126659e+00],\n",
       "       [ 1.11732296e+00,  9.26875497e-01,  1.93481102e+00,\n",
       "         8.85347000e-01,  9.32545011e-01,  1.00883195e+00,\n",
       "         1.40270003e-01,  9.47184856e-01,  7.19871759e-01,\n",
       "         6.00958892e-01,  5.83839714e-01],\n",
       "       [ 1.14081105e+00,  9.91581914e-01,  8.84989483e-01,\n",
       "         2.21513755e+00,  6.65302088e-01,  6.76825442e-01,\n",
       "         8.12519113e-01,  5.81537628e-01,  1.10231797e+00,\n",
       "         6.83662557e-01,  5.86213452e-01],\n",
       "       [ 4.56548059e-01,  1.05669882e+00,  9.34209914e-01,\n",
       "         6.64845330e-01,  2.42746773e+00,  7.04273134e-01,\n",
       "         6.85698715e-01,  4.64823703e-01,  5.06931928e-01,\n",
       "         1.14804235e+00,  7.01920172e-01],\n",
       "       [ 1.02556537e+00,  3.21054756e-01,  1.01113653e+00,\n",
       "         6.77528439e-01,  7.03784276e-01,  2.39095368e+00,\n",
       "         6.02688051e-01,  5.03137254e-01,  6.56221509e-01,\n",
       "         5.34528897e-01,  9.76457000e-01],\n",
       "       [ 8.24145983e-01,  8.82943013e-01,  1.38210844e-01,\n",
       "         8.12615741e-01,  6.84829385e-01,  6.01873206e-01,\n",
       "         1.97997725e+00,  5.61245232e-01,  7.48586352e-01,\n",
       "         7.03847335e-01,  6.84614632e-01],\n",
       "       [ 6.18369415e-01,  6.70540049e-01,  9.48181949e-01,\n",
       "         5.82444385e-01,  4.62343245e-01,  5.01510754e-01,\n",
       "         5.62583587e-01,  2.64638851e+00,  8.65295570e-01,\n",
       "         7.29197291e-01,  6.72686665e-01],\n",
       "       [ 3.38086847e-01,  6.37115993e-01,  7.19153320e-01,\n",
       "         1.10096811e+00,  5.06973724e-01,  6.55468084e-01,\n",
       "         7.46990931e-01,  8.65120114e-01,  2.51429407e+00,\n",
       "         4.98501339e-01,  4.89596393e-01],\n",
       "       [ 7.21243525e-01,  5.78944873e-01,  6.01355736e-01,\n",
       "         6.85553056e-01,  1.14755512e+00,  5.33830716e-01,\n",
       "         7.06082697e-01,  7.28986814e-01,  4.99878335e-01,\n",
       "         2.20414608e+00,  4.79292190e-01],\n",
       "       [ 1.16850122e+00,  1.01143280e+00,  5.84470732e-01,\n",
       "         5.85742593e-01,  7.01814168e-01,  9.76834704e-01,\n",
       "         6.85330627e-01,  6.72568222e-01,  4.90570734e-01,\n",
       "         4.78758299e-01,  2.22412319e+00],\n",
       "       [ 3.23508641e+00,  8.67570923e+00, -5.52654995e+00,\n",
       "        -3.90315579e+00, -2.19794878e+00,  5.47676033e+00,\n",
       "        -3.94525427e+00,  5.04984595e+00,  6.75622498e+00,\n",
       "        -1.15450985e+00, -8.39673883e-01],\n",
       "       [ 8.39302852e+00, -4.20780761e+00,  1.37068524e+00,\n",
       "        -6.86372570e+00,  2.83267636e+00, -6.03628154e+00,\n",
       "         7.28725553e+00,  4.33107664e+00,  1.14697999e+00,\n",
       "         3.31645745e+00,  1.15958200e+00],\n",
       "       [-5.89138941e+00,  1.38838968e+00,  2.12570084e+00,\n",
       "         2.46814992e-01, -6.16904654e+00,  5.93801217e+00,\n",
       "         7.76854218e+00, -3.39927585e+00,  3.41370949e+00,\n",
       "         4.67712957e+00,  2.61252394e+00],\n",
       "       [-3.69260346e+00, -6.82277394e+00, -5.83386010e-02,\n",
       "         1.69326434e+00,  7.44267380e+00,  5.11306252e+00,\n",
       "        -3.88706403e-01,  4.96493171e+00, -1.57408905e+00,\n",
       "        -2.05540294e+00,  7.29205142e+00],\n",
       "       [-1.94660286e+00,  2.92255983e+00, -6.11409514e+00,\n",
       "         7.36275533e+00,  5.63329194e+00,  8.07823490e-01,\n",
       "         1.41661466e-01,  1.00974380e+00,  1.29362376e-01,\n",
       "         7.00327170e+00, -6.03287387e+00],\n",
       "       [ 5.40375245e+00, -6.15424853e+00,  5.98202559e+00,\n",
       "         4.98308309e+00,  9.64334119e-01,  2.81384022e-01,\n",
       "        -2.10732164e-01, -9.12923539e-01,  7.53222896e+00,\n",
       "        -5.13406065e+00, -3.14442801e+00],\n",
       "       [-4.10711215e+00,  7.13370232e+00,  7.75425751e+00,\n",
       "        -1.67908100e-01,  4.55103294e-02, -3.92411603e-01,\n",
       "        -1.90408982e+00,  3.70857248e+00, -3.90749383e+00,\n",
       "         7.83073474e-01, -2.76408978e-01],\n",
       "       [ 5.11117641e+00,  4.38151311e+00, -3.54539531e+00,\n",
       "         4.88843291e+00,  9.98851199e-01, -1.07766157e+00,\n",
       "         3.62532054e+00, -2.69249201e+00, -3.52835095e+00,\n",
       "        -5.26481398e+00,  5.82040044e+00],\n",
       "       [ 6.76424993e+00,  1.13154522e+00,  3.58966972e+00,\n",
       "        -1.54703984e+00,  2.58475169e-02,  7.41865548e+00,\n",
       "        -4.16454911e+00, -3.81531628e+00, -4.15822947e+00,\n",
       "         5.06888579e+00, -1.17473555e+00],\n",
       "       [-1.18259009e+00,  3.17447373e+00,  4.71953010e+00,\n",
       "        -2.02928292e+00,  7.06911001e+00, -4.91580760e+00,\n",
       "         7.93932541e-01, -5.32534795e+00,  4.69612715e+00,\n",
       "         7.95812138e-01,  1.71419229e+00],\n",
       "       [-6.40355643e-01,  1.02882762e+00,  2.54430295e+00,\n",
       "         7.30561189e+00, -5.73548123e+00, -3.00231379e+00,\n",
       "        -3.09007983e-01,  5.75488831e+00, -1.46184413e+00,\n",
       "         1.54353442e+00,  3.06489382e+00]])"
      ]
     },
     "execution_count": 19,
     "metadata": {},
     "output_type": "execute_result"
    }
   ],
   "source": [
    "(np.real(end_product[:,N_omega:2*N_omega]))"
   ]
  },
  {
   "cell_type": "code",
   "execution_count": 20,
   "metadata": {},
   "outputs": [
    {
     "data": {
      "text/plain": [
       "<matplotlib.image.AxesImage at 0x7fa5d572c410>"
      ]
     },
     "execution_count": 20,
     "metadata": {},
     "output_type": "execute_result"
    },
    {
     "data": {
      "image/png": "[encoded data removed]",
      "text/plain": [
       "<Figure size 400x1600 with 1 Axes>"
      ]
     },
     "metadata": {},
     "output_type": "display_data"
    }
   ],
   "source": [
    "plt.matshow(np.real(end_product[N_z*N_omega:,(2*N_z + 1)*N_omega:(2*N_z + 2)*N_omega]))"
   ]
  },
  {
   "cell_type": "code",
   "execution_count": 21,
   "metadata": {},
   "outputs": [
    {
     "data": {
      "text/plain": [
       "array([[ 1.59696083e+01+1.26982988e-01j, -4.57064281e-02-2.91564900e-02j,\n",
       "        -3.12719514e+00+6.99766805e-02j, -2.67187641e+00+2.29836812e-03j,\n",
       "         1.50892676e+00-2.00732836e-01j,  1.02675400e+00-1.16610582e-03j,\n",
       "        -1.83075023e+00+1.30286393e-02j,  9.56244784e-02-3.98903790e-02j,\n",
       "         4.66848608e-01-1.08962676e-01j, -2.95564803e+00+4.67048686e-02j,\n",
       "        -1.23952867e+00-3.59134684e-01j,  1.60032507e+01+9.06083139e-02j,\n",
       "         2.44865055e-02+1.03062113e-02j, -3.07359968e+00+7.63414484e-02j,\n",
       "        -2.66086302e+00-4.82138914e-03j,  1.56876061e+00-1.72417792e-01j,\n",
       "         1.11324172e+00-3.21603231e-02j, -1.79237253e+00+5.62267900e-02j,\n",
       "         1.79455617e-01-3.01023137e-02j,  5.58307932e-01-7.78218862e-02j,\n",
       "        -2.96735975e+00+4.11780500e-02j, -1.17865864e+00-3.88404353e-01j,\n",
       "         1.61182039e+01+1.11741348e-01j,  2.18382731e-02-2.00625900e-02j,\n",
       "        -3.05020105e+00+9.15841275e-02j, -2.57345383e+00+8.25417700e-03j,\n",
       "         1.55634415e+00-2.15782312e-01j,  1.08361057e+00-6.62273356e-03j,\n",
       "        -1.76021943e+00+2.25614456e-02j,  1.64737030e-01-4.80597862e-02j,\n",
       "         5.32902659e-01-1.25682131e-01j, -2.87215581e+00+6.99424698e-02j,\n",
       "        -1.20814834e+00-3.62727558e-01j,  1.59754500e+01+1.00211075e-01j,\n",
       "        -3.02974041e-02+1.16646956e-02j, -3.10960477e+00+1.02287142e-01j,\n",
       "        -2.64454133e+00-6.52267638e-03j,  1.59542640e+00-1.80740193e-01j,\n",
       "         1.01961985e+00-1.79757499e-02j, -1.81544153e+00+3.17417723e-02j,\n",
       "         5.67310252e-02-2.75208131e-02j,  4.47821036e-01-1.00069562e-01j,\n",
       "        -2.90902582e+00+5.13746282e-02j, -1.29702885e+00-3.91154276e-01j,\n",
       "         7.44242394e-02+1.03341390e-03j,  3.59975982e-02+9.12652340e-04j,\n",
       "         4.55634006e-02+5.16323414e-04j,  4.53577393e-02+1.10570519e-03j,\n",
       "         1.85119290e-02-1.35966493e-04j,  4.23518397e-02-4.11033119e-04j,\n",
       "         3.51808610e-02+7.05487405e-04j,  2.54880915e-02+8.99682333e-04j,\n",
       "         1.40036260e-02-6.55748665e-04j,  2.84265585e-02+3.64049673e-04j,\n",
       "         4.63307044e-02-9.81671535e-05j,  1.29426525e-01-3.53799545e-03j,\n",
       "         3.47090232e-01+1.76083808e-03j, -2.21101406e-01-3.36880762e-03j,\n",
       "        -1.56154064e-01-6.08790403e-03j, -8.79336242e-02+4.27812153e-03j,\n",
       "         2.19109466e-01-1.30130527e-03j, -1.57838303e-01+5.34394891e-03j,\n",
       "         2.02029846e-01+5.56664893e-03j,  2.70297175e-01+5.71450137e-04j,\n",
       "        -4.61886264e-02-5.92305861e-03j, -3.35929430e-02+8.65508044e-03j],\n",
       "       [-2.98169190e-01-5.26038766e-02j,  1.26084640e+01-2.14112667e-01j,\n",
       "        -3.56914599e+00-9.73226883e-02j, -2.77133123e-01+9.84213913e-02j,\n",
       "        -5.41449238e-01-1.32477785e-01j, -1.41344505e-01-1.99742443e-01j,\n",
       "        -1.68994016e+00-4.51007966e-01j,  2.17343085e-01-2.65739967e-01j,\n",
       "        -3.91408601e-01-6.91037497e-02j,  1.63745424e+00+1.52147562e-01j,\n",
       "        -1.52098177e-01+4.17691831e-02j, -2.27344764e-01-2.49239519e-02j,\n",
       "         1.26145624e+01-2.62071953e-01j, -3.55870014e+00-1.03596588e-01j,\n",
       "        -2.58669590e-01+1.08222723e-01j, -5.23652461e-01-1.85233266e-01j,\n",
       "        -7.72202343e-02-1.49177491e-01j, -1.65268164e+00-4.95973237e-01j,\n",
       "         3.16554982e-01-2.69017024e-01j, -3.76204795e-01-2.07343397e-02j,\n",
       "         1.81914551e+00+1.78529133e-01j, -9.55679929e-02+3.87660751e-02j,\n",
       "        -2.57859674e-01-6.89904960e-02j,  1.28384003e+01-2.55465320e-01j,\n",
       "        -3.48567811e+00-1.31622448e-01j, -1.97378605e-01+8.21964592e-02j,\n",
       "        -5.26290991e-01-1.44369723e-01j, -5.19466908e-02-1.92899566e-01j,\n",
       "        -1.67994977e+00-4.14635444e-01j,  2.57223893e-01-2.68203372e-01j,\n",
       "        -3.24407235e-01-7.42659045e-02j,  1.68011246e+00+1.63367812e-01j,\n",
       "        -9.54976177e-02+3.46355797e-02j, -2.92985025e-01-4.20464049e-02j,\n",
       "         1.25993349e+01-2.49998381e-01j, -3.54513524e+00-1.40714188e-01j,\n",
       "        -2.02864390e-01+1.04363527e-01j, -5.59067053e-01-1.59632895e-01j,\n",
       "        -6.74190872e-02-1.74082928e-01j, -1.76974364e+00-4.75574526e-01j,\n",
       "         1.49668514e-01-2.77016489e-01j, -3.15530160e-01-2.27247410e-02j,\n",
       "         1.65923252e+00+1.79762949e-01j, -1.56246451e-01+4.48837411e-02j,\n",
       "         3.54064583e-02-2.00287259e-04j,  8.30734821e-02+5.62776869e-04j,\n",
       "         3.79211204e-02-5.38119150e-04j,  4.01114395e-02+7.38835336e-05j,\n",
       "         4.24953024e-02+5.41248758e-05j,  1.23396022e-02-9.58885571e-04j,\n",
       "         3.47123204e-02+1.79953666e-04j,  2.67156790e-02+1.28515487e-04j,\n",
       "         2.53605505e-02+1.22488654e-04j,  2.33527256e-02-2.70033204e-04j,\n",
       "         4.02208113e-02+6.31517410e-04j,  3.35780988e-01+7.55465259e-05j,\n",
       "        -1.68342309e-01+6.82826467e-04j,  5.48371833e-02-2.94556109e-03j,\n",
       "        -2.74597971e-01+1.90873884e-03j,  1.13327253e-01-3.74544980e-04j,\n",
       "        -2.41494304e-01-3.29224960e-03j,  2.91542184e-01-5.34605223e-04j,\n",
       "         1.73273948e-01+5.77660475e-03j,  4.58873782e-02-7.71538844e-03j,\n",
       "         1.32681946e-01+2.85076363e-03j,  4.63915482e-02+3.10377204e-03j],\n",
       "       [-3.22148225e+00-2.03561184e-01j, -3.67406859e+00-2.07340586e-01j,\n",
       "         1.41872836e+01-3.37356649e-02j,  1.02878572e-01-2.43527929e-01j,\n",
       "        -1.51499278e+00-6.65774771e-02j, -7.60063432e-01-1.12420988e-01j,\n",
       "         1.18581311e+00-4.17352003e-01j, -1.16045559e+00-1.48588100e-01j,\n",
       "        -1.20922893e+00+1.62445842e-01j,  4.36551193e-01+2.81643871e-01j,\n",
       "         2.88453122e+00+4.41335173e-01j, -3.17454824e+00-2.00977582e-01j,\n",
       "        -3.66616151e+00-2.68660141e-01j,  1.41638890e+01-7.79308582e-02j,\n",
       "         1.65690630e-01-2.49924631e-01j, -1.50942774e+00-6.36147942e-02j,\n",
       "        -6.71272175e-01-9.76677381e-02j,  1.28846331e+00-3.96545896e-01j,\n",
       "        -1.12876724e+00-1.61924573e-01j, -1.11442263e+00+1.88623042e-01j,\n",
       "         5.13711024e-01+2.93010233e-01j,  2.97052932e+00+4.70457429e-01j,\n",
       "        -3.14630342e+00-2.14609944e-01j, -3.59043974e+00-1.99267695e-01j,\n",
       "         1.43482812e+01-5.07793627e-02j,  1.71812260e-01-2.39777050e-01j,\n",
       "        -1.43055612e+00-5.58529346e-02j, -7.10747445e-01-1.24711631e-01j,\n",
       "         1.19278510e+00-3.97689276e-01j, -1.09077574e+00-1.75217511e-01j,\n",
       "        -1.15735352e+00+1.75181734e-01j,  4.89063487e-01+2.56497120e-01j,\n",
       "         2.92998269e+00+4.49055810e-01j, -3.20197581e+00-2.20439533e-01j,\n",
       "        -3.64699722e+00-2.39319193e-01j,  1.42130569e+01-9.96605800e-02j,\n",
       "         1.13463920e-01-2.41122403e-01j, -1.48192775e+00-2.28486871e-02j,\n",
       "        -8.11587165e-01-1.36026961e-01j,  1.14305061e+00-3.79618722e-01j,\n",
       "        -1.08575911e+00-1.90344887e-01j, -1.25139580e+00+1.92992544e-01j,\n",
       "         4.72033729e-01+2.67624471e-01j,  2.92261054e+00+4.91399173e-01j,\n",
       "         4.43449849e-02+7.62244365e-05j,  3.66365164e-02+7.30835630e-04j,\n",
       "         7.66561703e-02-8.64785711e-05j,  3.49466438e-02-6.05358569e-04j,\n",
       "         3.74496792e-02+3.55356455e-04j,  4.01228387e-02-4.05019544e-05j,\n",
       "         5.72619087e-03+4.30544238e-04j,  3.76175371e-02+8.73170643e-04j,\n",
       "         2.74987383e-02+2.06006672e-04j,  2.33741865e-02+1.40685387e-04j,\n",
       "         2.34435060e-02+1.31911454e-03j, -2.35697586e-01+5.66378567e-03j,\n",
       "         5.55454871e-02+5.13448235e-03j,  8.50431911e-02+1.11495467e-03j,\n",
       "         9.87435943e-03+2.90275932e-03j, -2.46805851e-01-5.73393471e-03j,\n",
       "         2.37562828e-01-7.55310455e-03j,  3.10797081e-01+1.60434582e-03j,\n",
       "        -1.35995273e-01+1.66405123e-03j,  1.36572721e-01-4.04240406e-03j,\n",
       "         1.87118533e-01+2.57661009e-03j,  1.04519586e-01-5.39750416e-04j],\n",
       "       [-2.67267656e+00+3.07466647e-02j, -3.02043710e-01-1.51753377e-01j,\n",
       "         5.27779702e-02+1.04673596e-01j,  1.02306694e+01-8.56558831e-02j,\n",
       "        -1.20727545e+00+2.03267088e-02j,  3.09450393e-01-9.66467140e-02j,\n",
       "         1.02257760e+00+3.13489341e-01j, -4.28202548e-01+1.25263530e-01j,\n",
       "         9.19435720e-01-2.46063677e-02j, -7.79153533e-01-3.58282300e-01j,\n",
       "         5.33718436e-02+9.09197288e-03j, -2.65140721e+00-3.41223967e-02j,\n",
       "        -2.91351054e-01-1.48871447e-01j,  1.12092613e-01+1.37973851e-01j,\n",
       "         1.02392933e+01-1.07731171e-01j, -1.10989111e+00+5.28872776e-02j,\n",
       "         4.37478181e-01-8.49043527e-02j,  1.06912314e+00+3.08647826e-01j,\n",
       "        -3.16822251e-01+7.57221030e-02j,  9.42494239e-01-2.32601743e-02j,\n",
       "        -7.22560791e-01-3.80421031e-01j,  1.18704216e-01-4.14783273e-02j,\n",
       "        -2.52831016e+00+7.39311215e-03j, -2.54256775e-01-1.87613460e-01j,\n",
       "         1.48649773e-01+1.46479018e-01j,  1.04165983e+01-1.02890171e-01j,\n",
       "        -1.16285518e+00+4.94100210e-04j,  3.32470849e-01-9.37015897e-02j,\n",
       "         1.08620753e+00+2.98675006e-01j, -3.50570339e-01+1.12724229e-01j,\n",
       "         9.71196206e-01-5.33575851e-02j, -6.82557298e-01-3.39395951e-01j,\n",
       "         6.28064343e-02-1.47152781e-02j, -2.62828956e+00-1.12028968e-02j,\n",
       "        -2.37937963e-01-1.61115243e-01j,  8.13394554e-02+1.73712505e-01j,\n",
       "         1.03196489e+01-1.18355250e-01j, -1.23131093e+00+5.65946306e-02j,\n",
       "         2.67307993e-01-8.25285181e-02j,  1.05888050e+00+2.88919643e-01j,\n",
       "        -4.36224724e-01+1.05979501e-01j,  8.95802994e-01-4.23434378e-02j,\n",
       "        -7.75626904e-01-3.65775839e-01j,  9.39369938e-03-3.99505838e-02j,\n",
       "         4.56947153e-02+2.54888182e-04j,  3.93964197e-02-1.76112554e-04j,\n",
       "         3.51169977e-02+1.34541763e-03j,  8.89622919e-02+7.03306837e-04j,\n",
       "         2.62261044e-02+1.30640428e-03j,  2.66251225e-02+2.10676319e-03j,\n",
       "         3.19994564e-02+2.72194182e-04j,  2.33745894e-02-1.26469557e-04j,\n",
       "         4.46123663e-02+1.26432918e-03j,  2.72193868e-02+5.52165156e-04j,\n",
       "         2.36302901e-02-5.20122191e-04j, -1.47730469e-01-1.38521978e-03j,\n",
       "        -2.72959608e-01-5.11217498e-03j, -2.33396019e-03+5.72648500e-03j,\n",
       "         6.77426476e-02+3.75838747e-03j,  2.97760023e-01+2.82923178e-03j,\n",
       "         2.04558960e-01+9.80827684e-03j, -1.55510280e-02-2.11029259e-04j,\n",
       "         1.98632671e-01-8.29443926e-03j, -6.29747862e-02+6.43872530e-03j,\n",
       "        -8.22307738e-02+2.55759463e-03j,  2.91734053e-01-8.20041829e-03j],\n",
       "       [ 1.52597232e+00+2.73923273e-01j, -4.65483010e-01-7.58721368e-02j,\n",
       "        -1.53468556e+00-9.79081003e-02j, -1.17750924e+00-5.72497422e-02j,\n",
       "         1.34520150e+01-1.32092578e-01j, -2.14875941e+00-4.69122009e-01j,\n",
       "        -1.51518371e+00-5.26306962e-01j, -1.54627710e+00-3.37193466e-01j,\n",
       "        -5.43053690e-01+1.63856611e-01j,  2.51345856e+00+5.42631980e-01j,\n",
       "        -1.00818435e+00+3.38169278e-01j,  1.59650119e+00+3.34025510e-01j,\n",
       "        -4.54196997e-01-1.03072002e-01j, -1.52600553e+00-1.18998753e-01j,\n",
       "        -1.07998420e+00-3.64484489e-02j,  1.35261523e+01-1.62654404e-01j,\n",
       "        -2.17079010e+00-4.96481930e-01j, -1.44740793e+00-5.61292037e-01j,\n",
       "        -1.51829885e+00-2.75053457e-01j, -5.06465675e-01+1.39800888e-01j,\n",
       "         2.68598576e+00+5.59339457e-01j, -9.60917050e-01+3.88927723e-01j,\n",
       "         1.59748939e+00+2.91793869e-01j, -4.40534077e-01-6.44422183e-02j,\n",
       "        -1.47411092e+00-8.08391702e-02j, -1.13064310e+00-5.42000880e-02j,\n",
       "         1.36497781e+01-1.21454176e-01j, -2.10280541e+00-4.75495954e-01j,\n",
       "        -1.45298451e+00-5.37243637e-01j, -1.46941921e+00-3.36592247e-01j,\n",
       "        -4.90488218e-01+1.79718723e-01j,  2.53459202e+00+5.08983906e-01j,\n",
       "        -9.03828213e-01+3.37020214e-01j,  1.59845811e+00+3.36617642e-01j,\n",
       "        -4.72715403e-01-1.07705796e-01j, -1.51644840e+00-1.08595346e-01j,\n",
       "        -1.19062155e+00-2.47293212e-02j,  1.33580204e+01-1.64606665e-01j,\n",
       "        -2.15077265e+00-4.88180806e-01j, -1.53645026e+00-5.67593227e-01j,\n",
       "        -1.47132332e+00-2.76379613e-01j, -5.25541555e-01+1.44071338e-01j,\n",
       "         2.45470332e+00+5.42291298e-01j, -8.48499829e-01+3.87704786e-01j,\n",
       "         1.81749383e-02+6.64218086e-04j,  4.28148141e-02-8.91693850e-05j,\n",
       "         3.73531915e-02+5.11261993e-04j,  2.55670605e-02+1.29480932e-03j,\n",
       "         9.77415545e-02+5.04956422e-04j,  2.91154049e-02+2.88523884e-04j,\n",
       "         2.84622826e-02-5.07608583e-04j,  1.86597878e-02-6.25099871e-04j,\n",
       "         1.94787640e-02+1.58742993e-03j,  4.54961503e-02+1.98200713e-03j,\n",
       "         2.77050368e-02+6.89901112e-04j, -7.78779947e-02-1.82531974e-03j,\n",
       "         1.16923233e-01-1.97205293e-03j, -2.44607403e-01+2.49116920e-03j,\n",
       "         2.94562714e-01-3.26953034e-03j,  2.25371846e-01+5.01490266e-03j,\n",
       "         3.23186998e-02+4.62549213e-03j,  5.66746862e-03-7.56079107e-03j,\n",
       "         4.03969520e-02-5.86510359e-03j,  5.17541742e-03+6.59439586e-03j,\n",
       "         2.80180806e-01+6.51361063e-03j, -2.41357973e-01+2.54155873e-03j],\n",
       "       [ 9.66895541e-01+2.63400477e-03j,  4.42429976e-02-2.88231288e-01j,\n",
       "        -8.98346721e-01-3.19368458e-01j,  2.13293442e-01-4.70603463e-02j,\n",
       "        -2.08415779e+00-3.20524988e-02j,  1.30427916e+01-4.36610409e-01j,\n",
       "        -4.29834942e+00-5.66295507e-01j, -1.63678726e+00-3.42317622e-01j,\n",
       "        -3.88752294e-01+5.56695151e-03j,  9.67211871e-01+4.30423594e-01j,\n",
       "         1.20811460e+00+5.09951291e-01j,  1.02918587e+00-3.12135582e-02j,\n",
       "         9.72935439e-02-2.88786102e-01j, -8.23405925e-01-3.50083797e-01j,\n",
       "         3.53075540e-01-3.99564648e-02j, -2.10098850e+00-1.89958035e-02j,\n",
       "         1.30575558e+01-4.41400760e-01j, -4.32949089e+00-5.99073802e-01j,\n",
       "        -1.65337119e+00-3.04823225e-01j, -2.29987555e-01+3.36076852e-02j,\n",
       "         9.89679848e-01+4.45387336e-01j,  1.30042662e+00+5.48736704e-01j,\n",
       "         1.02330384e+00+1.19187998e-02j,  1.08529331e-01-2.96076078e-01j,\n",
       "        -8.57590652e-01-3.14775304e-01j,  2.57684105e-01-4.68271744e-02j,\n",
       "        -2.02140852e+00-3.25444141e-02j,  1.31814547e+01-4.39702984e-01j,\n",
       "        -4.24536754e+00-5.63657492e-01j, -1.58349017e+00-3.30522357e-01j,\n",
       "        -3.31324677e-01-5.35006286e-03j,  1.02681016e+00+4.32611942e-01j,\n",
       "         1.29196851e+00+4.92644423e-01j,  9.60849292e-01-4.57539320e-03j,\n",
       "         1.15536873e-01-2.84620004e-01j, -9.52899926e-01-3.43949620e-01j,\n",
       "         1.83798928e-01-2.74006752e-02j, -2.07230877e+00-4.49932710e-02j,\n",
       "         1.29119909e+01-4.42675708e-01j, -4.29911371e+00-5.98509011e-01j,\n",
       "        -1.58378189e+00-3.29176751e-01j, -4.08521323e-01+3.07114708e-02j,\n",
       "         1.09307442e+00+4.43583534e-01j,  1.33236675e+00+5.45967345e-01j,\n",
       "         4.12328340e-02+1.42978754e-04j,  1.32194763e-02+5.57367419e-04j,\n",
       "         4.05109839e-02+4.34619946e-04j,  2.72250017e-02-2.42513006e-04j,\n",
       "         2.83433480e-02+7.22114770e-04j,  9.64275435e-02+4.16980839e-04j,\n",
       "         2.53104571e-02+5.53093343e-04j,  1.94181924e-02-1.09092951e-04j,\n",
       "         2.44136625e-02-6.00952593e-04j,  2.02014566e-02-2.72239069e-04j,\n",
       "         3.73811848e-02-3.05513545e-04j,  2.16188630e-01-3.86194964e-04j,\n",
       "        -2.46213825e-01+1.69629524e-03j,  2.39323679e-01-9.54943588e-06j,\n",
       "         1.99358856e-01-1.73272861e-03j,  3.85802411e-02-7.61231298e-04j,\n",
       "         1.12573673e-02-7.19032894e-04j, -8.43078922e-03+4.74577291e-03j,\n",
       "        -3.65234513e-02+1.52881939e-03j,  3.01342868e-01+2.19127049e-03j,\n",
       "        -2.05399035e-01+1.47299305e-03j, -1.25799542e-01-5.53540682e-03j],\n",
       "       [-1.89676054e+00-2.23058746e-01j, -1.72542636e+00-1.79105347e-01j,\n",
       "         1.05683954e+00-1.77339194e-01j,  1.07553846e+00-2.05909349e-01j,\n",
       "        -1.41296548e+00-6.31783665e-02j, -4.31107901e+00-5.53739176e-01j,\n",
       "         8.74774898e+00-8.34501715e-01j, -2.38022507e+00-5.22081223e-01j,\n",
       "         1.14995089e+00+2.20283301e-01j,  2.69454160e+00+7.55822127e-01j,\n",
       "         4.70509200e+00+9.48946724e-01j, -1.85869948e+00-2.28976899e-01j,\n",
       "        -1.64410299e+00-1.96154687e-01j,  1.17628865e+00-1.66993027e-01j,\n",
       "         1.11399140e+00-1.92343839e-01j, -1.37124685e+00-1.00456279e-01j,\n",
       "        -4.35581257e+00-6.06053944e-01j,  8.58804753e+00-8.61911974e-01j,\n",
       "        -2.32310745e+00-5.66065592e-01j,  1.25810721e+00+2.55986209e-01j,\n",
       "         2.78538467e+00+8.42557387e-01j,  4.88810902e+00+1.01725065e+00j,\n",
       "        -1.84932984e+00-2.33188127e-01j, -1.67653183e+00-1.72334612e-01j,\n",
       "         1.07780803e+00-1.69655123e-01j,  1.14581381e+00-2.18868977e-01j,\n",
       "        -1.37633316e+00-6.19647938e-02j, -4.23470862e+00-5.34777759e-01j,\n",
       "         8.91064517e+00-8.07059301e-01j, -2.34462175e+00-5.05804648e-01j,\n",
       "         1.22678533e+00+2.24073881e-01j,  2.74889906e+00+7.45025936e-01j,\n",
       "         4.79006976e+00+9.47571501e-01j, -1.89108665e+00-2.15697347e-01j,\n",
       "        -1.78268421e+00-2.01268768e-01j,  1.01824085e+00-1.50935925e-01j,\n",
       "         1.13398813e+00-1.98872301e-01j, -1.46780532e+00-1.31911078e-01j,\n",
       "        -4.31307102e+00-6.08155763e-01j,  8.66948822e+00-8.64227815e-01j,\n",
       "        -2.47263723e+00-5.57027437e-01j,  1.34727550e+00+2.67056658e-01j,\n",
       "         2.80188552e+00+8.46790603e-01j,  4.85299947e+00+1.01210755e+00j,\n",
       "         3.35213801e-02+2.55815885e-04j,  3.48426298e-02+2.83315037e-04j,\n",
       "         5.61063043e-03+1.02650312e-04j,  3.19447935e-02-1.45068870e-04j,\n",
       "         2.76720707e-02+7.07299542e-04j,  2.48603823e-02+4.24122612e-05j,\n",
       "         7.79840677e-02+2.93845484e-04j,  2.12631406e-02+7.43554921e-04j,\n",
       "         2.81902085e-02-3.96369319e-04j,  2.86332573e-02+9.73361704e-04j,\n",
       "         2.88580780e-02+5.14913161e-04j, -1.64313772e-01-9.62219240e-04j,\n",
       "         2.85398960e-01+4.62520412e-03j,  3.10225593e-01-1.73138002e-03j,\n",
       "        -6.71752119e-03+3.30567326e-03j,  1.82073768e-03+2.37187129e-03j,\n",
       "        -1.56992622e-02-5.86738120e-03j, -7.61771701e-02+1.15945396e-03j,\n",
       "         1.48369344e-01-6.66397270e-04j, -1.56327616e-01+8.10699887e-04j,\n",
       "         3.13285229e-02-8.83825394e-04j, -1.10583299e-02+9.38243720e-04j],\n",
       "       [ 2.56502471e-01-5.81054757e-02j,  1.68502039e-01-1.02548872e-01j,\n",
       "        -1.08986117e+00-5.16807521e-02j, -5.35902830e-01-5.81622298e-02j,\n",
       "        -1.53114360e+00+3.63619824e-02j, -1.61213779e+00-2.19006722e-01j,\n",
       "        -2.35041278e+00-1.24997877e-01j,  1.21956335e+01-6.95188269e-02j,\n",
       "         1.21331881e+00-5.86210386e-04j,  4.50259915e-01+4.42621774e-02j,\n",
       "         2.99946910e-01+1.26821121e-01j,  3.60569721e-01-2.41677986e-02j,\n",
       "         2.64717517e-01-6.63801320e-02j, -1.07970604e+00-2.82862865e-02j,\n",
       "        -4.31094257e-01-1.08312191e-01j, -1.49606506e+00+6.21275244e-02j,\n",
       "        -1.62898671e+00-2.73093341e-01j, -2.29319501e+00-1.52417332e-01j,\n",
       "         1.21580990e+01-7.31765302e-02j,  1.26266133e+00-8.48451351e-03j,\n",
       "         4.46339034e-01+3.69663458e-02j,  4.30314179e-01+1.40994973e-01j,\n",
       "         3.39154630e-01-4.32523654e-02j,  2.11433132e-01-1.02087224e-01j,\n",
       "        -1.01906306e+00-3.01513069e-02j, -4.95312566e-01-7.84335561e-02j,\n",
       "        -1.42566353e+00+4.74239479e-02j, -1.54311404e+00-2.36737244e-01j,\n",
       "        -2.33571076e+00-1.34243680e-01j,  1.23666249e+01-6.33268263e-02j,\n",
       "         1.22695490e+00-6.88014825e-03j,  5.39577404e-01+4.30351638e-02j,\n",
       "         3.49631743e-01+1.22076696e-01j,  2.42216093e-01-1.77577313e-02j,\n",
       "         9.64000813e-02-9.48328834e-02j, -1.03736540e+00-4.27401348e-02j,\n",
       "        -5.72105506e-01-1.07334045e-01j, -1.43602417e+00+6.13455518e-02j,\n",
       "        -1.56876990e+00-2.48886750e-01j, -2.43368146e+00-1.32561193e-01j,\n",
       "         1.22092613e+01-8.60405636e-02j,  1.27778599e+00+6.59280428e-03j,\n",
       "         5.45411199e-01+3.58103926e-02j,  3.08912374e-01+1.51303214e-01j,\n",
       "         2.55436511e-02+2.85660240e-04j,  2.68807942e-02+3.58643348e-04j,\n",
       "         3.79947379e-02+7.86262760e-04j,  2.31177599e-02+7.90506610e-04j,\n",
       "         1.86523175e-02+1.10377421e-03j,  1.98729394e-02+7.95176432e-04j,\n",
       "         2.12523283e-02+1.77533799e-04j,  1.05239785e-01+1.64074012e-04j,\n",
       "         3.38571623e-02+4.76968570e-04j,  3.06034879e-02+4.27559603e-04j,\n",
       "         2.82794382e-02-5.19899312e-05j,  2.04483502e-01-1.86872455e-03j,\n",
       "         1.75291767e-01-4.24100713e-03j, -1.41841093e-01-1.75264874e-03j,\n",
       "         1.95572174e-01+3.98361658e-03j,  3.99611705e-02+5.03789041e-03j,\n",
       "        -4.31141473e-02+3.83606701e-03j,  1.45038672e-01+1.01723013e-03j,\n",
       "        -1.07718879e-01-8.16580839e-04j, -1.41159197e-01+1.61700354e-03j,\n",
       "        -2.10630100e-01+1.22925412e-03j,  2.32857521e-01-1.74585827e-03j],\n",
       "       [ 4.93978707e-01-1.68326201e-02j, -5.20140567e-01+1.49201890e-01j,\n",
       "        -1.02533516e+00+1.05571214e-01j,  9.46921378e-01-1.27383070e-01j,\n",
       "        -7.47267096e-01+1.17078833e-01j, -5.34688236e-01+3.94342607e-01j,\n",
       "         1.00457860e+00+6.97035641e-01j,  1.37086159e+00+2.70461052e-01j,\n",
       "         1.32929202e+01-2.27327934e-01j, -2.29457739e+00-6.08053290e-01j,\n",
       "        -4.24683669e+00-1.01581265e+00j,  5.72186564e-01+4.41432923e-03j,\n",
       "        -4.51268255e-01+1.58074401e-01j, -9.22630385e-01+9.06439387e-02j,\n",
       "         1.00833115e+00-1.28341352e-01j, -7.09296617e-01+7.88192048e-02j,\n",
       "        -3.98066167e-01+4.73812719e-01j,  1.03731022e+00+7.14451273e-01j,\n",
       "         1.41003251e+00+2.82306052e-01j,  1.32452576e+01-2.22987480e-01j,\n",
       "        -2.26693216e+00-6.59336856e-01j, -4.29449285e+00-1.07789412e+00j,\n",
       "         5.26079996e-01-5.15071152e-03j, -4.37735254e-01+1.46895505e-01j,\n",
       "        -1.00477592e+00+8.08677081e-02j,  1.02576405e+00-1.14221170e-01j,\n",
       "        -7.00116743e-01+1.03306032e-01j, -4.75199238e-01+3.96751287e-01j,\n",
       "         1.10633826e+00+6.93137168e-01j,  1.38005803e+00+2.63454526e-01j,\n",
       "         1.34709686e+01-2.10896481e-01j, -2.28979227e+00-6.12985394e-01j,\n",
       "        -4.14649732e+00-1.01659986e+00j,  4.78210986e-01-1.13178776e-02j,\n",
       "        -4.20692691e-01+1.75757593e-01j, -1.07190544e+00+8.96370555e-02j,\n",
       "         9.82548936e-01-1.50359069e-01j, -7.74418441e-01+9.47820501e-02j,\n",
       "        -5.52356669e-01+4.59434537e-01j,  1.12390031e+00+7.09481884e-01j,\n",
       "         1.41030315e+00+2.70838251e-01j,  1.32840047e+01-2.28683422e-01j,\n",
       "        -2.35938638e+00-6.38624077e-01j, -4.30440830e+00-1.08529233e+00j,\n",
       "         1.35529331e-02+9.77906015e-04j,  2.51185987e-02+6.19859557e-04j,\n",
       "         2.84848770e-02+2.55646593e-04j,  4.45133268e-02+5.47239169e-04j,\n",
       "         2.00652040e-02-6.46170714e-04j,  2.51582732e-02+5.91060138e-04j,\n",
       "         2.80146796e-02+1.46718710e-03j,  3.43432447e-02+8.32324936e-04j,\n",
       "         1.03265697e-01-1.35840449e-04j,  2.28328376e-02-7.02370815e-04j,\n",
       "         2.22326952e-02+1.32715511e-04j,  2.70618231e-01+1.85894099e-03j,\n",
       "         4.52698775e-02+4.92919779e-03j,  1.43612385e-01+2.66420152e-03j,\n",
       "        -6.18926248e-02-4.48873868e-03j,  1.03408504e-03-3.53484687e-03j,\n",
       "         2.96799119e-01+1.94191324e-03j, -1.66611660e-01+1.28383364e-03j,\n",
       "        -1.52639857e-01+6.68326338e-03j, -1.66358829e-01-1.59042469e-03j,\n",
       "         2.02791576e-01-7.43583328e-03j, -4.69977987e-02+1.75570303e-03j],\n",
       "       [-3.09411477e+00-3.84736553e-02j,  1.54760456e+00+2.91983488e-02j,\n",
       "         5.50679332e-01-2.91460966e-02j, -7.90923112e-01+6.41263819e-02j,\n",
       "         2.38521326e+00-1.16538656e-01j,  9.71992331e-01+3.34054414e-01j,\n",
       "         2.75438670e+00+4.24875389e-01j,  4.24661334e-01+3.35344090e-01j,\n",
       "        -2.48976525e+00-1.30746541e-01j,  9.09167260e+00-6.46830127e-01j,\n",
       "        -3.66597926e+00-5.92327036e-01j, -3.10344064e+00-6.12225262e-02j,\n",
       "         1.71271597e+00+4.28973790e-02j,  6.51321394e-01-5.12343433e-02j,\n",
       "        -7.76539474e-01+3.85305345e-02j,  2.56118010e+00-7.17648013e-02j,\n",
       "         1.00737997e+00+3.32991178e-01j,  2.85697670e+00+5.53181370e-01j,\n",
       "         4.32167797e-01+3.56578488e-01j, -2.47239278e+00-1.83878745e-01j,\n",
       "         8.99456824e+00-6.21903429e-01j, -3.69643880e+00-6.62271959e-01j,\n",
       "        -3.03390262e+00-7.28124250e-02j,  1.61313207e+00+2.12601511e-02j,\n",
       "         6.24279188e-01-4.00092830e-02j, -7.30966234e-01+4.30935425e-02j,\n",
       "         2.39686570e+00-1.05279090e-01j,  1.06163178e+00+3.21561510e-01j,\n",
       "         2.79403077e+00+4.32620398e-01j,  4.81776109e-01+3.35295994e-01j,\n",
       "        -2.44540593e+00-1.32344547e-01j,  9.25690502e+00-6.32168018e-01j,\n",
       "        -3.63874466e+00-5.60863814e-01j, -3.05723899e+00-4.91912764e-02j,\n",
       "         1.54964447e+00+3.26836901e-02j,  5.85719742e-01-1.65756176e-02j,\n",
       "        -8.22159605e-01+4.09925988e-02j,  2.35461081e+00-8.42978868e-02j,\n",
       "         1.09656568e+00+3.51702253e-01j,  2.87422199e+00+5.26471548e-01j,\n",
       "         5.19674595e-01+3.61971616e-01j, -2.55205939e+00-1.88044934e-01j,\n",
       "         8.96015174e+00-6.34621603e-01j, -3.70550849e+00-6.81478503e-01j,\n",
       "         2.77942424e-02+2.74587118e-04j,  2.29855941e-02+1.86392296e-04j,\n",
       "         2.37790735e-02+1.90570081e-04j,  2.81860555e-02+6.13546286e-05j,\n",
       "         4.51661270e-02-6.22580249e-04j,  2.03917092e-02-3.47007810e-04j,\n",
       "         2.81995873e-02-9.08733630e-04j,  3.00100571e-02+7.87299335e-04j,\n",
       "         2.17657907e-02+9.96935238e-04j,  8.71904756e-02+3.73038829e-04j,\n",
       "         1.80361037e-02+1.48685959e-03j, -4.73120361e-02+6.30318756e-03j,\n",
       "         1.27001585e-01-5.18939346e-04j,  1.88814857e-01-6.11433308e-04j,\n",
       "        -8.11857867e-02+6.37610391e-04j,  2.82814807e-01-6.49764752e-03j,\n",
       "        -1.96667357e-01-2.34710047e-03j,  3.17629630e-02-8.98391637e-04j,\n",
       "        -2.13051891e-01-1.95629399e-03j,  1.87878572e-01-1.36409692e-03j,\n",
       "         3.18381602e-02+2.25039718e-03j,  6.85799148e-02+7.26250027e-03j],\n",
       "       [-1.30308398e+00+9.10149110e-02j, -2.46093751e-01+1.62269796e-01j,\n",
       "         2.88883685e+00+8.58597785e-02j,  9.75219017e-02-1.85265772e-01j,\n",
       "        -1.06504162e+00+1.17741757e-01j,  1.39049537e+00+2.90257082e-01j,\n",
       "         4.83006291e+00+7.12676296e-01j,  4.97743884e-01+2.45509125e-01j,\n",
       "        -4.41184280e+00+4.00934391e-02j, -3.90726044e+00-7.73457586e-01j,\n",
       "         8.13354068e+00-6.05800933e-01j, -1.22014909e+00+8.62453190e-02j,\n",
       "        -1.79917952e-01+1.79724437e-01j,  2.96901061e+00+1.29573165e-01j,\n",
       "         1.62246004e-01-1.98659618e-01j, -1.02104390e+00+1.24612005e-01j,\n",
       "         1.46165733e+00+3.49248587e-01j,  4.97864825e+00+7.76701445e-01j,\n",
       "         5.89653606e-01+2.84283136e-01j, -4.46210903e+00-7.98898769e-03j,\n",
       "        -3.95540524e+00-8.84829437e-01j,  8.06107749e+00-6.36222622e-01j,\n",
       "        -1.25173272e+00+1.19793953e-01j, -1.86061015e-01+1.60583226e-01j,\n",
       "         2.92004540e+00+9.97339140e-02j,  1.42064896e-01-1.88443161e-01j,\n",
       "        -9.52321044e-01+1.12139252e-01j,  1.46106246e+00+2.80466740e-01j,\n",
       "         4.90069010e+00+6.87314423e-01j,  5.74300757e-01+2.46762580e-01j,\n",
       "        -4.34148169e+00+5.60839371e-02j, -3.88935364e+00-7.67247082e-01j,\n",
       "         8.29156060e+00-5.95326865e-01j, -1.33059303e+00+9.42387204e-02j,\n",
       "        -2.37288206e-01+1.76207066e-01j,  2.93402961e+00+1.24059945e-01j,\n",
       "         5.24392087e-02-1.95826107e-01j, -9.28851887e-01+1.23800212e-01j,\n",
       "         1.50756142e+00+3.31010165e-01j,  4.94915336e+00+7.92200948e-01j,\n",
       "         4.61632457e-01+2.82493466e-01j, -4.45828720e+00-8.24290738e-03j,\n",
       "        -3.97632961e+00-8.74322284e-01j,  7.99188603e+00-6.41633578e-01j,\n",
       "         4.55559831e-02+6.14830129e-04j,  4.01734190e-02+3.11092184e-04j,\n",
       "         2.28720257e-02+5.97792197e-04j,  2.40375625e-02+8.00777965e-04j,\n",
       "         2.77541990e-02+7.45267263e-04j,  3.86089335e-02+1.37225394e-03j,\n",
       "         2.79952819e-02+8.20042571e-04j,  2.80944144e-02+4.15319856e-04j,\n",
       "         2.09206888e-02+8.80813167e-04j,  1.83523942e-02+2.51491878e-04j,\n",
       "         8.70980029e-02+5.58619082e-04j, -2.56187918e-02+4.59256979e-04j,\n",
       "         4.11604413e-02-1.28612149e-03j,  1.01790261e-01+2.18196507e-03j,\n",
       "         2.92276569e-01+5.52953481e-03j, -2.29460146e-01+1.30152123e-03j,\n",
       "        -1.20113960e-01+4.23741378e-03j, -1.23625226e-02-2.74728427e-03j,\n",
       "         2.30236569e-01+1.07576455e-03j, -5.84841889e-02+7.36346351e-05j,\n",
       "         6.17523832e-02-1.13151574e-03j,  1.22617607e-01-2.44664326e-03j]])"
      ]
     },
     "execution_count": 21,
     "metadata": {},
     "output_type": "execute_result"
    }
   ],
   "source": [
    "end_product[:N_omega,N_omega:]"
   ]
  },
  {
   "cell_type": "code",
   "execution_count": 22,
   "metadata": {},
   "outputs": [
    {
     "data": {
      "text/plain": [
       "(array([0.76742679, 0.20056493, 0.19186616, 0.17208572, 0.15573037,\n",
       "        0.14115781, 0.12434948, 0.08644339, 0.06098764, 0.04516752,\n",
       "        0.01514139]),\n",
       " array([1.80606031, 0.44555176, 0.37178655, 0.32457709, 0.31137807,\n",
       "        0.26320465, 0.25098518, 0.23384838, 0.09203786, 0.05620347,\n",
       "        0.0226464 ]))"
      ]
     },
     "execution_count": 22,
     "metadata": {},
     "output_type": "execute_result"
    }
   ],
   "source": [
    "np.linalg.svd(left_sdp.conj().T@end_product@right_sdp)[1], np.linalg.svd(W_plus[1] - W_minus[1])[1]"
   ]
  },
  {
   "cell_type": "code",
   "execution_count": 23,
   "metadata": {},
   "outputs": [
    {
     "data": {
      "text/plain": [
       "[(2.008351212146639-8.743006318923108e-15j),\n",
       " (2.2250737738560957-4.6629367034256575e-15j),\n",
       " (2.0612755404898166-3.747002708109903e-15j),\n",
       " (1.312624608716682+1.1102230246251565e-15j),\n",
       " (1.9169723698576533+2.886579864025407e-15j),\n",
       " (2.392271917029124+6.661338147750939e-15j),\n",
       " (1.9064491200344307-3.3306690738754696e-15j),\n",
       " (1.4866447694010176-3.608224830031759e-15j),\n",
       " (1.6091163546107559+2.886579864025407e-15j),\n",
       " (3.0519087365965056-3.2751579226442118e-15j),\n",
       " (1.758229552628265-2.3314683517128287e-15j),\n",
       " (2.932663214427457+1.7763568394002505e-15j),\n",
       " (4.762358442967976+6.689093723366568e-15j),\n",
       " (1.9653171901298663-9.298117831235686e-15j),\n",
       " (1.8611316537121425+1.7763568394002505e-15j),\n",
       " (2.075439755144627+1.609823385706477e-15j),\n",
       " (2.432453411213549+8.881784197001252e-15j),\n",
       " (4.3056405597209455-1.3877787807814457e-16j),\n",
       " (2.0821593362486515+3.774758283725532e-15j),\n",
       " (2.7326836148836406+6.050715484207103e-15j),\n",
       " (3.0980368481522618+3.608224830031759e-15j),\n",
       " (3.265093020018412+1.4432899320127035e-15j),\n",
       " (2.037916126797967+2.248201624865942e-15j),\n",
       " (3.1433212231653123-3.774758283725532e-15j),\n",
       " (2.4593065533347627+1.9984014443252818e-15j),\n",
       " (2.162487853652621-2.0539125955565396e-15j),\n",
       " (2.89032173135832-3.9968028886505635e-15j),\n",
       " (2.7644020196307366+2.3314683517128287e-15j),\n",
       " (3.790498045745423-2.7200464103316335e-15j),\n",
       " (1.246862851531377-3.497202527569243e-15j),\n",
       " (1.6147554115417329-5.6343818499726694e-15j),\n",
       " (1.566552964901124-3.0531133177191805e-15j),\n",
       " (1.6520156896959541+2.7755575615628914e-16j),\n",
       " (2.1248088506572245+8.659739592076221e-15j),\n",
       " (2.7401838199015813+5.551115123125783e-15j),\n",
       " (2.4708474054382354+7.022160630754115e-15j),\n",
       " (2.244256445745741-3.7192471324942744e-15j),\n",
       " (2.3202206753690735+1.7763568394002505e-15j),\n",
       " (1.4330589098562285-8.881784197001252e-16j),\n",
       " (2.236993864811894-1.970645868709653e-15j),\n",
       " (2.828463191790213+4.690692279041286e-15j),\n",
       " (2.0197905957346762-1.8318679906315083e-15j),\n",
       " (3.466962115057237+2.220446049250313e-16j),\n",
       " (2.3598046923400346-1.3322676295501878e-15j),\n",
       " (2.7172036300509674-1.970645868709653e-15j),\n",
       " (1.651185535651134+3.9968028886505635e-15j),\n",
       " (2.192098576946414-8.43769498715119e-15j),\n",
       " (2.1442231180275204-5.6066262743570405e-15j),\n",
       " (2.3890511477396514-1.887379141862766e-15j),\n",
       " (2.710958004314926+1.1102230246251565e-14j),\n",
       " (1.6381656857354123-5.4539706084710815e-15j),\n",
       " (2.121116767007603+5.717648576819556e-15j),\n",
       " (3.3270151842683333-3.7192471324942744e-15j),\n",
       " (1.9908276251892811-2.1094237467877974e-15j),\n",
       " (2.6327042827934353-2.220446049250313e-15j),\n",
       " (1.7925387445181364+8.215650382226158e-15j),\n",
       " (3.194598149723774+9.71445146547012e-15j),\n",
       " (1.5972379388428841-4.6629367034256575e-15j),\n",
       " (2.285712156984733+1.9984014443252818e-15j),\n",
       " (5.092295991575433+3.191891195797325e-16j),\n",
       " (3.035621483716316-6.772360450213455e-15j),\n",
       " (2.0681658166773005+1.0547118733938987e-15j),\n",
       " (2.623674652151351+2.942091015256665e-15j),\n",
       " (2.584957270871733-2.275957200481571e-15j),\n",
       " (2.1792710066080723+1.199040866595169e-14j),\n",
       " (2.300030200449932-2.7478019859472624e-15j),\n",
       " (3.5973036130584406-3.941291737419306e-15j),\n",
       " (3.074771586544971+1.1657341758564144e-15j),\n",
       " (3.1146017827933203+1.3877787807814457e-15j),\n",
       " (1.9460048748246805+5.995204332975845e-15j),\n",
       " (2.055628904875718+7.105427357601002e-15j),\n",
       " (1.9331927523980923-3.3306690738754696e-15j),\n",
       " (1.9813842171701026+1.582067810090848e-15j),\n",
       " (2.7847073384715486+2.220446049250313e-15j),\n",
       " (2.0458689886689205+2.6645352591003757e-15j),\n",
       " (2.5743280930709034+2.275957200481571e-15j),\n",
       " (3.536190251878427+6.467049118441537e-15j),\n",
       " (2.1969127738729526+8.215650382226158e-15j),\n",
       " (1.7802784748913254-3.552713678800501e-15j),\n",
       " (1.5498402771061137-1.3322676295501878e-15j),\n",
       " (2.0998401341910977+2.4424906541753444e-15j),\n",
       " (2.2883568627853386-2.3869795029440866e-15j),\n",
       " (2.325248111426042-3.2751579226442118e-15j),\n",
       " (1.594944847781953-2.1094237467877974e-15j),\n",
       " (6.792337542593572+5.10702591327572e-15j),\n",
       " (2.2912521155354355-8.743006318923108e-15j),\n",
       " (4.08989607542712+1.2878587085651816e-14j),\n",
       " (1.8495341455514414+6.439293542825908e-15j),\n",
       " (1.9278382071476212-7.771561172376096e-15j),\n",
       " (2.293009065333351+1.5543122344752192e-15j),\n",
       " (2.9888665086921016-4.6074255521944e-15j),\n",
       " (2.35688921430183+1.3322676295501878e-15j),\n",
       " (4.144957511147172-6.6058269965196814e-15j),\n",
       " (1.6846124437427887+1.7208456881689926e-15j),\n",
       " (4.209828834135298-7.993605777301127e-15j),\n",
       " (2.0109065853382813-4.829470157119431e-15j),\n",
       " (7.212109576075534-2.9976021664879227e-15j),\n",
       " (1.5649227014728773-2.9837243786801082e-15j),\n",
       " (2.323419644363362-2.886579864025407e-15j),\n",
       " (2.220041866265479-3.1086244689504383e-15j),\n",
       " (2.5766307221768514-8.881784197001252e-16j),\n",
       " (2.7876531050732556+6.661338147750939e-16j),\n",
       " (1.6985893238614551+7.993605777301127e-15j),\n",
       " (2.5209999278110047+7.438494264988549e-15j),\n",
       " (4.575553753241024+1.4432899320127035e-15j),\n",
       " (2.3755526380300083-1.1102230246251565e-15j),\n",
       " (3.5893267209932596-4.884981308350689e-15j),\n",
       " (2.05490377764988-1.5543122344752192e-15j),\n",
       " (3.9108678974806654+7.882583474838611e-15j),\n",
       " (2.429039659584589-2.6645352591003757e-15j),\n",
       " (5.805726805907408+7.827072323607354e-15j),\n",
       " (1.7451717489405105-7.105427357601002e-15j),\n",
       " (1.9214435708665718+8.881784197001252e-16j),\n",
       " (1.885581865516599+1.1102230246251565e-15j),\n",
       " (2.8427863179862136-2.3869795029440866e-15j),\n",
       " (1.531382138322165+3.608224830031759e-15j),\n",
       " (3.16928826549157-4.107825191113079e-15j),\n",
       " (1.9220950814032207-6.439293542825908e-15j),\n",
       " (3.2233817931094464-1.304512053934559e-15j),\n",
       " (2.8752029295756145+7.993605777301127e-15j),\n",
       " (2.105902665870412-1.5543122344752192e-15j),\n",
       " (3.0119366822312372+7.105427357601002e-15j),\n",
       " (3.680397735189775+7.216449660063518e-15j),\n",
       " (2.74646977960073-8.659739592076221e-15j),\n",
       " (3.472813828437263-5.440092820663267e-15j),\n",
       " (1.543330720292893-3.552713678800501e-15j),\n",
       " (2.125219364037509-3.497202527569243e-15j),\n",
       " (1.6197302317008635-8.881784197001252e-15j),\n",
       " (2.4375737645001365+4.440892098500626e-16j),\n",
       " (4.699193470496876+0j),\n",
       " (3.7126322713418602+5.578870698741412e-15j),\n",
       " (1.8157442659965142-2.831068712794149e-15j),\n",
       " (2.569672263632528-7.549516567451064e-15j),\n",
       " (2.249783737304403+6.494804694057166e-15j),\n",
       " (2.6177106084478368+5.6066262743570405e-15j),\n",
       " (2.680902478895497+5.162537064506978e-15j),\n",
       " (1.7834405649111353+4.440892098500626e-15j),\n",
       " (2.512031857084157-3.83026943495679e-15j),\n",
       " (2.406622627422834+1.1601830607332886e-14j),\n",
       " (2.3198467181610436+2.498001805406602e-16j),\n",
       " (2.017904011580045-2.4424906541753444e-15j),\n",
       " (2.568821915541154-6.38378239159465e-16j),\n",
       " (3.610010035873753-8.881784197001252e-16j),\n",
       " (1.8327252588978418-8.881784197001252e-16j),\n",
       " (3.320897651362934-5.551115123125783e-16j),\n",
       " (1.9207603956039208+1.1379786002407855e-15j),\n",
       " (2.4311462215206276+0j),\n",
       " (3.422592481996009-1.7763568394002505e-15j),\n",
       " (3.0843994440774196+2.220446049250313e-16j),\n",
       " (2.9210525708675075-2.3314683517128287e-15j),\n",
       " (1.4943201429119952+8.326672684688674e-16j),\n",
       " (1.8845300609762496-2.220446049250313e-15j),\n",
       " (2.37708371130722+2.220446049250313e-16j),\n",
       " (2.6145007176519606-7.327471962526033e-15j),\n",
       " (2.4104510818110683+2.7755575615628914e-16j),\n",
       " (2.8568497173730485-2.6645352591003757e-15j),\n",
       " (1.2246402891476258-3.552713678800501e-15j),\n",
       " (4.159796395325291+4.551914400963142e-15j),\n",
       " (3.130455854816745-2.7755575615628914e-15j),\n",
       " (1.3015846087480654-1.7763568394002505e-15j),\n",
       " (1.8983267905709198+9.103828801926284e-15j),\n",
       " (7.985397571989758-3.885780586188048e-16j),\n",
       " (1.7711305545933982-8.743006318923108e-15j),\n",
       " (2.049977958204149-2.1094237467877974e-15j),\n",
       " (1.7889178664951828-1.3322676295501878e-15j),\n",
       " (2.920047515655+9.325873406851315e-15j),\n",
       " (2.8031118781209727+8.215650382226158e-15j),\n",
       " (2.6078773598364577+2.220446049250313e-15j),\n",
       " (5.582035486152016+2.886579864025407e-15j),\n",
       " (2.562869093526377+3.9968028886505635e-15j),\n",
       " (3.8499676736024497-2.3314683517128287e-15j),\n",
       " (2.4379302512698473-2.6645352591003757e-15j),\n",
       " (1.9642232652640281-1.0658141036401503e-14j),\n",
       " (2.617733515113308-7.716050021144838e-15j),\n",
       " (1.6357436555925489-8.881784197001252e-16j),\n",
       " (2.6937567402526383-8.215650382226158e-15j),\n",
       " (2.4405204725054332-1.7763568394002505e-15j),\n",
       " (2.5612034756116593-7.327471962526033e-15j),\n",
       " (3.004301556897314-1.8596235662471372e-15j),\n",
       " (3.3679267719772152-4.163336342344337e-15j),\n",
       " (2.8652774857552856+2.4424906541753444e-15j),\n",
       " (2.0760768215801964+3.885780586188048e-16j),\n",
       " (1.7915193523122763-7.271960811294775e-15j),\n",
       " (2.9716840265691644+3.552713678800501e-15j),\n",
       " (3.226412986840657+1.1657341758564144e-15j),\n",
       " (4.869888386472172-3.191891195797325e-15j),\n",
       " (2.7591046564463966-1.0103029524088925e-14j),\n",
       " (2.5013490159133838+6.439293542825908e-15j),\n",
       " (2.711928138685863-3.774758283725532e-15j),\n",
       " (2.032140869904339+7.216449660063518e-16j),\n",
       " (1.4218976418289948-2.275957200481571e-15j),\n",
       " (1.690374257267429-3.774758283725532e-15j),\n",
       " (4.227120020731084+1.1657341758564144e-15j),\n",
       " (2.5684053442383963-1.1102230246251565e-15j),\n",
       " (1.3972060690425678+4.440892098500626e-16j),\n",
       " (4.583419751674583+0j),\n",
       " (2.7153705340281222+0j),\n",
       " (2.0294329341830206+8.881784197001252e-15j),\n",
       " (3.1445680385369457+8.881784197001252e-15j),\n",
       " (1.979221336969367-2.6645352591003757e-15j),\n",
       " (2.4950932270147312+2.248201624865942e-15j),\n",
       " (2.2504614186349627-1.099120794378905e-14j),\n",
       " (2.2538063008584284+2.8033131371785203e-15j),\n",
       " (2.1565377062374322+3.9968028886505635e-15j),\n",
       " (2.510948834133706-3.885780586188048e-16j),\n",
       " (2.3396436081891494+2.4424906541753444e-15j),\n",
       " (2.2025173533536595-1.4988010832439613e-15j),\n",
       " (2.306831652971148+1.5543122344752192e-15j),\n",
       " (1.4593299152206534-2.192690473634684e-15j),\n",
       " (1.5807674586333695+5.329070518200751e-15j),\n",
       " (4.741034034046763+7.549516567451064e-15j),\n",
       " (2.5199751775251706-3.885780586188048e-15j),\n",
       " (5.20592717840327+1.2212453270876722e-15j),\n",
       " (4.085399470455388+3.83026943495679e-15j),\n",
       " (3.473841962000023+2.220446049250313e-15j),\n",
       " (2.0783619501173796+1.5543122344752192e-15j),\n",
       " (1.887132898353503-1.6653345369377348e-16j),\n",
       " (2.0938068009298005+3.9968028886505635e-15j),\n",
       " (3.7562739443201174-1.7763568394002505e-15j),\n",
       " (3.12030665726283+1.0907941216942163e-14j),\n",
       " (3.1536369184597604+3.774758283725532e-15j),\n",
       " (2.313113078718201+2.831068712794149e-15j),\n",
       " (4.399489924983776+4.440892098500626e-15j),\n",
       " (4.461688133381857-1.0380585280245214e-14j),\n",
       " (3.3621690904638655+4.0245584642661925e-15j),\n",
       " (2.8403468805322554+2.9976021664879227e-15j),\n",
       " (1.8369839951058253-8.881784197001252e-16j),\n",
       " (2.352761447328195-2.3314683517128287e-15j),\n",
       " (3.0732738315689865+3.3306690738754696e-15j),\n",
       " (2.2506646994670527+6.106226635438361e-16j),\n",
       " (3.001910944766543+1.1102230246251565e-16j),\n",
       " (1.4628975474380255+3.3306690738754696e-16j),\n",
       " (1.100881389286677+4.3576253716537394e-15j),\n",
       " (1.4564014053270071+8.881784197001252e-16j),\n",
       " (2.0447692356255907+1.2212453270876722e-15j),\n",
       " (2.4318903927116153-5.329070518200751e-15j),\n",
       " (2.873542483750448-9.520162436160717e-15j),\n",
       " (2.744267461437431-3.552713678800501e-15j),\n",
       " (2.5542245856301378+1.3877787807814457e-15j),\n",
       " (2.333759453830151+1.7763568394002505e-15j),\n",
       " (5.1338358313024415+7.216449660063518e-16j),\n",
       " (3.100541059011121-1.7763568394002505e-15j),\n",
       " (2.193948037306882+2.942091015256665e-15j),\n",
       " (3.5984843504110913+1.5543122344752192e-15j),\n",
       " (2.411340219034056+4.496403249731884e-15j),\n",
       " (5.74724145693169-7.105427357601002e-15j),\n",
       " (2.240267908086768-2.4424906541753444e-15j),\n",
       " (1.8932220613024686-7.438494264988549e-15j),\n",
       " (2.8641769464494296-3.774758283725532e-15j),\n",
       " (2.0595719545623257+3.3861802251067274e-15j),\n",
       " (2.7678096722581884+5.329070518200751e-15j),\n",
       " (3.314651360647984+2.4980018054066022e-15j),\n",
       " (3.9246195532720254+1.0547118733938987e-14j),\n",
       " (2.8000033496088435-3.0808688933348094e-15j),\n",
       " (1.3921205806518486-9.992007221626409e-16j),\n",
       " (2.3898002193335692-1.6653345369377348e-15j),\n",
       " (2.012603814866953+4.107825191113079e-15j),\n",
       " (2.3796789311560698-6.661338147750939e-16j),\n",
       " (2.189468599927835-3.941291737419306e-15j),\n",
       " (1.9147226858342403+5.800915303666443e-15j),\n",
       " (1.6445198394672502-6.4254157550180935e-15j),\n",
       " (4.835082288517567-2.6367796834847468e-15j),\n",
       " (1.5972298101006022+2.1094237467877974e-15j),\n",
       " (2.2217817803572295+3.9968028886505635e-15j),\n",
       " (2.230841818805402+9.797718192317006e-15j),\n",
       " (1.8253564325899205+2.220446049250313e-15j),\n",
       " (1.4621201828457604+6.661338147750939e-16j),\n",
       " (3.108242422074594-4.052314039881821e-15j),\n",
       " (2.2051828623113607+2.4424906541753444e-15j),\n",
       " (3.2009830265594132+7.438494264988549e-15j),\n",
       " (3.3927420708152596+9.43689570931383e-16j),\n",
       " (1.3279673487832966+5.023759186428833e-15j),\n",
       " (2.536738830887323+6.661338147750939e-16j),\n",
       " (2.6469761137990178-8.881784197001252e-16j),\n",
       " (4.43048324385799+3.58046925441613e-15j),\n",
       " (2.4577818553929944+1.3100631690576847e-14j),\n",
       " (4.727654715671534+6.661338147750939e-15j),\n",
       " (2.5334190489069206+2.220446049250313e-15j),\n",
       " (1.643567189863802-3.219646771412954e-15j),\n",
       " (1.9957884740538603-1.0547118733938987e-15j),\n",
       " (2.5615136126160394+1.887379141862766e-15j),\n",
       " (1.5064254680610247-6.661338147750939e-15j),\n",
       " (2.0412763642373193+6.661338147750939e-16j),\n",
       " (1.2055815283872349+8.881784197001252e-16j),\n",
       " (4.411243575047102-1.0380585280245214e-14j),\n",
       " (2.1189179021228455+1.582067810090848e-15j),\n",
       " (3.0824138584209706-6.661338147750939e-16j),\n",
       " (1.870112630667414-1.7763568394002505e-15j),\n",
       " (2.291804309587881-3.3306690738754696e-15j),\n",
       " (1.966845353068365-8.548717289613705e-15j),\n",
       " (3.3490084491422074+5.329070518200751e-15j),\n",
       " (1.1725395251885864-4.440892098500626e-16j),\n",
       " (1.9140065219016602-2.220446049250313e-16j),\n",
       " (1.6252188601301185-3.885780586188048e-16j),\n",
       " (4.934330191500035-7.521760991835436e-15j),\n",
       " (2.2110493923677765-6.661338147750939e-15j),\n",
       " (2.1656382415958078+5.773159728050814e-15j),\n",
       " (2.019624661112509-1.5543122344752192e-15j),\n",
       " (2.7132859158755807-3.1086244689504383e-15j),\n",
       " (2.261313500009912+2.609024107869118e-15j),\n",
       " (1.933188279687986+2.275957200481571e-15j),\n",
       " (2.899936025834265-5.273559366969494e-16j),\n",
       " (2.8993248085468295-3.552713678800501e-15j),\n",
       " (3.834461038273261+2.220446049250313e-15j),\n",
       " (2.5910270362339816-2.831068712794149e-15j),\n",
       " (2.5112786058503005+2.220446049250313e-15j),\n",
       " (2.578444377271225+4.107825191113079e-15j),\n",
       " (2.2215766895241167+3.3306690738754696e-15j),\n",
       " (2.6139107492706017-9.936496070395151e-15j),\n",
       " (2.2966481273171633-3.774758283725532e-15j),\n",
       " (2.0180904014175916-5.329070518200751e-15j),\n",
       " (2.9917309960904745+1.1102230246251565e-15j),\n",
       " (1.9767153543802607-1.5543122344752192e-15j),\n",
       " (3.1854044078689547+8.881784197001252e-16j),\n",
       " (5.86201351940155-1.4988010832439613e-15j),\n",
       " (1.8544043467520694-1.7763568394002505e-15j),\n",
       " (3.189512062480437-3.4416913763379853e-15j),\n",
       " (3.807020965992919-3.9968028886505635e-15j),\n",
       " (3.306095220193388-2.3175905639050143e-15j),\n",
       " (1.9981829762058823-2.220446049250313e-15j),\n",
       " (3.623303465084371+8.493206138382448e-15j),\n",
       " (3.028401431931986-1.1102230246251565e-15j),\n",
       " (3.7856597196905355+1.0436096431476471e-14j),\n",
       " (4.062505317712695+0j),\n",
       " (2.4630767451973554+2.4980018054066022e-15j),\n",
       " (2.1484659534765846-1.199040866595169e-14j),\n",
       " (3.6122689527544063-2.220446049250313e-15j),\n",
       " (1.8049714859801398+2.1094237467877974e-15j),\n",
       " (1.7008649254112171-7.771561172376096e-16j),\n",
       " (3.610625599013609+5.995204332975845e-15j),\n",
       " (2.7397863978356227+3.3306690738754696e-16j),\n",
       " (3.928749463788506-1.226796442210798e-14j),\n",
       " (1.3209883488818015-3.164135620181696e-15j),\n",
       " (3.099193354259974-4.052314039881821e-15j),\n",
       " (2.1846222181354085-8.43769498715119e-15j),\n",
       " (1.5469146379799916+6.938893903907228e-15j),\n",
       " (1.8444719335190456+6.9111383282915995e-15j),\n",
       " (1.8356928105481174-9.381384558082573e-15j),\n",
       " (2.738242866337533+5.329070518200751e-15j),\n",
       " (2.1371080939951526+1.0436096431476471e-14j),\n",
       " (4.360439319772489-4.440892098500626e-15j),\n",
       " (2.668267558706031-3.9968028886505635e-15j),\n",
       " (2.630350068264306-2.6645352591003757e-15j),\n",
       " (2.2999601436463344-1.7763568394002505e-15j),\n",
       " (2.6140727083070985-1.8207657603852567e-14j),\n",
       " (2.1529065524312685-2.7755575615628914e-16j),\n",
       " (2.456029349002213+3.9968028886505635e-15j),\n",
       " (2.389611780484003-6.8833827526759706e-15j),\n",
       " (2.4791381020562167-1.3461454173580023e-15j),\n",
       " (1.4776265524813628-1.2656542480726785e-14j),\n",
       " (2.056702767062376+6.356026815979021e-15j),\n",
       " (1.8575501664457956-6.827871601444713e-15j),\n",
       " (2.4246990484490745+1.4210854715202004e-14j),\n",
       " (1.1384292353377994+3.1086244689504383e-15j),\n",
       " (2.4536528848160515+1.1379786002407855e-15j),\n",
       " (1.588901792194149-8.743006318923108e-15j),\n",
       " (3.049367272161481+6.661338147750939e-15j),\n",
       " (2.5784880305649125-1.5210055437364645e-14j),\n",
       " (4.112569669401076-5.551115123125783e-15j),\n",
       " (1.7199187773591174+2.55351295663786e-15j),\n",
       " (3.4897056423472925-2.4424906541753444e-15j),\n",
       " (3.6644084806194748+3.552713678800501e-15j),\n",
       " (3.2500086940163584+8.881784197001252e-16j),\n",
       " (1.5535760169074342+3.164135620181696e-15j),\n",
       " (3.7798998476364254+4.718447854656915e-15j),\n",
       " (2.738922525434056+2.6645352591003757e-15j),\n",
       " (2.879820734831007+2.55351295663786e-15j),\n",
       " (3.2115199233364145+4.440892098500626e-15j),\n",
       " (1.5506139857647874+0j),\n",
       " (1.5860311982132087+7.355227538141662e-15j),\n",
       " (1.3676343585378046+1.7763568394002505e-15j),\n",
       " (1.7197086480418804+4.440892098500626e-15j),\n",
       " (2.9357485976369375-2.275957200481571e-15j),\n",
       " (1.7509581197106385-1.1324274851176597e-14j),\n",
       " (2.481968965887077-3.552713678800501e-15j),\n",
       " (5.283809886144461-2.1094237467877974e-15j),\n",
       " (2.132540247947823+5.10702591327572e-15j),\n",
       " (2.7256388063149544+1.1046719095020308e-14j),\n",
       " (2.3766505672795972+6.931955010003321e-15j),\n",
       " (1.9436408292690768-6.217248937900877e-15j),\n",
       " (3.312099045789914-7.327471962526033e-15j),\n",
       " (2.4892788682219757-7.716050021144838e-15j),\n",
       " (2.2188914249716873+2.942091015256665e-15j),\n",
       " (3.2035107484826693-1.5543122344752192e-15j),\n",
       " (2.336838734663722-4.052314039881821e-15j),\n",
       " (1.6460166727747483+4.440892098500626e-15j),\n",
       " (2.716322132406681+6.661338147750939e-15j),\n",
       " (1.9465657097272242-1.1102230246251565e-15j),\n",
       " (1.8354596791315956-2.275957200481571e-15j),\n",
       " (1.8027459723880472-3.552713678800501e-15j),\n",
       " (2.0847553013719673+8.354428260304303e-15j),\n",
       " (1.6543345117481607+5.551115123125783e-15j),\n",
       " (1.480947641475689+1.3322676295501878e-15j),\n",
       " (2.3488118688869335-4.524158825347513e-15j),\n",
       " (1.829500677868463+1.0658141036401503e-14j),\n",
       " (2.2711771658405056+2.220446049250313e-15j),\n",
       " (3.3149643286032315-3.3306690738754696e-16j),\n",
       " (3.5650043625145926-4.829470157119431e-15j),\n",
       " (1.814462044709221+2.220446049250313e-16j),\n",
       " (2.188412801365681+1.1102230246251565e-14j),\n",
       " (3.4207171559768366+4.3576253716537394e-15j),\n",
       " (2.0150530049587614+1.0547118733938987e-14j),\n",
       " (3.544226590221644+5.551115123125783e-15j),\n",
       " (4.216011633464083-8.881784197001252e-15j),\n",
       " (1.819879180482637+6.661338147750939e-16j),\n",
       " (2.256252966794179-6.439293542825908e-15j),\n",
       " (5.0425832251596745+2.886579864025407e-15j),\n",
       " (2.7809539192524966+2.220446049250313e-15j),\n",
       " (4.240559781599448-2.273181642920008e-14j),\n",
       " (2.859364360136567+3.1086244689504383e-15j),\n",
       " (2.6996522842517976-6.161737786669619e-15j),\n",
       " (2.416794786215501-2.3314683517128287e-15j),\n",
       " (2.4121673657984353-5.662137425588298e-15j),\n",
       " (3.5375099222796003-1.587618925213974e-14j),\n",
       " (2.0323335673465017-1.887379141862766e-15j),\n",
       " (2.000333347956799-3.3306690738754696e-15j),\n",
       " (2.889733499163391+4.385380947269368e-15j),\n",
       " (1.9670758871359493-1.7763568394002505e-15j),\n",
       " (1.7873079866385897+4.440892098500626e-16j),\n",
       " (2.791295681086389+6.217248937900877e-15j),\n",
       " (3.268173384107712-4.884981308350689e-15j),\n",
       " (1.6356954769144565-2.6645352591003757e-15j),\n",
       " (2.156154377779089-1.5543122344752192e-15j),\n",
       " (3.693200532103255-3.774758283725532e-15j),\n",
       " (2.6564213220948503-1.5543122344752192e-15j),\n",
       " (2.492048146668845-5.440092820663267e-15j),\n",
       " (1.4611383473936606-6.8833827526759706e-15j),\n",
       " (2.3725794456555107-1.2434497875801753e-14j),\n",
       " (2.6027605660985813-1.1934897514720433e-15j),\n",
       " (3.4403253493887105-1.176836406102666e-14j),\n",
       " (3.3812960250360753+1.3877787807814457e-15j),\n",
       " (2.269531475388586+6.661338147750939e-15j),\n",
       " (2.6462284015648407+3.164135620181696e-15j),\n",
       " (2.390768237035381-5.051514762044462e-15j),\n",
       " (2.3801791482318926-1.0824674490095276e-14j),\n",
       " (3.4254360276672333-3.552713678800501e-15j),\n",
       " (2.585575213903436+9.43689570931383e-16j),\n",
       " (3.2422668778004233+3.164135620181696e-15j),\n",
       " (3.663240636254926+3.3306690738754696e-15j),\n",
       " (1.6916682793779785-1.3156142841808105e-14j),\n",
       " (1.5842477072325818+1.0547118733938987e-15j),\n",
       " (4.377202426471058-1.4432899320127035e-15j),\n",
       " (1.3847319000581244-1.7763568394002505e-15j),\n",
       " (4.189135272166908+3.1086244689504383e-15j),\n",
       " (2.5891671765358772-5.10702591327572e-15j),\n",
       " (5.069178469315137-2.4424906541753444e-15j),\n",
       " (3.029680064664994-1.7208456881689926e-15j),\n",
       " (2.491067682384184+8.93729534823251e-15j),\n",
       " (2.7687620164386733-6.6058269965196814e-15j),\n",
       " (3.3650119833284826-2.6645352591003757e-15j),\n",
       " (1.250891694969651+1.3877787807814457e-16j),\n",
       " (1.5997774204348403+3.3306690738754696e-15j),\n",
       " (1.4894758347054378+4.440892098500626e-15j),\n",
       " (1.4512792327189707+1.7763568394002505e-15j),\n",
       " (1.4843997253384726-5.10702591327572e-15j),\n",
       " (1.7971243101645165-1.4876988529977098e-14j),\n",
       " (2.505390967773341+0j),\n",
       " (1.3944054131895491+2.6645352591003757e-15j),\n",
       " (2.2912744963562286-5.6066262743570405e-15j),\n",
       " (3.7725500426531333-7.549516567451064e-15j),\n",
       " (2.8240748213197424-8.43769498715119e-15j),\n",
       " (1.9699076799652957-3.3861802251067274e-15j),\n",
       " (2.226939239106695+3.3306690738754696e-15j),\n",
       " (1.303130250660601-4.996003610813204e-16j),\n",
       " (2.426219501750026+5.329070518200751e-15j),\n",
       " (3.22117073529288-5.9119376061289586e-15j),\n",
       " (2.309148658122986-2.275957200481571e-15j),\n",
       " (2.6034759846267406+3.6637359812630166e-15j),\n",
       " (2.5955750559517075+3.1363800445660672e-15j),\n",
       " (5.828526335353764+1.1102230246251565e-15j),\n",
       " (2.647116591979378-3.552713678800501e-15j),\n",
       " (1.8267734574645758+4.884981308350689e-15j),\n",
       " (2.4924781768420274+9.992007221626409e-16j),\n",
       " (4.136203351527904+7.549516567451064e-15j),\n",
       " (1.4664505574265796+6.661338147750939e-16j),\n",
       " (2.2406945521794768-3.3306690738754696e-15j),\n",
       " (3.6002259780868506-1.7763568394002505e-15j),\n",
       " (1.592003942005256+1.0547118733938987e-15j),\n",
       " (3.176968097103721-1.7763568394002505e-14j),\n",
       " (1.936129679830966+1.3322676295501878e-15j),\n",
       " (1.5671199813815093-2.609024107869118e-15j),\n",
       " (3.6422488924442185+9.797718192317006e-15j),\n",
       " (2.977873504629116+2.3314683517128287e-15j),\n",
       " (3.50895600516327+3.552713678800501e-15j),\n",
       " (2.643352630328451-9.992007221626409e-15j),\n",
       " (2.375184944748291-1.1324274851176597e-14j),\n",
       " (3.723256855628959-7.965850201685498e-15j),\n",
       " (3.010806840512668-5.662137425588298e-15j),\n",
       " (2.253121936541511+1.1102230246251565e-15j),\n",
       " (2.542425907290255+7.13318293321663e-15j),\n",
       " (1.9868394297953946+4.218847493575595e-15j),\n",
       " (2.414596181907619+3.3306690738754696e-16j),\n",
       " (2.320131299451651+9.547918011776346e-15j),\n",
       " (1.3835533316290185-3.4416913763379853e-15j),\n",
       " (2.5217131422035095+5.662137425588298e-15j),\n",
       " (3.0063624956120103-4.9404924595819466e-15j),\n",
       " (1.83484925927862-2.220446049250313e-15j),\n",
       " (5.302057089433077-5.551115123125783e-17j),\n",
       " (2.239841545117166+2.581268532253489e-15j),\n",
       " (2.8616452844365163+4.218847493575595e-15j),\n",
       " (5.297353294365994+2.220446049250313e-15j),\n",
       " (1.5504184779659287-2.1510571102112408e-15j),\n",
       " (2.3557440816118125-9.992007221626409e-15j),\n",
       " (7.088469493122602+3.3584246494910985e-15j),\n",
       " (3.018678114153511+1.5543122344752192e-15j),\n",
       " (2.5251591672011955-4.440892098500626e-15j),\n",
       " (2.891853138461954-2.831068712794149e-15j),\n",
       " (2.6788943665597706-2.609024107869118e-15j),\n",
       " (2.9391281144916785-6.661338147750939e-16j),\n",
       " (2.323001836792642+0j),\n",
       " (2.459007634872041+8.1601392309949e-15j),\n",
       " (2.470820982298721+1.8041124150158794e-15j),\n",
       " (1.6547442876825045-3.4139358007223564e-15j),\n",
       " (2.121139530350103-1.2878587085651816e-14j),\n",
       " (3.3738976170581143+9.325873406851315e-15j),\n",
       " (4.106450541560845+3.3306690738754696e-15j),\n",
       " (2.040667119975411+1.1601830607332886e-14j),\n",
       " (4.124280349720099-3.2751579226442118e-15j),\n",
       " (2.1336060671398442+4.440892098500626e-16j),\n",
       " (1.7252247861505907-1.63202784619898e-14j),\n",
       " (2.6900568200420736+4.218847493575595e-15j),\n",
       " (2.631997516432591+4.2674197509029455e-15j),\n",
       " (3.6502222703882907+7.105427357601002e-15j),\n",
       " (1.5459509841034136+7.105427357601002e-15j),\n",
       " (2.30257049704678-5.10702591327572e-15j),\n",
       " (2.478136484884205-1.1962653090336062e-14j),\n",
       " (1.9112143871415483-3.774758283725532e-15j),\n",
       " (5.290637256110127+7.605027718682322e-15j),\n",
       " (3.2262100762610544-1.1102230246251565e-15j),\n",
       " (1.9135599923691808+2.220446049250313e-15j),\n",
       " (3.618912951862578-5.995204332975845e-15j),\n",
       " (4.320372202893381+1.6653345369377348e-15j),\n",
       " (2.447694778125374+3.3306690738754696e-16j),\n",
       " (1.97678236185547-5.329070518200751e-15j),\n",
       " (2.0632450733452536+1.815214645262131e-14j),\n",
       " (2.482830929740639-5.2735593669694936e-15j),\n",
       " (1.84615696046912+3.3306690738754696e-15j),\n",
       " (1.1986831327313503-1.7763568394002505e-15j),\n",
       " (2.051205744221374-6.439293542825908e-15j),\n",
       " (3.5342377903591853+7.022160630754115e-15j),\n",
       " (2.2903601161861573+2.914335439641036e-15j),\n",
       " (3.069616049545111-6.661338147750939e-15j),\n",
       " (1.7453038787202715+1.3322676295501878e-15j),\n",
       " (2.215923403890095-3.3306690738754696e-15j),\n",
       " (2.2470393852611927-1.8318679906315083e-15j),\n",
       " (1.7937918050368395-1.7763568394002505e-15j),\n",
       " (1.911195048331635+3.941291737419306e-15j),\n",
       " (3.1387982652141844+1.301736496372996e-14j),\n",
       " (3.402180030213117-3.885780586188048e-15j),\n",
       " (2.459472033470263-1.942890293094024e-15j),\n",
       " (1.7332763557711033-3.552713678800501e-15j),\n",
       " (2.4539476330287844+9.547918011776346e-15j),\n",
       " (2.371123340497313+4.440892098500626e-16j),\n",
       " (2.128336245815996+2.220446049250313e-16j),\n",
       " (4.889448628558224+4.440892098500626e-15j),\n",
       " (2.658054152387873-5.551115123125783e-15j),\n",
       " (1.939110681259292-4.440892098500626e-16j),\n",
       " (5.481099368302324-6.328271240363392e-15j),\n",
       " (3.188707897175817-4.440892098500626e-16j),\n",
       " (2.915595143560296-6.661338147750939e-16j),\n",
       " (3.4389351717596144-1.3322676295501878e-15j),\n",
       " (1.3855038541989688-1.5543122344752192e-15j),\n",
       " (3.8433230616100893+0j),\n",
       " (1.992749679258523-4.440892098500626e-15j),\n",
       " (3.0515245161561495-1.354472090042691e-14j),\n",
       " (2.4665111870279652+3.4416913763379853e-15j),\n",
       " (2.649813654026417+4.440892098500626e-16j),\n",
       " (2.5917849609564705-6.8833827526759706e-15j),\n",
       " (4.841162388582713+2.275957200481571e-15j),\n",
       " (3.2430106040815545+9.325873406851315e-15j),\n",
       " (3.749911276248646+2.0539125955565396e-15j),\n",
       " (2.7382843568332476+6.106226635438361e-16j),\n",
       " (2.457642659686196-1.2212453270876722e-15j),\n",
       " (1.7089663199079688-8.659739592076221e-15j),\n",
       " (2.6619777011449983-1.1102230246251565e-16j),\n",
       " (4.451248847584225+1.0103029524088925e-14j),\n",
       " (2.3476260306307637+6.161737786669619e-15j),\n",
       " (2.2589967457014373+3.1086244689504383e-15j),\n",
       " (2.3203296698475206+6.716849298982197e-15j),\n",
       " (2.0735816913747387-8.104628079763643e-15j),\n",
       " (1.870229535300851-2.4424906541753444e-15j),\n",
       " (1.8485213761315968+0j),\n",
       " (2.6144555246142716+7.438494264988549e-15j),\n",
       " (2.8275991884007503+4.440892098500626e-15j),\n",
       " (2.210058567854942-2.220446049250313e-16j),\n",
       " (2.204933677659689+2.220446049250313e-15j),\n",
       " (2.8671348581043503-6.8833827526759706e-15j),\n",
       " (1.7994047606179002-6.439293542825908e-15j),\n",
       " (2.0295092606305545+6.161737786669619e-15j),\n",
       " (3.2818493739298873+7.382983113757291e-15j),\n",
       " (3.0022001127801303+4.6629367034256575e-15j),\n",
       " (6.995098563000319+9.658940314238862e-15j),\n",
       " (2.110790791018786-5.329070518200751e-15j),\n",
       " (4.732808191501822+6.8833827526759706e-15j),\n",
       " (2.357898494439368-3.0531133177191805e-15j),\n",
       " (3.3526043296707257+3.774758283725532e-15j),\n",
       " (5.219721098453686-3.0531133177191805e-15j),\n",
       " (1.8346937724896544+2.220446049250313e-15j),\n",
       " (2.1870684971504595-1.6653345369377348e-15j),\n",
       " (5.0189836768068625+3.1086244689504383e-15j),\n",
       " (2.63257304169624-2.220446049250313e-15j),\n",
       " (3.265964462035461+5.162537064506978e-15j),\n",
       " (2.152871184652195+2.6645352591003757e-15j),\n",
       " (1.6700148502123269-3.552713678800501e-15j),\n",
       " (3.5683677999069374+5.10702591327572e-15j),\n",
       " (1.4487651683834288-6.300515664747763e-15j),\n",
       " (2.4119033247468877+1.3322676295501878e-15j),\n",
       " (2.3978276772989506+2.4424906541753444e-15j),\n",
       " (1.3599860431956117-1.9984014443252818e-15j),\n",
       " (1.9056261753950772+1.3877787807814457e-15j),\n",
       " (2.5586554639780648-3.726186026398182e-15j),\n",
       " (3.064148052632067-5.717648576819556e-15j),\n",
       " (3.8788307749685984+1.8041124150158794e-15j),\n",
       " (1.4441596895081723-4.3021142204224816e-15j),\n",
       " (1.8747954984537216+4.996003610813204e-16j),\n",
       " (1.4621857584917333-8.104628079763643e-15j),\n",
       " (3.5333562953681934+1.1657341758564144e-15j),\n",
       " (2.0405334408254063-1.021405182655144e-14j),\n",
       " (2.731657256305752-1.4155343563970746e-15j),\n",
       " (3.2807759994597787-7.494005416219807e-15j),\n",
       " (2.751585322257199+3.552713678800501e-15j),\n",
       " (1.5530034774951211+8.881784197001252e-16j),\n",
       " (2.1478875341896533-2.6645352591003757e-15j),\n",
       " (2.2480028916322787+2.6645352591003757e-15j),\n",
       " (1.8101244134397518+6.938893903907228e-16j),\n",
       " (1.5172043468499865-5.329070518200751e-15j),\n",
       " (2.1896012233669335-1.304512053934559e-15j),\n",
       " (2.4059592439806146+0j),\n",
       " (2.1836738859028486-7.382983113757291e-15j),\n",
       " (1.8677698696028209+2.7755575615628914e-16j),\n",
       " (2.889909405961637+5.662137425588298e-15j),\n",
       " (2.599519684017203+2.0539125955565396e-15j),\n",
       " (5.039663903491579-4.08006961549745e-15j),\n",
       " (2.853329511146349-2.0650148258027912e-14j),\n",
       " (1.697383529298932-6.439293542825908e-15j),\n",
       " (2.053295582924882-6.439293542825908e-15j),\n",
       " (2.429075012336135-2.6645352591003757e-15j),\n",
       " (2.5403797909662273-1.0047518372857667e-14j),\n",
       " (1.7941475867695473-3.552713678800501e-15j),\n",
       " (1.7793702687459572+5.245803791353865e-15j),\n",
       " (2.6107758227147+3.9968028886505635e-15j),\n",
       " (2.4052896529833347+3.913536161803677e-15j),\n",
       " (1.8539640324195616-6.411537967210279e-15j),\n",
       " (2.898935343288277-5.995204332975845e-15j),\n",
       " (1.942135739578113-2.6645352591003757e-15j),\n",
       " (1.3544149431117347-8.881784197001252e-16j),\n",
       " (1.6284806370651026-7.216449660063518e-15j),\n",
       " (2.062967054356914+1.9984014443252818e-15j),\n",
       " (3.3843545131715143-1.1657341758564144e-14j),\n",
       " (3.557738335971168-4.6074255521944e-15j),\n",
       " (2.218641150100691+7.271960811294775e-15j),\n",
       " (2.9503811113626774-2.1649348980190553e-15j),\n",
       " (2.11819006076038+5.995204332975845e-15j),\n",
       " (2.0885867757564327-2.220446049250313e-15j),\n",
       " (2.6161371844332706-6.8833827526759706e-15j),\n",
       " (3.3007337671600396-1.7486012637846216e-15j),\n",
       " (4.603167505679188-3.2751579226442118e-15j),\n",
       " (4.352162000124299-1.0824674490095276e-14j),\n",
       " (1.724251353808298+3.9968028886505635e-15j),\n",
       " (4.299227593596228+9.103828801926284e-15j),\n",
       " (2.8197454955802925+1.2434497875801753e-14j),\n",
       " (3.081317864114512-3.552713678800501e-15j),\n",
       " (1.8575392993126627+7.216449660063518e-16j),\n",
       " (1.6755236769328619+3.941291737419306e-15j),\n",
       " (1.4323024726708056-4.690692279041286e-15j),\n",
       " (2.572754845143809-5.412337245047638e-15j),\n",
       " (2.890307777824752-8.881784197001252e-16j),\n",
       " (2.086300095168834+6.439293542825908e-15j),\n",
       " (2.7597803623996953+7.105427357601002e-15j),\n",
       " (2.138318700678983+7.355227538141662e-15j),\n",
       " (2.0858239576499535+1.6653345369377348e-15j),\n",
       " (2.799458018988819-3.2751579226442118e-15j),\n",
       " (2.888293691583936-6.8833827526759706e-15j),\n",
       " (1.4134938027636137+2.7755575615628914e-17j),\n",
       " (2.2927802571733125+4.468647674116255e-15j),\n",
       " (2.8172935764670015-1.4432899320127035e-14j),\n",
       " (2.088217950545438+1.2212453270876722e-15j),\n",
       " (2.5564779750849196-6.8833827526759706e-15j),\n",
       " (2.256056171391954+1.0658141036401503e-14j),\n",
       " (1.7952610005945786+6.938893903907228e-16j),\n",
       " (1.5611956042900483-1.3322676295501878e-15j),\n",
       " (2.6787718632075013+2.4424906541753444e-15j),\n",
       " (2.73573807755006-1.7763568394002505e-15j),\n",
       " (3.427745915070801+4.385380947269368e-15j),\n",
       " (1.4484637702867724+5.35682609381638e-15j),\n",
       " (4.321130806275157+3.774758283725532e-15j),\n",
       " (1.0955991071669153+8.881784197001252e-16j),\n",
       " (3.040273614645826-4.6629367034256575e-15j),\n",
       " (1.7661908187955753-1.970645868709653e-14j),\n",
       " (1.6014616659894738+1.27675647831893e-15j),\n",
       " (2.9581690693449207+2.4424906541753444e-15j),\n",
       " (2.627285996944634-6.106226635438361e-16j),\n",
       " (5.605408280590833+7.771561172376096e-16j),\n",
       " (3.2104113029771817+2.0539125955565396e-15j),\n",
       " (3.503468988504366-4.440892098500626e-16j),\n",
       " (3.292421742625045+1.7763568394002505e-15j),\n",
       " (0.987339430019901+1.2434497875801753e-14j),\n",
       " (1.3616645663438551+7.549516567451064e-15j),\n",
       " (2.244546856659742-9.506284648352903e-16j),\n",
       " (5.128294163001659+1.6653345369377348e-15j),\n",
       " (2.1987784434997693+3.552713678800501e-15j),\n",
       " (1.7410548530440835+2.886579864025407e-15j),\n",
       " (2.6250348276143853-4.440892098500626e-15j),\n",
       " (3.4126784737738403-4.440892098500626e-16j),\n",
       " (1.8279284231735407-2.220446049250313e-15j),\n",
       " (1.8885194634844744-4.6629367034256575e-15j),\n",
       " (1.7364210241717197+4.440892098500626e-16j),\n",
       " (1.3293118131777195-2.4980018054066022e-15j),\n",
       " (1.8955811743512498-4.884981308350689e-15j),\n",
       " (2.8476854128223508+2.7755575615628914e-16j),\n",
       " (2.083917297434361+9.103828801926284e-15j),\n",
       " (1.8081267311369658+2.9976021664879227e-15j),\n",
       " (2.7245933821216184-8.326672684688674e-15j),\n",
       " (1.8021994043390137-5.9396931817445875e-15j),\n",
       " (2.2388512299814636-8.881784197001252e-16j),\n",
       " (2.2330219104902653-3.83026943495679e-15j),\n",
       " (2.019923168209907-4.413136522884997e-15j),\n",
       " (1.2388749542403836+0j),\n",
       " (4.7813359106599975-7.105427357601002e-15j),\n",
       " (1.4165002404598894+4.884981308350689e-15j),\n",
       " (3.248005073952445-3.7192471324942744e-15j),\n",
       " (2.802336987425921+6.661338147750939e-16j),\n",
       " (1.8098955431274462-2.1094237467877974e-15j),\n",
       " (1.7943864279067228+1.1102230246251565e-16j),\n",
       " (3.2429526012043226+1.3877787807814457e-15j),\n",
       " (3.4939223968652016+1.7763568394002505e-15j),\n",
       " (4.087493180539305-9.547918011776346e-15j),\n",
       " (1.5664371964363397+1.4988010832439613e-15j),\n",
       " (3.293114224186354-2.220446049250313e-16j),\n",
       " (1.9146997104111776+3.3584246494910985e-15j),\n",
       " (1.5396455671177307+5.329070518200751e-15j),\n",
       " (2.8630141502660473-3.3306690738754696e-16j),\n",
       " (3.485953361641222+6.772360450213455e-15j),\n",
       " (2.8578979570074736-2.6645352591003757e-15j),\n",
       " (2.967254329479351-1.9984014443252818e-15j),\n",
       " (3.2580899584982923+1.7763568394002505e-15j),\n",
       " (1.6084354894569448-2.220446049250313e-15j),\n",
       " (3.077113219140859-5.10702591327572e-15j),\n",
       " (1.6069279959429679-2.886579864025407e-15j),\n",
       " (3.9533245339983303-5.329070518200751e-15j),\n",
       " (3.2134043747289027-3.774758283725532e-15j),\n",
       " (2.486738215404799+8.132383655379272e-15j),\n",
       " (2.075343322425212-1.532107773982716e-14j),\n",
       " (1.44411655552247+2.886579864025407e-15j),\n",
       " (6.718364998436101-1.942890293094024e-15j),\n",
       " (4.42069403826725+9.325873406851315e-15j),\n",
       " (2.5659738807688797-1.7763568394002505e-15j),\n",
       " (1.3758991321547747+8.881784197001252e-16j),\n",
       " (2.5344028206086477+3.552713678800501e-15j),\n",
       " (1.8989353128103668-5.551115123125783e-16j),\n",
       " (4.2896515383256+9.103828801926284e-15j),\n",
       " (2.1356650653594897+4.440892098500626e-16j),\n",
       " (5.209057447475484-9.658940314238862e-15j),\n",
       " (2.1780069705245566-9.71445146547012e-16j),\n",
       " (2.670917012623171+2.220446049250313e-15j),\n",
       " (4.8205180923629065+3.552713678800501e-15j),\n",
       " (2.880622056040149+2.886579864025407e-15j),\n",
       " (3.4769849055645636-3.7192471324942744e-15j),\n",
       " (3.3950723949512307+7.549516567451064e-15j),\n",
       " (1.675208140951753+1.7763568394002505e-15j),\n",
       " (2.358933961674464+4.3298697960381105e-15j),\n",
       " (2.7365856581911103+7.771561172376096e-16j),\n",
       " (1.9331104423701477+4.440892098500626e-15j),\n",
       " (2.2536919887942517+3.774758283725532e-15j),\n",
       " (1.9700186503887842+2.6645352591003757e-15j),\n",
       " (2.3143484052076033+4.218847493575595e-15j),\n",
       " (2.3929531026802895+8.493206138382448e-15j),\n",
       " (1.5871547323502995+6.9111383282915995e-15j),\n",
       " (2.857006980826073-1.1546319456101628e-14j),\n",
       " (1.8081133119870314+8.881784197001252e-16j),\n",
       " (2.955477097939456+1.0658141036401503e-14j),\n",
       " (2.954657910015346+9.547918011776346e-15j),\n",
       " (3.735398239276096+2.55351295663786e-15j),\n",
       " (2.2499083196004293+3.3306690738754696e-15j),\n",
       " (1.9086709404619393-1.1102230246251565e-15j),\n",
       " (3.5320388069330377-3.6637359812630166e-15j),\n",
       " (2.7799049734366577+2.609024107869118e-15j),\n",
       " (1.2759862582560544+8.881784197001252e-16j),\n",
       " (1.7597768513166585-2.6645352591003757e-15j),\n",
       " (6.504537909211152-9.992007221626409e-16j),\n",
       " (1.8192015774190367+2.3314683517128287e-15j),\n",
       " (1.4696646020729727-1.1102230246251565e-16j),\n",
       " (3.138054672110478+5.9396931817445875e-15j),\n",
       " (1.4066961951427608-7.771561172376096e-16j),\n",
       " (2.9207038780999994+6.38378239159465e-15j),\n",
       " (2.279362141753193-1.7430501486614958e-14j),\n",
       " (3.3170642919504667-1.7763568394002505e-15j),\n",
       " (2.0555699022377745-8.43769498715119e-15j),\n",
       " (1.766046348132555+9.992007221626409e-15j),\n",
       " (3.4575916356959553-7.549516567451064e-15j),\n",
       " (3.0919068116116932+1.7763568394002505e-15j),\n",
       " (2.575644848397385-3.885780586188048e-16j),\n",
       " (2.1578856117130485-3.552713678800501e-15j),\n",
       " (3.44980882766256+1.3322676295501878e-15j),\n",
       " (1.6699255243738715+6.661338147750939e-16j),\n",
       " (2.9857305530077625-1.4432899320127035e-15j),\n",
       " (3.6319025772859357+2.914335439641036e-15j),\n",
       " (1.8167868220002354+2.0261570199409107e-15j),\n",
       " (1.721817595078266+2.7755575615628914e-17j),\n",
       " (2.922455462896453-2.6645352591003757e-15j),\n",
       " (2.2427055034552694-3.3306690738754696e-15j),\n",
       " (2.8010306831544227+1.3322676295501878e-15j),\n",
       " (3.2247293221909104+8.43769498715119e-15j),\n",
       " (3.0487176782044436+4.0245584642661925e-15j),\n",
       " (1.9322574192970858-9.103828801926284e-15j),\n",
       " (1.4368681756820862-4.440892098500626e-15j),\n",
       " (3.4172875578402326+1.199040866595169e-14j),\n",
       " (2.815619595479415-4.440892098500626e-15j),\n",
       " (4.720176101050885+2.7200464103316335e-15j),\n",
       " (2.8535939192050694+3.219646771412954e-15j),\n",
       " (1.0576483454565206-8.326672684688674e-16j),\n",
       " (1.4384565612404288+1.1102230246251565e-16j),\n",
       " (2.2631813514459296-4.440892098500626e-15j),\n",
       " (2.8889222867353155-1.1102230246251565e-15j),\n",
       " (5.427703022123495+1.1379786002407855e-15j),\n",
       " (2.926816892984487-7.105427357601002e-15j),\n",
       " (2.096183690739718-2.858824288409778e-15j),\n",
       " (2.3392794807094184+1.7763568394002505e-15j),\n",
       " (1.69463117808497-5.495603971894525e-15j),\n",
       " (2.6588295889095797-4.052314039881821e-15j),\n",
       " (1.9977580903442416+4.718447854656915e-16j),\n",
       " (6.6039089345703275-4.884981308350689e-15j),\n",
       " (2.502008808611052+1.8041124150158794e-15j),\n",
       " (1.6698387643948367-3.0531133177191805e-15j),\n",
       " (2.2061245320999667+2.3869795029440866e-15j),\n",
       " (2.0833178158508083+1.1102230246251565e-16j),\n",
       " (2.3603558629701737-7.993605777301127e-15j),\n",
       " (2.687032295258163-1.1879386363489175e-14j),\n",
       " (3.426455852634973+5.551115123125783e-15j),\n",
       " (2.0045214275627004+0j),\n",
       " (2.476936729305894-3.2751579226442118e-15j),\n",
       " (4.281611745285847+3.3861802251067274e-15j),\n",
       " (1.776637499948929+8.881784197001252e-16j),\n",
       " (2.5037480217647925+3.774758283725532e-15j),\n",
       " (2.2798373528152283-9.769962616701378e-15j),\n",
       " (2.446822581691478-7.271960811294775e-15j),\n",
       " (2.6935050532043205+8.215650382226158e-15j),\n",
       " (2.2261636387665007-5.551115123125783e-15j),\n",
       " (3.2592617220514413-1.9984014443252818e-15j),\n",
       " (2.724737807299281-1.519617764955683e-14j),\n",
       " (1.7323228255062375-4.107825191113079e-15j),\n",
       " (2.5432799090362685+7.771561172376096e-15j),\n",
       " (2.1610385996311052-1.4876988529977098e-14j),\n",
       " (2.6515040669498617+2.6645352591003757e-15j),\n",
       " (4.381693556907338+1.0658141036401503e-14j),\n",
       " (1.6669729885720734-8.326672684688674e-16j),\n",
       " (2.1408765234232128+1.1102230246251565e-14j),\n",
       " (2.651255993865753-1.7763568394002505e-15j),\n",
       " (4.946729154049876+2.9976021664879227e-15j),\n",
       " (2.3609449688099353+1.6653345369377348e-16j),\n",
       " (5.708869987319858+2.4980018054066022e-15j),\n",
       " (1.2011153226463858-2.4424906541753444e-15j),\n",
       " (2.258612217504812-3.552713678800501e-15j),\n",
       " (1.777045926605627-1.687538997430238e-14j),\n",
       " (2.6965871356740334+1.5543122344752192e-15j),\n",
       " (2.3262209884391947+2.4702462297909733e-15j),\n",
       " (3.686404911407621-2.3869795029440866e-15j),\n",
       " (1.9615802424264075+4.6629367034256575e-15j),\n",
       " (2.6581340753337095-2.4424906541753444e-15j),\n",
       " (1.6271199077708651-1.2156942119645464e-14j),\n",
       " (3.9037466763503987+4.6629367034256575e-15j),\n",
       " (2.593892060807913-1.2212453270876722e-15j),\n",
       " (3.575886133904717+6.661338147750939e-15j),\n",
       " (2.090974330026178-2.220446049250313e-15j),\n",
       " (2.5791604625817826-1.7763568394002505e-15j),\n",
       " (3.2461235282095267+8.992806499463768e-15j),\n",
       " (2.497105975347779+1.5543122344752192e-15j),\n",
       " (2.103231912421844+4.884981308350689e-15j),\n",
       " (1.8562937320157147-2.525757381022231e-15j),\n",
       " (1.7237084203232982+3.1086244689504383e-15j),\n",
       " (2.5998867849305753+3.3306690738754696e-15j),\n",
       " (3.7116734757143632+5.384581669432009e-15j),\n",
       " (1.5660751245342936+6.661338147750939e-16j),\n",
       " (2.3047864426047724-1.9984014443252818e-15j),\n",
       " (1.5344946154077093-2.6645352591003757e-15j),\n",
       " (3.204104597708202+1.1546319456101628e-14j),\n",
       " (2.7105424318774496-2.4424906541753444e-15j),\n",
       " (3.047449450511124+4.884981308350689e-15j),\n",
       " (2.3317706791243324+7.549516567451064e-15j),\n",
       " (1.8599838390846557-1.354472090042691e-14j),\n",
       " (2.195277562048762-2.3314683517128287e-15j),\n",
       " (2.8883429118855144+1.7763568394002505e-15j),\n",
       " (1.9827568613351154-1.7763568394002505e-15j),\n",
       " (2.262822834312324-4.524158825347513e-15j),\n",
       " (1.9499286219029859+2.886579864025407e-15j),\n",
       " (2.1319671842871486+3.552713678800501e-15j),\n",
       " (1.7578890568748236+8.93729534823251e-15j),\n",
       " (2.2690317215892226+3.552713678800501e-15j),\n",
       " (1.9490935460976058+8.881784197001252e-16j),\n",
       " (2.406491291310438-3.9968028886505635e-15j),\n",
       " (1.2796176910387942-7.105427357601002e-15j),\n",
       " (2.759529147978249-2.1649348980190553e-15j),\n",
       " (2.221426326221568+8.326672684688674e-16j),\n",
       " (2.5558506078161614+0j),\n",
       " (2.762694146286158+2.942091015256665e-15j),\n",
       " (2.5227399779392172-2.220446049250313e-16j),\n",
       " (3.526694483793378+3.552713678800501e-15j),\n",
       " (2.2644321349150704-1.7208456881689926e-15j),\n",
       " (2.245886417802968+3.885780586188048e-15j),\n",
       " (3.821693057336333-6.661338147750939e-15j),\n",
       " (1.8022740339480006+7.993605777301127e-15j),\n",
       " (2.2491671681245577+6.217248937900877e-15j),\n",
       " (3.8988960455986614+7.549516567451064e-15j),\n",
       " (2.3623397542106552-2.192690473634684e-15j),\n",
       " (4.184239157123892-1.942890293094024e-15j),\n",
       " (3.4995136253007963+3.552713678800501e-15j),\n",
       " (1.9061506714908987+1.2836953722228372e-16j),\n",
       " (2.9285077649869145+6.6058269965196814e-15j),\n",
       " (2.5130187175055836-2.3314683517128287e-15j),\n",
       " (1.4294202549600072-8.326672684688674e-16j),\n",
       " (1.459036198172071+1.1657341758564144e-15j),\n",
       " (2.0358491079841343-7.993605777301127e-15j),\n",
       " (2.1677881326669066-6.8833827526759706e-15j),\n",
       " (2.5444248648279526-2.6645352591003757e-15j),\n",
       " (2.7150951988172203-3.0531133177191805e-16j),\n",
       " (2.1562007810387556-5.10702591327572e-15j),\n",
       " (2.3665907323985014+4.440892098500626e-16j),\n",
       " (2.4374252940282277-1.4155343563970746e-15j),\n",
       " (3.7130416796100647-1.2434497875801753e-14j),\n",
       " (1.9814590891344572+6.217248937900877e-15j),\n",
       " (2.0983169258756367+4.163336342344337e-15j),\n",
       " (2.768510182310793-4.3298697960381105e-15j),\n",
       " (1.8066592036075546-1.942890293094024e-15j),\n",
       " (1.69809033376281-1.1934897514720433e-15j),\n",
       " (3.5842063133075293-4.6629367034256575e-15j),\n",
       " (3.136962681068182-1.4988010832439613e-15j),\n",
       " (4.985932164335679+2.9976021664879227e-15j),\n",
       " (1.7520581503994244+2.6645352591003757e-15j),\n",
       " (2.2929586309931125-7.549516567451064e-15j),\n",
       " (2.3553483494020675-4.9960036108132044e-15j),\n",
       " (2.2198318065774103+5.329070518200751e-15j),\n",
       " (3.01632069791048-4.440892098500626e-16j),\n",
       " (2.2555003563020843+6.661338147750939e-15j),\n",
       " (1.662290579974048-7.438494264988549e-15j),\n",
       " (2.075431510170425-3.1086244689504383e-15j),\n",
       " (6.580070649305302-3.497202527569243e-15j),\n",
       " (1.7627149647470048-1.942890293094024e-15j),\n",
       " (2.127994259270995+2.1649348980190553e-15j),\n",
       " (1.2813886373882895+3.4416913763379853e-15j),\n",
       " (3.2537055381652635-8.881784197001252e-16j),\n",
       " (1.711087511697336-3.774758283725532e-15j),\n",
       " (6.2819684498845945+2.4424906541753444e-15j),\n",
       " (1.636833627572841-1.5543122344752192e-15j),\n",
       " (2.210771101003928+3.6637359812630166e-15j),\n",
       " (1.8362631804923382-3.4139358007223564e-15j),\n",
       " (1.9720208967094806-9.769962616701378e-15j),\n",
       " (1.874986659953061-4.163336342344337e-16j),\n",
       " (2.8547148656097114-9.631184738623233e-15j),\n",
       " (3.3068619158960324-4.440892098500626e-16j),\n",
       " (4.020056089785793-1.1546319456101628e-14j),\n",
       " (2.923199283663166-2.6645352591003757e-15j),\n",
       " (1.7396816240526007+2.220446049250313e-15j),\n",
       " (1.826893740719484-5.10702591327572e-15j),\n",
       " (5.204199332671955+2.4424906541753444e-15j),\n",
       " (2.55744032832372+3.552713678800501e-15j),\n",
       " (1.5283535574222498-4.9960036108132044e-15j),\n",
       " (2.1548465496670364+5.551115123125783e-16j),\n",
       " (1.754784309990356-8.43769498715119e-15j),\n",
       " (1.9023054231603984+1.1102230246251565e-15j),\n",
       " (3.54021619303162+5.218048215738236e-15j),\n",
       " (1.7569745593533632-1.0824674490095276e-15j),\n",
       " (2.09932264126999+6.6058269965196814e-15j),\n",
       " (3.1737963580223365-1.3322676295501878e-15j),\n",
       " (3.641310315706484-7.049916206369744e-15j),\n",
       " (1.4519762727789818+4.996003610813204e-16j),\n",
       " (3.226174356728567+4.052314039881821e-15j),\n",
       " (3.0661652761279328+6.661338147750939e-16j),\n",
       " (2.309064239210535+3.3306690738754696e-15j),\n",
       " (1.9228649257168158+3.552713678800501e-15j),\n",
       " (2.3302341602308765+2.3869795029440866e-15j),\n",
       " (2.700114186514366+0j),\n",
       " (1.9646383832356769-3.3861802251067274e-15j),\n",
       " (3.410940264863583-1.609823385706477e-15j),\n",
       " (2.4713634991042337+7.549516567451064e-15j),\n",
       " (2.986380401348171+2.886579864025407e-15j),\n",
       " (1.9371050756207158+3.1086244689504383e-15j),\n",
       " (3.2726211096290285+9.797718192317006e-15j),\n",
       " (2.7491774697210296-2.220446049250313e-15j),\n",
       " (3.0903266934669844+5.773159728050814e-15j),\n",
       " (3.11036733598238+1.9984014443252818e-15j),\n",
       " (1.4838464572139873-1.1102230246251565e-16j),\n",
       " (1.1887288599524268-5.10702591327572e-15j),\n",
       " (2.492533197770676+2.248201624865942e-15j),\n",
       " (2.5880880613096338+1.7763568394002505e-15j),\n",
       " (1.9719497741103993-1.3322676295501878e-15j),\n",
       " (3.4585833181713745+1.2101430968414206e-14j),\n",
       " (2.9763214201476433-2.6645352591003757e-15j),\n",
       " (1.7942789270953066+5.245803791353865e-15j),\n",
       " (5.0764777886901555+1.1102230246251565e-15j),\n",
       " (2.4436836384568537+3.552713678800501e-15j),\n",
       " (1.7781442802424294+3.219646771412954e-15j),\n",
       " (1.6760636276276966-4.440892098500626e-16j),\n",
       " (3.018895255482374+1.0880185641326534e-14j),\n",
       " (1.6894056375825812-1.1934897514720433e-15j),\n",
       " (2.4089645062866296-8.881784197001252e-15j),\n",
       " (2.67268921404823-2.220446049250313e-16j),\n",
       " (3.015322032759224+5.218048215738236e-15j),\n",
       " (2.469155855133046-5.329070518200751e-15j),\n",
       " (2.3092052298896704+5.773159728050814e-15j),\n",
       " (1.772491626206829+2.831068712794149e-15j),\n",
       " ...]"
      ]
     },
     "execution_count": 23,
     "metadata": {},
     "output_type": "execute_result"
    }
   ],
   "source": [
    "# Program drives the blocks that are constrained to be a certain values to these values, but the rest are being driven to 0.\n",
    "[np.trace(real_semidef_obj_f[i]@end_product) for i in range(len(real_semidef_obj_f))]"
   ]
  },
  {
   "cell_type": "code",
   "execution_count": 24,
   "metadata": {},
   "outputs": [
    {
     "data": {
      "text/plain": [
       "array([0.01514139, 0.04516751, 0.06098766, 0.0864434 , 0.12434949,\n",
       "       0.14115778, 0.15573037, 0.1720857 , 0.19186617, 0.20056491,\n",
       "       0.76742683])"
      ]
     },
     "execution_count": 24,
     "metadata": {},
     "output_type": "execute_result"
    }
   ],
   "source": [
    "np.linalg.eigvalsh((opt_U_plus_dagger_1 - opt_U_minus_dagger_1))"
   ]
  },
  {
   "cell_type": "code",
   "execution_count": 25,
   "metadata": {},
   "outputs": [],
   "source": [
    "pump = np.array(list(opt_beta[0]) + list(opt_beta[-1]))\n",
    "test_W_plus = scipy.linalg.expm((delta_k + beta_weight*opt_beta)*z[-1])\n",
    "test_W_minus = scipy.linalg.expm((delta_k - beta_weight*opt_beta)*z[-1])"
   ]
  },
  {
   "cell_type": "code",
   "execution_count": 26,
   "metadata": {},
   "outputs": [
    {
     "data": {
      "text/plain": [
       "[<matplotlib.lines.Line2D at 0x7fa5ea1298d0>]"
      ]
     },
     "execution_count": 26,
     "metadata": {},
     "output_type": "execute_result"
    },
    {
     "data": {
      "image/png": "[encoded data removed]",
      "text/plain": [
       "<Figure size 640x480 with 1 Axes>"
      ]
     },
     "metadata": {},
     "output_type": "display_data"
    }
   ],
   "source": [
    "plt.plot(new_beta[0])"
   ]
  },
  {
   "cell_type": "code",
   "execution_count": 27,
   "metadata": {},
   "outputs": [
    {
     "name": "stderr",
     "output_type": "stream",
     "text": [
      "/home/jiaqizhao/miniconda3/envs/cvxpy_opt/lib/python3.11/site-packages/matplotlib/cbook/__init__.py:1340: ComplexWarning: Casting complex values to real discards the imaginary part\n",
      "  return np.asarray(x, float)\n"
     ]
    },
    {
     "data": {
      "text/plain": [
       "[<matplotlib.lines.Line2D at 0x7fa5d56cd510>]"
      ]
     },
     "execution_count": 27,
     "metadata": {},
     "output_type": "execute_result"
    },
    {
     "data": {
      "image/png": "[encoded data removed]",
      "text/plain": [
       "<Figure size 640x480 with 1 Axes>"
      ]
     },
     "metadata": {},
     "output_type": "display_data"
    }
   ],
   "source": [
    "plt.plot(pump)"
   ]
  },
  {
   "cell_type": "code",
   "execution_count": 28,
   "metadata": {},
   "outputs": [
    {
     "data": {
      "text/plain": [
       "array([0.07225503, 0.01782519, 0.01487407, 0.01298536, 0.0124573 ,\n",
       "       0.01053003, 0.01004117, 0.00935557, 0.00368217, 0.00224853,\n",
       "       0.00090598])"
      ]
     },
     "execution_count": 28,
     "metadata": {},
     "output_type": "execute_result"
    }
   ],
   "source": [
    "(scipy.linalg.svd(test_W_plus - test_W_minus)[1])"
   ]
  },
  {
   "cell_type": "code",
   "execution_count": 29,
   "metadata": {},
   "outputs": [
    {
     "data": {
      "text/plain": [
       "<matplotlib.image.AxesImage at 0x7fa5d5676790>"
      ]
     },
     "execution_count": 29,
     "metadata": {},
     "output_type": "execute_result"
    },
    {
     "data": {
      "image/png": "[encoded data removed]",
      "text/plain": [
       "<Figure size 480x480 with 1 Axes>"
      ]
     },
     "metadata": {},
     "output_type": "display_data"
    }
   ],
   "source": [
    "plt.matshow(np.real(opt_beta))"
   ]
  },
  {
   "cell_type": "code",
   "execution_count": 30,
   "metadata": {},
   "outputs": [
    {
     "data": {
      "text/plain": [
       "array([[0.09307324, 0.08372957, 0.08349278, 0.08927898, 0.07582698,\n",
       "        0.08078671, 0.06917934, 0.07142183, 0.06788391, 0.07215328,\n",
       "        0.08519875],\n",
       "       [0.08372957, 0.09265632, 0.08193019, 0.08659513, 0.08416378,\n",
       "        0.07218051, 0.07406289, 0.07309359, 0.06989944, 0.06654121,\n",
       "        0.07816204],\n",
       "       [0.08349278, 0.08193019, 0.08896148, 0.08378048, 0.07976258,\n",
       "        0.07920548, 0.06336868, 0.07719223, 0.06926534, 0.06608501,\n",
       "        0.0720496 ],\n",
       "       [0.08927898, 0.08659513, 0.08378048, 0.09861493, 0.07864228,\n",
       "        0.07634301, 0.07195453, 0.07328662, 0.08076719, 0.07365422,\n",
       "        0.07928155],\n",
       "       [0.07582698, 0.08416378, 0.07976258, 0.07864228, 0.09290793,\n",
       "        0.07424859, 0.06948854, 0.0684462 , 0.0648626 , 0.07170542,\n",
       "        0.07092728],\n",
       "       [0.08078671, 0.07218051, 0.07920548, 0.07634301, 0.07424859,\n",
       "        0.08954605, 0.06893125, 0.06727976, 0.06238332, 0.05835986,\n",
       "        0.07019427],\n",
       "       [0.06917934, 0.07406289, 0.06336868, 0.07195453, 0.06948854,\n",
       "        0.06893125, 0.08139324, 0.06373161, 0.05632229, 0.05055247,\n",
       "        0.05390214],\n",
       "       [0.07142183, 0.07309359, 0.07719223, 0.07328662, 0.0684462 ,\n",
       "        0.06727976, 0.06373161, 0.09121062, 0.06877242, 0.06224286,\n",
       "        0.06320853],\n",
       "       [0.06788391, 0.06989944, 0.06926534, 0.08076719, 0.0648626 ,\n",
       "        0.06238332, 0.05632229, 0.06877242, 0.08749872, 0.06520454,\n",
       "        0.07044962],\n",
       "       [0.07215328, 0.06654121, 0.06608501, 0.07365422, 0.07170542,\n",
       "        0.05835986, 0.05055247, 0.06224286, 0.06520454, 0.08413872,\n",
       "        0.07463075],\n",
       "       [0.08519875, 0.07816204, 0.0720496 , 0.07928155, 0.07092728,\n",
       "        0.07019427, 0.05390214, 0.06320853, 0.07044962, 0.07463075,\n",
       "        0.09999522]])"
      ]
     },
     "execution_count": 30,
     "metadata": {},
     "output_type": "execute_result"
    }
   ],
   "source": [
    "# The block beta dagger beta is not the same as (Zbeta dagger)dagger (Zbeta)...\n",
    "(np.real(end_product[(2*N_z + 1)*N_omega:(2*N_z + 2)*N_omega, (2*N_z + 1)*N_omega:(2*N_z + 2)*N_omega]))"
   ]
  },
  {
   "cell_type": "code",
   "execution_count": 31,
   "metadata": {},
   "outputs": [
    {
     "data": {
      "text/plain": [
       "array([[0.09307745, 0.08372339, 0.08348336, 0.08926993, 0.07582413,\n",
       "        0.0807794 , 0.06917257, 0.0714176 , 0.06788164, 0.0721473 ,\n",
       "        0.08518916],\n",
       "       [0.08372339, 0.09265761, 0.08192262, 0.08658813, 0.08415589,\n",
       "        0.07217786, 0.0740554 , 0.07308857, 0.06989487, 0.06653744,\n",
       "        0.0781548 ],\n",
       "       [0.08348336, 0.08192262, 0.08896447, 0.08377465, 0.07975535,\n",
       "        0.0791977 , 0.0633675 , 0.07718497, 0.06925973, 0.06608096,\n",
       "        0.07204651],\n",
       "       [0.08926993, 0.08658813, 0.08377465, 0.09861495, 0.0786368 ,\n",
       "        0.07633806, 0.071949  , 0.07328209, 0.08075899, 0.07364913,\n",
       "        0.07927701],\n",
       "       [0.07582413, 0.08415589, 0.07975535, 0.0786368 , 0.09290664,\n",
       "        0.07424283, 0.06948264, 0.06844232, 0.06485933, 0.0716977 ,\n",
       "        0.07092235],\n",
       "       [0.0807794 , 0.07217786, 0.0791977 , 0.07633806, 0.07424283,\n",
       "        0.08954463, 0.06892526, 0.06727561, 0.06237898, 0.05835683,\n",
       "        0.07018813],\n",
       "       [0.06917257, 0.0740554 , 0.0633675 , 0.071949  , 0.06948264,\n",
       "        0.06892526, 0.08139304, 0.06372648, 0.05631756, 0.05054907,\n",
       "        0.05389981],\n",
       "       [0.0714176 , 0.07308857, 0.07718497, 0.07328209, 0.06844232,\n",
       "        0.06727561, 0.06372648, 0.0912072 , 0.06876643, 0.0622381 ,\n",
       "        0.06320425],\n",
       "       [0.06788164, 0.06989487, 0.06925973, 0.08075899, 0.06485933,\n",
       "        0.06237898, 0.05631756, 0.06876643, 0.08749626, 0.06519961,\n",
       "        0.07044456],\n",
       "       [0.0721473 , 0.06653744, 0.06608096, 0.07364913, 0.0716977 ,\n",
       "        0.05835683, 0.05054907, 0.0622381 , 0.06519961, 0.0841375 ,\n",
       "        0.07462509],\n",
       "       [0.08518916, 0.0781548 , 0.07204651, 0.07927701, 0.07092235,\n",
       "        0.07018813, 0.05389981, 0.06320425, 0.07044456, 0.07462509,\n",
       "        0.09999327]])"
      ]
     },
     "execution_count": 31,
     "metadata": {},
     "output_type": "execute_result"
    }
   ],
   "source": [
    "(np.real(opt_beta.conj().T@opt_beta))"
   ]
  },
  {
   "cell_type": "code",
   "execution_count": 32,
   "metadata": {},
   "outputs": [
    {
     "data": {
      "text/plain": [
       "<matplotlib.image.AxesImage at 0x7fa5d49364d0>"
      ]
     },
     "execution_count": 32,
     "metadata": {},
     "output_type": "execute_result"
    },
    {
     "data": {
      "image/png": "[encoded data removed]",
      "text/plain": [
       "<Figure size 480x480 with 1 Axes>"
      ]
     },
     "metadata": {},
     "output_type": "display_data"
    }
   ],
   "source": [
    "# For free pump, constraints on Hankel form not implemented yet\n",
    "plt.matshow(np.real(opt_beta))"
   ]
  },
  {
   "cell_type": "code",
   "execution_count": 33,
   "metadata": {},
   "outputs": [
    {
     "data": {
      "text/plain": [
       "<matplotlib.image.AxesImage at 0x7fa5d487e790>"
      ]
     },
     "execution_count": 33,
     "metadata": {},
     "output_type": "execute_result"
    },
    {
     "data": {
      "image/png": "[encoded data removed]",
      "text/plain": [
       "<Figure size 480x480 with 1 Axes>"
      ]
     },
     "metadata": {},
     "output_type": "display_data"
    }
   ],
   "source": [
    "# It reads the exponential relation? When the pump is a diagonal matrix, it does\n",
    "# Diagonal elements of theoretical U_plus \n",
    "# Maximizes the negative of sum of Schimdt number?\n",
    "plt.matshow((np.real((1/np.sqrt(n))*scipy.linalg.expm((delta_k + opt_beta)*z[-1]))) - np.real((1/np.sqrt(n))*np.eye(N_omega)))"
   ]
  },
  {
   "cell_type": "code",
   "execution_count": 34,
   "metadata": {},
   "outputs": [
    {
     "data": {
      "text/plain": [
       "<matplotlib.image.AxesImage at 0x7fa5d5051b90>"
      ]
     },
     "execution_count": 34,
     "metadata": {},
     "output_type": "execute_result"
    },
    {
     "data": {
      "image/png": "[encoded data removed]",
      "text/plain": [
       "<Figure size 480x480 with 1 Axes>"
      ]
     },
     "metadata": {},
     "output_type": "display_data"
    }
   ],
   "source": [
    "plt.matshow(np.real(opt_U_plus_dagger_1) - np.real((0.0048/np.sqrt(n))*np.eye(N_omega)))"
   ]
  },
  {
   "cell_type": "code",
   "execution_count": 35,
   "metadata": {},
   "outputs": [
    {
     "data": {
      "text/plain": [
       "<matplotlib.image.AxesImage at 0x7fa5d50d6790>"
      ]
     },
     "execution_count": 35,
     "metadata": {},
     "output_type": "execute_result"
    },
    {
     "data": {
      "image/png": "[encoded data removed]",
      "text/plain": [
       "<Figure size 480x480 with 1 Axes>"
      ]
     },
     "metadata": {},
     "output_type": "display_data"
    }
   ],
   "source": [
    "# The B@B_dagger@U_plus from optimization\n",
    "plt.matshow(np.real(opt_unit@opt_U_plus_dagger_1))"
   ]
  },
  {
   "cell_type": "code",
   "execution_count": 36,
   "metadata": {},
   "outputs": [],
   "source": [
    "# Theoretical verification of Lippman-Schwinger\n",
    "proj = (projections[3*N_omega + 3])\n",
    "test_lin = 0.5*np.trace(proj.conj().T@W_plus[-1].conj().T + proj@W_plus[-1])\n",
    "green_f_list = api.get_green_f(omega, z)\n",
    "green_f_list.reverse()\n",
    "green_f_list[0] = 0.5*green_f_list[0]\n",
    "green_f_list[-1] = 0.5*green_f_list[-1]\n",
    "test_quad_normal = 0.5*delta_z*np.trace(sum([W_plus[i].conj().T@proj.conj().T@green_f_list[i].conj().T@beta for i in range(len(W_plus))]))\n",
    "test_quad_dagger = 0.5*delta_z*np.trace(sum([beta.conj().T@green_f_list[i]@proj@W_plus[i] for i in range(len(W_plus))]))\n",
    "test_quad = test_quad_normal + test_quad_dagger\n",
    "test_cst = (1/np.sqrt(n))*np.trace(proj.conj().T@green_f_list[0].conj().T@rand_unitary + green_f_list[0]@proj@rand_unitary.conj().T)"
   ]
  },
  {
   "cell_type": "code",
   "execution_count": 37,
   "metadata": {},
   "outputs": [
    {
     "data": {
      "text/plain": [
       "((2.1174363891107575+0j),\n",
       " (0.06458118802822625-1.5881867761018131e-22j),\n",
       " (1.936808850115464+0j),\n",
       " (-0.11604635096706706-1.5881867761018131e-22j))"
      ]
     },
     "execution_count": 37,
     "metadata": {},
     "output_type": "execute_result"
    }
   ],
   "source": [
    "test_lin, test_quad, test_cst, - test_lin + test_quad + test_cst"
   ]
  }
 ],
 "metadata": {
  "kernelspec": {
   "display_name": "Python 3 (ipykernel)",
   "language": "python",
   "name": "python3"
  },
  "language_info": {
   "codemirror_mode": {
    "name": "ipython",
    "version": 3
   },
   "file_extension": ".py",
   "mimetype": "text/x-python",
   "name": "python",
   "nbconvert_exporter": "python",
   "pygments_lexer": "ipython3",
   "version": "3.11.4"
  }
 },
 "nbformat": 4,
 "nbformat_minor": 4
}
