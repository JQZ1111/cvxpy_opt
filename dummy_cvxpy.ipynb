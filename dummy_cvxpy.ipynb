{
 "cells": [
  {
   "cell_type": "code",
   "execution_count": 1,
   "metadata": {},
   "outputs": [],
   "source": [
    "import cvxpy as cp\n",
    "import numpy as np\n",
    "import scipy\n",
    "import scipy.sparse as sparse\n",
    "import matplotlib.pyplot as plt\n",
    "import vectorized_sdr as vect\n",
    "\n",
    "# Same thing as with cvxpy_vectorized_qcqp but without the dynamics\n",
    "np.random.seed(0)"
   ]
  },
  {
   "cell_type": "code",
   "execution_count": 2,
   "metadata": {},
   "outputs": [],
   "source": [
    "N_omega = 5\n",
    "n = 0\n",
    "W_plus = np.random.random((N_omega, N_omega))\n",
    "W_minus = np.random.random((N_omega, N_omega))\n",
    "J = 0.25*(W_plus@W_plus.conj().T + W_minus@W_minus.conj().T - 2*np.eye(N_omega))\n",
    "X = np.vstack([J, W_plus, W_minus])\n",
    "vect_W_plus = vect.mat_to_vec(W_plus)\n",
    "vect_W_minus = vect.mat_to_vec(W_minus)\n",
    "vect_J = vect.mat_to_vec(J)\n",
    "random_mat = np.random.random((N_omega, N_omega))\n",
    "x = sparse.vstack([vect_J, vect_W_plus, vect_W_minus])\n",
    "y = sparse.vstack([x, 1])"
   ]
  },
  {
   "cell_type": "code",
   "execution_count": 3,
   "metadata": {},
   "outputs": [],
   "source": [
    "# Let's try matrix equality of W_plus and W_minus to be something other than identity and then let us relax the matrix equalities a little\n",
    "proj = np.zeros((N_omega, N_omega))\n",
    "lin_terms = []\n",
    "#cst_terms = []\n",
    "J_def_quad = []\n",
    "cst_terms_def = []\n",
    "#lin_terms_W_plus_list = []\n",
    "#lin_terms_W_minus_list = []\n",
    "lin_terms_J_def = []\n",
    "for i in range(N_omega):\n",
    "    for j in range(N_omega):\n",
    "        projection = proj.copy()\n",
    "        projection[i, j] = 1\n",
    "        #cst_terms.append(0.5*np.trace(projection + projection.conj().T))\n",
    "        lin_terms.append(vect.mat_to_vec(projection))\n",
    "        diags = np.zeros((3*(N_omega**2), 3*(N_omega**2)))\n",
    "        diags[N_omega**2:2*(N_omega**2), N_omega**2:2*(N_omega**2)] = np.kron(np.eye(N_omega), projection)\n",
    "        diags[2*(N_omega**2):3*(N_omega**2), 2*(N_omega**2):3*(N_omega**2)] = np.kron(np.eye(N_omega), projection)\n",
    "        J_def_quad.append(sparse.csc_matrix(diags))\n",
    "        cst_terms_def.append(-np.trace(projection + projection.conj().T))\n",
    "for i in range(N_omega**2):\n",
    "    #lin_terms_W_plus_list.append(sparse.vstack([sparse.csc_matrix((N_omega**2, 1)), lin_terms[i], sparse.csc_matrix((N_omega**2, 1))]))\n",
    "    #lin_terms_W_minus_list.append(sparse.vstack([sparse.csc_matrix((N_omega**2, 1)), sparse.csc_matrix((N_omega**2, 1)), lin_terms[i]]))\n",
    "    lin_terms_J_def.append(sparse.vstack([-4*lin_terms[i], sparse.csc_matrix((N_omega**2, 1)), sparse.csc_matrix((N_omega**2, 1))]))"
   ]
  },
  {
   "cell_type": "code",
   "execution_count": 4,
   "metadata": {},
   "outputs": [],
   "source": [
    "#sdr_mat_W_plus = [sparse.bmat([[sparse.csc_matrix((3*(N_omega**2),3*(N_omega**2))), 0.5*lin_terms_W_plus_list[i]],[0.5*lin_terms_W_plus_list[i].conj().T, -cst_terms[i]]]) for i in range(len(lin_terms_W_plus_list))]\n",
    "#sdr_mat_W_minus = [sparse.bmat([[sparse.csc_matrix((3*(N_omega**2),3*(N_omega**2))), 0.5*lin_terms_W_minus_list[i]],[0.5*lin_terms_W_minus_list[i].conj().T, -cst_terms[i]]]) for i in range(len(lin_terms_W_minus_list))]\n",
    "sdr_mat_J_def = [sparse.bmat([[J_def_quad[i], 0.5*lin_terms_J_def[i]],[0.5*lin_terms_J_def[i].conj().T, cst_terms_def[i]]]) for i in range(len(lin_terms_J_def))]"
   ]
  },
  {
   "cell_type": "code",
   "execution_count": 5,
   "metadata": {},
   "outputs": [
    {
     "data": {
      "text/plain": [
       "[-4.440892098500626e-16,\n",
       " 0.0,\n",
       " 0.0,\n",
       " 0.0,\n",
       " -2.220446049250313e-16,\n",
       " 0.0,\n",
       " -4.440892098500626e-16,\n",
       " 4.440892098500626e-16,\n",
       " -2.220446049250313e-16,\n",
       " 0.0,\n",
       " 0.0,\n",
       " 4.440892098500626e-16,\n",
       " 4.440892098500626e-16,\n",
       " 0.0,\n",
       " 0.0,\n",
       " 0.0,\n",
       " -2.220446049250313e-16,\n",
       " 0.0,\n",
       " 0.0,\n",
       " 3.3306690738754696e-16,\n",
       " -2.220446049250313e-16,\n",
       " 0.0,\n",
       " 0.0,\n",
       " 3.3306690738754696e-16,\n",
       " 0.0]"
      ]
     },
     "execution_count": 5,
     "metadata": {},
     "output_type": "execute_result"
    }
   ],
   "source": [
    "[(y.conj().T@sdr_mat_J_def[i]@y).trace() for i in range(len(sdr_mat_J_def))]"
   ]
  },
  {
   "cell_type": "code",
   "execution_count": 6,
   "metadata": {},
   "outputs": [],
   "source": [
    "obj_quad = sparse.kron(sparse.eye(N_omega), -sparse.eye(N_omega))\n",
    "obj_quad.resize((3*(N_omega**2), 3*(N_omega**2)))\n",
    "obj_quad = sparse.bmat([[obj_quad, sparse.csc_matrix((3*(N_omega**2), 1))],[sparse.csc_matrix((1,3*(N_omega**2))), n]])"
   ]
  },
  {
   "cell_type": "code",
   "execution_count": 7,
   "metadata": {},
   "outputs": [],
   "source": [
    "constraint_unit = sparse.bmat([[sparse.csc_matrix((3*(N_omega**2), 3*(N_omega**2))), sparse.csc_matrix((3*(N_omega**2), 1))],[sparse.csc_matrix((1, 3*(N_omega**2))), sparse.eye(1)]])"
   ]
  },
  {
   "cell_type": "code",
   "execution_count": 11,
   "metadata": {},
   "outputs": [],
   "source": [
    "total_constraints = sdr_mat_J_def.copy() #+ sdr_mat_W_plus + sdr_mat_W_minus\n",
    "total_constraints.append(constraint_unit)\n",
    "variable = cp.Variable(shape = (3*(N_omega**2) + 1, 3*(N_omega**2) + 1))\n",
    "constraints = [variable >> 0]\n",
    "constraints += [cp.trace(sdr_mat_J_def[i]@variable) == 0 for i in range(len(sdr_mat_J_def))]\n",
    "#constraints += [cp.trace(sdr_mat_W_plus[i]@variable) == 0 for i in range(len(sdr_mat_W_plus))]\n",
    "#constraints += [cp.trace(sdr_mat_W_minus[i]@variable) == 0 for i in range(len(sdr_mat_W_minus))]\n",
    "constraints.append(cp.trace(constraint_unit@variable) == 1)\n",
    "constraints.append(cp.trace(obj_quad@variable) >= 0 )\n",
    "problem = cp.Problem(cp.Minimize(cp.trace(obj_quad@variable)), constraints)"
   ]
  },
  {
   "cell_type": "code",
   "execution_count": 12,
   "metadata": {},
   "outputs": [
    {
     "data": {
      "text/plain": [
       "[1.0]"
      ]
     },
     "execution_count": 12,
     "metadata": {},
     "output_type": "execute_result"
    }
   ],
   "source": [
    "[(y.conj().T@total_constraints[i]@y).toarray()[0,0] for i in range(len(total_constraints)) if np.abs((y.conj().T@total_constraints[i]@y).toarray()[0,0]) > 10**-9]"
   ]
  },
  {
   "cell_type": "code",
   "execution_count": 13,
   "metadata": {},
   "outputs": [
    {
     "name": "stdout",
     "output_type": "stream",
     "text": [
      "===============================================================================\n",
      "                                     CVXPY                                     \n",
      "                                     v1.4.2                                    \n",
      "===============================================================================\n",
      "(CVXPY) Feb 09 01:45:13 PM: Your problem has 5776 variables, 28 constraints, and 0 parameters.\n",
      "(CVXPY) Feb 09 01:45:13 PM: It is compliant with the following grammars: DCP, DQCP\n",
      "(CVXPY) Feb 09 01:45:13 PM: (If you need to solve this problem multiple times, but with different data, consider using parameters.)\n",
      "(CVXPY) Feb 09 01:45:13 PM: CVXPY will first compile your problem; then, it will invoke a numerical solver to obtain a solution.\n",
      "(CVXPY) Feb 09 01:45:13 PM: Your problem is compiled with the CPP canonicalization backend.\n",
      "-------------------------------------------------------------------------------\n",
      "                                  Compilation                                  \n",
      "-------------------------------------------------------------------------------\n",
      "(CVXPY) Feb 09 01:45:13 PM: Compiling problem (target solver=CLARABEL).\n",
      "(CVXPY) Feb 09 01:45:13 PM: Reduction chain: Dcp2Cone -> CvxAttr2Constr -> ConeMatrixStuffing -> CLARABEL\n",
      "(CVXPY) Feb 09 01:45:13 PM: Applying reduction Dcp2Cone\n",
      "(CVXPY) Feb 09 01:45:13 PM: Applying reduction CvxAttr2Constr\n",
      "(CVXPY) Feb 09 01:45:13 PM: Applying reduction ConeMatrixStuffing\n",
      "(CVXPY) Feb 09 01:45:13 PM: Applying reduction CLARABEL\n",
      "(CVXPY) Feb 09 01:45:13 PM: Finished problem compilation (took 1.571e-02 seconds).\n",
      "-------------------------------------------------------------------------------\n",
      "                                Numerical solver                               \n",
      "-------------------------------------------------------------------------------\n",
      "(CVXPY) Feb 09 01:45:13 PM: Invoking solver CLARABEL  to obtain a solution.\n",
      "-------------------------------------------------------------\n",
      "           Clarabel.rs v0.6.0  -  Clever Acronym              \n",
      "\n",
      "                   (c) Paul Goulart                          \n",
      "                University of Oxford, 2022                   \n",
      "-------------------------------------------------------------\n",
      "\n",
      "problem:\n",
      "  variables     = 5776\n",
      "  constraints   = 2953\n",
      "  nnz(P)        = 0\n",
      "  nnz(A)        = 6107\n",
      "  cones (total) = 3\n",
      "    :        Zero = 1,  numel = 26\n",
      "    : Nonnegative = 1,  numel = 1\n",
      "    : PSDTriangle = 1,  numel = 2926\n",
      "\n",
      "settings:\n",
      "  linear algebra: direct / qdldl, precision: 64 bit\n",
      "  max iter = 200, time limit = Inf,  max step = 0.990\n",
      "  tol_feas = 1.0e-8, tol_gap_abs = 1.0e-8, tol_gap_rel = 1.0e-8,\n",
      "  static reg : on, ϵ1 = 1.0e-8, ϵ2 = 4.9e-32\n",
      "  dynamic reg: on, ϵ = 1.0e-13, δ = 2.0e-7\n",
      "  iter refine: on, reltol = 1.0e-13, abstol = 1.0e-12,\n",
      "               max iter = 10, stop ratio = 5.0\n",
      "  equilibrate: on, min_scale = 1.0e-4, max_scale = 1.0e4\n",
      "               max iter = 10\n",
      "\n",
      "iter    pcost        dcost       gap       pres      dres      k/t        μ       step      \n",
      "---------------------------------------------------------------------------------------------\n",
      "  0  +0.0000e+00  -0.0000e+00  0.00e+00  6.76e-01  7.91e-01  1.00e+00  1.40e+00   ------   \n",
      "  1  -1.9994e-01  -2.4204e-01  4.21e-02  2.19e-01  2.40e-01  1.22e-01  5.78e-01  7.82e-01  \n",
      "  2  -1.4478e-02  +5.2032e-03  1.97e-02  2.43e-02  2.50e-02  3.38e-02  8.72e-02  9.15e-01  \n",
      "  3  -3.4238e-04  +1.0030e-04  4.43e-04  5.82e-04  5.93e-04  7.74e-04  2.18e-03  9.75e-01  \n",
      "  4  -5.6110e-05  +3.8887e-06  6.00e-05  9.58e-05  9.72e-05  1.14e-04  3.57e-04  8.54e-01  \n",
      "  5  -3.6877e-06  -4.2115e-06  5.24e-07  6.39e-06  6.48e-06  3.09e-06  2.39e-05  9.78e-01  \n",
      "  6  -3.4847e-07  -3.9596e-07  4.75e-08  6.05e-07  6.12e-07  2.95e-07  2.25e-06  9.08e-01  \n",
      "  7  -1.8091e-08  -2.8407e-08  1.03e-08  3.17e-08  3.20e-08  7.58e-09  1.18e-07  9.89e-01  \n",
      "  8  -9.8683e-10  -1.5065e-09  5.20e-10  1.63e-09  1.64e-09  3.98e-10  6.03e-09  9.49e-01  \n",
      "---------------------------------------------------------------------------------------------\n",
      "Terminated with status = Solved\n",
      "solve time = 28.88461635s\n",
      "-------------------------------------------------------------------------------\n",
      "                                    Summary                                    \n",
      "-------------------------------------------------------------------------------\n",
      "(CVXPY) Feb 09 01:45:42 PM: Problem status: optimal\n",
      "(CVXPY) Feb 09 01:45:42 PM: Optimal value: -9.868e-10\n",
      "(CVXPY) Feb 09 01:45:42 PM: Compilation took 1.571e-02 seconds\n",
      "(CVXPY) Feb 09 01:45:42 PM: Solver (including time spent in interface) took 2.891e+01 seconds\n"
     ]
    },
    {
     "data": {
      "text/plain": [
       "-9.868252432446417e-10"
      ]
     },
     "execution_count": 13,
     "metadata": {},
     "output_type": "execute_result"
    }
   ],
   "source": [
    "problem.solve(solver = \"CLARABEL\", verbose = True)"
   ]
  },
  {
   "cell_type": "code",
   "execution_count": 43,
   "metadata": {},
   "outputs": [],
   "source": [
    "np_variable = np.array(variable.value)"
   ]
  },
  {
   "cell_type": "code",
   "execution_count": 45,
   "metadata": {},
   "outputs": [],
   "source": [
    "test_vec_W_minus = np_variable[2*(N_omega**2):3*(N_omega**2), -1]\n",
    "test_vec_W_plus = np_variable[(N_omega**2):2*(N_omega**2), -1]\n",
    "test_vec_J = np_variable[:(N_omega**2), -1]"
   ]
  },
  {
   "cell_type": "code",
   "execution_count": null,
   "metadata": {},
   "outputs": [],
   "source": [
    "vect"
   ]
  },
  {
   "cell_type": "code",
   "execution_count": 11,
   "metadata": {},
   "outputs": [
    {
     "data": {
      "text/plain": [
       "array([[1., 0., 0., 1.],\n",
       "       [0., 0., 0., 0.],\n",
       "       [0., 0., 0., 0.],\n",
       "       [1., 0., 0., 1.]])"
      ]
     },
     "execution_count": 11,
     "metadata": {},
     "output_type": "execute_result"
    }
   ],
   "source": [
    "(vect_W_plus@vect_W_plus.conj().T).toarray()"
   ]
  },
  {
   "cell_type": "code",
   "execution_count": 22,
   "metadata": {},
   "outputs": [
    {
     "data": {
      "text/plain": [
       "array([[ 1.00018824e+00, -1.51556391e-18, -1.26687167e-19,\n",
       "         1.00001691e+00],\n",
       "       [ 4.89361576e-19,  1.71330078e-04, -9.03698390e-20,\n",
       "        -2.31678463e-19],\n",
       "       [-1.26687167e-19, -9.03698390e-20,  1.71330080e-04,\n",
       "        -1.30674945e-18],\n",
       "       [ 1.00001691e+00, -2.31678463e-19,  6.98175815e-19,\n",
       "         1.00018824e+00]])"
      ]
     },
     "execution_count": 22,
     "metadata": {},
     "output_type": "execute_result"
    }
   ],
   "source": [
    "np_variable[N_omega**2:2*(N_omega**2), N_omega**2:2*(N_omega**2)]"
   ]
  },
  {
   "cell_type": "code",
   "execution_count": 15,
   "metadata": {},
   "outputs": [
    {
     "data": {
      "text/plain": [
       "<matplotlib.image.AxesImage at 0x7fd717448910>"
      ]
     },
     "execution_count": 15,
     "metadata": {},
     "output_type": "execute_result"
    },
    {
     "data": {
      "image/png": "[encoded data removed]",
      "text/plain": [
       "<Figure size 480x480 with 1 Axes>"
      ]
     },
     "metadata": {},
     "output_type": "display_data"
    }
   ],
   "source": [
    "plt.matshow(np_variable)"
   ]
  }
 ],
 "metadata": {
  "kernelspec": {
   "display_name": "Python 3 (ipykernel)",
   "language": "python",
   "name": "python3"
  },
  "language_info": {
   "codemirror_mode": {
    "name": "ipython",
    "version": 3
   },
   "file_extension": ".py",
   "mimetype": "text/x-python",
   "name": "python",
   "nbconvert_exporter": "python",
   "pygments_lexer": "ipython3",
   "version": "3.11.4"
  }
 },
 "nbformat": 4,
 "nbformat_minor": 4
}
