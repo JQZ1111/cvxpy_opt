{
 "cells": [
  {
   "cell_type": "code",
   "execution_count": 1,
   "metadata": {},
   "outputs": [],
   "source": [
    "import cvxpy as cp\n",
    "import numpy as np\n",
    "import scipy\n",
    "import scipy.sparse as sparse\n",
    "import matplotlib.pyplot as plt\n",
    "import vectorized_sdr as vect"
   ]
  },
  {
   "cell_type": "code",
   "execution_count": 2,
   "metadata": {},
   "outputs": [],
   "source": [
    "N_omega = 2\n",
    "n = 0\n",
    "W_plus = np.eye(N_omega)\n",
    "W_minus = np.eye(N_omega)\n",
    "J = 0.25*(W_plus@W_plus.conj().T + W_minus@W_minus.conj().T - 2*np.eye(N_omega))\n",
    "X = np.vstack([J, W_plus, W_minus])\n",
    "vect_W_plus = vect.mat_to_vec(W_plus)\n",
    "vect_W_minus = vect.mat_to_vec(W_minus)\n",
    "vect_J = vect.mat_to_vec(J)\n",
    "x = sparse.vstack([vect_J, vect_W_plus, vect_W_minus])\n",
    "y = sparse.vstack([x, 1])"
   ]
  },
  {
   "cell_type": "code",
   "execution_count": 3,
   "metadata": {},
   "outputs": [],
   "source": [
    "proj = np.zeros((N_omega, N_omega))\n",
    "lin_terms = []\n",
    "cst_terms = []\n",
    "J_def_quad = []\n",
    "cst_terms_def = []\n",
    "lin_terms_W_plus_list = []\n",
    "lin_terms_W_minus_list = []\n",
    "lin_terms_J_def = []\n",
    "for i in range(N_omega):\n",
    "    for j in range(N_omega):\n",
    "        projection = proj.copy()\n",
    "        projection[i, j] = 1\n",
    "        cst_terms.append(np.trace(projection))\n",
    "        lin_terms.append(vect.mat_to_vec(projection))\n",
    "        diags = np.zeros((3*(N_omega**2), 3*(N_omega**2)))\n",
    "        diags[N_omega**2:2*(N_omega**2), N_omega**2:2*(N_omega**2)] = np.kron(np.eye(N_omega), projection)\n",
    "        diags[2*(N_omega**2):3*(N_omega**2), 2*(N_omega**2):3*(N_omega**2)] = np.kron(np.eye(N_omega), projection)\n",
    "        J_def_quad.append(sparse.csc_matrix(diags))\n",
    "        cst_terms_def.append(-2*np.trace(projection))\n",
    "for i in range(N_omega**2):\n",
    "    lin_terms_W_plus = lin_terms[i].copy()\n",
    "    lin_terms_W_plus_list.append(sparse.vstack([sparse.csc_matrix((N_omega**2, 1)), lin_terms_W_plus, sparse.csc_matrix((N_omega**2, 1))]))\n",
    "    lin_terms_W_minus_list.append(sparse.vstack([sparse.csc_matrix((N_omega**2, 1)), sparse.csc_matrix((N_omega**2, 1)), lin_terms_W_plus]))\n",
    "    lin_terms_J_def.append(sparse.vstack([-4*lin_terms_W_plus, sparse.csc_matrix((N_omega**2, 1)), sparse.csc_matrix((N_omega**2, 1))]))"
   ]
  },
  {
   "cell_type": "code",
   "execution_count": 4,
   "metadata": {},
   "outputs": [],
   "source": [
    "sdr_mat_W_plus = [sparse.bmat([[sparse.csc_matrix((3*(N_omega**2),3*(N_omega**2))), 0.5*lin_terms_W_plus_list[i]],[0.5*lin_terms_W_plus_list[i].conj().T, -cst_terms[i]]]) for i in range(len(lin_terms_W_plus_list))]\n",
    "sdr_mat_W_minus = [sparse.bmat([[sparse.csc_matrix((3*(N_omega**2),3*(N_omega**2))), 0.5*lin_terms_W_minus_list[i]],[0.5*lin_terms_W_minus_list[i].conj().T, -cst_terms[i]]]) for i in range(len(lin_terms_W_minus_list))]\n",
    "sdr_mat_J_def = [sparse.bmat([[J_def_quad[i], 0.5*lin_terms_J_def[i]],[0.5*lin_terms_J_def[i].conj().T, cst_terms_def[i]]]) for i in range(len(lin_terms_W_minus_list))]"
   ]
  },
  {
   "cell_type": "code",
   "execution_count": 5,
   "metadata": {},
   "outputs": [],
   "source": [
    "obj_quad = sparse.kron(sparse.eye(N_omega), -sparse.eye(N_omega))\n",
    "obj_quad.resize((3*(N_omega**2), 3*(N_omega**2)))\n",
    "obj_quad = sparse.bmat([[obj_quad, sparse.csc_matrix((3*(N_omega**2), 1))],[sparse.csc_matrix((1,3*(N_omega**2))), n]])"
   ]
  },
  {
   "cell_type": "code",
   "execution_count": 6,
   "metadata": {},
   "outputs": [],
   "source": [
    "constraint_unit = sparse.bmat([[sparse.csc_matrix((3*(N_omega**2), 3*(N_omega**2))), sparse.csc_matrix((3*(N_omega**2), 1))],[sparse.csc_matrix((1, 3*(N_omega**2))), sparse.eye(1)]])"
   ]
  },
  {
   "cell_type": "code",
   "execution_count": 7,
   "metadata": {},
   "outputs": [],
   "source": [
    "total_constraints = sdr_mat_J_def + sdr_mat_W_plus + sdr_mat_W_minus\n",
    "total_constraints.append(constraint_unit)\n",
    "variable = cp.Variable(shape = (3*(N_omega**2) + 1, 3*(N_omega**2) + 1))\n",
    "constraints = [variable >> 0]\n",
    "constraints += [cp.trace(sdr_mat_J_def[i]@variable) == 0 for i in range(len(sdr_mat_J_def))]\n",
    "constraints += [cp.trace(sdr_mat_W_plus[i]@variable) == 0 for i in range(len(sdr_mat_W_plus))]\n",
    "constraints += [cp.trace(sdr_mat_W_minus[i]@variable) == 0 for i in range(len(sdr_mat_W_minus))]\n",
    "constraints.append(cp.trace(constraint_unit@variable) == 1)\n",
    "problem = cp.Problem(cp.Minimize(cp.trace(obj_quad@variable)), constraints)"
   ]
  },
  {
   "cell_type": "code",
   "execution_count": 8,
   "metadata": {},
   "outputs": [
    {
     "data": {
      "text/plain": [
       "[1.0]"
      ]
     },
     "execution_count": 8,
     "metadata": {},
     "output_type": "execute_result"
    }
   ],
   "source": [
    "[(y.conj().T@total_constraints[i]@y).toarray()[0,0] for i in range(len(total_constraints)) if np.abs((y.conj().T@total_constraints[i]@y).toarray()[0,0]) > 10**-9]"
   ]
  },
  {
   "cell_type": "code",
   "execution_count": 9,
   "metadata": {},
   "outputs": [
    {
     "name": "stdout",
     "output_type": "stream",
     "text": [
      "===============================================================================\n",
      "                                     CVXPY                                     \n",
      "                                     v1.4.2                                    \n",
      "===============================================================================\n",
      "(CVXPY) Feb 07 03:10:05 PM: Your problem has 169 variables, 14 constraints, and 0 parameters.\n",
      "(CVXPY) Feb 07 03:10:05 PM: It is compliant with the following grammars: DCP, DQCP\n",
      "(CVXPY) Feb 07 03:10:05 PM: (If you need to solve this problem multiple times, but with different data, consider using parameters.)\n",
      "(CVXPY) Feb 07 03:10:05 PM: CVXPY will first compile your problem; then, it will invoke a numerical solver to obtain a solution.\n",
      "(CVXPY) Feb 07 03:10:05 PM: Your problem is compiled with the CPP canonicalization backend.\n",
      "-------------------------------------------------------------------------------\n",
      "                                  Compilation                                  \n",
      "-------------------------------------------------------------------------------\n",
      "(CVXPY) Feb 07 03:10:05 PM: Compiling problem (target solver=CLARABEL).\n",
      "(CVXPY) Feb 07 03:10:05 PM: Reduction chain: Dcp2Cone -> CvxAttr2Constr -> ConeMatrixStuffing -> CLARABEL\n",
      "(CVXPY) Feb 07 03:10:05 PM: Applying reduction Dcp2Cone\n",
      "(CVXPY) Feb 07 03:10:05 PM: Applying reduction CvxAttr2Constr\n",
      "(CVXPY) Feb 07 03:10:05 PM: Applying reduction ConeMatrixStuffing\n",
      "(CVXPY) Feb 07 03:10:05 PM: Applying reduction CLARABEL\n",
      "(CVXPY) Feb 07 03:10:05 PM: Finished problem compilation (took 6.660e-03 seconds).\n",
      "-------------------------------------------------------------------------------\n",
      "                                Numerical solver                               \n",
      "-------------------------------------------------------------------------------\n",
      "(CVXPY) Feb 07 03:10:05 PM: Invoking solver CLARABEL  to obtain a solution.\n",
      "-------------------------------------------------------------\n",
      "           Clarabel.rs v0.6.0  -  Clever Acronym              \n",
      "\n",
      "                   (c) Paul Goulart                          \n",
      "                University of Oxford, 2022                   \n",
      "-------------------------------------------------------------\n",
      "-------------------------------------------------------------------------------\n",
      "                                    Summary                                    \n",
      "-------------------------------------------------------------------------------\n",
      "(CVXPY) Feb 07 03:10:05 PM: Problem status: unbounded\n",
      "\n",
      "problem:\n",
      "  variables     = 169\n",
      "  constraints   = 104\n",
      "  nnz(P)        = 0\n",
      "  nnz(A)        = 216\n",
      "  cones (total) = 2\n",
      "    :        Zero = 1,  numel = 13\n",
      "    : PSDTriangle = 1,  numel = 91\n",
      "\n",
      "settings:\n",
      "  linear algebra: direct / qdldl, precision: 64 bit\n",
      "  max iter = 200, time limit = Inf,  max step = 0.990\n",
      "  tol_feas = 1.0e-8, tol_gap_abs = 1.0e-8, tol_gap_rel = 1.0e-8,\n",
      "  static reg : on, ϵ1 = 1.0e-8, ϵ2 = 4.9e-32\n",
      "  dynamic reg: on, ϵ = 1.0e-13, δ = 2.0e-7\n",
      "  iter refine: on, reltol = 1.0e-13, abstol = 1.0e-12,\n",
      "               max iter = 10, stop ratio = 5.0\n",
      "  equilibrate: on, min_scale = 1.0e-4, max_scale = 1.0e4\n",
      "               max iter = 10\n",
      "\n",
      "iter    pcost        dcost       gap       pres      dres      k/t        μ       step      \n",
      "---------------------------------------------------------------------------------------------\n",
      "  0  +0.0000e+00  -0.0000e+00  0.00e+00  6.15e-01  8.84e-01  1.00e+00  4.58e+00   ------   \n",
      "  1  -3.3859e+01  -2.8139e+01  2.03e-01  2.18e-01  2.68e-01  7.55e+00  1.55e+00  7.21e-01  \n",
      "  2  -5.5644e+02  +1.4271e+01  4.00e+01  6.33e-02  9.62e-02  5.77e+02  6.77e-01  9.90e-01  \n",
      "  3  -6.2289e+02  -2.7119e+02  1.30e+00  2.42e-02  2.54e-02  3.54e+02  2.17e-01  9.07e-01  \n",
      "  4  -1.8746e+03  -2.6281e+02  6.13e+00  3.43e-03  5.93e-03  1.61e+03  5.97e-02  9.30e-01  \n",
      "  5  -2.0907e+03  -1.3247e+03  5.78e-01  2.82e-03  2.84e-03  7.67e+02  2.91e-02  8.04e-01  \n",
      "  6  -4.2537e+04  -1.6926e+04  1.51e+00  9.02e-04  1.23e-03  2.56e+04  1.46e-02  8.07e-01  \n",
      "  7  -2.8490e+04  -1.7857e+04  5.95e-01  6.71e-04  7.25e-04  1.06e+04  8.36e-03  5.58e-01  \n",
      "  8  -4.7771e+04  -4.3413e+03  1.00e+01  2.43e-04  4.44e-04  4.34e+04  5.25e-03  7.20e-01  \n",
      "  9  -8.2709e+04  -2.1545e+04  2.84e+00  1.13e-04  1.71e-04  6.12e+04  1.97e-03  9.90e-01  \n",
      " 10  -3.5338e+05  -1.1126e+05  2.18e+00  2.19e-05  3.09e-05  2.42e+05  3.55e-04  8.69e-01  \n",
      " 11  -5.7082e+05  -2.9557e+05  9.31e-01  1.36e-05  1.48e-05  2.75e+05  1.60e-04  7.77e-01  \n",
      " 12  -7.4194e+07  -1.4119e+07  4.25e+00  2.70e-06  4.39e-06  6.01e+07  5.30e-05  9.24e-01  \n",
      " 13  -3.2483e+07  -1.6700e+07  9.45e-01  6.55e-07  7.84e-07  1.58e+07  9.31e-06  9.90e-01  \n",
      " 14  -1.4653e+08  -4.7863e+07  2.06e+00  1.50e-07  2.13e-07  9.87e+07  2.56e-06  7.86e-01  \n",
      " 15  -6.4523e+07  -6.3858e+07  1.04e-02  1.59e-07  1.22e-07  6.64e+05  1.39e-06  7.42e-01  \n",
      " 16  -6.5823e+09  -6.2757e+09  4.89e-02  5.69e-08  4.88e-08  3.07e+08  5.83e-07  6.46e-01  \n",
      " 17  -1.2271e+08  -1.3991e+07  7.77e+00  2.37e-08  4.09e-08  1.09e+08  4.89e-07  5.09e-01  \n",
      " 18  -3.9746e+09  -4.5709e+08  7.70e+00  1.07e-09  1.84e-09  3.52e+09  2.24e-08  9.73e-01  \n",
      "---------------------------------------------------------------------------------------------\n",
      "Terminated with status = DualInfeasible\n",
      "solve time = 5.624629ms\n",
      "(CVXPY) Feb 07 03:10:05 PM: Optimal value: -inf\n",
      "(CVXPY) Feb 07 03:10:05 PM: Compilation took 6.660e-03 seconds\n",
      "(CVXPY) Feb 07 03:10:05 PM: Solver (including time spent in interface) took 5.983e-03 seconds\n"
     ]
    },
    {
     "data": {
      "text/plain": [
       "-inf"
      ]
     },
     "execution_count": 9,
     "metadata": {},
     "output_type": "execute_result"
    }
   ],
   "source": [
    "problem.solve(solver = \"CLARABEL\", verbose = True)"
   ]
  }
 ],
 "metadata": {
  "kernelspec": {
   "display_name": "Python 3 (ipykernel)",
   "language": "python",
   "name": "python3"
  },
  "language_info": {
   "codemirror_mode": {
    "name": "ipython",
    "version": 3
   },
   "file_extension": ".py",
   "mimetype": "text/x-python",
   "name": "python",
   "nbconvert_exporter": "python",
   "pygments_lexer": "ipython3",
   "version": "3.11.4"
  }
 },
 "nbformat": 4,
 "nbformat_minor": 4
}
