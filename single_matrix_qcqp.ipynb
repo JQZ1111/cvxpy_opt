{
 "cells": [
  {
   "cell_type": "code",
   "execution_count": 1,
   "metadata": {},
   "outputs": [],
   "source": [
    "import numpy as np\n",
    "import scipy\n",
    "import scipy.sparse as sparse\n",
    "import cvxpy as cp\n",
    "import matplotlib.pyplot as plt\n",
    "\n",
    "np.random.seed(0)"
   ]
  },
  {
   "cell_type": "code",
   "execution_count": 2,
   "metadata": {},
   "outputs": [],
   "source": [
    "N = 3\n",
    "A = np.eye(N)\n",
    "Y = np.block([[A@A.conj().T, A],[A.conj().T, np.eye(N)]])\n",
    "rand_mat = np.random.random((N, N))\n",
    "E_ij = np.zeros((N, N))\n",
    "E_ijs = []\n",
    "kron_delta = []\n",
    "for i in range(N):\n",
    "    for j in range(N):\n",
    "        E_ij_copy = E_ij.copy()\n",
    "        E_ij_copy[i, j] = 1\n",
    "        E_ijs.append(E_ij_copy)\n",
    "        if i == j:\n",
    "            kron_delta.append(2)\n",
    "        else:\n",
    "            kron_delta.append(0)"
   ]
  },
  {
   "cell_type": "code",
   "execution_count": 15,
   "metadata": {},
   "outputs": [],
   "source": [
    "A_i = []\n",
    "E_s = []\n",
    "for i in range(len(E_ijs)):\n",
    "    A_i.append(np.block([[np.zeros((N, N)), 0.5*E_ijs[i]],[0.5*E_ijs[i].conj().T, -(0.5/N)*np.trace(E_ijs[i]@rand_mat + (E_ijs[i]@rand_mat).conj().T)*np.eye(N)]]))\n",
    "    E_s.append(np.block([[np.zeros((N, N)), np.zeros((N, N))],[np.zeros((N, N)), E_ijs[i] + E_ijs[i].conj().T]]))\n",
    "pos_semi_def_A = [(E_ijs[i] + E_ijs[i].conj().T)/2 for i in range(len(E_ijs)//2)]\n",
    "pos_semi_def_A_full = [np.block([[pos_semi_def_A[i], np.zeros((N, N))],[np.zeros((N, N)), np.zeros((N, N))]]) for i in range(len(pos_semi_def_A))]"
   ]
  },
  {
   "cell_type": "code",
   "execution_count": 16,
   "metadata": {},
   "outputs": [],
   "source": [
    "obj_mat = np.block([[np.eye(N), np.zeros((N, N))],[np.zeros((N, N)), np.zeros((N, N))]])\n",
    "constraints_list =  A_i + E_s"
   ]
  },
  {
   "cell_type": "code",
   "execution_count": 17,
   "metadata": {},
   "outputs": [],
   "source": [
    "X = cp.Variable(shape = (2*N, 2*N), symmetric = True)\n",
    "constraints = [X >> 0]\n",
    "#constraints += [cp.trace(pos_semi_def_A_full[i]@X) >= 0 for i in range(len(pos_semi_def_A_full))]\n",
    "constraints += [cp.trace(A_i[i]@X) == 0 for i in range(len(A_i))]\n",
    "constraints += [cp.trace(E_s[i]@X) == kron_delta[i] for i in range(len(E_s))]\n",
    "problem = cp.Problem(cp.Minimize(cp.trace(obj_mat@X)), constraints)"
   ]
  },
  {
   "cell_type": "code",
   "execution_count": 18,
   "metadata": {},
   "outputs": [
    {
     "name": "stdout",
     "output_type": "stream",
     "text": [
      "===============================================================================\n",
      "                                     CVXPY                                     \n",
      "                                     v1.4.2                                    \n",
      "===============================================================================\n",
      "(CVXPY) Feb 09 10:15:16 AM: Your problem has 36 variables, 19 constraints, and 0 parameters.\n",
      "(CVXPY) Feb 09 10:15:16 AM: It is compliant with the following grammars: DCP, DQCP\n",
      "(CVXPY) Feb 09 10:15:16 AM: (If you need to solve this problem multiple times, but with different data, consider using parameters.)\n",
      "(CVXPY) Feb 09 10:15:16 AM: CVXPY will first compile your problem; then, it will invoke a numerical solver to obtain a solution.\n",
      "(CVXPY) Feb 09 10:15:16 AM: Your problem is compiled with the CPP canonicalization backend.\n",
      "-------------------------------------------------------------------------------\n",
      "                                  Compilation                                  \n",
      "-------------------------------------------------------------------------------\n",
      "(CVXPY) Feb 09 10:15:16 AM: Compiling problem (target solver=SCS).\n",
      "(CVXPY) Feb 09 10:15:16 AM: Reduction chain: Dcp2Cone -> CvxAttr2Constr -> Dcp2Cone -> CvxAttr2Constr -> ConeMatrixStuffing -> SCS\n",
      "(CVXPY) Feb 09 10:15:16 AM: Applying reduction Dcp2Cone\n",
      "(CVXPY) Feb 09 10:15:16 AM: Applying reduction CvxAttr2Constr\n",
      "(CVXPY) Feb 09 10:15:16 AM: Applying reduction Dcp2Cone\n",
      "(CVXPY) Feb 09 10:15:16 AM: Applying reduction CvxAttr2Constr\n",
      "(CVXPY) Feb 09 10:15:16 AM: Applying reduction ConeMatrixStuffing\n",
      "(CVXPY) Feb 09 10:15:16 AM: Applying reduction SCS\n",
      "(CVXPY) Feb 09 10:15:16 AM: Finished problem compilation (took 1.216e-02 seconds).\n",
      "-------------------------------------------------------------------------------\n",
      "                                Numerical solver                               \n",
      "-------------------------------------------------------------------------------\n",
      "(CVXPY) Feb 09 10:15:16 AM: Invoking solver SCS  to obtain a solution.\n",
      "------------------------------------------------------------------\n",
      "\t       SCS v3.2.4 - Splitting Conic Solver\n",
      "\t(c) Brendan O'Donoghue, Stanford University, 2012\n",
      "------------------------------------------------------------------\n",
      "problem:  variables n: 21, constraints m: 39\n",
      "cones: \t  z: primal zero / dual free vars: 18\n",
      "\t  s: psd vars: 21, ssize: 1\n",
      "settings: eps_abs: 1.0e-05, eps_rel: 1.0e-05, eps_infeas: 1.0e-07\n",
      "\t  alpha: 1.50, scale: 1.00e-01, adaptive_scale: 1\n",
      "\t  max_iters: 100000, normalize: 1, rho_x: 1.00e-06\n",
      "\t  acceleration_lookback: 10, acceleration_interval: 10\n",
      "lin-sys:  sparse-direct-amd-qdldl\n",
      "\t  nnz(A): 66, nnz(P): 0\n",
      "------------------------------------------------------------------\n",
      " iter | pri res | dua res |   gap   |   obj   |  scale  | time (s)\n",
      "------------------------------------------------------------------\n",
      "     0| 2.60e+01  1.00e+00  7.97e+01 -3.82e+01  1.00e-01  3.35e-04 \n",
      "   150| 1.08e-06  1.58e-07  4.33e-06  3.98e+00  4.72e-01  7.59e-04 \n",
      "------------------------------------------------------------------\n",
      "status:  solved\n",
      "timings: total: 7.61e-04s = setup: 2.49e-04s + solve: 5.12e-04s\n",
      "\t lin-sys: 4.14e-05s, cones: 3.67e-04s, accel: 3.60e-06s\n",
      "------------------------------------------------------------------\n",
      "objective = 3.984960\n",
      "------------------------------------------------------------------\n",
      "-------------------------------------------------------------------------------\n",
      "                                    Summary                                    \n",
      "-------------------------------------------------------------------------------\n",
      "(CVXPY) Feb 09 10:15:16 AM: Problem status: optimal\n",
      "(CVXPY) Feb 09 10:15:16 AM: Optimal value: 3.985e+00\n",
      "(CVXPY) Feb 09 10:15:16 AM: Compilation took 1.216e-02 seconds\n",
      "(CVXPY) Feb 09 10:15:16 AM: Solver (including time spent in interface) took 8.864e-04 seconds\n"
     ]
    },
    {
     "data": {
      "text/plain": [
       "3.9849582273733892"
      ]
     },
     "execution_count": 18,
     "metadata": {},
     "output_type": "execute_result"
    }
   ],
   "source": [
    "problem.solve(verbose = True)"
   ]
  },
  {
   "cell_type": "code",
   "execution_count": 19,
   "metadata": {},
   "outputs": [],
   "source": [
    "np_X = np.array(X.value)"
   ]
  },
  {
   "cell_type": "code",
   "execution_count": 20,
   "metadata": {},
   "outputs": [
    {
     "data": {
      "text/plain": [
       "(array([[0.5488135 , 0.71518937, 0.60276338],\n",
       "        [0.54488318, 0.4236548 , 0.64589411],\n",
       "        [0.43758721, 0.891773  , 0.96366276]]),\n",
       " array([[0.5488135 , 0.54488318, 0.43758721],\n",
       "        [0.71518937, 0.4236548 , 0.891773  ],\n",
       "        [0.60276338, 0.64589411, 0.96366276]]))"
      ]
     },
     "execution_count": 20,
     "metadata": {},
     "output_type": "execute_result"
    }
   ],
   "source": [
    "rand_mat, np_X[:N, N:2*N]"
   ]
  },
  {
   "cell_type": "code",
   "execution_count": 9,
   "metadata": {},
   "outputs": [
    {
     "data": {
      "text/plain": [
       "[-8.441586318852501e-11,\n",
       " -1.4178835883171814e-10,\n",
       " 1.3496934125889481e-10,\n",
       " -6.613207204075877e-11,\n",
       " 1.1764836327365913e-10,\n",
       " -6.773570593310296e-11,\n",
       " 8.319184230387577e-11,\n",
       " -4.648792462091933e-11,\n",
       " -7.60561058577025e-11,\n",
       " 2.0000000004846683,\n",
       " 3.811023557585769e-10,\n",
       " 5.814226843589389e-10,\n",
       " 3.811023557585769e-10,\n",
       " 2.0000000003496594,\n",
       " 5.112417760338373e-10,\n",
       " 5.814226843589389e-10,\n",
       " 5.112417760338373e-10,\n",
       " 2.0000000007573178]"
      ]
     },
     "execution_count": 9,
     "metadata": {},
     "output_type": "execute_result"
    }
   ],
   "source": [
    "# Violate the first 2 constraints??\n",
    "[np.trace(constraints_list[i]@np_X) for i in range(len(constraints_list))]"
   ]
  },
  {
   "cell_type": "code",
   "execution_count": 10,
   "metadata": {},
   "outputs": [
    {
     "data": {
      "text/plain": [
       "1.4729134625112863"
      ]
     },
     "execution_count": 10,
     "metadata": {},
     "output_type": "execute_result"
    }
   ],
   "source": [
    "# With one matrix, matrix equality gives exactly same... what if we vectorize everything?\n",
    "np.trace(rand_mat.conj().T@rand_mat)"
   ]
  },
  {
   "cell_type": "code",
   "execution_count": 12,
   "metadata": {},
   "outputs": [
    {
     "data": {
      "text/plain": [
       "<matplotlib.image.AxesImage at 0x7f78dec60990>"
      ]
     },
     "execution_count": 12,
     "metadata": {},
     "output_type": "execute_result"
    },
    {
     "data": {
      "image/png": "[encoded data removed]",
      "text/plain": [
       "<Figure size 480x480 with 1 Axes>"
      ]
     },
     "metadata": {},
     "output_type": "display_data"
    }
   ],
   "source": [
    "plt.matshow(X.value)"
   ]
  },
  {
   "cell_type": "code",
   "execution_count": 30,
   "metadata": {},
   "outputs": [
    {
     "data": {
      "text/plain": [
       "array([[ 9.99998998e-01,  1.10094678e-14, -1.34787299e-14, ...,\n",
       "         2.41753524e-18,  5.17970047e-18,  9.19469961e-19],\n",
       "       [ 1.10094678e-14,  9.99998998e-01, -2.21089032e-14, ...,\n",
       "         6.10600252e-18,  1.20183720e-17,  1.64912719e-17],\n",
       "       [-1.34787299e-14, -2.21089032e-14,  9.99998998e-01, ...,\n",
       "         6.10829414e-18,  4.52540051e-18, -2.46829516e-18],\n",
       "       ...,\n",
       "       [ 2.41753496e-18,  6.10600314e-18,  6.10829475e-18, ...,\n",
       "         1.00000000e+00,  1.10536850e-18,  7.92343095e-18],\n",
       "       [ 5.17970108e-18,  1.20183721e-17,  4.52540075e-18, ...,\n",
       "         1.10536830e-18,  1.00000000e+00,  2.53023988e-18],\n",
       "       [ 9.19469723e-19,  1.64912724e-17, -2.46829477e-18, ...,\n",
       "         7.92343121e-18,  2.53023980e-18,  1.00000000e+00]])"
      ]
     },
     "execution_count": 30,
     "metadata": {},
     "output_type": "execute_result"
    }
   ],
   "source": [
    "X.value"
   ]
  }
 ],
 "metadata": {
  "kernelspec": {
   "display_name": "cvxpy_opt",
   "language": "python",
   "name": "python3"
  },
  "language_info": {
   "codemirror_mode": {
    "name": "ipython",
    "version": 3
   },
   "file_extension": ".py",
   "mimetype": "text/x-python",
   "name": "python",
   "nbconvert_exporter": "python",
   "pygments_lexer": "ipython3",
   "version": "3.1.0"
  }
 },
 "nbformat": 4,
 "nbformat_minor": 2
}
