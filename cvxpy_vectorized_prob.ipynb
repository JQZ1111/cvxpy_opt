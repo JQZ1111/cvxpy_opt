{
 "cells": [
  {
   "cell_type": "code",
   "execution_count": 1,
   "metadata": {},
   "outputs": [],
   "source": [
    "import numpy as np\n",
    "import scipy.sparse as sparse\n",
    "import scipy\n",
    "import matplotlib.pyplot as plt\n",
    "import cvxpy as cp\n",
    "import vectorized_sdr as vect_sdr\n",
    "\n",
    "np.random.seed(0)"
   ]
  },
  {
   "cell_type": "code",
   "execution_count": 2,
   "metadata": {},
   "outputs": [],
   "source": [
    "N_omega = 10\n",
    "N_z = 2\n",
    "n = 1.7665*10**-5\n",
    "omega = np.linspace(-3, 3, N_omega)\n",
    "z = np.linspace(0, 10**-3, N_z)\n",
    "delta_omega = np.abs(omega[1] - omega[0])\n",
    "delta_z = np.abs(z[1] - z[0])\n",
    "green_f = [np.diag(np.exp(1.j*omega*z[i])) for i in range(N_z)]\n",
    "green_f.reverse()\n",
    "green_f[0] = 0.5*green_f[0]\n",
    "green_f[-1] = 0.5*green_f[-1]\n",
    "beta_up = delta_omega*np.random.random(N_omega)\n",
    "beta_down = delta_omega*np.random.random(N_omega)\n",
    "vectorized_beta = np.concatenate((beta_up, beta_down[1:]))\n",
    "beta = scipy.linalg.hankel(beta_up, beta_down)\n",
    "delta_k = np.diag(1.j*omega)\n",
    "Q_plus = delta_k + beta\n",
    "Q_minus = delta_k - beta\n",
    "W_plus = [scipy.linalg.expm(Q_plus*z[i]) for i in range(N_z)]\n",
    "W_minus = [scipy.linalg.expm(Q_minus*z[i]) for i in range(N_z)]\n",
    "# Try only defining the last J\n",
    "J = 0.25*(W_plus[-1]@W_plus[-1].conj().T + W_minus[-1]@W_minus[-1].conj().T - 2*np.eye(N_omega))\n",
    "vectorized_W_plus = sparse.vstack([vect_sdr.mat_to_vec(W_plus[i]) for i in range(N_z)])\n",
    "vectorized_W_minus = sparse.vstack([vect_sdr.mat_to_vec(W_minus[i]) for i in range(N_z)])\n",
    "vectorized_J = vect_sdr.mat_to_vec(J)\n",
    "x = sparse.vstack([vectorized_J, vectorized_W_plus, vectorized_W_minus, sparse.csc_matrix(vectorized_beta).T])\n",
    "y = sparse.vstack([x, 1])"
   ]
  },
  {
   "cell_type": "code",
   "execution_count": 3,
   "metadata": {},
   "outputs": [
    {
     "data": {
      "text/plain": [
       "(1.0553229741742374e-10+0j)"
      ]
     },
     "execution_count": 3,
     "metadata": {},
     "output_type": "execute_result"
    }
   ],
   "source": [
    "np.trace(J)**2 - np.trace(J.conj().T@J)"
   ]
  },
  {
   "cell_type": "code",
   "execution_count": 4,
   "metadata": {},
   "outputs": [],
   "source": [
    "semi_def_constr = sparse.eye(1)\n",
    "semi_def_constr = sparse.bmat([[sparse.csc_matrix(((2*N_z + 1)*(N_omega**2) + 2*N_omega - 1,(2*N_z + 1)*(N_omega**2) + 2*N_omega - 1)), sparse.csc_matrix(((2*N_z + 1)*(N_omega**2) + 2*N_omega - 1,1))],[sparse.csc_matrix((1,(2*N_z + 1)*(N_omega**2) + 2*N_omega - 1)), semi_def_constr]])\n"
   ]
  },
  {
   "cell_type": "code",
   "execution_count": 5,
   "metadata": {},
   "outputs": [],
   "source": [
    "projection = np.zeros((N_omega, N_omega))\n",
    "J_def_constr = []\n",
    "real_plus_dyn = []\n",
    "imag_plus_dyn = []\n",
    "real_minus_dyn = []\n",
    "imag_minus_dyn = []\n",
    "plus_verif_list = []\n",
    "minus_verif_list = []\n",
    "for i in range(N_omega):\n",
    "    for j in range(N_omega):\n",
    "        proj = projection.copy()\n",
    "        proj[i, j] = 1\n",
    "        real_plus_mats, imag_plus_mats, real_minus_mats, imag_minus_mats = vect_sdr.dynamics_mat(omega, z, proj)\n",
    "        plus_verif, minus_verif = vect_sdr.verif_constr(W_plus, W_minus, beta, proj, omega, z)\n",
    "        J_def_constr.append(vect_sdr.J_def_sdp_mat(N_omega, N_z, proj))\n",
    "        plus_verif_list += plus_verif\n",
    "        minus_verif_list += minus_verif\n",
    "        real_plus_dyn += real_plus_mats\n",
    "        imag_plus_dyn += imag_plus_mats\n",
    "        real_minus_dyn += real_minus_mats\n",
    "        imag_minus_dyn += imag_minus_mats\n",
    "photon_numb_constr = vect_sdr.photon_numb_mat(N_omega, N_z, n)\n",
    "constr_mats = J_def_constr + real_plus_dyn + imag_plus_dyn + real_minus_dyn + imag_minus_dyn\n",
    "constr_mats.append(photon_numb_constr)\n",
    "constr_mats.append(semi_def_constr)\n",
    "test_W_plus = [(y.conj().T@real_plus_dyn[i]@y).toarray()[0,0] + 1.j*(y.conj().T@imag_plus_dyn[i]@y).toarray()[0,0] for i in range(len(real_plus_dyn))]\n",
    "test_W_minus = [(y.conj().T@real_minus_dyn[i]@y).toarray()[0,0] + 1.j*(y.conj().T@imag_minus_dyn[i]@y).toarray()[0,0] for i in range(len(real_plus_dyn))]"
   ]
  },
  {
   "cell_type": "code",
   "execution_count": 17,
   "metadata": {},
   "outputs": [
    {
     "data": {
      "text/plain": [
       "(200, 100)"
      ]
     },
     "execution_count": 17,
     "metadata": {},
     "output_type": "execute_result"
    }
   ],
   "source": [
    "len(real_plus_dyn), N_omega**2"
   ]
  },
  {
   "cell_type": "code",
   "execution_count": 6,
   "metadata": {},
   "outputs": [
    {
     "data": {
      "text/plain": [
       "[(1+0j)]"
      ]
     },
     "execution_count": 6,
     "metadata": {},
     "output_type": "execute_result"
    }
   ],
   "source": [
    "[(y.conj().T@constr_mats[i]@y).toarray()[0,0] for i in range(len(constr_mats)) if np.abs((y.conj().T@constr_mats[i]@y).toarray()[0,0]) > 10**-5]"
   ]
  },
  {
   "cell_type": "code",
   "execution_count": 7,
   "metadata": {},
   "outputs": [],
   "source": [
    "vec_to_hankel = vect_sdr.omega_vec_to_omega_dof(N_omega)\n",
    "lin = vect_sdr.vectorized_proj(N_omega, N_z, proj)\n",
    "dynamics_real_list = [sparse.csc_matrix(((2*N_z + 1)*(N_omega**2) + 2*N_omega - 1, (2*N_z + 1)*(N_omega**2) + 2*N_omega - 1))]\n",
    "dynamics_imag_list = [sparse.csc_matrix(((2*N_z + 1)*(N_omega**2) + 2*N_omega - 1, (2*N_z + 1)*(N_omega**2) + 2*N_omega - 1))]\n",
    "for i in range(1, N_z):\n",
    "    green_fs = vect_sdr.get_green_f(omega, z[:i + 1])\n",
    "    projected_green_fs = [sparse.csc_matrix(green_fs[i]@proj) for i in range(len(green_fs))]\n",
    "    full_proj_green_fs = [delta_z*sparse.kron(sparse.eye(N_omega), projected_green_fs[i]) for i in range(len(green_fs))]\n",
    "    rect_proj_green_fs = [vec_to_hankel.conj().T@full_proj_green_fs[i] for i in range(len(green_fs))]\n",
    "    rect_proj_green_fs.reverse()\n",
    "    rect_proj_green_fs[0] = 0.5*rect_proj_green_fs[0]\n",
    "    rect_proj_green_fs[-1] = 0.5*rect_proj_green_fs[-1]\n",
    "    # Good until here\n",
    "    stacked_dynamics = sparse.hstack(rect_proj_green_fs)\n",
    "    stacked_dynamics.resize((2*N_omega - 1, (2*N_z*(N_omega**2) + 2*N_omega - 1)))\n",
    "    stacked_dynamics = sparse.hstack([sparse.csc_matrix((2*N_omega - 1, N_omega**2)), stacked_dynamics])\n",
    "    stacked_dynamics = sparse.vstack([sparse.csc_matrix(((2*N_z + 1)*(N_omega**2), (2*N_z + 1)*(N_omega**2) + 2*N_omega - 1)), stacked_dynamics])\n",
    "    dynamics_real_list.append(0.5*(stacked_dynamics + stacked_dynamics.conj().T))\n",
    "    dynamics_imag_list.append(-0.5*1.j*(stacked_dynamics - stacked_dynamics.conj().T))"
   ]
  },
  {
   "cell_type": "code",
   "execution_count": 8,
   "metadata": {},
   "outputs": [],
   "source": [
    "# covariance of pump\n",
    "constr_cov = sparse.csc_matrix(np.diag(np.linspace(omega[0], omega[-1], 2*N_omega - 1)))\n",
    "constr_cov = sparse.bmat([[constr_cov, sparse.csc_matrix((2*N_omega - 1, 1))],[sparse.csc_matrix((1, 2*N_omega - 1)), -0.1*sparse.eye(1)]])\n",
    "constr_cov.resize((2*N_omega, 2*N_omega))\n",
    "constr_cov = sparse.bmat([[sparse.csc_matrix(((2*N_z + 1)*(N_omega**2),(2*N_z + 1)*(N_omega**2))), sparse.csc_matrix(((2*N_z + 1)*(N_omega**2), 2*N_omega))],[sparse.csc_matrix((2*N_omega, (2*N_z + 1)*(N_omega**2))), constr_cov]])"
   ]
  },
  {
   "cell_type": "code",
   "execution_count": 9,
   "metadata": {},
   "outputs": [],
   "source": [
    "vec_to_hankel = vect_sdr.omega_vec_to_omega_dof(N_omega)\n",
    "plus_dyn_real, plus_dyn_imag = vect_sdr.dynamics_W(omega, z, proj, vec_to_hankel, \"plus\")\n",
    "minus_dyn_real, minus_dyn_imag = vect_sdr.dynamics_W(omega, z, proj, vec_to_hankel, \"minus\")\n",
    "full_proj_plus = vect_sdr.vectorized_proj(N_omega, N_z, proj)[1:N_z + 1]\n",
    "full_proj_minus = vect_sdr.vectorized_proj(N_omega, N_z, proj)[N_z + 1:2*N_z + 1]\n",
    "green_f = vect_sdr.get_green_f(omega, z)\n",
    "real_plus_mats_test = [sparse.bmat([[plus_dyn_real[i], -0.5*full_proj_plus[i]],[-0.5*full_proj_plus[i].conj().T, np.real(np.trace(proj@green_f[i]))]]) for i in range(N_z)]\n",
    "imag_plus_mats_test = [sparse.bmat([[plus_dyn_imag[i], -0.5*1.j*full_proj_plus[i]],[0.5*1.j*full_proj_plus[i].conj().T, np.imag(np.trace(proj@green_f[i]))]]) for i in range(N_z)]\n",
    "real_minus_mats_test = [sparse.bmat([[minus_dyn_real[i], -0.5*full_proj_minus[i]],[-0.5*full_proj_minus[i].conj().T, np.real(np.trace(proj@green_f[i]))]]) for i in range(N_z)]\n",
    "imag_minus_mats_test = [sparse.bmat([[minus_dyn_imag[i], -0.5*1.j*full_proj_minus[i]],[0.5*1.j*full_proj_minus[i].conj().T, np.imag(np.trace(proj@green_f[i]))]]) for i in range(N_z)]"
   ]
  },
  {
   "cell_type": "code",
   "execution_count": 10,
   "metadata": {},
   "outputs": [],
   "source": [
    "# Try adding a covariance penalty\n",
    "X = cp.Variable(shape=((2*N_z + 1)*(N_omega**2) + 2*N_omega,(2*N_z + 1)*(N_omega**2) + 2*N_omega), hermitian = True)\n",
    "obj_f_mat = vect_sdr.obj_f_sdp_mat(N_omega, N_z, n)\n",
    "constraints = [X >> 0]\n",
    "constraints += [cp.real(cp.trace(J_def_constr[i]@X)) == 0 for i in range(len(J_def_constr))]\n",
    "constraints += [cp.real(cp.trace(real_plus_dyn[i]@X)) == 0 for i in range(len(real_plus_dyn))]\n",
    "constraints += [cp.real(cp.trace(imag_plus_dyn[i]@X)) == 0 for i in range(len(real_plus_dyn))]\n",
    "constraints += [cp.real(cp.trace(real_minus_dyn[i]@X)) == 0 for i in range(len(real_plus_dyn))]\n",
    "constraints += [cp.real(cp.trace(imag_minus_dyn[i]@X)) == 0 for i in range(len(real_plus_dyn))]\n",
    "constraints.append(cp.real(cp.trace(photon_numb_constr@X)) == 0)\n",
    "constraints.append(cp.real((cp.trace(semi_def_constr@X))) == 1)\n",
    "constraints.append(cp.real(cp.trace(obj_f_mat@X)) >= 0.)\n",
    "constraints.append(cp.real(cp.trace(constr_cov@X))<=0)\n",
    "problem = cp.Problem(cp.Minimize(cp.real(cp.trace(obj_f_mat@X))), constraints)"
   ]
  },
  {
   "cell_type": "code",
   "execution_count": 11,
   "metadata": {},
   "outputs": [
    {
     "name": "stdout",
     "output_type": "stream",
     "text": [
      "===============================================================================\n",
      "                                     CVXPY                                     \n",
      "                                     v1.4.2                                    \n",
      "===============================================================================\n",
      "(CVXPY) Feb 09 01:55:25 PM: Your problem has 270400 variables, 905 constraints, and 0 parameters.\n",
      "(CVXPY) Feb 09 01:55:25 PM: It is compliant with the following grammars: DCP, DQCP\n",
      "(CVXPY) Feb 09 01:55:25 PM: (If you need to solve this problem multiple times, but with different data, consider using parameters.)\n",
      "(CVXPY) Feb 09 01:55:25 PM: CVXPY will first compile your problem; then, it will invoke a numerical solver to obtain a solution.\n",
      "(CVXPY) Feb 09 01:55:25 PM: Your problem is compiled with the CPP canonicalization backend.\n",
      "-------------------------------------------------------------------------------\n",
      "                                  Compilation                                  \n",
      "-------------------------------------------------------------------------------\n",
      "(CVXPY) Feb 09 01:55:25 PM: Compiling problem (target solver=SCS).\n",
      "(CVXPY) Feb 09 01:55:25 PM: Reduction chain: Complex2Real -> Dcp2Cone -> CvxAttr2Constr -> ConeMatrixStuffing -> SCS\n",
      "(CVXPY) Feb 09 01:55:25 PM: Applying reduction Complex2Real\n",
      "(CVXPY) Feb 09 01:55:26 PM: Applying reduction Dcp2Cone\n",
      "(CVXPY) Feb 09 01:55:26 PM: Applying reduction CvxAttr2Constr\n",
      "(CVXPY) Feb 09 01:55:26 PM: Applying reduction ConeMatrixStuffing\n",
      "(CVXPY) Feb 09 01:56:03 PM: Applying reduction SCS\n",
      "(CVXPY) Feb 09 01:56:03 PM: Finished problem compilation (took 3.769e+01 seconds).\n",
      "-------------------------------------------------------------------------------\n",
      "                                Numerical solver                               \n",
      "-------------------------------------------------------------------------------\n",
      "(CVXPY) Feb 09 01:56:03 PM: Invoking solver SCS  to obtain a solution.\n",
      "------------------------------------------------------------------\n",
      "\t       SCS v3.2.4 - Splitting Conic Solver\n",
      "\t(c) Brendan O'Donoghue, Stanford University, 2012\n",
      "------------------------------------------------------------------\n",
      "problem:  variables n: 270400, constraints m: 542224\n",
      "cones: \t  z: primal zero / dual free vars: 902\n",
      "\t  l: linear vars: 2\n",
      "\t  s: psd vars: 541320, ssize: 1\n",
      "settings: eps_abs: 1.0e-05, eps_rel: 1.0e-05, eps_infeas: 1.0e-07\n",
      "\t  alpha: 1.50, scale: 1.00e-01, adaptive_scale: 1\n",
      "\t  max_iters: 100000, normalize: 1, rho_x: 1.00e-06\n",
      "\t  acceleration_lookback: 10, acceleration_interval: 10\n",
      "lin-sys:  sparse-direct-amd-qdldl\n",
      "\t  nnz(A): 554102, nnz(P): 0\n",
      "------------------------------------------------------------------\n",
      " iter | pri res | dua res |   gap   |   obj   |  scale  | time (s)\n",
      "------------------------------------------------------------------\n",
      "     0| 1.75e+02  9.63e-01  1.97e+02 -7.68e+01  1.00e-01  7.51e-01 \n",
      "   250| 3.14e-04  1.69e-04  2.82e-07 -4.36e-07  5.93e-01  1.09e+02 \n",
      "   500| 4.17e-04  1.63e-04  2.27e-07 -3.50e-07  5.93e-01  2.19e+02 \n",
      "   750| 5.16e-04  1.55e-04  2.15e-07 -3.32e-07  5.93e-01  3.27e+02 \n",
      "  1000| 6.09e-04  1.46e-04  2.02e-07 -3.11e-07  5.93e-01  4.35e+02 \n",
      "  1250| 6.96e-04  1.34e-04  1.86e-07 -2.87e-07  5.93e-01  5.43e+02 \n",
      "  1500| 7.75e-04  1.21e-04  1.68e-07 -2.59e-07  5.93e-01  6.53e+02 \n",
      "  1750| 5.39e-03  4.52e-03  1.02e-08  9.66e-10  5.93e-01  7.64e+02 \n",
      "  2000| 9.08e-04  9.20e-05  1.27e-07 -1.97e-07  5.93e-01  8.74e+02 \n",
      "  2250| 9.60e-04  7.57e-05  1.05e-07 -1.62e-07  5.93e-01  9.84e+02 \n",
      "  2500| 1.00e-03  5.85e-05  8.10e-08 -1.25e-07  5.93e-01  1.09e+03 \n",
      "  2750| 1.03e-03  4.08e-05  5.65e-08 -8.72e-08  5.93e-01  1.20e+03 \n",
      "  3000| 1.05e-03  2.26e-05  3.12e-08 -4.82e-08  5.93e-01  1.31e+03 \n",
      "  3250| 1.06e-03  4.09e-06  5.66e-09 -8.71e-09  5.93e-01  1.42e+03 \n",
      "  3325| 7.33e-09  4.85e-08  8.53e-10  1.36e-09  5.93e-01  1.45e+03 \n",
      "------------------------------------------------------------------\n",
      "status:  solved\n",
      "timings: total: 1.45e+03s = setup: 2.48e-01s + solve: 1.45e+03s\n",
      "\t lin-sys: 2.16e+01s, cones: 1.42e+03s, accel: 2.02e+00s\n",
      "------------------------------------------------------------------\n",
      "objective = 0.000000\n",
      "------------------------------------------------------------------\n",
      "-------------------------------------------------------------------------------\n",
      "                                    Summary                                    \n",
      "-------------------------------------------------------------------------------\n",
      "(CVXPY) Feb 09 02:20:13 PM: Problem status: optimal\n",
      "(CVXPY) Feb 09 02:20:13 PM: Optimal value: 9.290e-10\n",
      "(CVXPY) Feb 09 02:20:13 PM: Compilation took 3.769e+01 seconds\n",
      "(CVXPY) Feb 09 02:20:13 PM: Solver (including time spent in interface) took 1.450e+03 seconds\n"
     ]
    },
    {
     "data": {
      "text/plain": [
       "9.289820144263434e-10"
      ]
     },
     "execution_count": 11,
     "metadata": {},
     "output_type": "execute_result"
    }
   ],
   "source": [
    "problem.solve(solver = \"SCS\",verbose = True)"
   ]
  },
  {
   "cell_type": "code",
   "execution_count": 12,
   "metadata": {},
   "outputs": [],
   "source": [
    "np_variable = X.value\n",
    "beta_outer = np_variable[(2*N_z + 1)*(N_omega**2):(2*N_z + 1)*(N_omega**2) + 2*N_omega - 1, (2*N_z + 1)*(N_omega**2):(2*N_z + 1)*(N_omega**2) + 2*N_omega - 1]"
   ]
  },
  {
   "cell_type": "code",
   "execution_count": 13,
   "metadata": {},
   "outputs": [],
   "source": [
    "test_beta = np_variable[-1, 5*(N_omega**2):5*(N_omega**2) + 2*N_omega - 1]\n",
    "hankel_test = scipy.linalg.hankel(test_beta[:N_omega], test_beta[N_omega - 1:])"
   ]
  },
  {
   "cell_type": "code",
   "execution_count": 14,
   "metadata": {},
   "outputs": [
    {
     "data": {
      "text/plain": [
       "array([ 1.37570080e-15-2.20363613e-15j,  3.52848183e-16-1.37603527e-15j,\n",
       "       -7.51071810e-16+4.67307271e-16j,  3.85195053e-15-1.82207668e-15j,\n",
       "        7.89232527e-16+1.04850518e-16j, -2.39584952e-15+1.84329255e-15j,\n",
       "       -9.27434960e-15+2.56565379e-15j, -4.53643833e-15+7.24337864e-15j,\n",
       "       -4.97562344e-15-5.45919775e-15j,  5.70845610e-15-6.10280360e-15j,\n",
       "       -2.02972480e-14-8.55455200e-15j,  8.76447006e-15-4.87718914e-16j,\n",
       "       -6.04717314e-15-4.54783722e-15j, -8.64009516e-15+2.22365083e-15j,\n",
       "        1.40537894e-15-7.20251466e-15j, -5.04289091e-15-1.02149721e-14j,\n",
       "        2.09602673e-15+3.33625916e-15j, -3.26795113e-15+1.40985037e-15j,\n",
       "        1.69265697e-15-2.94390695e-16j])"
      ]
     },
     "execution_count": 14,
     "metadata": {},
     "output_type": "execute_result"
    }
   ],
   "source": [
    "test_beta"
   ]
  },
  {
   "cell_type": "code",
   "execution_count": 40,
   "metadata": {},
   "outputs": [
    {
     "name": "stderr",
     "output_type": "stream",
     "text": [
      "/home/jiaqizhao/Downloads/cvxpy_qcqp/vectorized_sdr.py:14: ComplexWarning: Casting complex values to real discards the imaginary part\n",
      "  mat[i] = vect[i*mat_dim:(i + 1)*mat_dim]\n"
     ]
    }
   ],
   "source": [
    "W_minus_test = (vect_sdr.vec_to_mat(np_variable[-1, 4*(N_omega**2):5*(N_omega**2)]))\n",
    "W_plus_test = (vect_sdr.vec_to_mat(np_variable[-1, 2*(N_omega**2):3*(N_omega**2)]))"
   ]
  },
  {
   "cell_type": "code",
   "execution_count": 41,
   "metadata": {},
   "outputs": [],
   "source": [
    "vecteur = np_variable[-1, 4*(N_omega**2):5*(N_omega**2)]\n",
    "mat_dim = int(np.sqrt(len(vecteur)))\n",
    "mat_min = np.zeros((mat_dim, mat_dim)).astype(\"complex128\")\n",
    "for i in range(len(mat_min)):\n",
    "    mat_min[i] = vecteur[i*mat_dim:(i + 1)*mat_dim]\n",
    "vecteur = np_variable[-1, 2*(N_omega**2):3*(N_omega**2)]\n",
    "mat_dim = int(np.sqrt(len(vecteur)))\n",
    "mat_plus = np.zeros((mat_dim, mat_dim)).astype(\"complex128\")\n",
    "for i in range(len(mat_min)):\n",
    "    mat_plus[i] = vecteur[i*mat_dim:(i + 1)*mat_dim]"
   ]
  },
  {
   "cell_type": "code",
   "execution_count": 13,
   "metadata": {},
   "outputs": [],
   "source": [
    "test_W_plus = scipy.linalg.expm((1.j*np.diag(omega) + hankel_test)*z[-1])\n",
    "test_W_minus = scipy.linalg.expm((1.j*np.diag(omega) + hankel_test)*z[-1])\n",
    "J = 0.25*(test_W_plus@test_W_plus.conj().T + test_W_minus@test_W_minus.conj().T - 2*np.eye(N_omega))"
   ]
  },
  {
   "cell_type": "code",
   "execution_count": 14,
   "metadata": {},
   "outputs": [
    {
     "data": {
      "text/plain": [
       "(6.44831490606725e-33+0j)"
      ]
     },
     "execution_count": 14,
     "metadata": {},
     "output_type": "execute_result"
    }
   ],
   "source": [
    "np.trace(J.conj().T@J)"
   ]
  },
  {
   "cell_type": "code",
   "execution_count": 38,
   "metadata": {},
   "outputs": [
    {
     "data": {
      "text/plain": [
       "[<matplotlib.lines.Line2D at 0x7f5598616410>]"
      ]
     },
     "execution_count": 38,
     "metadata": {},
     "output_type": "execute_result"
    },
    {
     "data": {
      "image/png": "[encoded data removed]",
      "text/plain": [
       "<Figure size 640x480 with 1 Axes>"
      ]
     },
     "metadata": {},
     "output_type": "display_data"
    }
   ],
   "source": [
    "plt.plot(np.diag(np.real(beta_outer)))"
   ]
  },
  {
   "cell_type": "code",
   "execution_count": 28,
   "metadata": {},
   "outputs": [
    {
     "data": {
      "text/plain": [
       "[<matplotlib.lines.Line2D at 0x7f5599197dd0>]"
      ]
     },
     "execution_count": 28,
     "metadata": {},
     "output_type": "execute_result"
    },
    {
     "data": {
      "image/png": "[encoded data removed]",
      "text/plain": [
       "<Figure size 640x480 with 1 Axes>"
      ]
     },
     "metadata": {},
     "output_type": "display_data"
    }
   ],
   "source": [
    "gauss = np.exp(-(np.linspace(-3, 3, 2*N_omega - 1)**2)/10)\n",
    "plt.plot(gauss)"
   ]
  },
  {
   "cell_type": "code",
   "execution_count": 50,
   "metadata": {},
   "outputs": [],
   "source": [
    "random_values = np.random.random(3)\n",
    "circ = scipy.linalg.circulant(random_values)\n",
    "anti_circ = random_values[0]*np.eye(3) + random_values[1]*np.array([[0., 1., 0.],[0., 0., 1.],[-1., 0., 0.]]) + random_values[2]*np.array([[0., 0., 1.],[-1., 0., 0.],[0., -1., 0.]])"
   ]
  },
  {
   "cell_type": "code",
   "execution_count": 63,
   "metadata": {},
   "outputs": [],
   "source": [
    "eig_val, eig_vec = scipy.linalg.eig(circ)\n",
    "#eig_val, eig_vec = scipy.linalg.eig(anti_circ)\n"
   ]
  },
  {
   "cell_type": "code",
   "execution_count": 64,
   "metadata": {},
   "outputs": [
    {
     "data": {
      "text/plain": [
       "array([[0.33333333, 0.33333333, 0.33333333],\n",
       "       [0.33333333, 0.33333333, 0.33333333],\n",
       "       [0.33333333, 0.33333333, 0.33333333]])"
      ]
     },
     "execution_count": 64,
     "metadata": {},
     "output_type": "execute_result"
    }
   ],
   "source": [
    "np.abs(eig_vec)**2"
   ]
  },
  {
   "cell_type": "code",
   "execution_count": 52,
   "metadata": {},
   "outputs": [
    {
     "data": {
      "text/plain": [
       "(array([[0.0187898 , 0.61209572, 0.6176355 ],\n",
       "        [0.6176355 , 0.0187898 , 0.61209572],\n",
       "        [0.61209572, 0.6176355 , 0.0187898 ]]),\n",
       " array([[ 0.0187898 ,  0.6176355 ,  0.61209572],\n",
       "        [-0.61209572,  0.0187898 ,  0.6176355 ],\n",
       "        [-0.6176355 , -0.61209572,  0.0187898 ]]))"
      ]
     },
     "execution_count": 52,
     "metadata": {},
     "output_type": "execute_result"
    }
   ],
   "source": [
    "circ, anti_circ"
   ]
  }
 ],
 "metadata": {
  "kernelspec": {
   "display_name": "cvxpy_opt",
   "language": "python",
   "name": "python3"
  },
  "language_info": {
   "codemirror_mode": {
    "name": "ipython",
    "version": 3
   },
   "file_extension": ".py",
   "mimetype": "text/x-python",
   "name": "python",
   "nbconvert_exporter": "python",
   "pygments_lexer": "ipython3",
   "version": "3.11.4"
  }
 },
 "nbformat": 4,
 "nbformat_minor": 2
}
