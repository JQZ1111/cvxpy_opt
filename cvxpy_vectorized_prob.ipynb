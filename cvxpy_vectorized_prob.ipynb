{
 "cells": [
  {
   "cell_type": "code",
   "execution_count": 1,
   "metadata": {},
   "outputs": [],
   "source": [
    "import numpy as np\n",
    "import scipy.sparse as sparse\n",
    "import scipy\n",
    "import matplotlib.pyplot as plt\n",
    "import cvxpy as cp\n",
    "import vectorized_sdr as vect_sdr\n",
    "\n",
    "np.random.seed(0)"
   ]
  },
  {
   "cell_type": "code",
   "execution_count": 23,
   "metadata": {},
   "outputs": [],
   "source": [
    "N_omega = 11\n",
    "N_z = 2\n",
    "n = 10**-5\n",
    "omega = np.linspace(-3, 3, N_omega)\n",
    "z = np.linspace(0, 10**-3, N_z)\n",
    "delta_omega = np.abs(omega[1] - omega[0])\n",
    "delta_z = np.abs(z[1] - z[0])\n",
    "green_f = [np.diag(np.exp(1.j*omega*z[i])) for i in range(N_z)]\n",
    "green_f.reverse()\n",
    "green_f[0] = 0.5*green_f[0]\n",
    "green_f[-1] = 0.5*green_f[-1]\n",
    "beta_up = delta_omega*np.random.random(N_omega)\n",
    "beta_down = delta_omega*np.random.random(N_omega)\n",
    "vectorized_beta = np.concatenate((beta_up, beta_down[1:]))\n",
    "beta = scipy.linalg.hankel(beta_up, beta_down)\n",
    "delta_k = np.diag(1.j*omega)\n",
    "Q_plus = delta_k + beta\n",
    "Q_minus = delta_k - beta\n",
    "W_plus = [scipy.linalg.expm(Q_plus*z[i]) for i in range(N_z)]\n",
    "W_minus = [scipy.linalg.expm(Q_minus*z[i]) for i in range(N_z)]\n",
    "# Try only defining the last J\n",
    "J = 0.25*(W_plus[-1]@W_plus[-1].conj().T + W_minus[-1]@W_minus[-1].conj().T - 2*np.eye(N_omega))\n",
    "vectorized_W_plus = sparse.vstack([vect_sdr.mat_to_vec(W_plus[i]) for i in range(N_z)])\n",
    "vectorized_W_minus = sparse.vstack([vect_sdr.mat_to_vec(W_minus[i]) for i in range(N_z)])\n",
    "vectorized_J = vect_sdr.mat_to_vec(J)\n",
    "x = sparse.vstack([vectorized_J, vectorized_W_plus, vectorized_W_minus, sparse.csc_matrix(vectorized_beta).T])\n",
    "y = sparse.vstack([x, 1])"
   ]
  },
  {
   "cell_type": "code",
   "execution_count": 24,
   "metadata": {},
   "outputs": [],
   "source": [
    "semi_def_constr = sparse.eye(1)\n",
    "semi_def_constr = sparse.bmat([[sparse.csc_matrix(((2*N_z + 1)*(N_omega**2) + 2*N_omega - 1,(2*N_z + 1)*(N_omega**2) + 2*N_omega - 1)), sparse.csc_matrix(((2*N_z + 1)*(N_omega**2) + 2*N_omega - 1,1))],[sparse.csc_matrix((1,(2*N_z + 1)*(N_omega**2) + 2*N_omega - 1)), semi_def_constr]])\n"
   ]
  },
  {
   "cell_type": "code",
   "execution_count": 25,
   "metadata": {},
   "outputs": [],
   "source": [
    "projection = np.zeros((N_omega, N_omega))\n",
    "J_def_constr = []\n",
    "real_plus_dyn = []\n",
    "imag_plus_dyn = []\n",
    "real_minus_dyn = []\n",
    "imag_minus_dyn = []\n",
    "plus_verif_list = []\n",
    "minus_verif_list = []\n",
    "for i in range(N_omega):\n",
    "    for j in range(N_omega):\n",
    "        proj = projection.copy()\n",
    "        proj[i, j] = 1\n",
    "        real_plus_mats, imag_plus_mats, real_minus_mats, imag_minus_mats = vect_sdr.dynamics_mat(omega, z, proj)\n",
    "        plus_verif, minus_verif = vect_sdr.verif_constr(W_plus, W_minus, beta, proj, omega, z)\n",
    "        J_def_constr.append(vect_sdr.J_def_sdp_mat(N_omega, N_z, proj))\n",
    "        plus_verif_list += plus_verif\n",
    "        minus_verif_list += minus_verif\n",
    "        real_plus_dyn += real_plus_mats\n",
    "        imag_plus_dyn += imag_plus_mats\n",
    "        real_minus_dyn += real_minus_mats\n",
    "        imag_minus_dyn += imag_minus_mats\n",
    "photon_numb_constr = vect_sdr.photon_numb_mat(N_omega, N_z, n)\n",
    "constr_mats = J_def_constr + real_plus_dyn + imag_plus_dyn + real_minus_dyn + imag_minus_dyn\n",
    "constr_mats.append(photon_numb_constr)\n",
    "constr_mats.append(semi_def_constr)\n",
    "test_W_plus = [(y.conj().T@real_plus_dyn[i]@y).toarray()[0,0] + 1.j*(y.conj().T@imag_plus_dyn[i]@y).toarray()[0,0] for i in range(len(real_plus_dyn))]\n",
    "test_W_minus = [(y.conj().T@real_minus_dyn[i]@y).toarray()[0,0] + 1.j*(y.conj().T@imag_minus_dyn[i]@y).toarray()[0,0] for i in range(len(real_plus_dyn))]"
   ]
  },
  {
   "cell_type": "code",
   "execution_count": 30,
   "metadata": {},
   "outputs": [
    {
     "data": {
      "text/plain": [
       "[(1+0j)]"
      ]
     },
     "execution_count": 30,
     "metadata": {},
     "output_type": "execute_result"
    }
   ],
   "source": [
    "[(y.conj().T@constr_mats[i]@y).toarray()[0,0] for i in range(len(constr_mats)) if np.abs((y.conj().T@constr_mats[i]@y).toarray()[0,0]) > 10**-5]"
   ]
  },
  {
   "cell_type": "code",
   "execution_count": 31,
   "metadata": {},
   "outputs": [],
   "source": [
    "vec_to_hankel = vect_sdr.omega_vec_to_omega_dof(N_omega)\n",
    "lin = vect_sdr.vectorized_proj(N_omega, N_z, proj)\n",
    "dynamics_real_list = [sparse.csc_matrix(((2*N_z + 1)*(N_omega**2) + 2*N_omega - 1, (2*N_z + 1)*(N_omega**2) + 2*N_omega - 1))]\n",
    "dynamics_imag_list = [sparse.csc_matrix(((2*N_z + 1)*(N_omega**2) + 2*N_omega - 1, (2*N_z + 1)*(N_omega**2) + 2*N_omega - 1))]\n",
    "for i in range(1, N_z):\n",
    "    green_fs = vect_sdr.get_green_f(omega, z[:i + 1])\n",
    "    projected_green_fs = [sparse.csc_matrix(green_fs[i]@proj) for i in range(len(green_fs))]\n",
    "    full_proj_green_fs = [delta_z*sparse.kron(sparse.eye(N_omega), projected_green_fs[i]) for i in range(len(green_fs))]\n",
    "    rect_proj_green_fs = [vec_to_hankel.conj().T@full_proj_green_fs[i] for i in range(len(green_fs))]\n",
    "    rect_proj_green_fs.reverse()\n",
    "    rect_proj_green_fs[0] = 0.5*rect_proj_green_fs[0]\n",
    "    rect_proj_green_fs[-1] = 0.5*rect_proj_green_fs[-1]\n",
    "    # Good until here\n",
    "    stacked_dynamics = sparse.hstack(rect_proj_green_fs)\n",
    "    stacked_dynamics.resize((2*N_omega - 1, (2*N_z*(N_omega**2) + 2*N_omega - 1)))\n",
    "    stacked_dynamics = sparse.hstack([sparse.csc_matrix((2*N_omega - 1, N_omega**2)), stacked_dynamics])\n",
    "    stacked_dynamics = sparse.vstack([sparse.csc_matrix(((2*N_z + 1)*(N_omega**2), (2*N_z + 1)*(N_omega**2) + 2*N_omega - 1)), stacked_dynamics])\n",
    "    dynamics_real_list.append(0.5*(stacked_dynamics + stacked_dynamics.conj().T))\n",
    "    dynamics_imag_list.append(-0.5*1.j*(stacked_dynamics - stacked_dynamics.conj().T))"
   ]
  },
  {
   "cell_type": "code",
   "execution_count": 32,
   "metadata": {},
   "outputs": [],
   "source": [
    "vec_to_hankel = vect_sdr.omega_vec_to_omega_dof(N_omega)\n",
    "plus_dyn_real, plus_dyn_imag = vect_sdr.dynamics_W(omega, z, proj, vec_to_hankel, \"plus\")\n",
    "minus_dyn_real, minus_dyn_imag = vect_sdr.dynamics_W(omega, z, proj, vec_to_hankel, \"minus\")\n",
    "full_proj_plus = vect_sdr.vectorized_proj(N_omega, N_z, proj)[1:N_z + 1]\n",
    "full_proj_minus = vect_sdr.vectorized_proj(N_omega, N_z, proj)[N_z + 1:2*N_z + 1]\n",
    "green_f = vect_sdr.get_green_f(omega, z)\n",
    "real_plus_mats_test = [sparse.bmat([[plus_dyn_real[i], -0.5*full_proj_plus[i]],[-0.5*full_proj_plus[i].conj().T, np.real(np.trace(proj@green_f[i]))]]) for i in range(N_z)]\n",
    "imag_plus_mats_test = [sparse.bmat([[plus_dyn_imag[i], -0.5*1.j*full_proj_plus[i]],[0.5*1.j*full_proj_plus[i].conj().T, np.imag(np.trace(proj@green_f[i]))]]) for i in range(N_z)]\n",
    "real_minus_mats_test = [sparse.bmat([[minus_dyn_real[i], -0.5*full_proj_minus[i]],[-0.5*full_proj_minus[i].conj().T, np.real(np.trace(proj@green_f[i]))]]) for i in range(N_z)]\n",
    "imag_minus_mats_test = [sparse.bmat([[minus_dyn_imag[i], -0.5*1.j*full_proj_minus[i]],[0.5*1.j*full_proj_minus[i].conj().T, np.imag(np.trace(proj@green_f[i]))]]) for i in range(N_z)]"
   ]
  },
  {
   "cell_type": "code",
   "execution_count": 34,
   "metadata": {},
   "outputs": [],
   "source": [
    "# Try adding a covariance penalty\n",
    "X = cp.Variable(shape=((2*N_z + 1)*(N_omega**2) + 2*N_omega,(2*N_z + 1)*(N_omega**2) + 2*N_omega), hermitian = True)\n",
    "obj_f_mat = vect_sdr.obj_f_sdp_mat(N_omega, N_z, n)\n",
    "constraints = [X >> 0]\n",
    "constraints += [cp.real(cp.trace(J_def_constr[i]@X)) == 0 for i in range(len(J_def_constr))]\n",
    "constraints += [cp.real(cp.trace(real_plus_dyn[i]@X)) == 0 for i in range(len(real_plus_dyn))]\n",
    "constraints += [cp.real(cp.trace(imag_plus_dyn[i]@X)) == 0 for i in range(len(real_plus_dyn))]\n",
    "constraints += [cp.real(cp.trace(real_minus_dyn[i]@X)) == 0 for i in range(len(real_plus_dyn))]\n",
    "constraints += [cp.real(cp.trace(imag_minus_dyn[i]@X)) == 0 for i in range(len(real_plus_dyn))]\n",
    "constraints.append(cp.real(cp.trace(photon_numb_constr@X)) == 0)\n",
    "constraints.append(cp.real((cp.trace(semi_def_constr@X))) == 1)\n",
    "problem = cp.Problem(cp.Minimize(cp.real(cp.trace(obj_f_mat@X))), constraints)"
   ]
  },
  {
   "cell_type": "code",
   "execution_count": 35,
   "metadata": {},
   "outputs": [
    {
     "name": "stdout",
     "output_type": "stream",
     "text": [
      "===============================================================================\n",
      "                                     CVXPY                                     \n",
      "                                     v1.4.2                                    \n",
      "===============================================================================\n",
      "(CVXPY) Feb 06 05:05:56 PM: Your problem has 393129 variables, 1092 constraints, and 0 parameters.\n",
      "(CVXPY) Feb 06 05:05:56 PM: It is compliant with the following grammars: DCP, DQCP\n",
      "(CVXPY) Feb 06 05:05:56 PM: (If you need to solve this problem multiple times, but with different data, consider using parameters.)\n",
      "(CVXPY) Feb 06 05:05:56 PM: CVXPY will first compile your problem; then, it will invoke a numerical solver to obtain a solution.\n",
      "(CVXPY) Feb 06 05:05:56 PM: Your problem is compiled with the CPP canonicalization backend.\n",
      "-------------------------------------------------------------------------------\n",
      "                                  Compilation                                  \n",
      "-------------------------------------------------------------------------------\n",
      "(CVXPY) Feb 06 05:05:56 PM: Compiling problem (target solver=SCS).\n",
      "(CVXPY) Feb 06 05:05:56 PM: Reduction chain: Complex2Real -> Dcp2Cone -> CvxAttr2Constr -> Dcp2Cone -> CvxAttr2Constr -> ConeMatrixStuffing -> SCS\n",
      "(CVXPY) Feb 06 05:05:56 PM: Applying reduction Complex2Real\n"
     ]
    },
    {
     "name": "stdout",
     "output_type": "stream",
     "text": [
      "(CVXPY) Feb 06 05:05:56 PM: Applying reduction Dcp2Cone\n",
      "(CVXPY) Feb 06 05:05:56 PM: Applying reduction CvxAttr2Constr\n",
      "(CVXPY) Feb 06 05:05:57 PM: Applying reduction Dcp2Cone\n",
      "(CVXPY) Feb 06 05:05:57 PM: Applying reduction CvxAttr2Constr\n",
      "(CVXPY) Feb 06 05:05:57 PM: Applying reduction ConeMatrixStuffing\n",
      "(CVXPY) Feb 06 05:07:02 PM: Applying reduction SCS\n",
      "(CVXPY) Feb 06 05:07:03 PM: Finished problem compilation (took 6.674e+01 seconds).\n",
      "-------------------------------------------------------------------------------\n",
      "                                Numerical solver                               \n",
      "-------------------------------------------------------------------------------\n",
      "(CVXPY) Feb 06 05:07:03 PM: Invoking solver SCS  to obtain a solution.\n",
      "------------------------------------------------------------------\n",
      "\t       SCS v3.2.4 - Splitting Conic Solver\n",
      "\t(c) Brendan O'Donoghue, Stanford University, 2012\n",
      "------------------------------------------------------------------\n",
      "problem:  variables n: 393129, constraints m: 787976\n",
      "cones: \t  z: primal zero / dual free vars: 1091\n",
      "\t  s: psd vars: 786885, ssize: 1\n",
      "settings: eps_abs: 1.0e-05, eps_rel: 1.0e-05, eps_infeas: 1.0e-07\n",
      "\t  alpha: 1.50, scale: 1.00e-01, adaptive_scale: 1\n",
      "\t  max_iters: 100000, normalize: 1, rho_x: 1.00e-06\n",
      "\t  acceleration_lookback: 10, acceleration_interval: 10\n",
      "lin-sys:  sparse-direct-amd-qdldl\n",
      "\t  nnz(A): 803385, nnz(P): 0\n",
      "------------------------------------------------------------------\n",
      " iter | pri res | dua res |   gap   |   obj   |  scale  | time (s)\n",
      "------------------------------------------------------------------\n",
      "     0| 5.20e+00  1.00e+00  1.73e+03 -8.43e+02  1.00e-01  1.25e+00 \n",
      "    50| 3.21e+14  9.77e+14  1.41e+22 -7.06e+21  1.00e-01  4.36e+01 \n",
      "------------------------------------------------------------------\n",
      "status:  unbounded\n",
      "timings: total: 4.36e+01s = setup: 3.80e-01s + solve: 4.32e+01s\n",
      "\t lin-sys: 5.30e-01s, cones: 4.23e+01s, accel: 6.88e-02s\n",
      "------------------------------------------------------------------\n",
      "objective = -inf\n",
      "------------------------------------------------------------------\n",
      "-------------------------------------------------------------------------------\n",
      "                                    Summary                                    \n",
      "-------------------------------------------------------------------------------\n",
      "(CVXPY) Feb 06 05:07:46 PM: Problem status: unbounded\n",
      "(CVXPY) Feb 06 05:07:46 PM: Optimal value: -inf\n",
      "(CVXPY) Feb 06 05:07:46 PM: Compilation took 6.674e+01 seconds\n",
      "(CVXPY) Feb 06 05:07:46 PM: Solver (including time spent in interface) took 4.362e+01 seconds\n"
     ]
    },
    {
     "data": {
      "text/plain": [
       "-inf"
      ]
     },
     "execution_count": 35,
     "metadata": {},
     "output_type": "execute_result"
    }
   ],
   "source": [
    "problem.solve(verbose = True)"
   ]
  }
 ],
 "metadata": {
  "kernelspec": {
   "display_name": "cvxpy_opt",
   "language": "python",
   "name": "python3"
  },
  "language_info": {
   "codemirror_mode": {
    "name": "ipython",
    "version": 3
   },
   "file_extension": ".py",
   "mimetype": "text/x-python",
   "name": "python",
   "nbconvert_exporter": "python",
   "pygments_lexer": "ipython3",
   "version": "3.1.0"
  }
 },
 "nbformat": 4,
 "nbformat_minor": 2
}
