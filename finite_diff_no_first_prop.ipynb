{
 "cells": [
  {
   "cell_type": "code",
   "execution_count": 1,
   "metadata": {},
   "outputs": [],
   "source": [
    "import numpy as np\n",
    "import scipy\n",
    "import scipy.sparse as sparse\n",
    "import cvxpy as cp\n",
    "import matplotlib.pyplot as plt\n",
    "\n",
    "np.random.seed(0)"
   ]
  },
  {
   "cell_type": "code",
   "execution_count": null,
   "metadata": {},
   "outputs": [],
   "source": [
    "N_omega = 11\n",
    "N_z = 2\n",
    "omega = np.linspace(-2, 2, N_omega)\n",
    "z = np.linspace(0, 10**-3, N_z)\n",
    "delta_k = np.diag(1.j*omega)\n",
    "beta_vec = np.random.random(2*N_omega - 1)#np.exp(-(np.linspace(omega[0], omega[-1], 2*N_omega - 1)**2)/0.4)#\n",
    "beta = scipy.linalg.hankel(beta_vec[:N_omega], beta_vec[N_omega - 1:])\n",
    "new_beta = beta/np.sqrt(np.trace(beta.conj().T@beta))\n",
    "beta_weight = 10\n",
    "Q_plus = delta_k + new_beta\n",
    "Q_minus = delta_k - new_beta\n"
   ]
  }
 ],
 "metadata": {
  "kernelspec": {
   "display_name": "cvxpy_opt",
   "language": "python",
   "name": "python3"
  },
  "language_info": {
   "codemirror_mode": {
    "name": "ipython",
    "version": 3
   },
   "file_extension": ".py",
   "mimetype": "text/x-python",
   "name": "python",
   "nbconvert_exporter": "python",
   "pygments_lexer": "ipython3",
   "version": "3.11.4"
  }
 },
 "nbformat": 4,
 "nbformat_minor": 2
}
