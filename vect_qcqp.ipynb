{
 "cells": [
  {
   "cell_type": "code",
   "execution_count": 2,
   "metadata": {},
   "outputs": [],
   "source": [
    "import vectorized_sdr as vect\n",
    "import numpy as np\n",
    "import matplotlib.pyplot as plt\n",
    "import scipy.sparse as sparse\n",
    "import scipy\n",
    "\n",
    "np.random.seed(0)"
   ]
  },
  {
   "cell_type": "code",
   "execution_count": 35,
   "metadata": {},
   "outputs": [],
   "source": [
    "N_omega = 2\n",
    "N_z = 2\n",
    "omega = np.linspace(-3, 3, N_omega)\n",
    "z = np.linspace(0, 10**-3, N_z)\n",
    "vect_hankel = np.random.random(2*N_omega - 1)\n",
    "beta = scipy.linalg.hankel(vect_hankel[:N_omega], vect_hankel[N_omega - 1:])\n",
    "delta_k = np.diag(1.j*omega)\n",
    "Q_plus = delta_k + beta\n",
    "Q_minus = delta_k - beta\n",
    "W_plus = [scipy.linalg.expm(Q_plus*z[i]) for i in range(N_z)]\n",
    "W_minus = [scipy.linalg.expm(Q_minus*z[i]) for i in range(N_z)]\n",
    "W_plus_vect = [vect.mat_to_vec(W_plus[i]) for i in range(N_z)]\n",
    "W_minus_vect = [vect.mat_to_vec(W_minus[i]) for i in range(N_z)]\n",
    "J = 0.25*(W_plus[-1].conj().T@W_plus[-1] + W_minus[-1].conj().T@W_minus[-1] - 2*np.eye(N_omega))\n",
    "tot_W_plus = sparse.vstack(W_plus_vect)\n",
    "tot_W_minus = sparse.vstack(W_minus_vect)\n",
    "vect_J = vect.mat_to_vec(J)\n",
    "x = sparse.vstack([vect_J, tot_W_plus, tot_W_minus, sparse.csc_matrix(vect_hankel).T])\n",
    "vect_to_hankel = vect.omega_vec_to_omega_dof(N_omega)\n",
    "dynamics_real_plus, dynamics_imag_plus = vect.dynamics_W(omega,z,np.eye(N_omega),vect_to_hankel,\"plus\")\n",
    "dynamics_real_minus, dynamics_imag_minus = vect.dynamics_W(omega,z,np.eye(N_omega),vect_to_hankel,\"minus\")\n",
    "lin_vec = vect.vectorized_proj(N_omega, N_z, np.eye(N_omega))\n",
    "green_fs = vect.get_green_f(omega, z)"
   ]
  },
  {
   "cell_type": "code",
   "execution_count": 39,
   "metadata": {},
   "outputs": [
    {
     "data": {
      "text/plain": [
       "array([[0.00049799+0.j]])"
      ]
     },
     "execution_count": 39,
     "metadata": {},
     "output_type": "execute_result"
    }
   ],
   "source": [
    "(x.conj().T@dynamics_real_plus[1]@x).toarray()"
   ]
  }
 ],
 "metadata": {
  "kernelspec": {
   "display_name": "cvxpy_opt",
   "language": "python",
   "name": "python3"
  },
  "language_info": {
   "codemirror_mode": {
    "name": "ipython",
    "version": 3
   },
   "file_extension": ".py",
   "mimetype": "text/x-python",
   "name": "python",
   "nbconvert_exporter": "python",
   "pygments_lexer": "ipython3",
   "version": "3.11.4"
  }
 },
 "nbformat": 4,
 "nbformat_minor": 2
}
