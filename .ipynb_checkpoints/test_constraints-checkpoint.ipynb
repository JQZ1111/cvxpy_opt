{
 "cells": [
  {
   "cell_type": "code",
   "execution_count": 1,
   "id": "af64181a-c138-4a2f-98fe-986d79aeded2",
   "metadata": {},
   "outputs": [],
   "source": [
    "%config InlineBackend.figure_formats=['svg']\n",
    "import numpy as np\n",
    "import scipy\n",
    "import scipy.sparse as sparse\n",
    "import cvxpy as cp\n",
    "import matplotlib.pyplot as plt\n",
    "import only_prop_only_nuclear_norm as api\n",
    "import time\n",
    "import math\n",
    "\n",
    "np.random.seed(0)"
   ]
  },
  {
   "cell_type": "code",
   "execution_count": 21,
   "id": "200ed7b9-0589-43b6-80fd-59dc144eae59",
   "metadata": {},
   "outputs": [],
   "source": [
    "N_omega = 21\n",
    "free_indices = 2*N_omega - 1 - 12\n",
    "omega = np.linspace(-2, 2, N_omega)\n",
    "delta_omega = np.abs(omega[1] - omega[0])\n",
    "N_z = 6\n",
    "z = np.linspace(0, 5*10**-3, N_z)\n",
    "delta_z = np.abs(z[1] - z[0])\n",
    "green_fs = api.get_green_f(omega,z)\n",
    "projection = np.zeros((N_omega, N_omega))\n",
    "projections = []\n",
    "sdr_def_constr = []\n",
    "sdr_cst = []\n",
    "for i in range(N_omega):\n",
    "    for j in range(N_omega):\n",
    "        proj_copy = projection.copy()\n",
    "        proj_copy[i, j] = 1\n",
    "        projections.append(sparse.csc_matrix(proj_copy))\n",
    "        sdr_def_constr.append(api.sdr_def_constr(N_omega, N_z, sparse.csc_matrix(proj_copy)))\n",
    "        quad = api.diag_mat(N_omega, N_z, proj_copy)[0] + api.diag_mat(N_omega, N_z, proj_copy)[0].conj().T\n",
    "        quad.resize(((2*N_z + 1)*N_omega,(2*N_z + 1)*N_omega))\n",
    "        if i == j:\n",
    "            sdr_cst.append(2.)\n",
    "        else:\n",
    "            sdr_cst.append(0.)"
   ]
  },
  {
   "cell_type": "code",
   "execution_count": 22,
   "id": "98dc1968-79c0-46c6-8ad8-4aaf361babeb",
   "metadata": {},
   "outputs": [
    {
     "data": {
      "text/plain": [
       "(0.5000302986760162+0j)"
      ]
     },
     "execution_count": 22,
     "metadata": {},
     "output_type": "execute_result"
    }
   ],
   "source": [
    "beta_vec = np.exp(-np.linspace(omega[0], omega[-1], 2*N_omega - 1)**2/2.1)\n",
    "beta = scipy.linalg.hankel(beta_vec[:N_omega], beta_vec[N_omega - 1:])\n",
    "new_beta = delta_omega*beta/(np.sqrt(np.trace(beta@beta)))\n",
    "# Try for n = 0.5\n",
    "beta_weight = 663.61#300.\n",
    "delta_k = 1.j*np.diag(omega)\n",
    "Q_plus = delta_k + beta_weight*new_beta\n",
    "Q_minus = delta_k - beta_weight*new_beta\n",
    "n = 0.25*np.trace((scipy.linalg.expm(Q_plus*z[-1]) - scipy.linalg.expm(Q_minus*z[-1])).conj().T@(scipy.linalg.expm(Q_plus*z[-1]) - scipy.linalg.expm(Q_minus*z[-1])))\n",
    "W_plus = [(1/np.sqrt(n))*scipy.linalg.expm(Q_plus*z[i]) for i in range(1, N_z)]\n",
    "W_minus = [(1/np.sqrt(n))*scipy.linalg.expm(Q_minus*z[i]) for i in range(1, N_z)]\n",
    "X = np.vstack(W_plus + W_minus + [new_beta])\n",
    "Y = np.vstack(W_plus + W_minus + [new_beta, np.eye(N_omega)])\n",
    "full_rank = Y@Y.conj().T\n",
    "n"
   ]
  },
  {
   "cell_type": "code",
   "execution_count": 102,
   "id": "0a51c64e-2406-47a8-bafc-1559a731b383",
   "metadata": {},
   "outputs": [
    {
     "data": {
      "text/plain": [
       "((7.451639446154346e-06+2.1183063816888545e-07j),\n",
       " 1.5865910888201995e-05,\n",
       " (7.451639446154346e-06+2.168404344971009e-19j))"
      ]
     },
     "execution_count": 102,
     "metadata": {},
     "output_type": "execute_result"
    }
   ],
   "source": [
    "# For N = 1\n",
    "proj = projections[0]\n",
    "real_plus_dyn, imag_plus_dyn, real_minus_dyn, imag_minus_dyn = api.get_dynamics_sdr(omega, z, proj, n, beta_weight)\n",
    "approx_plus_0 = (1/np.sqrt(n))*(scipy.linalg.expm(delta_k*z[1])) + 0.5*delta_z*beta_weight*((1/np.sqrt(n))*scipy.linalg.expm(delta_k*z[1])@new_beta + new_beta@W_plus[0])\n",
    "approx_minus_0 = (1/np.sqrt(n))*(scipy.linalg.expm(delta_k*z[1])) - 0.5*delta_z*beta_weight*((1/np.sqrt(n))*scipy.linalg.expm(delta_k*z[1])@new_beta + new_beta@W_minus[0])\n",
    "np.trace(proj.conj().T@(approx_plus_0 - W_plus[0])), np.max(np.abs(np.real(approx_plus_0 - W_plus[0]))), np.trace(real_plus_dyn[0]@full_rank)"
   ]
  },
  {
   "cell_type": "code",
   "execution_count": 129,
   "id": "51dc4020-d2da-4198-a00a-ece0b8c8189d",
   "metadata": {},
   "outputs": [
    {
     "data": {
      "text/plain": [
       "((4.3006826001400905e-07-1.599845714617132e-05j),\n",
       " 3.3900966249555964e-05,\n",
       " 7.990447812928134e-07,\n",
       " (4.3006826001357537e-07+0j))"
      ]
     },
     "execution_count": 129,
     "metadata": {},
     "output_type": "execute_result"
    }
   ],
   "source": [
    "# For N = 1\n",
    "proj = 1.j*projections[0]\n",
    "real_plus_dyn, imag_plus_dyn, real_minus_dyn, imag_minus_dyn = api.get_dynamics_sdr(omega, z, proj, n, beta_weight)\n",
    "approx_plus_1 = (1/np.sqrt(n))*(scipy.linalg.expm(delta_k*z[2])) + 0.5*delta_z*beta_weight*((1/np.sqrt(n))*scipy.linalg.expm(delta_k*z[2])@new_beta + new_beta@W_plus[1] + 2*scipy.linalg.expm(delta_k*z[1])@new_beta@W_plus[0])\n",
    "approx_minus_1 = (1/np.sqrt(n))*(scipy.linalg.expm(delta_k*z[2])) - 0.5*delta_z*beta_weight*((1/np.sqrt(n))*scipy.linalg.expm(delta_k*z[2])@new_beta + new_beta@W_minus[1] + 2*scipy.linalg.expm(delta_k*z[1])@new_beta@W_plus[0])\n",
    "np.trace(proj.conj().T@(approx_plus_1 - W_plus[1])),np.max(np.abs(np.real(approx_plus_1 - W_plus[1]))), np.max(np.abs(np.imag(approx_plus_1 - W_plus[1]))), np.trace(real_plus_dyn[1]@full_rank)"
   ]
  },
  {
   "cell_type": "code",
   "execution_count": 112,
   "id": "7d58e2e3-7c19-4978-9109-9d0069a37594",
   "metadata": {},
   "outputs": [],
   "source": [
    "# For N = 2\n",
    "index = 2\n",
    "green_f = api.get_green_f(omega, z[:index + 1])\n",
    "green_f.reverse()\n",
    "approx_plus = (1/np.sqrt(n))*scipy.linalg.expm(delta_k*z[index]) + 0.5*(delta_z*beta_weight/np.sqrt(n))*green_f[0]@new_beta + 0.5*delta_z*beta_weight*new_beta@W_plus[index - 1]\n",
    "approx_minus = (1/np.sqrt(n))*scipy.linalg.expm(delta_k*z[index]) - 0.5*(delta_z*beta_weight/np.sqrt(n))*green_f[0]@new_beta - 0.5*delta_z*beta_weight*new_beta@W_minus[index - 1]\n",
    "for i in range(index - 1):\n",
    "    approx_plus += delta_z*beta_weight*(green_f[i + 1]@new_beta@W_plus[i])\n",
    "    approx_minus -= delta_z*beta_weight*(green_f[i + 1]@new_beta@W_minus[i])"
   ]
  },
  {
   "cell_type": "code",
   "execution_count": 113,
   "id": "bd95e905-9ec6-4a26-9d9e-36cb6178d1dc",
   "metadata": {},
   "outputs": [
    {
     "data": {
      "text/plain": [
       "3.390096624977801e-05"
      ]
     },
     "execution_count": 113,
     "metadata": {},
     "output_type": "execute_result"
    }
   ],
   "source": [
    "np.max(np.abs(np.real(approx_plus - W_plus[index - 1])))"
   ]
  }
 ],
 "metadata": {
  "kernelspec": {
   "display_name": "Python 3 (ipykernel)",
   "language": "python",
   "name": "python3"
  },
  "language_info": {
   "codemirror_mode": {
    "name": "ipython",
    "version": 3
   },
   "file_extension": ".py",
   "mimetype": "text/x-python",
   "name": "python",
   "nbconvert_exporter": "python",
   "pygments_lexer": "ipython3",
   "version": "3.11.4"
  }
 },
 "nbformat": 4,
 "nbformat_minor": 5
}
