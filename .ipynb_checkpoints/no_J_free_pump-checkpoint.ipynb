{
 "cells": [
  {
   "cell_type": "code",
   "execution_count": 1,
   "metadata": {},
   "outputs": [],
   "source": [
    "import numpy as np\n",
    "import scipy \n",
    "import scipy.sparse as sparse\n",
    "import no_J_free_pump as api\n",
    "import matplotlib.pyplot as plt\n",
    "import cvxpy as cp\n",
    "\n",
    "np.random.seed(0)"
   ]
  },
  {
   "cell_type": "code",
   "execution_count": 2,
   "metadata": {},
   "outputs": [],
   "source": [
    "# Initialize parameters and SDR constraint\n",
    "N_omega = 11\n",
    "omega = np.linspace(-2, 2, N_omega)\n",
    "N_z = 2\n",
    "z = np.linspace(0, 6*10**-3, N_z)\n",
    "delta_z = np.abs(z[1] - z[0])\n",
    "green_fs = api.get_green_f(omega,z)\n",
    "projection = np.zeros((N_omega, N_omega))\n",
    "projections = []\n",
    "sdr_def_constr = []\n",
    "sdr_cst = []\n",
    "for i in range(N_omega):\n",
    "    for j in range(N_omega):\n",
    "        proj_copy = projection.copy()\n",
    "        proj_copy[i, j] = 1\n",
    "        projections.append(sparse.csc_matrix(proj_copy))\n",
    "        sdr_def_constr.append(api.sdr_def_constr(N_omega, N_z, sparse.csc_matrix(proj_copy)))\n",
    "        if i == j:\n",
    "            sdr_cst.append(2.)\n",
    "        else:\n",
    "            sdr_cst.append(0.)"
   ]
  },
  {
   "cell_type": "code",
   "execution_count": 4,
   "metadata": {},
   "outputs": [],
   "source": [
    "beta_vec = np.exp(-(np.linspace(omega[0], omega[-1], 2*N_omega - 1)**2)/0.4)#np.random.random(2*N_omega - 1)#\n",
    "rand_herm = np.random.random((N_omega, N_omega)) + 1.j*np.random.random((N_omega, N_omega))\n",
    "rand_unitary = scipy.linalg.eig(rand_herm + rand_herm.conj().T)[1]\n",
    "beta = scipy.linalg.hankel(beta_vec[:N_omega], beta_vec[N_omega - 1:])\n",
    "beta_weight = np.sqrt(np.trace(beta.conj().T@beta))\n",
    "new_beta = beta/beta_weight\n",
    "delta_k = 1.j*np.diag(omega)\n",
    "Q_plus = delta_k + beta\n",
    "Q_minus = delta_k - beta\n",
    "W_plus = [scipy.linalg.expm(Q_plus*z[i]) for i in range(N_z)]\n",
    "W_minus = [scipy.linalg.expm(Q_minus*z[i]) for i in range(N_z)]\n",
    "J = 0.25*(W_plus[-1]@W_plus[-1].conj().T + W_minus[-1]@W_minus[-1].conj().T - 2*np.eye(N_omega))\n",
    "n = 0.25*np.trace((W_plus[-1] - W_minus[-1]).conj().T@(W_plus[-1] - W_minus[-1]))\n",
    "W_plus = [(1/np.sqrt(n))*scipy.linalg.expm(Q_plus*z[i]) for i in range(N_z)]\n",
    "W_minus = [(1/np.sqrt(n))*scipy.linalg.expm(Q_minus*z[i]) for i in range(N_z)]\n",
    "X = np.vstack([rand_unitary] + W_plus + W_minus + [beta])\n",
    "Y = np.vstack([rand_unitary] + W_plus + W_minus + [beta, np.eye(N_omega)])"
   ]
  },
  {
   "cell_type": "code",
   "execution_count": 5,
   "metadata": {},
   "outputs": [],
   "source": [
    "# Create constraint matrices\n",
    "constr_sympl = []\n",
    "constr_dyn = []\n",
    "constr_unitary = []\n",
    "photon_end = api.photon_nbr_constr(N_omega, N_z, n)\n",
    "photon_nbr_prev = api.photon_nbr_prev_points(N_omega, N_z)\n",
    "fix_beta = []\n",
    "for i in range(len(projections)):\n",
    "    sympl_real, sympl_imag = api.sympl_constr_sdr(N_omega, N_z, projections[i], n)\n",
    "    dyn_real_plus, dyn_imag_plus, dyn_real_minus, dyn_imag_minus = api.get_dynamics_sdr(omega, z, projections[i], n)\n",
    "    unitary_constr_real, unitary_constr_imag = api.unitary_constr(N_omega, N_z, projections[i])\n",
    "    fix_beta_real, fix_beta_imag = api.sdr_fixed_pump(N_omega, N_z, beta, projections[i])\n",
    "    constr_sympl += sympl_real + sympl_imag\n",
    "    constr_dyn += dyn_real_plus + dyn_imag_plus + dyn_real_minus + dyn_imag_minus\n",
    "    constr_unitary += [unitary_constr_real + unitary_constr_imag]\n",
    "    fix_beta += [fix_beta_real, fix_beta_imag]\n",
    "constr_unitary_trace = api.trace_unitary_mat(N_omega, N_z)"
   ]
  },
  {
   "cell_type": "code",
   "execution_count": 6,
   "metadata": {},
   "outputs": [],
   "source": [
    "# Test to see if it gives what it should give\n",
    "proj = projections[3*N_omega + 3]\n",
    "sympl_real, sympl_imag = api.sympl_constr_sdr(N_omega, N_z, proj, n)\n",
    "dyn_real_plus, dyn_imag_plus, dyn_real_minus, dyn_imag_minus = api.get_dynamics_sdr(omega, z, proj, n)\n",
    "unitary_constr_real, unitary_constr_imag = api.unitary_constr(N_omega, N_z, proj)\n",
    "fix_beta_real, fix_beta_imag = api.sdr_fixed_pump(N_omega, N_z, beta, proj)"
   ]
  },
  {
   "cell_type": "code",
   "execution_count": 8,
   "metadata": {},
   "outputs": [],
   "source": [
    "# Summing all constraints together\n",
    "constraints_list = constr_sympl + constr_dyn + constr_unitary + fix_beta"
   ]
  },
  {
   "cell_type": "code",
   "execution_count": 7,
   "metadata": {},
   "outputs": [
    {
     "data": {
      "text/plain": [
       "[]"
      ]
     },
     "execution_count": 7,
     "metadata": {},
     "output_type": "execute_result"
    }
   ],
   "source": [
    "[np.trace(Y.conj().T@constr_sympl[i]@Y) for i in range(len(constr_sympl)) if np.abs(np.trace(Y.conj().T@constr_sympl[i]@Y)) >= 10**-5]"
   ]
  },
  {
   "cell_type": "code",
   "execution_count": 9,
   "metadata": {},
   "outputs": [],
   "source": [
    "# Objective function\n",
    "obj_f = api.obj_f_sdr(N_omega,N_z, n)"
   ]
  },
  {
   "cell_type": "code",
   "execution_count": 40,
   "metadata": {},
   "outputs": [],
   "source": [
    "# CVXPY model\n",
    "# The convergence really happens when the photon pair number is fixed\n",
    "# If even 1 of these constraint is missing, everything goes to shit\n",
    "variable = cp.Variable(shape = ((2*N_z + 3)*N_omega,(2*N_z + 3)*N_omega), hermitian = True)\n",
    "constraints = [variable >> 0]\n",
    "# Constraints about symplectic structure of propagators\n",
    "constraints += [cp.real(cp.trace(constr_sympl[i]@variable)) == 0 for i in range(len(constr_sympl))]\n",
    "# Constraints about dynamics\n",
    "constraints += [cp.real(cp.trace(constr_dyn[i]@variable)) == 0 for i in range(len(constr_dyn))]\n",
    "# Constraint that the top matrix is unitary\n",
    "constraints += [cp.real(cp.trace(constr_unitary[i]@variable)) == 0 for i in range(len(constr_unitary))]\n",
    "# Constraint that defines the problem into a semidefinite relaxation\n",
    "constraints += [cp.real(cp.trace(sdr_def_constr[i]@variable)) == sdr_cst[i] for i in range(len(sdr_def_constr))]\n",
    "# Constraint that says the mean photon number at next step is bigger than previous\n",
    "constraints += [cp.real(cp.trace(photon_nbr_prev[i]@variable)) >= 0 for i in range(len(photon_nbr_prev))]\n",
    "# Constraint that state the pump is fixed\n",
    "#constraints += [cp.real(cp.trace(fix_beta[i]@variable)) == 0 for i in range(len(fix_beta))]\n",
    "# Constraint that defines the photon number at end of waveguide\n",
    "constraints.append(cp.real(cp.trace(photon_end@variable)) == 0)\n",
    "# Constraint to state the trace of unitary is 1\n",
    "#constraints.append(cp.real(cp.trace(constr_unitary_trace@variable)) == 0)\n",
    "# Constraint to limit the objective function value\n",
    "#constraints.append(cp.real(cp.trace(obj_f@variable)) >= 1.)\n",
    "problem = cp.Problem(cp.Minimize(cp.real(cp.trace(obj_f@variable))), constraints)"
   ]
  },
  {
   "cell_type": "code",
   "execution_count": 41,
   "metadata": {},
   "outputs": [
    {
     "name": "stdout",
     "output_type": "stream",
     "text": [
      "===============================================================================\n",
      "                                     CVXPY                                     \n",
      "                                     v1.4.2                                    \n",
      "===============================================================================\n",
      "(CVXPY) Mar 05 08:06:18 PM: Your problem has 5929 variables, 1697 constraints, and 0 parameters.\n",
      "(CVXPY) Mar 05 08:06:18 PM: It is compliant with the following grammars: DCP, DQCP\n",
      "(CVXPY) Mar 05 08:06:18 PM: (If you need to solve this problem multiple times, but with different data, consider using parameters.)\n",
      "(CVXPY) Mar 05 08:06:18 PM: CVXPY will first compile your problem; then, it will invoke a numerical solver to obtain a solution.\n",
      "(CVXPY) Mar 05 08:06:18 PM: Your problem is compiled with the CPP canonicalization backend.\n",
      "-------------------------------------------------------------------------------\n",
      "                                  Compilation                                  \n",
      "-------------------------------------------------------------------------------\n",
      "(CVXPY) Mar 05 08:06:18 PM: Compiling problem (target solver=SCS).\n",
      "(CVXPY) Mar 05 08:06:18 PM: Reduction chain: Complex2Real -> Dcp2Cone -> CvxAttr2Constr -> Dcp2Cone -> CvxAttr2Constr -> ConeMatrixStuffing -> SCS\n",
      "(CVXPY) Mar 05 08:06:18 PM: Applying reduction Complex2Real\n",
      "(CVXPY) Mar 05 08:06:19 PM: Applying reduction Dcp2Cone\n",
      "(CVXPY) Mar 05 08:06:19 PM: Applying reduction CvxAttr2Constr\n",
      "(CVXPY) Mar 05 08:06:19 PM: Applying reduction Dcp2Cone\n",
      "(CVXPY) Mar 05 08:06:19 PM: Applying reduction CvxAttr2Constr\n",
      "(CVXPY) Mar 05 08:06:19 PM: Applying reduction ConeMatrixStuffing\n",
      "(CVXPY) Mar 05 08:06:22 PM: Applying reduction SCS\n",
      "(CVXPY) Mar 05 08:06:22 PM: Finished problem compilation (took 3.473e+00 seconds).\n",
      "-------------------------------------------------------------------------------\n",
      "                                Numerical solver                               \n",
      "-------------------------------------------------------------------------------\n",
      "(CVXPY) Mar 05 08:06:22 PM: Invoking solver SCS  to obtain a solution.\n",
      "------------------------------------------------------------------\n",
      "\t       SCS v3.2.4 - Splitting Conic Solver\n",
      "\t(c) Brendan O'Donoghue, Stanford University, 2012\n",
      "------------------------------------------------------------------\n",
      "problem:  variables n: 5929, constraints m: 13631\n",
      "cones: \t  z: primal zero / dual free vars: 1695\n",
      "\t  l: linear vars: 1\n",
      "\t  s: psd vars: 11935, ssize: 1\n",
      "settings: eps_abs: 1.0e-05, eps_rel: 1.0e-05, eps_infeas: 1.0e-07\n",
      "\t  alpha: 1.50, scale: 1.00e-01, adaptive_scale: 1\n",
      "\t  max_iters: 100000, normalize: 1, rho_x: 1.00e-06\n",
      "\t  acceleration_lookback: 10, acceleration_interval: 10\n",
      "lin-sys:  sparse-direct-amd-qdldl\n",
      "\t  nnz(A): 16134, nnz(P): 0\n",
      "------------------------------------------------------------------\n",
      " iter | pri res | dua res |   gap   |   obj   |  scale  | time (s)\n",
      "------------------------------------------------------------------\n",
      "     0| 4.97e+02  2.38e+01  7.14e+05  3.57e+05  1.00e-01  8.56e-03 \n",
      "   250| 8.93e-01  2.88e-02  8.28e-01 -1.76e+00  3.08e-02  7.00e-01 \n",
      "   500| 4.95e-01  8.74e-04  1.83e+00 -7.31e+00  8.45e-04  1.39e+00 \n",
      "   750| 1.05e+03  1.27e+00  3.57e-01 -6.01e+00  8.45e-04  2.03e+00 \n",
      "  1000| 2.75e-01  4.60e-05  9.20e-02 -1.06e+01  8.45e-04  2.64e+00 \n",
      "  1250| 2.51e-01  4.62e-05  9.54e-02 -9.98e+00  8.45e-04  3.25e+00 \n",
      "  1500| 1.99e-01  5.93e-05  4.05e-01 -9.28e+00  8.45e-04  3.89e+00 \n",
      "  1750| 4.97e-01  9.20e-04  2.23e-01 -7.66e+00  8.45e-04  4.53e+00 \n",
      "  2000| 3.98e-01  7.12e-04  8.61e-02 -7.12e+00  8.45e-04  5.24e+00 \n",
      "  2250| 2.14e-01  1.19e-04  8.06e-02 -6.95e+00  8.45e-04  5.90e+00 \n",
      "  2500| 2.17e-01  4.71e-05  7.41e-02 -6.95e+00  8.45e-04  6.55e+00 \n",
      "  2750| 2.19e-01  3.50e-05  7.15e-02 -6.90e+00  8.45e-04  7.19e+00 \n",
      "  3000| 2.21e-01  6.52e-05  6.87e-02 -6.89e+00  8.45e-04  7.85e+00 \n",
      "  3250| 2.23e-01  6.97e-05  6.63e-02 -6.85e+00  8.45e-04  8.48e+00 \n",
      "  3500| 2.25e-01  4.63e-05  6.39e-02 -6.81e+00  8.45e-04  9.12e+00 \n",
      "  3750| 2.27e-01  2.98e-05  6.15e-02 -6.78e+00  8.45e-04  9.77e+00 \n",
      "  4000| 2.30e-01  4.15e-05  5.04e-02 -6.72e+00  8.45e-04  1.05e+01 \n",
      "  4250| 2.31e-01  2.95e-05  6.11e-02 -6.74e+00  8.45e-04  1.12e+01 \n",
      "  4500| 4.48e+01  5.67e-02  1.93e-01 -1.26e+01  8.45e-04  1.18e+01 \n",
      "  4750| 2.35e-01  2.67e-05  5.25e-02 -6.66e+00  8.45e-04  1.25e+01 \n",
      "  5000| 2.37e-01  2.67e-05  5.00e-02 -6.63e+00  8.45e-04  1.31e+01 \n",
      "  5250| 2.39e-01  2.78e-05  4.70e-02 -6.60e+00  8.45e-04  1.38e+01 \n",
      "  5500| 2.41e-01  2.57e-05  4.61e-02 -6.57e+00  8.45e-04  1.44e+01 \n",
      "  5750| 2.43e-01  2.41e-05  4.26e-02 -6.54e+00  8.45e-04  1.51e+01 \n",
      "  6000| 2.45e-01  2.05e-05  4.16e-02 -6.51e+00  8.45e-04  1.57e+01 \n",
      "  6250| 2.46e-01  1.98e-05  3.86e-02 -6.48e+00  8.45e-04  1.64e+01 \n",
      "  6500| 2.48e-01  1.85e-05  3.72e-02 -6.45e+00  8.45e-04  1.70e+01 \n",
      "  6750| 2.50e-01  1.76e-05  3.46e-02 -6.42e+00  8.45e-04  1.77e+01 \n",
      "  7000| 2.52e-01  1.61e-05  3.29e-02 -6.40e+00  8.45e-04  1.85e+01 \n",
      "  7250| 3.56e+03  2.62e+00  1.02e-01 -4.55e+00  8.45e-04  1.91e+01 \n",
      "  7500| 2.55e-01  1.41e-05  2.87e-02 -6.34e+00  8.45e-04  1.98e+01 \n",
      "  7750| 2.57e-01  1.34e-05  2.67e-02 -6.31e+00  8.45e-04  2.04e+01 \n",
      "  8000| 2.59e-01  1.26e-05  2.47e-02 -6.28e+00  8.45e-04  2.11e+01 \n",
      "  8250| 2.60e-01  1.15e-05  2.28e-02 -6.26e+00  8.45e-04  2.17e+01 \n",
      "  8500| 2.62e-01  1.03e-05  2.08e-02 -6.23e+00  8.45e-04  2.24e+01 \n",
      "  8750| 2.64e-01  9.18e-06  1.89e-02 -6.20e+00  8.45e-04  2.31e+01 \n",
      "  9000| 2.65e-01  8.31e-06  1.69e-02 -6.18e+00  8.45e-04  2.37e+01 \n",
      "  9250| 5.13e-02  7.15e-06  1.45e-02 -6.21e+00  8.45e-04  2.43e+01 \n",
      "  9500| 2.32e-02  7.59e-06  3.99e-03 -6.44e+00  8.45e-04  2.50e+01 \n",
      "  9750| 2.13e-02  3.93e-06  8.14e-03 -6.47e+00  8.45e-04  2.56e+01 \n",
      " 10000| 1.63e-02  3.82e-06  7.74e-03 -6.51e+00  8.45e-04  2.64e+01 \n",
      " 10250| 1.54e-02  4.25e-06  1.73e-03 -6.50e+00  8.45e-04  2.71e+01 \n",
      " 10500| 1.41e-02  2.90e-06  6.02e-03 -6.53e+00  8.45e-04  2.78e+01 \n",
      " 10750| 1.33e-02  3.33e-06  2.23e-03 -6.52e+00  8.45e-04  2.84e+01 \n",
      " 11000| 1.22e-02  2.23e-06  4.58e-03 -6.54e+00  8.45e-04  2.91e+01 \n",
      " 11250| 2.88e-01  3.59e-04  1.33e-02 -6.60e+00  8.45e-04  2.98e+01 \n",
      " 11500| 1.94e-03  1.71e-06  1.29e-03 -6.63e+00  8.45e-04  3.05e+01 \n",
      " 11600| 2.69e-04  4.45e-07  6.93e-05 -6.63e+00  8.45e-04  3.07e+01 \n",
      "------------------------------------------------------------------\n",
      "status:  solved\n",
      "timings: total: 3.07e+01s = setup: 5.59e-03s + solve: 3.07e+01s\n",
      "\t lin-sys: 1.42e+00s, cones: 2.84e+01s, accel: 2.23e-01s\n",
      "------------------------------------------------------------------\n",
      "objective = -6.632510\n",
      "------------------------------------------------------------------\n",
      "-------------------------------------------------------------------------------\n",
      "                                    Summary                                    \n",
      "-------------------------------------------------------------------------------\n",
      "(CVXPY) Mar 05 08:06:52 PM: Problem status: optimal\n",
      "(CVXPY) Mar 05 08:06:52 PM: Optimal value: -6.633e+00\n",
      "(CVXPY) Mar 05 08:06:52 PM: Compilation took 3.473e+00 seconds\n",
      "(CVXPY) Mar 05 08:06:52 PM: Solver (including time spent in interface) took 3.070e+01 seconds\n"
     ]
    },
    {
     "data": {
      "text/plain": [
       "-6.632544384386719"
      ]
     },
     "execution_count": 41,
     "metadata": {},
     "output_type": "execute_result"
    }
   ],
   "source": [
    "# The objective function will decrease until the Lippmann Schwinger equations are no longer satisfied\n",
    "problem.solve(verbose = True, max_iters = 1*10**5)"
   ]
  },
  {
   "cell_type": "code",
   "execution_count": 10,
   "metadata": {},
   "outputs": [],
   "source": [
    "# Loading the optimal primal values\n",
    "fixed_pump_max = np.load(\"fixed_pump_max.npy\")\n",
    "fixed_pump_min = np.load(\"fixed_pump_min.npy\")\n",
    "free_pump_max = np.load(\"free_pump_max.npy\")\n",
    "free_pump_min = np.load(\"free_pump_min.npy\")"
   ]
  },
  {
   "cell_type": "code",
   "execution_count": 11,
   "metadata": {},
   "outputs": [
    {
     "data": {
      "text/plain": [
       "((6.589337710553232+2.710505431213761e-20j),\n",
       " (-6.589337710553232-2.710505431213761e-20j),\n",
       " (6.632544384386719+0j),\n",
       " (-6.632544384386719+0j))"
      ]
     },
     "execution_count": 11,
     "metadata": {},
     "output_type": "execute_result"
    }
   ],
   "source": [
    "np.trace(obj_f@fixed_pump_max), np.trace(obj_f@fixed_pump_min), np.trace(obj_f@free_pump_max), np.trace(obj_f@free_pump_min)"
   ]
  },
  {
   "cell_type": "code",
   "execution_count": null,
   "metadata": {},
   "outputs": [],
   "source": [
    "# Sum of singular values theoretical"
   ]
  },
  {
   "cell_type": "code",
   "execution_count": 16,
   "metadata": {},
   "outputs": [],
   "source": [
    "# Get the optimal variable as numpy array\n",
    "end_product = fixed_pump_min#variable.value"
   ]
  },
  {
   "cell_type": "code",
   "execution_count": 17,
   "metadata": {},
   "outputs": [],
   "source": [
    "# Get elements of the optimized_result\n",
    "opt_unit = end_product[:N_omega, (2*N_z + 2)*N_omega:]\n",
    "opt_B_U_plus_dagger = end_product[:N_omega, (N_z)*N_omega:(N_z + 1)*N_omega]\n",
    "opt_U_plus_dagger_1 = end_product[N_z*N_omega:(N_z + 1)*N_omega, (2*N_z + 2)*N_omega:(2*N_z + 3)*N_omega]\n",
    "opt_U_plus_dagger_0 = end_product[(N_z - 1)*N_omega:(N_z)*N_omega, (2*N_z + 2)*N_omega:(2*N_z + 3)*N_omega]\n",
    "opt_U_minus_dagger_1 = end_product[2*N_z*N_omega:(2*N_z + 1)*N_omega, (2*N_z + 2)*N_omega:(2*N_z + 3)*N_omega]\n",
    "opt_U_minus_dagger_0 = end_product[(2*N_z - 1)*N_omega:(2*N_z)*N_omega, (2*N_z + 2)*N_omega:(2*N_z + 3)*N_omega]\n",
    "opt_beta = end_product[(2*N_z + 1)*N_omega:(2*N_z + 2)*N_omega, (2*N_z + 2)*N_omega:(2*N_z + 3)*N_omega]"
   ]
  },
  {
   "cell_type": "code",
   "execution_count": 18,
   "metadata": {},
   "outputs": [
    {
     "data": {
      "text/plain": [
       "array([[ 0.30467053+0.00000000e+00j,  0.29010516+3.72427815e-04j,\n",
       "         0.20955825+5.75881492e-04j,  0.09308063+8.50499642e-05j,\n",
       "        -0.01348311+2.04538813e-05j, -0.07438166-2.98085437e-04j,\n",
       "        -0.07956929-5.59754389e-04j, -0.04359833-4.66559319e-04j,\n",
       "         0.00659879-3.45076791e-05j,  0.0462414 +3.68039209e-04j,\n",
       "         0.06266895+6.27873527e-04j],\n",
       "       [ 0.29010516-3.72427815e-04j,  0.29933539+0.00000000e+00j,\n",
       "         0.2461924 +3.50785410e-04j,  0.1477971 -5.92458370e-05j,\n",
       "         0.04192078+1.48131120e-04j, -0.03405617-3.56467480e-05j,\n",
       "        -0.06139178-3.32698801e-04j, -0.04529461-3.92882068e-04j,\n",
       "        -0.00738203-1.66664644e-04j,  0.02812935+1.32261892e-04j,\n",
       "         0.0462414 +3.68039168e-04j],\n",
       "       [ 0.20955825-5.75881492e-04j,  0.2461924 -3.50785410e-04j,\n",
       "         0.2424555 +0.00000000e+00j,  0.1955687 -3.54944419e-04j,\n",
       "         0.12135525+1.40168538e-04j,  0.04622909+2.35303149e-04j,\n",
       "        -0.00662356+4.95593672e-05j, -0.02780902-1.41222958e-04j,\n",
       "        -0.02326683-2.52774172e-04j, -0.00738203-1.66664587e-04j,\n",
       "         0.00659879-3.45076387e-05j],\n",
       "       [ 0.09308063-8.50499642e-05j,  0.1477971 +5.92458370e-05j,\n",
       "         0.1955687 +3.54944419e-04j,  0.2163647 +0.00000000e+00j,\n",
       "         0.19848164+6.07046012e-04j,  0.14618615+9.09529036e-04j,\n",
       "         0.07753437+8.24600429e-04j,  0.0144321 +4.60953548e-04j,\n",
       "        -0.02780902-1.41222983e-04j, -0.04529461-3.92882115e-04j,\n",
       "        -0.04359833-4.66559334e-04j],\n",
       "       [-0.01348311-2.04538813e-05j,  0.04192078-1.48131120e-04j,\n",
       "         0.12135525-1.40168538e-04j,  0.19848164-6.07046012e-04j,\n",
       "         0.24123897+0.00000000e+00j,  0.22962649+6.17039658e-04j,\n",
       "         0.16695504+9.43305062e-04j,  0.07753437+8.24600405e-04j,\n",
       "        -0.00662356+4.95594095e-05j, -0.06139178-3.32698817e-04j,\n",
       "        -0.07956929-5.59754358e-04j],\n",
       "       [-0.07438166+2.98085437e-04j, -0.03405617+3.56467480e-05j,\n",
       "         0.04622909-2.35303149e-04j,  0.14618615-9.09529036e-04j,\n",
       "         0.22962649-6.17039658e-04j,  0.26212938+0.00000000e+00j,\n",
       "         0.22962649+6.17039703e-04j,  0.14618615+9.09529010e-04j,\n",
       "         0.04622909+2.35303188e-04j, -0.03405617-3.56467925e-05j,\n",
       "        -0.07438166-2.98085450e-04j],\n",
       "       [-0.07956929+5.59754389e-04j, -0.06139178+3.32698801e-04j,\n",
       "        -0.00662356-4.95593672e-05j,  0.07753437-8.24600429e-04j,\n",
       "         0.16695504-9.43305062e-04j,  0.22962649-6.17039703e-04j,\n",
       "         0.24123897+0.00000000e+00j,  0.19848164+6.07045952e-04j,\n",
       "         0.12135525+1.40168549e-04j,  0.04192078+1.48131129e-04j,\n",
       "        -0.01348311+2.04539325e-05j],\n",
       "       [-0.04359833+4.66559319e-04j, -0.04529461+3.92882068e-04j,\n",
       "        -0.02780902+1.41222958e-04j,  0.0144321 -4.60953548e-04j,\n",
       "         0.07753437-8.24600405e-04j,  0.14618615-9.09529010e-04j,\n",
       "         0.19848164-6.07045952e-04j,  0.2163647 +0.00000000e+00j,\n",
       "         0.1955687 -3.54944450e-04j,  0.1477971 -5.92458738e-05j,\n",
       "         0.09308063+8.50498977e-05j],\n",
       "       [ 0.00659879+3.45076791e-05j, -0.00738203+1.66664644e-04j,\n",
       "        -0.02326683+2.52774172e-04j, -0.02780902+1.41222983e-04j,\n",
       "        -0.00662356-4.95594095e-05j,  0.04622909-2.35303188e-04j,\n",
       "         0.12135525-1.40168549e-04j,  0.1955687 +3.54944450e-04j,\n",
       "         0.2424555 +0.00000000e+00j,  0.2461924 +3.50785452e-04j,\n",
       "         0.20955825+5.75881492e-04j],\n",
       "       [ 0.0462414 -3.68039209e-04j,  0.02812935-1.32261892e-04j,\n",
       "        -0.00738203+1.66664587e-04j, -0.04529461+3.92882115e-04j,\n",
       "        -0.06139178+3.32698817e-04j, -0.03405617+3.56467925e-05j,\n",
       "         0.04192078-1.48131129e-04j,  0.1477971 +5.92458738e-05j,\n",
       "         0.2461924 -3.50785452e-04j,  0.29933539+0.00000000e+00j,\n",
       "         0.29010516+3.72427818e-04j],\n",
       "       [ 0.06266895-6.27873527e-04j,  0.0462414 -3.68039168e-04j,\n",
       "         0.00659879+3.45076387e-05j, -0.04359833+4.66559334e-04j,\n",
       "        -0.07956929+5.59754358e-04j, -0.07438166+2.98085450e-04j,\n",
       "        -0.01348311-2.04539325e-05j,  0.09308063-8.50498977e-05j,\n",
       "         0.20955825-5.75881492e-04j,  0.29010516-3.72427818e-04j,\n",
       "         0.30467053+0.00000000e+00j]])"
      ]
     },
     "execution_count": 18,
     "metadata": {},
     "output_type": "execute_result"
    }
   ],
   "source": [
    "opt_unit.conj().T@opt_unit"
   ]
  },
  {
   "cell_type": "code",
   "execution_count": 75,
   "metadata": {},
   "outputs": [
    {
     "data": {
      "text/plain": [
       "<matplotlib.image.AxesImage at 0x7f0a100e5950>"
      ]
     },
     "execution_count": 75,
     "metadata": {},
     "output_type": "execute_result"
    },
    {
     "data": {
      "image/png": "[encoded data removed]",
      "text/plain": [
       "<Figure size 480x480 with 1 Axes>"
      ]
     },
     "metadata": {},
     "output_type": "display_data"
    },
    {
     "data": {
      "image/png": "[encoded data removed]",
      "text/plain": [
       "<Figure size 480x480 with 1 Axes>"
      ]
     },
     "metadata": {},
     "output_type": "display_data"
    }
   ],
   "source": [
    "# Comparing the bloc of B_U_plus_dagger and B@U_plus_dagger\n",
    "plt.matshow(np.real(opt_unit@W_plus[1].conj().T))\n",
    "plt.matshow(np.real(opt_B_U_plus_dagger))"
   ]
  },
  {
   "cell_type": "code",
   "execution_count": 61,
   "metadata": {},
   "outputs": [
    {
     "data": {
      "text/plain": [
       "<matplotlib.image.AxesImage at 0x7f0a0f663f50>"
      ]
     },
     "execution_count": 61,
     "metadata": {},
     "output_type": "execute_result"
    },
    {
     "data": {
      "image/png": "[encoded data removed]",
      "text/plain": [
       "<Figure size 480x480 with 1 Axes>"
      ]
     },
     "metadata": {},
     "output_type": "display_data"
    },
    {
     "data": {
      "image/png": "[encoded data removed]",
      "text/plain": [
       "<Figure size 480x480 with 1 Axes>"
      ]
     },
     "metadata": {},
     "output_type": "display_data"
    }
   ],
   "source": [
    "# Comparing optimal U_plus and theoretical U_plus\n",
    "plt.matshow(np.real(W_plus[1]) - (1/np.sqrt(np.real(n)))*np.eye(N_omega))\n",
    "plt.matshow(np.real(opt_U_plus_dagger_1) - (1/np.sqrt(np.real(n)))*np.eye(N_omega))"
   ]
  },
  {
   "cell_type": "code",
   "execution_count": 65,
   "metadata": {},
   "outputs": [
    {
     "data": {
      "text/plain": [
       "<matplotlib.image.AxesImage at 0x7f0a0f059f10>"
      ]
     },
     "execution_count": 65,
     "metadata": {},
     "output_type": "execute_result"
    },
    {
     "data": {
      "image/png": "[encoded data removed]",
      "text/plain": [
       "<Figure size 480x480 with 1 Axes>"
      ]
     },
     "metadata": {},
     "output_type": "display_data"
    },
    {
     "data": {
      "image/png": "[encoded data removed]",
      "text/plain": [
       "<Figure size 480x480 with 1 Axes>"
      ]
     },
     "metadata": {},
     "output_type": "display_data"
    }
   ],
   "source": [
    "# Comparing optimal U_minus and theoretical U_minus\n",
    "plt.matshow(np.real(W_minus[1]) - (1/np.sqrt(np.real(n)))*np.eye(N_omega))\n",
    "plt.matshow(np.real(opt_U_minus_dagger_1) - (1/np.sqrt(np.real(n)))*np.eye(N_omega))"
   ]
  },
  {
   "cell_type": "code",
   "execution_count": 67,
   "metadata": {},
   "outputs": [
    {
     "data": {
      "text/plain": [
       "<matplotlib.image.AxesImage at 0x7f0a0efb7d50>"
      ]
     },
     "execution_count": 67,
     "metadata": {},
     "output_type": "execute_result"
    },
    {
     "data": {
      "image/png": "[encoded data removed]",
      "text/plain": [
       "<Figure size 480x480 with 1 Axes>"
      ]
     },
     "metadata": {},
     "output_type": "display_data"
    },
    {
     "data": {
      "image/png": "[encoded data removed]",
      "text/plain": [
       "<Figure size 480x480 with 1 Axes>"
      ]
     },
     "metadata": {},
     "output_type": "display_data"
    }
   ],
   "source": [
    "# Comparing the optimized beta and theoretical beta\n",
    "plt.matshow(np.real(opt_beta))\n",
    "plt.matshow(np.real(beta))"
   ]
  },
  {
   "cell_type": "code",
   "execution_count": 23,
   "metadata": {},
   "outputs": [
    {
     "data": {
      "text/plain": [
       "<matplotlib.image.AxesImage at 0x7f09fe795890>"
      ]
     },
     "execution_count": 23,
     "metadata": {},
     "output_type": "execute_result"
    },
    {
     "data": {
      "image/png": "[encoded data removed]",
      "text/plain": [
       "<Figure size 480x480 with 1 Axes>"
      ]
     },
     "metadata": {},
     "output_type": "display_data"
    }
   ],
   "source": [
    "plt.matshow(np.real(opt_unit))"
   ]
  },
  {
   "cell_type": "code",
   "execution_count": 12,
   "metadata": {},
   "outputs": [],
   "source": [
    "S, V, D = scipy.linalg.svd(W_plus[1] - W_minus[-1])"
   ]
  },
  {
   "cell_type": "code",
   "execution_count": 14,
   "metadata": {},
   "outputs": [
    {
     "data": {
      "text/plain": [
       "3.533313812772705"
      ]
     },
     "execution_count": 14,
     "metadata": {},
     "output_type": "execute_result"
    }
   ],
   "source": [
    "sum(V)"
   ]
  },
  {
   "cell_type": "code",
   "execution_count": 25,
   "metadata": {},
   "outputs": [],
   "source": [
    "unitary_mat = end_product[:N_omega, (2*N_z + 2)*N_omega:]"
   ]
  },
  {
   "cell_type": "code",
   "execution_count": 27,
   "metadata": {},
   "outputs": [
    {
     "data": {
      "text/plain": [
       "array([0.30467053+0.j, 0.29933539+0.j, 0.2424555 +0.j, 0.2163647 +0.j,\n",
       "       0.24123897+0.j, 0.26212938+0.j, 0.24123897+0.j, 0.2163647 +0.j,\n",
       "       0.2424555 +0.j, 0.29933539+0.j, 0.30467053+0.j])"
      ]
     },
     "execution_count": 27,
     "metadata": {},
     "output_type": "execute_result"
    }
   ],
   "source": [
    "np.diag(unitary_mat.conj().T@unitary_mat)"
   ]
  },
  {
   "cell_type": "code",
   "execution_count": 29,
   "metadata": {},
   "outputs": [
    {
     "data": {
      "text/plain": [
       "<matplotlib.image.AxesImage at 0x7f09fe4e5890>"
      ]
     },
     "execution_count": 29,
     "metadata": {},
     "output_type": "execute_result"
    },
    {
     "data": {
      "image/png": "[encoded data removed]",
      "text/plain": [
       "<Figure size 480x480 with 1 Axes>"
      ]
     },
     "metadata": {},
     "output_type": "display_data"
    },
    {
     "data": {
      "image/png": "[encoded data removed]",
      "text/plain": [
       "<Figure size 480x480 with 1 Axes>"
      ]
     },
     "metadata": {},
     "output_type": "display_data"
    }
   ],
   "source": [
    "plt.matshow(np.real(unitary_mat.conj().T@W_plus[1]))\n",
    "plt.matshow(np.real(np.real(W_plus[1])))"
   ]
  },
  {
   "cell_type": "code",
   "execution_count": 56,
   "metadata": {},
   "outputs": [
    {
     "data": {
      "text/plain": [
       "(3.5333138127727026+0j)"
      ]
     },
     "execution_count": 56,
     "metadata": {},
     "output_type": "execute_result"
    }
   ],
   "source": [
    "sum(V)/np.sqrt(n)"
   ]
  }
 ],
 "metadata": {
  "kernelspec": {
   "display_name": "Python 3 (ipykernel)",
   "language": "python",
   "name": "python3"
  },
  "language_info": {
   "codemirror_mode": {
    "name": "ipython",
    "version": 3
   },
   "file_extension": ".py",
   "mimetype": "text/x-python",
   "name": "python",
   "nbconvert_exporter": "python",
   "pygments_lexer": "ipython3",
   "version": "3.11.4"
  }
 },
 "nbformat": 4,
 "nbformat_minor": 4
}
