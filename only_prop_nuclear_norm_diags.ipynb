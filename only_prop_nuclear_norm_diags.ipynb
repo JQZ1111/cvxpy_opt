{
 "cells": [
  {
   "cell_type": "code",
   "execution_count": 1,
   "id": "4c68febb-1c33-44f7-8c82-f25e5d416489",
   "metadata": {},
   "outputs": [],
   "source": [
    "%config InlineBackend.figure_formats=['svg']\n",
    "import numpy as np\n",
    "import scipy\n",
    "import scipy.sparse as sparse\n",
    "import cvxpy as cp\n",
    "import matplotlib.pyplot as plt\n",
    "import only_prop_only_nuclear_norm as api\n",
    "import time\n",
    "import math\n",
    "\n",
    "np.random.seed(0)"
   ]
  },
  {
   "cell_type": "code",
   "execution_count": 2,
   "id": "3652101e-e0d6-4231-b3aa-5753b71e24eb",
   "metadata": {},
   "outputs": [],
   "source": [
    "N_omega = 21\n",
    "free_indices = 2*N_omega - 1 - 12\n",
    "omega = np.linspace(-2, 2, N_omega)\n",
    "delta_omega = np.abs(omega[1] - omega[0])\n",
    "N_z = 6\n",
    "z = np.linspace(0, 5*10**-3, N_z)\n",
    "delta_z = np.abs(z[1] - z[0])\n",
    "green_fs = api.get_green_f(omega,z)\n",
    "projection = np.zeros((N_omega, N_omega))\n",
    "projections = []\n",
    "sdr_def_constr = []\n",
    "B_dagger_B_constr = []\n",
    "sdr_cst = []\n",
    "for i in range(N_omega):\n",
    "    for j in range(N_omega):\n",
    "        proj_copy = projection.copy()\n",
    "        proj_copy[i, j] = 1\n",
    "        if i == j:\n",
    "            projections.append(sparse.csc_matrix(proj_copy))\n",
    "        sdr_def_constr.append(api.sdr_def_constr(N_omega, N_z, sparse.csc_matrix(proj_copy)))\n",
    "        quad = api.diag_mat(N_omega, N_z, proj_copy)[0] + api.diag_mat(N_omega, N_z, proj_copy)[0].conj().T\n",
    "        quad.resize(((2*N_z + 1)*N_omega,(2*N_z + 1)*N_omega))\n",
    "        B_dagger_B_constr.append(quad)\n",
    "        if i == j:\n",
    "            sdr_cst.append(2.)\n",
    "        else:\n",
    "            sdr_cst.append(0.)"
   ]
  },
  {
   "cell_type": "code",
   "execution_count": 3,
   "id": "5660a064-757a-4b43-b687-7027e46adc54",
   "metadata": {},
   "outputs": [
    {
     "data": {
      "text/plain": [
       "(0.010029083803918898+0j)"
      ]
     },
     "execution_count": 3,
     "metadata": {},
     "output_type": "execute_result"
    }
   ],
   "source": [
    "beta_vec = np.exp(-np.linspace(omega[0], omega[-1], 2*N_omega - 1)**2/2.1)\n",
    "beta = scipy.linalg.hankel(beta_vec[:N_omega], beta_vec[N_omega - 1:])\n",
    "new_beta = delta_omega*beta/(np.sqrt(np.trace(beta@beta)))\n",
    "beta_weight = 100.\n",
    "delta_k = 1.j*np.diag(omega)\n",
    "Q_plus = delta_k + beta_weight*new_beta\n",
    "Q_minus = delta_k - beta_weight*new_beta\n",
    "n = 0.25*np.trace((scipy.linalg.expm(Q_plus*z[-1]) - scipy.linalg.expm(Q_minus*z[-1])).conj().T@(scipy.linalg.expm(Q_plus*z[-1]) - scipy.linalg.expm(Q_minus*z[-1])))\n",
    "W_plus = [(1/np.sqrt(n))*scipy.linalg.expm(Q_plus*z[i]) for i in range(1, N_z)]\n",
    "W_minus = [(1/np.sqrt(n))*scipy.linalg.expm(Q_minus*z[i]) for i in range(1, N_z)]\n",
    "X = np.vstack(W_plus + W_minus + [new_beta])\n",
    "Y = np.vstack(W_plus + W_minus + [new_beta, np.eye(N_omega)])\n",
    "full_rank = Y@Y.conj().T\n",
    "n"
   ]
  },
  {
   "cell_type": "code",
   "execution_count": 4,
   "id": "5b73745c-420b-4ac2-8f42-16b6926a442a",
   "metadata": {},
   "outputs": [],
   "source": [
    "# Creates the matrix for the hermite basis superposition\n",
    "max_order = 10\n",
    "width = 0.1\n",
    "hermite_mat = api.get_hermite_polynom_mat(omega, max_order, width)"
   ]
  },
  {
   "cell_type": "code",
   "execution_count": 5,
   "id": "e02fed58-f270-4d75-8b1a-3ac56723a3c6",
   "metadata": {},
   "outputs": [],
   "source": [
    "# Generate constraints\n",
    "#n = 0.5\n",
    "#beta_weight = 60.\n",
    "dynamics_constr = []\n",
    "sympl_constr = []\n",
    "pump_fix_constr = []\n",
    "lin_dynamics = []\n",
    "lin_dynamics_accurate = []\n",
    "quad_symplect = []\n",
    "gen_symplect = []\n",
    "fin_diff_quad_lin_plus = []\n",
    "fin_diff_quad_lin_minus = []\n",
    "lin_dynamics_more_accurate = []\n",
    "# Changed the constraint to be tr(VV) = delta_omega**2\n",
    "pump_power_constr = api.limit_pump_power(omega, N_z)\n",
    "photon_end_nbr_constr = api.photon_nbr_constr(N_omega, N_z, n)\n",
    "photon_prev_ineq_constr = api.photon_nbr_prev_points(N_omega, N_z)\n",
    "pump_hankel_constr = api.constr_hankel_sdr(N_omega, N_z)\n",
    "fixed_first_last_row = api.constr_first_last_row_pump(N_omega, N_z, new_beta, free_indices)\n",
    "basic_ineq_on_pump_high, basic_ineq_on_pump_low = api.basic_affine_ineq_pump(N_omega, N_z, free_indices, 0.3)\n",
    "constr_left_decay, constr_right_decay = api.pump_exp_decay_constr(N_omega, N_z, \"positive\", \"positive\", 5, 20, max_ampli=0.01)\n",
    "for i in range(len(projections)):\n",
    "    real_plus_dyn, imag_plus_dyn, real_minus_dyn, imag_minus_dyn = api.get_dynamics_sdr(omega, z, projections[i], n, beta_weight)\n",
    "    real_sympl, imag_sympl = api.sympl_constr_sdr(N_omega, N_z, projections[i], n)\n",
    "    real_fixed_pump, imag_fixed_pump = api.sdr_fixed_pump(N_omega, N_z, new_beta, projections[i])\n",
    "    dynamics_constr += real_plus_dyn + imag_plus_dyn + real_minus_dyn + imag_minus_dyn\n",
    "    sympl_constr += real_sympl + imag_sympl\n",
    "    lin_dynamics += api.lin_finite_diff_constr(z, N_omega, delta_k, n, beta_weight, projections[i])\n",
    "    lin_dynamics_accurate += api.lin_finite_diff_constr_accurate(z, N_omega, delta_k, n, beta_weight, projections[i])\n",
    "    lin_dynamics_more_accurate += api.lin_finite_diff_constr_more_accurate(z, N_omega, delta_k, n, beta_weight, projections[i])\n",
    "    quad_symplect += api.constr_lower_quadratic_prop_sympl(N_omega, N_z, projections[i]) + api.constr_upper_quadratic_prop_sympl(N_z, N_omega, projections[i])\n",
    "    gen_symplect += api.constr_sympl_plus(N_z, N_omega, n, projections[i]) + api.constr_sympl_minus(N_z, N_omega, n, projections[i])\n",
    "    fin_diff_quad_lin_plus += api.constr_fin_diff_quad_lin_plus(N_omega, z, beta_weight, n, delta_k, projections[i])\n",
    "    fin_diff_quad_lin_minus += api.constr_fin_diff_quad_lin_minus(N_omega, z, beta_weight, n, delta_k, projections[i])\n",
    "    pump_fix_constr += [imag_fixed_pump]#, real_fixed_pump]\n",
    "constraints_list = dynamics_constr + sympl_constr + pump_hankel_constr + [photon_end_nbr_constr, pump_power_constr] + pump_fix_constr  + fin_diff_quad_lin_plus + fin_diff_quad_lin_minus + quad_symplect + gen_symplect + lin_dynamics + lin_dynamics_accurate + lin_dynamics_more_accurate# + fixed_first_last_row"
   ]
  },
  {
   "cell_type": "code",
   "execution_count": 6,
   "id": "5a2b6d5e-37ec-44d9-8c73-c2b8305c72c0",
   "metadata": {},
   "outputs": [
    {
     "data": {
      "text/plain": [
       "[]"
      ]
     },
     "execution_count": 6,
     "metadata": {},
     "output_type": "execute_result"
    }
   ],
   "source": [
    "[(np.trace(Y.conj().T@constraints_list[i]@Y), i) for i in range(len(constraints_list)) if np.abs(np.trace(Y.conj().T@constraints_list[i]@Y)) > 2*10**-6]"
   ]
  },
  {
   "cell_type": "code",
   "execution_count": 7,
   "id": "3af21a3b-a1bf-4f63-b334-fffd0a265a28",
   "metadata": {},
   "outputs": [],
   "source": [
    "# Get matrices to build objective function\n",
    "left, right = api.obj_f_mat(N_omega, N_z)"
   ]
  },
  {
   "cell_type": "code",
   "execution_count": 8,
   "id": "ba7145dd-b9b2-4aa7-b3b4-6d02f28f7545",
   "metadata": {},
   "outputs": [
    {
     "data": {
      "text/plain": [
       "((210.7502335577343+0j),\n",
       " (208.75473655663038+0j),\n",
       " 210.4867169748606,\n",
       " 209.0037790099276)"
      ]
     },
     "execution_count": 8,
     "metadata": {},
     "output_type": "execute_result"
    }
   ],
   "source": [
    "# Set constraints to make the nuclear norm of U_+ and U_- less or equal that of the rank 1 problem\n",
    "left_both = api.get_lin_matrices(N_z, N_omega, sparse.eye(N_omega))[2*N_z - 2]\n",
    "left_both = sparse.vstack([sparse.csc_matrix((N_omega, N_omega)), left_both])\n",
    "right_plus = api.get_lin_matrices(N_z, N_omega, sparse.eye(N_omega))[N_z - 2]\n",
    "right_plus.resize((2*N_z*N_omega, N_omega))\n",
    "right_minus =  api.get_lin_matrices(N_z, N_omega, sparse.eye(N_omega))[2*N_z - 3]\n",
    "right_minus.resize((2*N_z*N_omega, N_omega))\n",
    "# For epsilon = 0.2, the lower bound is 1.10, but only for n = 0.001, which is expected. For epsilon = 0, most likely cant cpnverge\n",
    "epsilon = .01\n",
    "cst_plus = (N_omega - 2)/np.sqrt(n) + 1 + np.sqrt(1 + 1/n) +  epsilon/2 + np.sqrt((epsilon**2)/4 + 1/n)\n",
    "cst_minus = (N_omega - 2)/np.sqrt(n) - .995 + np.sqrt((.995)**2 + 1/n) + epsilon/2 + np.sqrt((epsilon**2)/4 + 1/n)\n",
    "cst_plus, cst_minus, sum(scipy.linalg.svd(W_plus[-1])[1]),sum(scipy.linalg.svd(W_minus[-1])[1])"
   ]
  },
  {
   "cell_type": "code",
   "execution_count": 9,
   "id": "bda53261-60f2-4c2b-8b13-c5c630ded1db",
   "metadata": {},
   "outputs": [],
   "source": [
    "variable = cp.Variable(shape = (2*N_z*N_omega, 2*N_z*N_omega), hermitian = True)\n",
    "hermite_coeff = cp.Variable(shape=(max_order,))\n",
    "constraints = [variable >> 0]\n",
    "constraints += [cp.real(cp.trace(sdr_def_constr[i]@variable)) == sdr_cst[i] for i in range(len(sdr_def_constr))]\n",
    "constraints += [cp.real(cp.trace(constraints_list[i]@variable)) == 0 for i in range(len(constraints_list))]\n",
    "constraints += [cp.real(cp.trace(photon_prev_ineq_constr[i]@variable)) >= 0 for i in range(len(photon_prev_ineq_constr))]\n",
    "# Nuclear norm into SDP\n",
    "V_plus = cp.Variable(shape = (N_omega, N_omega), hermitian = True)\n",
    "X_plus = cp.Variable(shape = (N_omega, N_omega), hermitian = True)\n",
    "V_minus = cp.Variable(shape = (N_omega, N_omega), hermitian = True)\n",
    "X_minus = cp.Variable(shape = (N_omega, N_omega), hermitian = True)\n",
    "var_U_plus_dagger = left_both.conj().T@variable@right_plus\n",
    "var_U_minus_dagger = left_both.conj().T@variable@right_minus\n",
    "Q_plus = cp.vstack([cp.hstack([V_plus, var_U_plus_dagger]), cp.hstack([var_U_plus_dagger.conj().T, X_plus])])\n",
    "Q_minus = cp.vstack([cp.hstack([V_minus, var_U_minus_dagger]), cp.hstack([var_U_minus_dagger.conj().T, X_minus])])\n",
    "constraints.append(Q_plus >> 0)\n",
    "constraints.append(Q_minus >> 0)\n",
    "constraints.append(cp.real(cp.trace(V_plus + X_plus)) - 2*cst_plus == 0)\n",
    "constraints.append(cp.real(cp.trace(V_minus + X_minus)) - 2*cst_minus == 0)\n",
    "# Constraint on the pump itself\n",
    "left_first_pump, left_second_pump, right_first_pump, right_second_pump = api.isolate_vect_pump(N_omega, N_z)\n",
    "constraints.append(cp.real(cp.hstack([left_first_pump.conj().T@variable@right_first_pump, left_second_pump.conj().T@variable@right_second_pump])) == hermite_mat.T@hermite_coeff)\n",
    "problem = cp.Problem(cp.Minimize(cp.atoms.norm(left.conj().T@variable@right, \"nuc\")), constraints)"
   ]
  },
  {
   "cell_type": "code",
   "execution_count": 10,
   "id": "6ec2d9ed-3fcf-4103-89a2-73c277f76290",
   "metadata": {},
   "outputs": [
    {
     "name": "stdout",
     "output_type": "stream",
     "text": [
      "===============================================================================\n",
      "                                     CVXPY                                     \n",
      "                                     v1.4.2                                    \n",
      "===============================================================================\n",
      "(CVXPY) Jun 04 12:37:16 AM: Your problem has 65278 variables, 3016 constraints, and 0 parameters.\n",
      "(CVXPY) Jun 04 12:37:16 AM: It is compliant with the following grammars: DCP, DQCP\n",
      "(CVXPY) Jun 04 12:37:16 AM: (If you need to solve this problem multiple times, but with different data, consider using parameters.)\n",
      "(CVXPY) Jun 04 12:37:16 AM: CVXPY will first compile your problem; then, it will invoke a numerical solver to obtain a solution.\n",
      "(CVXPY) Jun 04 12:37:16 AM: Your problem is compiled with the CPP canonicalization backend.\n",
      "-------------------------------------------------------------------------------\n",
      "                                  Compilation                                  \n",
      "-------------------------------------------------------------------------------\n",
      "(CVXPY) Jun 04 12:37:16 AM: Compiling problem (target solver=SCS).\n",
      "(CVXPY) Jun 04 12:37:16 AM: Reduction chain: Complex2Real -> Dcp2Cone -> CvxAttr2Constr -> ConeMatrixStuffing -> SCS\n",
      "(CVXPY) Jun 04 12:37:16 AM: Applying reduction Complex2Real\n",
      "(CVXPY) Jun 04 12:37:16 AM: Applying reduction Dcp2Cone\n",
      "(CVXPY) Jun 04 12:37:17 AM: Applying reduction CvxAttr2Constr\n",
      "(CVXPY) Jun 04 12:37:17 AM: Applying reduction ConeMatrixStuffing\n",
      "(CVXPY) Jun 04 12:37:42 AM: Applying reduction SCS\n",
      "(CVXPY) Jun 04 12:37:43 AM: Finished problem compilation (took 2.674e+01 seconds).\n",
      "-------------------------------------------------------------------------------\n",
      "                                Numerical solver                               \n",
      "-------------------------------------------------------------------------------\n",
      "(CVXPY) Jun 04 12:37:43 AM: Invoking solver SCS  to obtain a solution.\n",
      "------------------------------------------------------------------\n",
      "\t       SCS v3.2.4 - Splitting Conic Solver\n",
      "\t(c) Brendan O'Donoghue, Stanford University, 2012\n",
      "------------------------------------------------------------------\n",
      "problem:  variables n: 67084, constraints m: 141025\n",
      "cones: \t  z: primal zero / dual free vars: 3051\n",
      "\t  l: linear vars: 4\n",
      "\t  s: psd vars: 137970, ssize: 4\n",
      "settings: eps_abs: 1.0e-05, eps_rel: 1.0e-05, eps_infeas: 1.0e-07\n",
      "\t  alpha: 1.50, scale: 1.00e-01, adaptive_scale: 1\n",
      "\t  max_iters: 10, normalize: 1, rho_x: 1.00e-06\n",
      "\t  acceleration_lookback: 10, acceleration_interval: 10\n",
      "lin-sys:  sparse-direct-amd-qdldl\n",
      "\t  nnz(A): 165554, nnz(P): 0\n",
      "------------------------------------------------------------------\n",
      " iter | pri res | dua res |   gap   |   obj   |  scale  | time (s)\n",
      "------------------------------------------------------------------\n",
      "     0| 4.21e+02  1.15e+01  1.85e+05  9.26e+04  1.00e-01  1.43e-01 \n",
      "    10| 3.24e+01  1.41e+00  4.56e+04  2.28e+04  1.00e-01  7.03e-01 \n",
      "------------------------------------------------------------------\n",
      "status:  solved (inaccurate - reached max_iters)\n",
      "timings: total: 7.04e-01s = setup: 6.39e-02s + solve: 6.40e-01s\n",
      "\t lin-sys: 1.21e-02s, cones: 6.09e-01s, accel: 1.70e-07s\n",
      "------------------------------------------------------------------\n",
      "objective = 22823.170218 (inaccurate)\n",
      "------------------------------------------------------------------\n",
      "-------------------------------------------------------------------------------\n",
      "                                    Summary                                    \n",
      "-------------------------------------------------------------------------------\n",
      "(CVXPY) Jun 04 12:37:43 AM: Problem status: optimal_inaccurate\n",
      "(CVXPY) Jun 04 12:37:43 AM: Optimal value: 2.766e-02\n",
      "(CVXPY) Jun 04 12:37:43 AM: Compilation took 2.674e+01 seconds\n",
      "(CVXPY) Jun 04 12:37:43 AM: Solver (including time spent in interface) took 7.059e-01 seconds\n"
     ]
    },
    {
     "name": "stderr",
     "output_type": "stream",
     "text": [
      "/home/jiaqizhao/miniconda3/envs/cvxpy_opt/lib/python3.11/site-packages/cvxpy/problems/problem.py:1403: UserWarning: Solution may be inaccurate. Try another solver, adjusting the solver settings, or solve with verbose=True for more information.\n",
      "  warnings.warn(\n"
     ]
    },
    {
     "data": {
      "text/plain": [
       "0.027662450485488533"
      ]
     },
     "execution_count": 10,
     "metadata": {},
     "output_type": "execute_result"
    }
   ],
   "source": [
    "problem.solve(solver = cp.SCS, max_iters = 10, verbose = True)# = cp.MOSEK, mosek_params = {\"MSK_IPAR_INTPNT_MAX_ITERATIONS\":10**9, \"MSK_DPAR_INTPNT_CO_TOL_INFEAS\":10**-8, \"MSK_IPAR_NUM_THREADS\":8, \"MSK_DPAR_INTPNT_CO_TOL_DFEAS\":10**-4, \"MSK_DPAR_INTPNT_CO_TOL_PFEAS\":10**-4, \"MSK_DPAR_INTPNT_TOL_DFEAS\":10**-4}, verbose = True)"
   ]
  },
  {
   "cell_type": "code",
   "execution_count": null,
   "id": "ec8b500e-fdb9-4b4b-906d-639fa884eb68",
   "metadata": {},
   "outputs": [],
   "source": []
  }
 ],
 "metadata": {
  "kernelspec": {
   "display_name": "Python 3 (ipykernel)",
   "language": "python",
   "name": "python3"
  },
  "language_info": {
   "codemirror_mode": {
    "name": "ipython",
    "version": 3
   },
   "file_extension": ".py",
   "mimetype": "text/x-python",
   "name": "python",
   "nbconvert_exporter": "python",
   "pygments_lexer": "ipython3",
   "version": "3.11.4"
  }
 },
 "nbformat": 4,
 "nbformat_minor": 5
}
