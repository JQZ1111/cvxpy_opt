{
 "cells": [
  {
   "cell_type": "code",
   "execution_count": 1,
   "metadata": {},
   "outputs": [],
   "source": [
    "import vectorized_sdr as vect\n",
    "import numpy as np\n",
    "import scipy \n",
    "import scipy.sparse as sparse\n",
    "import matplotlib.pyplot as plt\n",
    "import cvxpy as cp\n",
    "\n",
    "np.random.seed(0)"
   ]
  },
  {
   "cell_type": "code",
   "execution_count": 37,
   "metadata": {},
   "outputs": [],
   "source": [
    "N_omega = 5\n",
    "omega = np.linspace(-2, 2, N_omega)\n",
    "N_z = 15\n",
    "z = np.linspace(0, 10**-1, N_z)\n",
    "n = 0.004\n",
    "rand_pump = np.random.random(2*N_omega - 1)\n",
    "beta = rand_pump.copy()\n",
    "vec_to_hankel = vect.omega_vec_to_omega_dof(N_omega)\n",
    "green_fs = vect.get_green_f(omega,z)"
   ]
  },
  {
   "cell_type": "code",
   "execution_count": 38,
   "metadata": {},
   "outputs": [],
   "source": [
    "projections = []\n",
    "for i in range(N_omega):\n",
    "    for j in range(N_omega):\n",
    "        proj = np.zeros((N_omega, N_omega))\n",
    "        proj[i,j] = 1\n",
    "        projections.append(proj.conj().T)"
   ]
  },
  {
   "cell_type": "code",
   "execution_count": 39,
   "metadata": {},
   "outputs": [],
   "source": [
    "# Get the dynamics constraints matrices\n",
    "real_plus_mats_list = []\n",
    "imag_plus_mats_list = []\n",
    "real_minus_mats_list = []\n",
    "imag_minus_mats_list = []\n",
    "J_def_mat = []\n",
    "for i in range(len(projections)):\n",
    "    real_plus_mats, imag_plus_mats, real_minus_mats, imag_minus_mats = vect.dynamics_mat(omega, z, projections[i])\n",
    "    real_plus_mats_list += real_plus_mats\n",
    "    imag_plus_mats_list += imag_plus_mats\n",
    "    real_minus_mats_list += real_minus_mats\n",
    "    imag_minus_mats_list += imag_minus_mats\n",
    "    J_def_mat.append(vect.J_def_sdp_mat(N_omega, N_z, projections[i]))"
   ]
  },
  {
   "cell_type": "code",
   "execution_count": 52,
   "metadata": {},
   "outputs": [],
   "source": [
    "# Verification that the dynamics work properly\n",
    "beta_vec = np.exp(-(np.linspace(omega[0], omega[-1], 2*N_omega - 1)**2)/0.2)#.random.random(2*N_omega - 1)\n",
    "beta = vect.vec_to_mat(vect.omega_vec_to_omega_dof(N_omega)@beta_vec)\n",
    "delta_k = np.diag(1.j*omega)\n",
    "W_plus = [scipy.linalg.expm((delta_k + beta)*z[i]) for i in range(N_z)]\n",
    "W_minus = [scipy.linalg.expm((delta_k - beta)*z[i]) for i in range(N_z)]\n",
    "J = 0.25*(W_plus[-1]@W_plus[-1].conj().T + W_minus[-1]@W_minus[-1].conj().T - 2*np.eye(N_omega))\n",
    "n = np.trace(J)\n",
    "vect_W_plus = [vect.mat_to_vec(W_plus[i]) for i in range(N_z)]\n",
    "vect_W_minus = [vect.mat_to_vec(W_minus[i]) for i in range(N_z)]\n",
    "vec_W_plus_concat = sparse.vstack(vect_W_plus)\n",
    "vec_W_minus_concat = sparse.vstack(vect_W_minus)\n",
    "vec_J = vect.mat_to_vec(J)\n",
    "x = sparse.vstack([vec_J, vec_W_plus_concat, vec_W_minus_concat, sparse.csc_matrix(beta_vec).T])\n",
    "y = sparse.vstack([x, 1])"
   ]
  },
  {
   "cell_type": "code",
   "execution_count": 53,
   "metadata": {},
   "outputs": [
    {
     "data": {
      "text/plain": [
       "(0.002281059572811514+0j)"
      ]
     },
     "execution_count": 53,
     "metadata": {},
     "output_type": "execute_result"
    }
   ],
   "source": [
    "np.trace(J)**2 - np.trace(J.conj().T@J)"
   ]
  },
  {
   "cell_type": "code",
   "execution_count": 55,
   "metadata": {},
   "outputs": [],
   "source": [
    "# Symplective constraints\n",
    "real_symplectic_constr = []\n",
    "imag_symplectic_constr = []\n",
    "for i in range(len(projections)):\n",
    "    real_symplectic, imag_symplectic = vect.quad_symplectic(N_omega, N_z, projections[i])\n",
    "    real_symplectic_constr += real_symplectic\n",
    "    imag_symplectic_constr += imag_symplectic"
   ]
  },
  {
   "cell_type": "code",
   "execution_count": 56,
   "metadata": {},
   "outputs": [
    {
     "data": {
      "text/plain": [
       "True"
      ]
     },
     "execution_count": 56,
     "metadata": {},
     "output_type": "execute_result"
    }
   ],
   "source": [
    "# Test symplectic constraints work\n",
    "rand_y = np.hstack([np.random.random((2*N_z + 1)*(N_omega**2) + 2*N_omega - 1), np.eye(1)[0]])\n",
    "test_symplectic = [rand_y.conj().T@real_symplectic_constr[i*N_z]@rand_y for i in range(len(projections))]\n",
    "mat_W_plus = vect.vec_to_mat(rand_y[N_omega**2:2*N_omega**2])\n",
    "mat_W_minus = vect.vec_to_mat(rand_y[(1 + N_z)*(N_omega**2):(2 + N_z)*(N_omega**2)])\n",
    "true_symplectic = [0.5*np.trace(projections[i]@mat_W_minus@mat_W_plus.conj().T + (projections[i]@mat_W_minus@mat_W_plus.conj().T).conj().T) - np.trace(projections[i]) for i in range(len(projections))]\n",
    "np.allclose(true_symplectic, test_symplectic)"
   ]
  },
  {
   "cell_type": "code",
   "execution_count": 57,
   "metadata": {},
   "outputs": [],
   "source": [
    "# Various single constraints (limitation on variance of pump, constraint on structure of SDR to be 1, objective function to be non-negative, photon number)\n",
    "obj_f_mat = vect.obj_f_sdp_mat(N_omega, N_z, n)\n",
    "quad_cov_pump = sparse.bmat([[sparse.csc_matrix(((2*N_z + 1)*(N_omega**2),(2*N_z + 1)*(N_omega**2))), sparse.csc_matrix(((2*N_z + 1)*(N_omega**2), 2*N_omega - 1))],\n",
    "             [sparse.csc_matrix((2*N_omega - 1, (2*N_z + 1)*(N_omega**2))), sparse.csc_matrix(np.diag(np.linspace(omega[0], omega[-1], 2*N_omega - 1)**2))]])\n",
    "constr_cov_pump = sparse.bmat([[quad_cov_pump, sparse.csc_matrix(((2*N_z + 1)*(N_omega**2) + 2*N_omega - 1,1))],\n",
    "                               [sparse.csc_matrix((1,(2*N_z + 1)*(N_omega**2) + 2*N_omega - 1)), -1.5*sparse.eye(1)]])\n",
    "sdr_constr = sparse.bmat([[sparse.csc_matrix(((2*N_z + 1)*(N_omega**2) + 2*N_omega - 1,(2*N_z + 1)*(N_omega**2) + 2*N_omega - 1)), sparse.csc_matrix(((2*N_z + 1)*(N_omega**2) + 2*N_omega - 1, 1))],\n",
    "                          [sparse.csc_matrix((1,(2*N_z + 1)*(N_omega**2) + 2*N_omega - 1)), sparse.eye(1)]])\n",
    "photon_nbr_constr_mat = vect.photon_numb_mat(N_omega, N_z, n)"
   ]
  },
  {
   "cell_type": "code",
   "execution_count": 58,
   "metadata": {},
   "outputs": [],
   "source": [
    "# Fix values of beta\n",
    "random_beta = beta_vec#np.random.random(2*N_omega - 1)\n",
    "beta_def_constr_list_real = []\n",
    "beta_def_constr_list_imag = []\n",
    "for i in range(2*N_omega - 1):\n",
    "    beta_proj = np.zeros(2*N_omega - 1)\n",
    "    beta_proj[i] = 1\n",
    "    beta_proj = sparse.csc_matrix(beta_proj.reshape((2*N_omega - 1, 1)))\n",
    "    beta_proj = sparse.vstack([sparse.csc_matrix(((2*N_z + 1)*(N_omega**2),1)), beta_proj])\n",
    "    beta_def_constr_list_real.append(sparse.bmat([[sparse.csc_matrix(((2*N_z + 1)*(N_omega**2) + 2*N_omega - 1,(2*N_z + 1)*(N_omega**2) + 2*N_omega - 1)), 0.5*beta_proj],[0.5*beta_proj.conj().T, -random_beta[i]*sparse.eye(1)]]))\n",
    "    beta_def_constr_list_imag.append(sparse.bmat([[sparse.csc_matrix(((2*N_z + 1)*(N_omega**2) + 2*N_omega - 1,(2*N_z + 1)*(N_omega**2) + 2*N_omega - 1)), 0.5*(beta_proj*1.j)],[0.5*(beta_proj*1.j).conj().T, sparse.csc_matrix((1,1))]]))"
   ]
  },
  {
   "cell_type": "code",
   "execution_count": 59,
   "metadata": {},
   "outputs": [],
   "source": [
    "# Test the dynamics constraints matrices\n",
    "# Make sure the value gives the same as when i do with explicit matmul of LS\n",
    "delta_z = np.abs(z[1] - z[0])\n",
    "test_green_fs = vect.get_green_f(omega, z)\n",
    "test_green_fs.reverse()\n",
    "test_green_fs[0] = test_green_fs[0]/2\n",
    "test_green_fs[-1] = test_green_fs[-1]/2\n",
    "true_dynamics_residue_plus = []\n",
    "true_dynamics_residue_minus = []\n",
    "test_dynamics_residue_plus = []\n",
    "test_dynamics_residue_minus = []\n",
    "for i in range(len(projections)):\n",
    "    true_dynamics_residue_plus.append(-np.trace(projections[i].conj().T@W_plus[-1]) + 2*np.trace(projections[i].conj().T@test_green_fs[0]) + delta_z*np.trace(sum([projections[i].conj().T@test_green_fs[j]@beta@W_plus[j] for j in range(len(W_plus))])))\n",
    "    true_dynamics_residue_minus.append(-np.trace(projections[i].conj().T@W_minus[-1]) + 2*np.trace(projections[i].conj().T@test_green_fs[0]) - delta_z*np.trace(sum([projections[i].conj().T@test_green_fs[j]@beta@W_minus[j] for j in range(len(W_plus))])))\n",
    "    test_dynamics_residue_plus.append((y.conj().T@real_plus_mats_list[(i + 1)*N_z - 1]@y).trace() + 1.j*(y.conj().T@imag_plus_mats_list[(i + 1)*N_z - 1]@y).trace())\n",
    "    test_dynamics_residue_minus.append((y.conj().T@real_minus_mats_list[(i + 1)*N_z - 1]@y).trace() + 1.j*(y.conj().T@imag_minus_mats_list[(i + 1)*N_z - 1]@y).trace())"
   ]
  },
  {
   "cell_type": "code",
   "execution_count": 60,
   "metadata": {},
   "outputs": [
    {
     "data": {
      "text/plain": [
       "(True, True)"
      ]
     },
     "execution_count": 60,
     "metadata": {},
     "output_type": "execute_result"
    }
   ],
   "source": [
    "np.allclose(test_dynamics_residue_plus, true_dynamics_residue_plus), np.allclose(test_dynamics_residue_minus, true_dynamics_residue_minus)"
   ]
  },
  {
   "cell_type": "code",
   "execution_count": 64,
   "metadata": {},
   "outputs": [],
   "source": [
    "# using cvxpy\n",
    "variable = cp.Variable(shape = ((2*N_z + 1)*(N_omega**2) + 2*N_omega, (2*N_z + 1)*(N_omega**2) + 2*N_omega), complex = True)\n",
    "constraints = [variable >> 0]\n",
    "constraints += [cp.real(cp.trace(real_plus_mats_list[i]@variable)) == 0 for i in range(len(real_plus_mats_list))]\n",
    "constraints += [cp.real(cp.trace(imag_plus_mats_list[i]@variable)) == 0 for i in range(len(imag_plus_mats_list))]\n",
    "constraints += [cp.real(cp.trace(real_minus_mats_list[i]@variable)) == 0 for i in range(len(real_minus_mats_list))]\n",
    "constraints += [cp.real(cp.trace(imag_minus_mats_list[i]@variable)) == 0 for i in range(len(imag_minus_mats_list))]\n",
    "constraints += [cp.real(cp.trace(J_def_mat[i]@variable)) == 0 for i in range(len(J_def_mat))]\n",
    "constraints += [cp.real(cp.trace(real_symplectic_constr[i]@variable)) == 0 for i in range(len(real_symplectic_constr))]\n",
    "constraints += [cp.real(cp.trace(imag_symplectic_constr[i]@variable)) == 0 for i in range(len(imag_symplectic_constr))]\n",
    "constraints += [cp.real(cp.trace(beta_def_constr_list_real[i]@variable)) == 0 for i in range(2*N_omega - 1)]\n",
    "constraints += [cp.real(cp.trace(beta_def_constr_list_imag[i]@variable)) == 0 for i in range(2*N_omega - 1)]\n",
    "constraints.append(cp.real(cp.trace(photon_nbr_constr_mat@variable)) == 0)\n",
    "constraints.append(cp.real(cp.trace(obj_f_mat@variable)) >= 0)\n",
    "constraints.append(cp.real(cp.trace(constr_cov_pump@variable)) <= 0)\n",
    "constraints.append(cp.real(cp.trace(sdr_constr@variable)) == 1.)\n",
    "problem = cp.Problem(cp.Minimize(cp.real(cp.trace(obj_f_mat@variable))), constraints)"
   ]
  },
  {
   "cell_type": "code",
   "execution_count": 65,
   "metadata": {},
   "outputs": [
    {
     "name": "stdout",
     "output_type": "stream",
     "text": [
      "===============================================================================\n",
      "                                     CVXPY                                     \n",
      "                                     v1.4.2                                    \n",
      "===============================================================================\n",
      "(CVXPY) Feb 14 10:54:43 AM: Your problem has 616225 variables, 2298 constraints, and 0 parameters.\n",
      "(CVXPY) Feb 14 10:54:44 AM: It is compliant with the following grammars: DCP, DQCP\n",
      "(CVXPY) Feb 14 10:54:44 AM: (If you need to solve this problem multiple times, but with different data, consider using parameters.)\n",
      "(CVXPY) Feb 14 10:54:44 AM: CVXPY will first compile your problem; then, it will invoke a numerical solver to obtain a solution.\n",
      "(CVXPY) Feb 14 10:54:44 AM: Your problem is compiled with the CPP canonicalization backend.\n",
      "-------------------------------------------------------------------------------\n",
      "                                  Compilation                                  \n",
      "-------------------------------------------------------------------------------\n",
      "(CVXPY) Feb 14 10:54:44 AM: Compiling problem (target solver=SCS).\n",
      "(CVXPY) Feb 14 10:54:44 AM: Reduction chain: Complex2Real -> Dcp2Cone -> CvxAttr2Constr -> Dcp2Cone -> CvxAttr2Constr -> ConeMatrixStuffing -> SCS\n",
      "(CVXPY) Feb 14 10:54:44 AM: Applying reduction Complex2Real\n",
      "(CVXPY) Feb 14 10:54:44 AM: Applying reduction Dcp2Cone\n",
      "(CVXPY) Feb 14 10:54:44 AM: Applying reduction CvxAttr2Constr\n",
      "(CVXPY) Feb 14 10:54:44 AM: Applying reduction Dcp2Cone\n",
      "(CVXPY) Feb 14 10:54:44 AM: Applying reduction CvxAttr2Constr\n",
      "(CVXPY) Feb 14 10:54:44 AM: Applying reduction ConeMatrixStuffing\n",
      "(CVXPY) Feb 14 10:56:48 AM: Applying reduction SCS\n",
      "(CVXPY) Feb 14 10:56:49 AM: Finished problem compilation (took 1.253e+02 seconds).\n",
      "-------------------------------------------------------------------------------\n",
      "                                Numerical solver                               \n",
      "-------------------------------------------------------------------------------\n",
      "(CVXPY) Feb 14 10:56:49 AM: Invoking solver SCS  to obtain a solution.\n",
      "------------------------------------------------------------------\n",
      "\t       SCS v3.2.4 - Splitting Conic Solver\n",
      "\t(c) Brendan O'Donoghue, Stanford University, 2012\n",
      "------------------------------------------------------------------\n",
      "problem:  variables n: 1232450, constraints m: 1235532\n",
      "cones: \t  z: primal zero / dual free vars: 2295\n",
      "\t  l: linear vars: 2\n",
      "\t  s: psd vars: 1233235, ssize: 1\n",
      "settings: eps_abs: 1.0e-05, eps_rel: 1.0e-05, eps_infeas: 1.0e-07\n",
      "\t  alpha: 1.50, scale: 1.00e-01, adaptive_scale: 1\n",
      "\t  max_iters: 100000, normalize: 1, rho_x: 1.00e-06\n",
      "\t  acceleration_lookback: 10, acceleration_interval: 10\n",
      "lin-sys:  sparse-direct-amd-qdldl\n",
      "\t  nnz(A): 2677764, nnz(P): 0\n",
      "------------------------------------------------------------------\n",
      " iter | pri res | dua res |   gap   |   obj   |  scale  | time (s)\n",
      "------------------------------------------------------------------\n",
      "     0| 7.79e+01  1.52e+00  1.54e+02 -1.08e+00  1.00e-01  2.90e+00 \n",
      "   250| 2.23e-02  3.84e-03  5.78e-03 -1.38e-02  1.00e-01  5.51e+02 \n",
      "   500| 2.97e-03  1.33e-05  1.81e-03 -3.87e-03  1.00e-01  1.10e+03 \n",
      "   750| 2.85e-03  1.29e-05  1.75e-03 -3.72e-03  1.00e-01  1.63e+03 \n",
      "  1000| 2.74e-03  1.25e-05  1.69e-03 -3.58e-03  1.00e-01  2.12e+03 \n",
      "  1250| 2.63e-03  1.21e-05  1.64e-03 -3.45e-03  1.00e-01  2.60e+03 \n",
      "  1500| 2.53e-03  1.17e-05  1.59e-03 -3.32e-03  1.00e-01  3.07e+03 \n",
      "  1750| 2.44e-03  1.13e-05  1.54e-03 -3.21e-03  1.00e-01  3.54e+03 \n",
      "  2000| 2.35e-03  1.10e-05  1.49e-03 -3.10e-03  1.00e-01  4.02e+03 \n",
      "  2250| 2.26e-03  1.07e-05  1.45e-03 -2.99e-03  1.00e-01  4.49e+03 \n",
      "  2500| 2.18e-03  1.04e-05  1.41e-03 -2.88e-03  1.00e-01  4.95e+03 \n",
      "  2750| 5.52e-01  7.80e-02  2.21e-04 -3.16e-05  1.00e-01  5.41e+03 \n",
      "  3000| 1.99e-03  9.84e-06  1.31e-03 -2.64e-03  1.00e-01  5.89e+03 \n",
      "  3250| 1.84e-03  1.06e-05  1.23e-03 -2.45e-03  1.00e-01  6.37e+03 \n",
      "  3500| 1.59e-03  9.14e-06  1.11e-03 -2.15e-03  1.00e-01  6.85e+03 \n",
      "  3750| 1.25e-03  8.61e-06  9.32e-04 -1.72e-03  1.00e-01  7.36e+03 \n",
      "  4000| 9.03e-04  8.49e-06  7.53e-04 -1.28e-03  1.00e-01  7.86e+03 \n",
      "  4250| 6.25e-04  7.63e-06  6.10e-04 -9.30e-04  1.00e-01  8.34e+03 \n",
      "  4500| 4.29e-04  6.65e-06  5.10e-04 -6.84e-04  1.00e-01  8.81e+03 \n",
      "  4750| 2.85e-04  8.10e-06  4.36e-04 -5.03e-04  1.00e-01  9.30e+03 \n",
      "  5000| 1.86e-04  9.49e-06  3.85e-04 -3.78e-04  1.00e-01  9.79e+03 \n",
      "  5250| 1.14e-04  9.64e-06  3.48e-04 -2.88e-04  1.00e-01  1.03e+04 \n",
      "  5500| 7.03e-01  4.67e-02  8.30e-04 -1.47e-03  1.00e-01  1.08e+04 \n",
      "  5750| 1.03e-04  9.72e-06  2.98e-04 -1.66e-04  1.00e-01  1.13e+04 \n",
      "  6000| 1.01e-04  9.71e-06  2.80e-04 -1.21e-04  1.00e-01  1.20e+04 \n",
      "  6250| 1.00e-04  9.71e-06  2.63e-04 -7.92e-05  1.00e-01  1.27e+04 \n",
      "  6500| 9.89e-05  1.77e-05  2.47e-04 -4.08e-05  1.00e-01  1.33e+04 \n",
      "  6750| 1.28e-04  9.85e-06  2.24e-04  1.56e-05  1.00e-01  1.39e+04 \n",
      "  7000| 2.01e-04  1.01e-05  1.86e-04  1.07e-04  1.00e-01  1.45e+04 \n",
      "  7250| 2.37e-04  1.01e-05  1.68e-04  1.53e-04  1.00e-01  1.51e+04 \n",
      "  7500| 2.35e-04  1.01e-05  1.69e-04  1.50e-04  1.00e-01  1.56e+04 \n",
      "  7750| 2.40e-04  1.00e-05  1.66e-04  1.57e-04  1.00e-01  1.61e+04 \n",
      "  8000| 2.61e-04  1.00e-05  1.55e-04  1.84e-04  1.00e-01  1.65e+04 \n",
      "  8250| 2.41e-01  3.41e-02  3.59e-05  4.74e-04  1.00e-01  1.70e+04 \n",
      "  8500| 2.95e-04  1.00e-05  1.38e-04  2.26e-04  1.00e-01  1.76e+04 \n",
      "  8750| 3.03e-04  1.00e-05  1.34e-04  2.37e-04  1.00e-01  1.81e+04 \n",
      "  9000| 3.11e-04  1.00e-05  1.30e-04  2.46e-04  1.00e-01  1.86e+04 \n",
      "  9250| 3.19e-04  9.99e-06  1.26e-04  2.56e-04  1.00e-01  1.92e+04 \n",
      "  9500| 3.27e-04  9.98e-06  1.22e-04  2.66e-04  1.00e-01  1.98e+04 \n",
      "  9750| 3.35e-04  9.98e-06  1.17e-04  2.77e-04  1.00e-01  2.04e+04 \n",
      " 10000| 3.43e-04  9.97e-06  1.14e-04  2.86e-04  1.00e-01  2.09e+04 \n",
      " 10250| 3.49e-04  9.95e-06  1.10e-04  2.94e-04  1.00e-01  2.15e+04 \n",
      " 10500| 3.55e-04  9.94e-06  1.07e-04  3.01e-04  1.00e-01  2.20e+04 \n",
      " 10750| 3.60e-04  9.93e-06  1.05e-04  3.08e-04  1.00e-01  2.26e+04 \n",
      " 11000| 1.88e-01  2.66e-02  1.89e-04  1.01e-04  1.00e-01  2.31e+04 \n",
      " 11250| 3.69e-04  9.90e-06  9.99e-05  3.19e-04  1.00e-01  2.37e+04 \n",
      " 11500| 3.74e-04  9.89e-06  9.78e-05  3.25e-04  1.00e-01  2.42e+04 \n",
      " 11750| 3.77e-04  9.87e-06  9.58e-05  3.30e-04  1.00e-01  2.47e+04 \n",
      " 12000| 3.81e-04  9.86e-06  9.39e-05  3.34e-04  1.00e-01  2.51e+04 \n",
      " 12250| 3.85e-04  9.84e-06  9.21e-05  3.39e-04  1.00e-01  2.56e+04 \n",
      " 12500| 3.88e-04  9.82e-06  9.04e-05  3.43e-04  1.00e-01  2.61e+04 \n"
     ]
    }
   ],
   "source": [
    "problem.solve(verbose = True)"
   ]
  }
 ],
 "metadata": {
  "kernelspec": {
   "display_name": "cvxpy_opt",
   "language": "python",
   "name": "python3"
  },
  "language_info": {
   "codemirror_mode": {
    "name": "ipython",
    "version": 3
   },
   "file_extension": ".py",
   "mimetype": "text/x-python",
   "name": "python",
   "nbconvert_exporter": "python",
   "pygments_lexer": "ipython3",
   "version": "3.11.4"
  }
 },
 "nbformat": 4,
 "nbformat_minor": 2
}
